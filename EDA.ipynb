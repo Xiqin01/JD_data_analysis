{
 "cells": [
  {
   "cell_type": "code",
   "execution_count": null,
   "metadata": {},
   "outputs": [],
   "source": []
  },
  {
   "cell_type": "code",
   "execution_count": null,
   "metadata": {},
   "outputs": [
    {
     "data": {
      "text/plain": [
       "category          brand     \n",
       "Air Conditioner   Gree          608\n",
       "                  Midea         361\n",
       "Badminton         Li-Ning       414\n",
       "Basketball        Li-Ning       275\n",
       "Basketball Shoes  Anta           25\n",
       "                               ... \n",
       "Washing Machine   Haier          31\n",
       "                  Konka         212\n",
       "                  LittleSwan    543\n",
       "                  Midea         203\n",
       "Xbox              Microsoft     429\n",
       "Name: product_id, Length: 227, dtype: int64"
      ]
     },
     "metadata": {},
     "output_type": "display_data"
    }
   ],
   "source": [
    "# 每个品类，每个品牌有多少商品\n",
    "\n",
    "product_count = data.groupby(['category','brand'])['product_id'].nunique()\n",
    "product_count\n",
    "# product_count.to_csv('product_count.csv')"
   ]
  }
 ],
 "metadata": {
  "language_info": {
   "name": "python"
  }
 },
 "nbformat": 4,
 "nbformat_minor": 2
}
