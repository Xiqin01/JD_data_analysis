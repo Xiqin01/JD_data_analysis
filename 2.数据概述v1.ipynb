{
 "cells": [
  {
   "cell_type": "markdown",
   "metadata": {},
   "source": [
    "# 前言"
   ]
  },
  {
   "cell_type": "markdown",
   "metadata": {},
   "source": [
    "- 这个文件探索的数据是基于文件 `1.预处理.ipynb` 处理后得到的数据 `JD_data_processed.csv` 进行的\n",
    "- 代码基本上和`1.预处理.ipynb`中一致，只是数据集不同，相当于是对处理后的数据再探索一次"
   ]
  },
  {
   "cell_type": "code",
   "execution_count": 64,
   "metadata": {},
   "outputs": [],
   "source": [
    "import numpy as np\n",
    "import pandas as pd\n",
    "\n",
    "import matplotlib.pyplot as plt\n",
    "import seaborn as sns\n",
    "import plotly.express as px\n",
    "# 让画图内置\n",
    "%matplotlib inline\n",
    "\n",
    "# 忽略版本号之类的warnings\n",
    "import warnings\n",
    "warnings.filterwarnings('ignore')\n",
    "import os\n",
    "from datetime import date"
   ]
  },
  {
   "cell_type": "markdown",
   "metadata": {},
   "source": [
    "# 导入数据"
   ]
  },
  {
   "cell_type": "code",
   "execution_count": 65,
   "metadata": {},
   "outputs": [],
   "source": [
    "# 导入数据\n",
    "original_data = pd.read_csv('JD_data\\JD_data_processed.csv')"
   ]
  },
  {
   "cell_type": "code",
   "execution_count": 66,
   "metadata": {},
   "outputs": [
    {
     "data": {
      "text/plain": [
       "(20474, 19)"
      ]
     },
     "execution_count": 66,
     "metadata": {},
     "output_type": "execute_result"
    }
   ],
   "source": [
    "# 数据量\n",
    "data = original_data.copy()\n",
    "data.shape"
   ]
  },
  {
   "cell_type": "code",
   "execution_count": 67,
   "metadata": {},
   "outputs": [],
   "source": [
    "# 修改类型\n",
    "data['action_date']= pd.to_datetime(data['action_date'])\n",
    "data['customer_register_date']= pd.to_datetime(data['customer_register_date'])\n",
    "data['shop_register_date']= pd.to_datetime(data['shop_register_date'])\n",
    "data['product_market_date']= pd.to_datetime(data['product_market_date'])\n"
   ]
  },
  {
   "cell_type": "code",
   "execution_count": 68,
   "metadata": {},
   "outputs": [
    {
     "data": {
      "text/html": [
       "<div>\n",
       "<style scoped>\n",
       "    .dataframe tbody tr th:only-of-type {\n",
       "        vertical-align: middle;\n",
       "    }\n",
       "\n",
       "    .dataframe tbody tr th {\n",
       "        vertical-align: top;\n",
       "    }\n",
       "\n",
       "    .dataframe thead th {\n",
       "        text-align: right;\n",
       "    }\n",
       "</style>\n",
       "<table border=\"1\" class=\"dataframe\">\n",
       "  <thead>\n",
       "    <tr style=\"text-align: right;\">\n",
       "      <th></th>\n",
       "      <th>customer_id</th>\n",
       "      <th>product_id</th>\n",
       "      <th>action_date</th>\n",
       "      <th>type</th>\n",
       "      <th>age_range</th>\n",
       "      <th>gender</th>\n",
       "      <th>customer_register_date</th>\n",
       "      <th>customer_level</th>\n",
       "      <th>city_level</th>\n",
       "      <th>brand</th>\n",
       "      <th>shop_id</th>\n",
       "      <th>category</th>\n",
       "      <th>product_market_date</th>\n",
       "      <th>fans_number</th>\n",
       "      <th>vip_number</th>\n",
       "      <th>shop_register_date</th>\n",
       "      <th>shop_category</th>\n",
       "      <th>shop_score</th>\n",
       "      <th>action_day</th>\n",
       "    </tr>\n",
       "  </thead>\n",
       "  <tbody>\n",
       "    <tr>\n",
       "      <th>0</th>\n",
       "      <td>25559</td>\n",
       "      <td>84152</td>\n",
       "      <td>2018-04-15 23:57:00</td>\n",
       "      <td>PageView</td>\n",
       "      <td>5</td>\n",
       "      <td>W</td>\n",
       "      <td>2015-10-05</td>\n",
       "      <td>1</td>\n",
       "      <td>2</td>\n",
       "      <td>Proya</td>\n",
       "      <td>5708</td>\n",
       "      <td>Foundation Make-up</td>\n",
       "      <td>2017-03-24</td>\n",
       "      <td>147229</td>\n",
       "      <td>787130</td>\n",
       "      <td>2013-11-22</td>\n",
       "      <td>Beauty Makeup</td>\n",
       "      <td>9.694876</td>\n",
       "      <td>2018/4/15</td>\n",
       "    </tr>\n",
       "    <tr>\n",
       "      <th>1</th>\n",
       "      <td>77328</td>\n",
       "      <td>104400</td>\n",
       "      <td>2018-04-15 22:20:00</td>\n",
       "      <td>PageView</td>\n",
       "      <td>5</td>\n",
       "      <td>M</td>\n",
       "      <td>2015-10-21</td>\n",
       "      <td>6</td>\n",
       "      <td>1</td>\n",
       "      <td>Lipton</td>\n",
       "      <td>8884</td>\n",
       "      <td>Tea</td>\n",
       "      <td>2017-09-27</td>\n",
       "      <td>4915</td>\n",
       "      <td>8689</td>\n",
       "      <td>2016-04-06</td>\n",
       "      <td>Food</td>\n",
       "      <td>9.804353</td>\n",
       "      <td>2018/4/15</td>\n",
       "    </tr>\n",
       "    <tr>\n",
       "      <th>2</th>\n",
       "      <td>531717</td>\n",
       "      <td>250399</td>\n",
       "      <td>2018-04-15 13:38:00</td>\n",
       "      <td>PageView</td>\n",
       "      <td>5</td>\n",
       "      <td>M</td>\n",
       "      <td>2012-12-25</td>\n",
       "      <td>5</td>\n",
       "      <td>4</td>\n",
       "      <td>Redmi</td>\n",
       "      <td>6367</td>\n",
       "      <td>Phone</td>\n",
       "      <td>2011-11-16</td>\n",
       "      <td>0</td>\n",
       "      <td>0</td>\n",
       "      <td>NaT</td>\n",
       "      <td>Electronics</td>\n",
       "      <td>0.000000</td>\n",
       "      <td>2018/4/15</td>\n",
       "    </tr>\n",
       "    <tr>\n",
       "      <th>3</th>\n",
       "      <td>1573433</td>\n",
       "      <td>70859</td>\n",
       "      <td>2018-04-13 16:25:00</td>\n",
       "      <td>PageView</td>\n",
       "      <td>5</td>\n",
       "      <td>M</td>\n",
       "      <td>2012-01-18</td>\n",
       "      <td>5</td>\n",
       "      <td>1</td>\n",
       "      <td>Apple</td>\n",
       "      <td>7794</td>\n",
       "      <td>Phone</td>\n",
       "      <td>2016-07-14</td>\n",
       "      <td>0</td>\n",
       "      <td>0</td>\n",
       "      <td>NaT</td>\n",
       "      <td>Electronics</td>\n",
       "      <td>0.000000</td>\n",
       "      <td>2018/4/13</td>\n",
       "    </tr>\n",
       "    <tr>\n",
       "      <th>4</th>\n",
       "      <td>1446386</td>\n",
       "      <td>157223</td>\n",
       "      <td>2018-04-14 09:11:00</td>\n",
       "      <td>PageView</td>\n",
       "      <td>5</td>\n",
       "      <td>W</td>\n",
       "      <td>2015-03-12</td>\n",
       "      <td>5</td>\n",
       "      <td>1</td>\n",
       "      <td>Other</td>\n",
       "      <td>802</td>\n",
       "      <td>Phone</td>\n",
       "      <td>2017-05-12</td>\n",
       "      <td>0</td>\n",
       "      <td>0</td>\n",
       "      <td>NaT</td>\n",
       "      <td>Electronics</td>\n",
       "      <td>0.000000</td>\n",
       "      <td>2018/4/14</td>\n",
       "    </tr>\n",
       "  </tbody>\n",
       "</table>\n",
       "</div>"
      ],
      "text/plain": [
       "   customer_id  product_id         action_date      type  age_range gender  \\\n",
       "0        25559       84152 2018-04-15 23:57:00  PageView          5      W   \n",
       "1        77328      104400 2018-04-15 22:20:00  PageView          5      M   \n",
       "2       531717      250399 2018-04-15 13:38:00  PageView          5      M   \n",
       "3      1573433       70859 2018-04-13 16:25:00  PageView          5      M   \n",
       "4      1446386      157223 2018-04-14 09:11:00  PageView          5      W   \n",
       "\n",
       "  customer_register_date  customer_level  city_level   brand  shop_id  \\\n",
       "0             2015-10-05               1           2   Proya     5708   \n",
       "1             2015-10-21               6           1  Lipton     8884   \n",
       "2             2012-12-25               5           4   Redmi     6367   \n",
       "3             2012-01-18               5           1   Apple     7794   \n",
       "4             2015-03-12               5           1   Other      802   \n",
       "\n",
       "             category product_market_date  fans_number  vip_number  \\\n",
       "0  Foundation Make-up          2017-03-24       147229      787130   \n",
       "1                 Tea          2017-09-27         4915        8689   \n",
       "2               Phone          2011-11-16            0           0   \n",
       "3               Phone          2016-07-14            0           0   \n",
       "4               Phone          2017-05-12            0           0   \n",
       "\n",
       "  shop_register_date  shop_category  shop_score action_day  \n",
       "0         2013-11-22  Beauty Makeup    9.694876  2018/4/15  \n",
       "1         2016-04-06           Food    9.804353  2018/4/15  \n",
       "2                NaT    Electronics    0.000000  2018/4/15  \n",
       "3                NaT    Electronics    0.000000  2018/4/13  \n",
       "4                NaT    Electronics    0.000000  2018/4/14  "
      ]
     },
     "execution_count": 68,
     "metadata": {},
     "output_type": "execute_result"
    }
   ],
   "source": [
    "data.head()"
   ]
  },
  {
   "cell_type": "code",
   "execution_count": 69,
   "metadata": {},
   "outputs": [
    {
     "name": "stdout",
     "output_type": "stream",
     "text": [
      "<class 'pandas.core.frame.DataFrame'>\n",
      "RangeIndex: 20474 entries, 0 to 20473\n",
      "Data columns (total 19 columns):\n",
      " #   Column                  Non-Null Count  Dtype         \n",
      "---  ------                  --------------  -----         \n",
      " 0   customer_id             20474 non-null  int64         \n",
      " 1   product_id              20474 non-null  int64         \n",
      " 2   action_date             20474 non-null  datetime64[ns]\n",
      " 3   type                    20474 non-null  object        \n",
      " 4   age_range               20474 non-null  int64         \n",
      " 5   gender                  20474 non-null  object        \n",
      " 6   customer_register_date  20474 non-null  datetime64[ns]\n",
      " 7   customer_level          20474 non-null  int64         \n",
      " 8   city_level              20474 non-null  int64         \n",
      " 9   brand                   20474 non-null  object        \n",
      " 10  shop_id                 20474 non-null  int64         \n",
      " 11  category                20474 non-null  object        \n",
      " 12  product_market_date     20474 non-null  datetime64[ns]\n",
      " 13  fans_number             20474 non-null  int64         \n",
      " 14  vip_number              20474 non-null  int64         \n",
      " 15  shop_register_date      12990 non-null  datetime64[ns]\n",
      " 16  shop_category           20474 non-null  object        \n",
      " 17  shop_score              20474 non-null  float64       \n",
      " 18  action_day              20474 non-null  object        \n",
      "dtypes: datetime64[ns](4), float64(1), int64(8), object(6)\n",
      "memory usage: 3.0+ MB\n"
     ]
    }
   ],
   "source": [
    "data.info()"
   ]
  },
  {
   "cell_type": "markdown",
   "metadata": {},
   "source": [
    "# 各字段情况"
   ]
  },
  {
   "cell_type": "markdown",
   "metadata": {},
   "source": [
    "## 店铺信息"
   ]
  },
  {
   "cell_type": "markdown",
   "metadata": {},
   "source": [
    "###  shop_id\n",
    "- 店铺信息的主键，共有3271个店铺"
   ]
  },
  {
   "cell_type": "code",
   "execution_count": 70,
   "metadata": {},
   "outputs": [
    {
     "data": {
      "text/plain": [
       "3271"
      ]
     },
     "execution_count": 70,
     "metadata": {},
     "output_type": "execute_result"
    }
   ],
   "source": [
    "# 去重店铺数\n",
    "data['shop_id'].nunique()"
   ]
  },
  {
   "cell_type": "markdown",
   "metadata": {},
   "source": [
    "###  shop_category \n",
    "- 店铺主营，有 9 种"
   ]
  },
  {
   "cell_type": "code",
   "execution_count": 71,
   "metadata": {},
   "outputs": [
    {
     "data": {
      "text/plain": [
       "shop_category\n",
       "Electronics                    7552\n",
       "Beauty Makeup                  3390\n",
       "Food                           3306\n",
       "Clothes                        2413\n",
       "Household Eletric Appliance    1428\n",
       "Jewellery Accessories           852\n",
       "Furniture                       698\n",
       "Outdoor Sports                  609\n",
       "Mother and Infant               226\n",
       "Name: count, dtype: int64"
      ]
     },
     "execution_count": 71,
     "metadata": {},
     "output_type": "execute_result"
    }
   ],
   "source": [
    "# 不同类型的记录数\n",
    "data['shop_category'].value_counts()"
   ]
  },
  {
   "cell_type": "code",
   "execution_count": 72,
   "metadata": {},
   "outputs": [
    {
     "data": {
      "text/plain": [
       "shop_category\n",
       "Beauty Makeup                  498\n",
       "Clothes                        477\n",
       "Electronics                    417\n",
       "Food                           694\n",
       "Furniture                      306\n",
       "Household Eletric Appliance    482\n",
       "Jewellery Accessories          208\n",
       "Mother and Infant              104\n",
       "Outdoor Sports                  85\n",
       "Name: shop_id, dtype: int64"
      ]
     },
     "execution_count": 72,
     "metadata": {},
     "output_type": "execute_result"
    }
   ],
   "source": [
    "# 不同类型的店铺数\n",
    "data.groupby('shop_category')['shop_id'].nunique()\n"
   ]
  },
  {
   "cell_type": "markdown",
   "metadata": {},
   "source": [
    "###  shop_register_date\n"
   ]
  },
  {
   "cell_type": "markdown",
   "metadata": {},
   "source": [
    "- 字段为空的记录数仍有7484条\n",
    "- 字段为空的店铺数仍有378条"
   ]
  },
  {
   "cell_type": "code",
   "execution_count": 73,
   "metadata": {},
   "outputs": [
    {
     "data": {
      "text/html": [
       "<div>\n",
       "<style scoped>\n",
       "    .dataframe tbody tr th:only-of-type {\n",
       "        vertical-align: middle;\n",
       "    }\n",
       "\n",
       "    .dataframe tbody tr th {\n",
       "        vertical-align: top;\n",
       "    }\n",
       "\n",
       "    .dataframe thead th {\n",
       "        text-align: right;\n",
       "    }\n",
       "</style>\n",
       "<table border=\"1\" class=\"dataframe\">\n",
       "  <thead>\n",
       "    <tr style=\"text-align: right;\">\n",
       "      <th></th>\n",
       "      <th>customer_id</th>\n",
       "      <th>product_id</th>\n",
       "      <th>action_date</th>\n",
       "      <th>type</th>\n",
       "      <th>age_range</th>\n",
       "      <th>gender</th>\n",
       "      <th>customer_register_date</th>\n",
       "      <th>customer_level</th>\n",
       "      <th>city_level</th>\n",
       "      <th>brand</th>\n",
       "      <th>shop_id</th>\n",
       "      <th>category</th>\n",
       "      <th>product_market_date</th>\n",
       "      <th>fans_number</th>\n",
       "      <th>vip_number</th>\n",
       "      <th>shop_register_date</th>\n",
       "      <th>shop_category</th>\n",
       "      <th>shop_score</th>\n",
       "      <th>action_day</th>\n",
       "    </tr>\n",
       "  </thead>\n",
       "  <tbody>\n",
       "    <tr>\n",
       "      <th>2</th>\n",
       "      <td>531717</td>\n",
       "      <td>250399</td>\n",
       "      <td>2018-04-15 13:38:00</td>\n",
       "      <td>PageView</td>\n",
       "      <td>5</td>\n",
       "      <td>M</td>\n",
       "      <td>2012-12-25</td>\n",
       "      <td>5</td>\n",
       "      <td>4</td>\n",
       "      <td>Redmi</td>\n",
       "      <td>6367</td>\n",
       "      <td>Phone</td>\n",
       "      <td>2011-11-16</td>\n",
       "      <td>0</td>\n",
       "      <td>0</td>\n",
       "      <td>NaT</td>\n",
       "      <td>Electronics</td>\n",
       "      <td>0.0</td>\n",
       "      <td>2018/4/15</td>\n",
       "    </tr>\n",
       "    <tr>\n",
       "      <th>3</th>\n",
       "      <td>1573433</td>\n",
       "      <td>70859</td>\n",
       "      <td>2018-04-13 16:25:00</td>\n",
       "      <td>PageView</td>\n",
       "      <td>5</td>\n",
       "      <td>M</td>\n",
       "      <td>2012-01-18</td>\n",
       "      <td>5</td>\n",
       "      <td>1</td>\n",
       "      <td>Apple</td>\n",
       "      <td>7794</td>\n",
       "      <td>Phone</td>\n",
       "      <td>2016-07-14</td>\n",
       "      <td>0</td>\n",
       "      <td>0</td>\n",
       "      <td>NaT</td>\n",
       "      <td>Electronics</td>\n",
       "      <td>0.0</td>\n",
       "      <td>2018/4/13</td>\n",
       "    </tr>\n",
       "    <tr>\n",
       "      <th>4</th>\n",
       "      <td>1446386</td>\n",
       "      <td>157223</td>\n",
       "      <td>2018-04-14 09:11:00</td>\n",
       "      <td>PageView</td>\n",
       "      <td>5</td>\n",
       "      <td>W</td>\n",
       "      <td>2015-03-12</td>\n",
       "      <td>5</td>\n",
       "      <td>1</td>\n",
       "      <td>Other</td>\n",
       "      <td>802</td>\n",
       "      <td>Phone</td>\n",
       "      <td>2017-05-12</td>\n",
       "      <td>0</td>\n",
       "      <td>0</td>\n",
       "      <td>NaT</td>\n",
       "      <td>Electronics</td>\n",
       "      <td>0.0</td>\n",
       "      <td>2018/4/14</td>\n",
       "    </tr>\n",
       "    <tr>\n",
       "      <th>5</th>\n",
       "      <td>518489</td>\n",
       "      <td>62538</td>\n",
       "      <td>2018-04-11 12:07:00</td>\n",
       "      <td>PageView</td>\n",
       "      <td>5</td>\n",
       "      <td>M</td>\n",
       "      <td>2014-06-17</td>\n",
       "      <td>1</td>\n",
       "      <td>3</td>\n",
       "      <td>Huawei</td>\n",
       "      <td>7434</td>\n",
       "      <td>Tablet</td>\n",
       "      <td>2015-12-04</td>\n",
       "      <td>0</td>\n",
       "      <td>0</td>\n",
       "      <td>NaT</td>\n",
       "      <td>Electronics</td>\n",
       "      <td>0.0</td>\n",
       "      <td>2018/4/11</td>\n",
       "    </tr>\n",
       "    <tr>\n",
       "      <th>12</th>\n",
       "      <td>1526561</td>\n",
       "      <td>325371</td>\n",
       "      <td>2018-04-08 14:05:00</td>\n",
       "      <td>PageView</td>\n",
       "      <td>4</td>\n",
       "      <td>W</td>\n",
       "      <td>2016-06-16</td>\n",
       "      <td>1</td>\n",
       "      <td>5</td>\n",
       "      <td>Other</td>\n",
       "      <td>802</td>\n",
       "      <td>Phone</td>\n",
       "      <td>2017-07-20</td>\n",
       "      <td>0</td>\n",
       "      <td>0</td>\n",
       "      <td>NaT</td>\n",
       "      <td>Electronics</td>\n",
       "      <td>0.0</td>\n",
       "      <td>2018/4/8</td>\n",
       "    </tr>\n",
       "    <tr>\n",
       "      <th>...</th>\n",
       "      <td>...</td>\n",
       "      <td>...</td>\n",
       "      <td>...</td>\n",
       "      <td>...</td>\n",
       "      <td>...</td>\n",
       "      <td>...</td>\n",
       "      <td>...</td>\n",
       "      <td>...</td>\n",
       "      <td>...</td>\n",
       "      <td>...</td>\n",
       "      <td>...</td>\n",
       "      <td>...</td>\n",
       "      <td>...</td>\n",
       "      <td>...</td>\n",
       "      <td>...</td>\n",
       "      <td>...</td>\n",
       "      <td>...</td>\n",
       "      <td>...</td>\n",
       "      <td>...</td>\n",
       "    </tr>\n",
       "    <tr>\n",
       "      <th>20464</th>\n",
       "      <td>1457225</td>\n",
       "      <td>135967</td>\n",
       "      <td>2018-04-12 22:36:00</td>\n",
       "      <td>PageView</td>\n",
       "      <td>6</td>\n",
       "      <td>W</td>\n",
       "      <td>2011-05-24</td>\n",
       "      <td>7</td>\n",
       "      <td>4</td>\n",
       "      <td>Huawei</td>\n",
       "      <td>6565</td>\n",
       "      <td>Phone</td>\n",
       "      <td>2011-06-24</td>\n",
       "      <td>0</td>\n",
       "      <td>0</td>\n",
       "      <td>NaT</td>\n",
       "      <td>Electronics</td>\n",
       "      <td>0.0</td>\n",
       "      <td>2018/4/12</td>\n",
       "    </tr>\n",
       "    <tr>\n",
       "      <th>20466</th>\n",
       "      <td>314815</td>\n",
       "      <td>42123</td>\n",
       "      <td>2018-04-15 19:33:00</td>\n",
       "      <td>PageView</td>\n",
       "      <td>5</td>\n",
       "      <td>M</td>\n",
       "      <td>2011-05-19</td>\n",
       "      <td>7</td>\n",
       "      <td>3</td>\n",
       "      <td>Apple</td>\n",
       "      <td>9984</td>\n",
       "      <td>Tablet</td>\n",
       "      <td>2017-02-13</td>\n",
       "      <td>0</td>\n",
       "      <td>0</td>\n",
       "      <td>NaT</td>\n",
       "      <td>Electronics</td>\n",
       "      <td>0.0</td>\n",
       "      <td>2018/4/15</td>\n",
       "    </tr>\n",
       "    <tr>\n",
       "      <th>20467</th>\n",
       "      <td>732649</td>\n",
       "      <td>102587</td>\n",
       "      <td>2018-04-12 23:20:00</td>\n",
       "      <td>PageView</td>\n",
       "      <td>5</td>\n",
       "      <td>W</td>\n",
       "      <td>2015-12-03</td>\n",
       "      <td>5</td>\n",
       "      <td>5</td>\n",
       "      <td>Other</td>\n",
       "      <td>802</td>\n",
       "      <td>Phone</td>\n",
       "      <td>2016-05-11</td>\n",
       "      <td>0</td>\n",
       "      <td>0</td>\n",
       "      <td>NaT</td>\n",
       "      <td>Electronics</td>\n",
       "      <td>0.0</td>\n",
       "      <td>2018/4/12</td>\n",
       "    </tr>\n",
       "    <tr>\n",
       "      <th>20468</th>\n",
       "      <td>22657</td>\n",
       "      <td>101645</td>\n",
       "      <td>2018-04-15 19:24:00</td>\n",
       "      <td>PageView</td>\n",
       "      <td>5</td>\n",
       "      <td>W</td>\n",
       "      <td>2016-04-16</td>\n",
       "      <td>1</td>\n",
       "      <td>4</td>\n",
       "      <td>Apple</td>\n",
       "      <td>4178</td>\n",
       "      <td>Phone</td>\n",
       "      <td>2015-03-05</td>\n",
       "      <td>0</td>\n",
       "      <td>0</td>\n",
       "      <td>NaT</td>\n",
       "      <td>Electronics</td>\n",
       "      <td>0.0</td>\n",
       "      <td>2018/4/15</td>\n",
       "    </tr>\n",
       "    <tr>\n",
       "      <th>20470</th>\n",
       "      <td>1199816</td>\n",
       "      <td>326708</td>\n",
       "      <td>2018-04-08 18:07:00</td>\n",
       "      <td>PageView</td>\n",
       "      <td>5</td>\n",
       "      <td>M</td>\n",
       "      <td>2013-07-11</td>\n",
       "      <td>7</td>\n",
       "      <td>4</td>\n",
       "      <td>Lenovo</td>\n",
       "      <td>3933</td>\n",
       "      <td>Notebook</td>\n",
       "      <td>2016-09-08</td>\n",
       "      <td>0</td>\n",
       "      <td>0</td>\n",
       "      <td>NaT</td>\n",
       "      <td>Electronics</td>\n",
       "      <td>0.0</td>\n",
       "      <td>2018/4/8</td>\n",
       "    </tr>\n",
       "  </tbody>\n",
       "</table>\n",
       "<p>7484 rows × 19 columns</p>\n",
       "</div>"
      ],
      "text/plain": [
       "       customer_id  product_id         action_date      type  age_range  \\\n",
       "2           531717      250399 2018-04-15 13:38:00  PageView          5   \n",
       "3          1573433       70859 2018-04-13 16:25:00  PageView          5   \n",
       "4          1446386      157223 2018-04-14 09:11:00  PageView          5   \n",
       "5           518489       62538 2018-04-11 12:07:00  PageView          5   \n",
       "12         1526561      325371 2018-04-08 14:05:00  PageView          4   \n",
       "...            ...         ...                 ...       ...        ...   \n",
       "20464      1457225      135967 2018-04-12 22:36:00  PageView          6   \n",
       "20466       314815       42123 2018-04-15 19:33:00  PageView          5   \n",
       "20467       732649      102587 2018-04-12 23:20:00  PageView          5   \n",
       "20468        22657      101645 2018-04-15 19:24:00  PageView          5   \n",
       "20470      1199816      326708 2018-04-08 18:07:00  PageView          5   \n",
       "\n",
       "      gender customer_register_date  customer_level  city_level   brand  \\\n",
       "2          M             2012-12-25               5           4   Redmi   \n",
       "3          M             2012-01-18               5           1   Apple   \n",
       "4          W             2015-03-12               5           1   Other   \n",
       "5          M             2014-06-17               1           3  Huawei   \n",
       "12         W             2016-06-16               1           5   Other   \n",
       "...      ...                    ...             ...         ...     ...   \n",
       "20464      W             2011-05-24               7           4  Huawei   \n",
       "20466      M             2011-05-19               7           3   Apple   \n",
       "20467      W             2015-12-03               5           5   Other   \n",
       "20468      W             2016-04-16               1           4   Apple   \n",
       "20470      M             2013-07-11               7           4  Lenovo   \n",
       "\n",
       "       shop_id  category product_market_date  fans_number  vip_number  \\\n",
       "2         6367     Phone          2011-11-16            0           0   \n",
       "3         7794     Phone          2016-07-14            0           0   \n",
       "4          802     Phone          2017-05-12            0           0   \n",
       "5         7434    Tablet          2015-12-04            0           0   \n",
       "12         802     Phone          2017-07-20            0           0   \n",
       "...        ...       ...                 ...          ...         ...   \n",
       "20464     6565     Phone          2011-06-24            0           0   \n",
       "20466     9984    Tablet          2017-02-13            0           0   \n",
       "20467      802     Phone          2016-05-11            0           0   \n",
       "20468     4178     Phone          2015-03-05            0           0   \n",
       "20470     3933  Notebook          2016-09-08            0           0   \n",
       "\n",
       "      shop_register_date shop_category  shop_score action_day  \n",
       "2                    NaT   Electronics         0.0  2018/4/15  \n",
       "3                    NaT   Electronics         0.0  2018/4/13  \n",
       "4                    NaT   Electronics         0.0  2018/4/14  \n",
       "5                    NaT   Electronics         0.0  2018/4/11  \n",
       "12                   NaT   Electronics         0.0   2018/4/8  \n",
       "...                  ...           ...         ...        ...  \n",
       "20464                NaT   Electronics         0.0  2018/4/12  \n",
       "20466                NaT   Electronics         0.0  2018/4/15  \n",
       "20467                NaT   Electronics         0.0  2018/4/12  \n",
       "20468                NaT   Electronics         0.0  2018/4/15  \n",
       "20470                NaT   Electronics         0.0   2018/4/8  \n",
       "\n",
       "[7484 rows x 19 columns]"
      ]
     },
     "execution_count": 73,
     "metadata": {},
     "output_type": "execute_result"
    }
   ],
   "source": [
    "# shop_register_date 为 null 的数据\n",
    "data.query('shop_register_date.isnull()')  # 7484  rows"
   ]
  },
  {
   "cell_type": "code",
   "execution_count": 99,
   "metadata": {},
   "outputs": [
    {
     "data": {
      "text/plain": [
       "378"
      ]
     },
     "execution_count": 99,
     "metadata": {},
     "output_type": "execute_result"
    }
   ],
   "source": [
    "# shop_register_date 为 null 的店铺数\n",
    "data.query('shop_register_date.isnull()')['shop_id'].nunique()"
   ]
  },
  {
   "cell_type": "markdown",
   "metadata": {},
   "source": [
    "### fans_number & vip_number\n",
    "- 粉丝数/会员数为 0 的 记录有7484条左右，店铺数有378个左右，基本上都是注册日期为空的店铺\n",
    "- 粉丝数/会员数服从长尾分布\n",
    "    - vip数为 1000w 级的店有 1 家，400w 级的有 2 家， 100w~400w 级的有 14 家， 其他都是100w 级以下的店。\n",
    "    - 粉丝数为 900w 级的店有 1 家， 100w~300w 级的有 7 家， 其他都是100w 级以下的店。"
   ]
  },
  {
   "cell_type": "code",
   "execution_count": 74,
   "metadata": {},
   "outputs": [
    {
     "name": "stdout",
     "output_type": "stream",
     "text": [
      "粉丝数小于等于0的记录数： 7484\n",
      "会员数小于等于0的记录数： 7485\n"
     ]
    }
   ],
   "source": [
    "# 粉丝数和会员数小于等于0的记录数\n",
    "print(\"粉丝数小于等于0的记录数：\",(data['fans_number']<=0).sum())\n",
    "print(\"会员数小于等于0的记录数：\",(data['vip_number']<=0).sum())"
   ]
  },
  {
   "cell_type": "code",
   "execution_count": 75,
   "metadata": {},
   "outputs": [
    {
     "name": "stdout",
     "output_type": "stream",
     "text": [
      "粉丝数小于等于0的店铺数： 378\n",
      "会员数小于等于0的店铺数： 379\n"
     ]
    }
   ],
   "source": [
    "# 粉丝数和vip数小于等于0的 店铺数\n",
    "print(\"粉丝数小于等于0的店铺数：\",(data.groupby('shop_id')['fans_number'].mean()<=0).sum())\n",
    "print(\"会员数小于等于0的店铺数：\",(data.groupby('shop_id')['vip_number'].mean()<=0).sum())"
   ]
  },
  {
   "cell_type": "code",
   "execution_count": 76,
   "metadata": {},
   "outputs": [
    {
     "data": {
      "text/html": [
       "<div>\n",
       "<style scoped>\n",
       "    .dataframe tbody tr th:only-of-type {\n",
       "        vertical-align: middle;\n",
       "    }\n",
       "\n",
       "    .dataframe tbody tr th {\n",
       "        vertical-align: top;\n",
       "    }\n",
       "\n",
       "    .dataframe thead th {\n",
       "        text-align: right;\n",
       "    }\n",
       "</style>\n",
       "<table border=\"1\" class=\"dataframe\">\n",
       "  <thead>\n",
       "    <tr style=\"text-align: right;\">\n",
       "      <th></th>\n",
       "      <th>fans_number</th>\n",
       "      <th>vip_number</th>\n",
       "    </tr>\n",
       "    <tr>\n",
       "      <th>shop_id</th>\n",
       "      <th></th>\n",
       "      <th></th>\n",
       "    </tr>\n",
       "  </thead>\n",
       "  <tbody>\n",
       "    <tr>\n",
       "      <th>10393</th>\n",
       "      <td>9293487</td>\n",
       "      <td>13841676</td>\n",
       "    </tr>\n",
       "    <tr>\n",
       "      <th>4241</th>\n",
       "      <td>3748112</td>\n",
       "      <td>4868959</td>\n",
       "    </tr>\n",
       "    <tr>\n",
       "      <th>8351</th>\n",
       "      <td>3346267</td>\n",
       "      <td>1665629</td>\n",
       "    </tr>\n",
       "    <tr>\n",
       "      <th>2149</th>\n",
       "      <td>1569828</td>\n",
       "      <td>1429619</td>\n",
       "    </tr>\n",
       "    <tr>\n",
       "      <th>3663</th>\n",
       "      <td>15645</td>\n",
       "      <td>1196797</td>\n",
       "    </tr>\n",
       "    <tr>\n",
       "      <th>6018</th>\n",
       "      <td>492765</td>\n",
       "      <td>1142028</td>\n",
       "    </tr>\n",
       "    <tr>\n",
       "      <th>4741</th>\n",
       "      <td>96906</td>\n",
       "      <td>1137692</td>\n",
       "    </tr>\n",
       "    <tr>\n",
       "      <th>931</th>\n",
       "      <td>1377103</td>\n",
       "      <td>1109666</td>\n",
       "    </tr>\n",
       "    <tr>\n",
       "      <th>8599</th>\n",
       "      <td>256016</td>\n",
       "      <td>1082610</td>\n",
       "    </tr>\n",
       "    <tr>\n",
       "      <th>6602</th>\n",
       "      <td>18740</td>\n",
       "      <td>1049850</td>\n",
       "    </tr>\n",
       "    <tr>\n",
       "      <th>1961</th>\n",
       "      <td>650327</td>\n",
       "      <td>909241</td>\n",
       "    </tr>\n",
       "    <tr>\n",
       "      <th>8458</th>\n",
       "      <td>21334</td>\n",
       "      <td>906555</td>\n",
       "    </tr>\n",
       "    <tr>\n",
       "      <th>3230</th>\n",
       "      <td>206566</td>\n",
       "      <td>873780</td>\n",
       "    </tr>\n",
       "    <tr>\n",
       "      <th>5733</th>\n",
       "      <td>398541</td>\n",
       "      <td>856414</td>\n",
       "    </tr>\n",
       "    <tr>\n",
       "      <th>284</th>\n",
       "      <td>617678</td>\n",
       "      <td>842620</td>\n",
       "    </tr>\n",
       "    <tr>\n",
       "      <th>1954</th>\n",
       "      <td>29632</td>\n",
       "      <td>825231</td>\n",
       "    </tr>\n",
       "    <tr>\n",
       "      <th>6302</th>\n",
       "      <td>568743</td>\n",
       "      <td>792283</td>\n",
       "    </tr>\n",
       "    <tr>\n",
       "      <th>5708</th>\n",
       "      <td>147229</td>\n",
       "      <td>787130</td>\n",
       "    </tr>\n",
       "    <tr>\n",
       "      <th>4005</th>\n",
       "      <td>94825</td>\n",
       "      <td>761839</td>\n",
       "    </tr>\n",
       "    <tr>\n",
       "      <th>4303</th>\n",
       "      <td>326523</td>\n",
       "      <td>752742</td>\n",
       "    </tr>\n",
       "  </tbody>\n",
       "</table>\n",
       "</div>"
      ],
      "text/plain": [
       "         fans_number  vip_number\n",
       "shop_id                         \n",
       "10393        9293487    13841676\n",
       "4241         3748112     4868959\n",
       "8351         3346267     1665629\n",
       "2149         1569828     1429619\n",
       "3663           15645     1196797\n",
       "6018          492765     1142028\n",
       "4741           96906     1137692\n",
       "931          1377103     1109666\n",
       "8599          256016     1082610\n",
       "6602           18740     1049850\n",
       "1961          650327      909241\n",
       "8458           21334      906555\n",
       "3230          206566      873780\n",
       "5733          398541      856414\n",
       "284           617678      842620\n",
       "1954           29632      825231\n",
       "6302          568743      792283\n",
       "5708          147229      787130\n",
       "4005           94825      761839\n",
       "4303          326523      752742"
      ]
     },
     "execution_count": 76,
     "metadata": {},
     "output_type": "execute_result"
    }
   ],
   "source": [
    "# 会员数的分布的尾部\n",
    "shop_vip = data.groupby('shop_id').agg({'fans_number':'max','vip_number':'max'}) # 6086\n",
    "shop_vip.sort_values(by='vip_number',ascending=False).head(20)  \n"
   ]
  },
  {
   "cell_type": "code",
   "execution_count": 77,
   "metadata": {},
   "outputs": [
    {
     "data": {
      "text/html": [
       "<div>\n",
       "<style scoped>\n",
       "    .dataframe tbody tr th:only-of-type {\n",
       "        vertical-align: middle;\n",
       "    }\n",
       "\n",
       "    .dataframe tbody tr th {\n",
       "        vertical-align: top;\n",
       "    }\n",
       "\n",
       "    .dataframe thead th {\n",
       "        text-align: right;\n",
       "    }\n",
       "</style>\n",
       "<table border=\"1\" class=\"dataframe\">\n",
       "  <thead>\n",
       "    <tr style=\"text-align: right;\">\n",
       "      <th></th>\n",
       "      <th>fans_number</th>\n",
       "      <th>vip_number</th>\n",
       "    </tr>\n",
       "    <tr>\n",
       "      <th>shop_id</th>\n",
       "      <th></th>\n",
       "      <th></th>\n",
       "    </tr>\n",
       "  </thead>\n",
       "  <tbody>\n",
       "    <tr>\n",
       "      <th>10393</th>\n",
       "      <td>9293487</td>\n",
       "      <td>13841676</td>\n",
       "    </tr>\n",
       "    <tr>\n",
       "      <th>4241</th>\n",
       "      <td>3748112</td>\n",
       "      <td>4868959</td>\n",
       "    </tr>\n",
       "    <tr>\n",
       "      <th>8351</th>\n",
       "      <td>3346267</td>\n",
       "      <td>1665629</td>\n",
       "    </tr>\n",
       "    <tr>\n",
       "      <th>1912</th>\n",
       "      <td>2511707</td>\n",
       "      <td>175996</td>\n",
       "    </tr>\n",
       "    <tr>\n",
       "      <th>3790</th>\n",
       "      <td>2171510</td>\n",
       "      <td>562436</td>\n",
       "    </tr>\n",
       "    <tr>\n",
       "      <th>2149</th>\n",
       "      <td>1569828</td>\n",
       "      <td>1429619</td>\n",
       "    </tr>\n",
       "    <tr>\n",
       "      <th>931</th>\n",
       "      <td>1377103</td>\n",
       "      <td>1109666</td>\n",
       "    </tr>\n",
       "    <tr>\n",
       "      <th>3494</th>\n",
       "      <td>1371624</td>\n",
       "      <td>47026</td>\n",
       "    </tr>\n",
       "    <tr>\n",
       "      <th>9695</th>\n",
       "      <td>996774</td>\n",
       "      <td>633437</td>\n",
       "    </tr>\n",
       "    <tr>\n",
       "      <th>2876</th>\n",
       "      <td>874049</td>\n",
       "      <td>77016</td>\n",
       "    </tr>\n",
       "    <tr>\n",
       "      <th>563</th>\n",
       "      <td>846210</td>\n",
       "      <td>232937</td>\n",
       "    </tr>\n",
       "    <tr>\n",
       "      <th>8925</th>\n",
       "      <td>818073</td>\n",
       "      <td>412683</td>\n",
       "    </tr>\n",
       "    <tr>\n",
       "      <th>1716</th>\n",
       "      <td>810326</td>\n",
       "      <td>338766</td>\n",
       "    </tr>\n",
       "    <tr>\n",
       "      <th>6658</th>\n",
       "      <td>740434</td>\n",
       "      <td>87425</td>\n",
       "    </tr>\n",
       "    <tr>\n",
       "      <th>8238</th>\n",
       "      <td>699027</td>\n",
       "      <td>45550</td>\n",
       "    </tr>\n",
       "    <tr>\n",
       "      <th>1961</th>\n",
       "      <td>650327</td>\n",
       "      <td>909241</td>\n",
       "    </tr>\n",
       "    <tr>\n",
       "      <th>6042</th>\n",
       "      <td>649489</td>\n",
       "      <td>186824</td>\n",
       "    </tr>\n",
       "    <tr>\n",
       "      <th>2738</th>\n",
       "      <td>633682</td>\n",
       "      <td>104661</td>\n",
       "    </tr>\n",
       "    <tr>\n",
       "      <th>8302</th>\n",
       "      <td>625120</td>\n",
       "      <td>294703</td>\n",
       "    </tr>\n",
       "    <tr>\n",
       "      <th>284</th>\n",
       "      <td>617678</td>\n",
       "      <td>842620</td>\n",
       "    </tr>\n",
       "  </tbody>\n",
       "</table>\n",
       "</div>"
      ],
      "text/plain": [
       "         fans_number  vip_number\n",
       "shop_id                         \n",
       "10393        9293487    13841676\n",
       "4241         3748112     4868959\n",
       "8351         3346267     1665629\n",
       "1912         2511707      175996\n",
       "3790         2171510      562436\n",
       "2149         1569828     1429619\n",
       "931          1377103     1109666\n",
       "3494         1371624       47026\n",
       "9695          996774      633437\n",
       "2876          874049       77016\n",
       "563           846210      232937\n",
       "8925          818073      412683\n",
       "1716          810326      338766\n",
       "6658          740434       87425\n",
       "8238          699027       45550\n",
       "1961          650327      909241\n",
       "6042          649489      186824\n",
       "2738          633682      104661\n",
       "8302          625120      294703\n",
       "284           617678      842620"
      ]
     },
     "execution_count": 77,
     "metadata": {},
     "output_type": "execute_result"
    }
   ],
   "source": [
    "# 粉丝数分布的尾部\n",
    "shop_vip.sort_values(by='fans_number',ascending=False).head(20)  "
   ]
  },
  {
   "cell_type": "markdown",
   "metadata": {},
   "source": [
    "### shop_score\n",
    "- 0 分的记录数有 7484 条，店铺有 378 个 ，大多 register_date 为空\n",
    "- -1 分的记录数有 46 条  ，店铺有 31 个，没有其他特点 (店铺被封了？)\n",
    "- 除去上述异常记录，店铺评分最低的是8.8分"
   ]
  },
  {
   "cell_type": "code",
   "execution_count": 78,
   "metadata": {},
   "outputs": [
    {
     "data": {
      "text/plain": [
       "7484"
      ]
     },
     "execution_count": 78,
     "metadata": {},
     "output_type": "execute_result"
    }
   ],
   "source": [
    "# 店铺评分为0的记录数\n",
    "(data['shop_score']==0).sum()"
   ]
  },
  {
   "cell_type": "code",
   "execution_count": 79,
   "metadata": {},
   "outputs": [
    {
     "data": {
      "text/plain": [
       "378"
      ]
     },
     "execution_count": 79,
     "metadata": {},
     "output_type": "execute_result"
    }
   ],
   "source": [
    "# 评分为 0 的店铺数量\n",
    "(data.groupby('shop_id')['shop_score'].mean()==0).sum()"
   ]
  },
  {
   "cell_type": "code",
   "execution_count": 80,
   "metadata": {},
   "outputs": [
    {
     "data": {
      "text/html": [
       "<div>\n",
       "<style scoped>\n",
       "    .dataframe tbody tr th:only-of-type {\n",
       "        vertical-align: middle;\n",
       "    }\n",
       "\n",
       "    .dataframe tbody tr th {\n",
       "        vertical-align: top;\n",
       "    }\n",
       "\n",
       "    .dataframe thead th {\n",
       "        text-align: right;\n",
       "    }\n",
       "</style>\n",
       "<table border=\"1\" class=\"dataframe\">\n",
       "  <thead>\n",
       "    <tr style=\"text-align: right;\">\n",
       "      <th></th>\n",
       "      <th>customer_id</th>\n",
       "      <th>product_id</th>\n",
       "      <th>action_date</th>\n",
       "      <th>type</th>\n",
       "      <th>age_range</th>\n",
       "      <th>gender</th>\n",
       "      <th>customer_register_date</th>\n",
       "      <th>customer_level</th>\n",
       "      <th>city_level</th>\n",
       "      <th>brand</th>\n",
       "      <th>shop_id</th>\n",
       "      <th>category</th>\n",
       "      <th>product_market_date</th>\n",
       "      <th>fans_number</th>\n",
       "      <th>vip_number</th>\n",
       "      <th>shop_register_date</th>\n",
       "      <th>shop_category</th>\n",
       "      <th>shop_score</th>\n",
       "      <th>action_day</th>\n",
       "    </tr>\n",
       "  </thead>\n",
       "  <tbody>\n",
       "    <tr>\n",
       "      <th>299</th>\n",
       "      <td>1540788</td>\n",
       "      <td>312944</td>\n",
       "      <td>2018-04-12 18:05:00</td>\n",
       "      <td>PageView</td>\n",
       "      <td>5</td>\n",
       "      <td>W</td>\n",
       "      <td>2013-09-15</td>\n",
       "      <td>7</td>\n",
       "      <td>1</td>\n",
       "      <td>Supor</td>\n",
       "      <td>10034</td>\n",
       "      <td>Rice Cooker</td>\n",
       "      <td>2018-01-05</td>\n",
       "      <td>388</td>\n",
       "      <td>5669</td>\n",
       "      <td>2018-01-04</td>\n",
       "      <td>Household Eletric Appliance</td>\n",
       "      <td>-1.0</td>\n",
       "      <td>2018/4/12</td>\n",
       "    </tr>\n",
       "    <tr>\n",
       "      <th>460</th>\n",
       "      <td>725042</td>\n",
       "      <td>190185</td>\n",
       "      <td>2018-04-12 17:38:00</td>\n",
       "      <td>PageView</td>\n",
       "      <td>6</td>\n",
       "      <td>W</td>\n",
       "      <td>2016-02-21</td>\n",
       "      <td>6</td>\n",
       "      <td>3</td>\n",
       "      <td>Vivo</td>\n",
       "      <td>2900</td>\n",
       "      <td>Phone</td>\n",
       "      <td>2016-02-23</td>\n",
       "      <td>923</td>\n",
       "      <td>40635</td>\n",
       "      <td>2015-12-30</td>\n",
       "      <td>Electronics</td>\n",
       "      <td>-1.0</td>\n",
       "      <td>2018/4/12</td>\n",
       "    </tr>\n",
       "    <tr>\n",
       "      <th>1103</th>\n",
       "      <td>184747</td>\n",
       "      <td>247124</td>\n",
       "      <td>2018-04-09 00:46:00</td>\n",
       "      <td>PageView</td>\n",
       "      <td>6</td>\n",
       "      <td>W</td>\n",
       "      <td>2011-11-02</td>\n",
       "      <td>7</td>\n",
       "      <td>3</td>\n",
       "      <td>HP</td>\n",
       "      <td>7943</td>\n",
       "      <td>Notebook</td>\n",
       "      <td>2017-09-11</td>\n",
       "      <td>338</td>\n",
       "      <td>566</td>\n",
       "      <td>2017-05-05</td>\n",
       "      <td>Electronics</td>\n",
       "      <td>-1.0</td>\n",
       "      <td>2018/4/9</td>\n",
       "    </tr>\n",
       "    <tr>\n",
       "      <th>1935</th>\n",
       "      <td>342728</td>\n",
       "      <td>239413</td>\n",
       "      <td>2018-04-08 11:42:00</td>\n",
       "      <td>PageView</td>\n",
       "      <td>5</td>\n",
       "      <td>W</td>\n",
       "      <td>2015-06-09</td>\n",
       "      <td>5</td>\n",
       "      <td>3</td>\n",
       "      <td>Apple</td>\n",
       "      <td>107</td>\n",
       "      <td>Tablet</td>\n",
       "      <td>2017-05-04</td>\n",
       "      <td>18269</td>\n",
       "      <td>37644</td>\n",
       "      <td>2017-04-19</td>\n",
       "      <td>Electronics</td>\n",
       "      <td>-1.0</td>\n",
       "      <td>2018/4/8</td>\n",
       "    </tr>\n",
       "    <tr>\n",
       "      <th>2727</th>\n",
       "      <td>41688</td>\n",
       "      <td>176228</td>\n",
       "      <td>2018-04-10 11:21:00</td>\n",
       "      <td>PageView</td>\n",
       "      <td>5</td>\n",
       "      <td>M</td>\n",
       "      <td>2013-10-07</td>\n",
       "      <td>7</td>\n",
       "      <td>3</td>\n",
       "      <td>Other</td>\n",
       "      <td>3967</td>\n",
       "      <td>T Shirt</td>\n",
       "      <td>2017-06-05</td>\n",
       "      <td>28</td>\n",
       "      <td>4</td>\n",
       "      <td>2017-02-20</td>\n",
       "      <td>Clothes</td>\n",
       "      <td>-1.0</td>\n",
       "      <td>2018/4/10</td>\n",
       "    </tr>\n",
       "    <tr>\n",
       "      <th>2859</th>\n",
       "      <td>1417187</td>\n",
       "      <td>318340</td>\n",
       "      <td>2018-04-10 10:39:00</td>\n",
       "      <td>Order</td>\n",
       "      <td>5</td>\n",
       "      <td>W</td>\n",
       "      <td>2014-06-18</td>\n",
       "      <td>5</td>\n",
       "      <td>3</td>\n",
       "      <td>Apple</td>\n",
       "      <td>107</td>\n",
       "      <td>Tablet</td>\n",
       "      <td>2017-05-04</td>\n",
       "      <td>18269</td>\n",
       "      <td>37644</td>\n",
       "      <td>2017-04-19</td>\n",
       "      <td>Electronics</td>\n",
       "      <td>-1.0</td>\n",
       "      <td>2018/4/10</td>\n",
       "    </tr>\n",
       "    <tr>\n",
       "      <th>3245</th>\n",
       "      <td>247687</td>\n",
       "      <td>146208</td>\n",
       "      <td>2018-04-15 17:40:00</td>\n",
       "      <td>PageView</td>\n",
       "      <td>2</td>\n",
       "      <td>W</td>\n",
       "      <td>2014-08-31</td>\n",
       "      <td>5</td>\n",
       "      <td>4</td>\n",
       "      <td>DELL</td>\n",
       "      <td>1926</td>\n",
       "      <td>Notebook</td>\n",
       "      <td>2016-10-13</td>\n",
       "      <td>705</td>\n",
       "      <td>3578</td>\n",
       "      <td>2016-08-11</td>\n",
       "      <td>Electronics</td>\n",
       "      <td>-1.0</td>\n",
       "      <td>2018/4/15</td>\n",
       "    </tr>\n",
       "    <tr>\n",
       "      <th>3347</th>\n",
       "      <td>1601506</td>\n",
       "      <td>60096</td>\n",
       "      <td>2018-04-08 12:40:00</td>\n",
       "      <td>PageView</td>\n",
       "      <td>6</td>\n",
       "      <td>M</td>\n",
       "      <td>2014-09-15</td>\n",
       "      <td>1</td>\n",
       "      <td>3</td>\n",
       "      <td>Redmi</td>\n",
       "      <td>6057</td>\n",
       "      <td>Phone</td>\n",
       "      <td>2014-03-28</td>\n",
       "      <td>1027</td>\n",
       "      <td>6977</td>\n",
       "      <td>2014-03-28</td>\n",
       "      <td>Electronics</td>\n",
       "      <td>-1.0</td>\n",
       "      <td>2018/4/8</td>\n",
       "    </tr>\n",
       "    <tr>\n",
       "      <th>3433</th>\n",
       "      <td>1588322</td>\n",
       "      <td>150547</td>\n",
       "      <td>2018-04-08 11:35:00</td>\n",
       "      <td>PageView</td>\n",
       "      <td>5</td>\n",
       "      <td>W</td>\n",
       "      <td>2012-07-05</td>\n",
       "      <td>1</td>\n",
       "      <td>4</td>\n",
       "      <td>Apple</td>\n",
       "      <td>107</td>\n",
       "      <td>Tablet</td>\n",
       "      <td>2017-05-04</td>\n",
       "      <td>18269</td>\n",
       "      <td>37644</td>\n",
       "      <td>2017-04-19</td>\n",
       "      <td>Electronics</td>\n",
       "      <td>-1.0</td>\n",
       "      <td>2018/4/8</td>\n",
       "    </tr>\n",
       "    <tr>\n",
       "      <th>3460</th>\n",
       "      <td>1289170</td>\n",
       "      <td>120399</td>\n",
       "      <td>2018-04-08 00:15:00</td>\n",
       "      <td>PageView</td>\n",
       "      <td>1</td>\n",
       "      <td>M</td>\n",
       "      <td>2011-07-05</td>\n",
       "      <td>7</td>\n",
       "      <td>4</td>\n",
       "      <td>Sony</td>\n",
       "      <td>9172</td>\n",
       "      <td>Digital Camera</td>\n",
       "      <td>2017-01-05</td>\n",
       "      <td>1411</td>\n",
       "      <td>1605</td>\n",
       "      <td>2016-04-21</td>\n",
       "      <td>Electronics</td>\n",
       "      <td>-1.0</td>\n",
       "      <td>2018/4/8</td>\n",
       "    </tr>\n",
       "    <tr>\n",
       "      <th>3848</th>\n",
       "      <td>80304</td>\n",
       "      <td>318268</td>\n",
       "      <td>2018-04-15 15:16:00</td>\n",
       "      <td>PageView</td>\n",
       "      <td>5</td>\n",
       "      <td>M</td>\n",
       "      <td>2017-08-21</td>\n",
       "      <td>1</td>\n",
       "      <td>4</td>\n",
       "      <td>Opple</td>\n",
       "      <td>6402</td>\n",
       "      <td>Light</td>\n",
       "      <td>2018-01-11</td>\n",
       "      <td>386</td>\n",
       "      <td>5494</td>\n",
       "      <td>2017-12-29</td>\n",
       "      <td>Furniture</td>\n",
       "      <td>-1.0</td>\n",
       "      <td>2018/4/15</td>\n",
       "    </tr>\n",
       "    <tr>\n",
       "      <th>5338</th>\n",
       "      <td>475716</td>\n",
       "      <td>112880</td>\n",
       "      <td>2018-04-12 15:32:00</td>\n",
       "      <td>PageView</td>\n",
       "      <td>2</td>\n",
       "      <td>W</td>\n",
       "      <td>2018-04-04</td>\n",
       "      <td>1</td>\n",
       "      <td>3</td>\n",
       "      <td>Opple</td>\n",
       "      <td>6402</td>\n",
       "      <td>Light</td>\n",
       "      <td>2018-01-11</td>\n",
       "      <td>386</td>\n",
       "      <td>5494</td>\n",
       "      <td>2017-12-29</td>\n",
       "      <td>Furniture</td>\n",
       "      <td>-1.0</td>\n",
       "      <td>2018/4/12</td>\n",
       "    </tr>\n",
       "    <tr>\n",
       "      <th>5355</th>\n",
       "      <td>1100828</td>\n",
       "      <td>322919</td>\n",
       "      <td>2018-04-10 21:31:00</td>\n",
       "      <td>PageView</td>\n",
       "      <td>6</td>\n",
       "      <td>W</td>\n",
       "      <td>2012-02-18</td>\n",
       "      <td>7</td>\n",
       "      <td>3</td>\n",
       "      <td>Apple</td>\n",
       "      <td>1503</td>\n",
       "      <td>Phone</td>\n",
       "      <td>2018-03-15</td>\n",
       "      <td>23464</td>\n",
       "      <td>1415</td>\n",
       "      <td>2018-02-27</td>\n",
       "      <td>Electronics</td>\n",
       "      <td>-1.0</td>\n",
       "      <td>2018/4/10</td>\n",
       "    </tr>\n",
       "    <tr>\n",
       "      <th>6462</th>\n",
       "      <td>1178286</td>\n",
       "      <td>125461</td>\n",
       "      <td>2018-04-11 23:02:00</td>\n",
       "      <td>PageView</td>\n",
       "      <td>5</td>\n",
       "      <td>M</td>\n",
       "      <td>2017-03-12</td>\n",
       "      <td>7</td>\n",
       "      <td>5</td>\n",
       "      <td>DELL</td>\n",
       "      <td>9991</td>\n",
       "      <td>Notebook</td>\n",
       "      <td>2015-12-04</td>\n",
       "      <td>230</td>\n",
       "      <td>306</td>\n",
       "      <td>2015-10-19</td>\n",
       "      <td>Electronics</td>\n",
       "      <td>-1.0</td>\n",
       "      <td>2018/4/11</td>\n",
       "    </tr>\n",
       "    <tr>\n",
       "      <th>6465</th>\n",
       "      <td>1526733</td>\n",
       "      <td>200419</td>\n",
       "      <td>2018-04-09 18:41:00</td>\n",
       "      <td>PageView</td>\n",
       "      <td>6</td>\n",
       "      <td>W</td>\n",
       "      <td>2012-02-26</td>\n",
       "      <td>5</td>\n",
       "      <td>4</td>\n",
       "      <td>Apple</td>\n",
       "      <td>688</td>\n",
       "      <td>Phone</td>\n",
       "      <td>2017-05-09</td>\n",
       "      <td>811</td>\n",
       "      <td>2576</td>\n",
       "      <td>2017-04-26</td>\n",
       "      <td>Electronics</td>\n",
       "      <td>-1.0</td>\n",
       "      <td>2018/4/9</td>\n",
       "    </tr>\n",
       "    <tr>\n",
       "      <th>7219</th>\n",
       "      <td>1145889</td>\n",
       "      <td>820</td>\n",
       "      <td>2018-04-13 16:36:00</td>\n",
       "      <td>Order</td>\n",
       "      <td>6</td>\n",
       "      <td>M</td>\n",
       "      <td>2016-12-28</td>\n",
       "      <td>6</td>\n",
       "      <td>4</td>\n",
       "      <td>Microsoft</td>\n",
       "      <td>646</td>\n",
       "      <td>Xbox</td>\n",
       "      <td>2015-12-18</td>\n",
       "      <td>240</td>\n",
       "      <td>2375</td>\n",
       "      <td>2015-09-25</td>\n",
       "      <td>Electronics</td>\n",
       "      <td>-1.0</td>\n",
       "      <td>2018/4/13</td>\n",
       "    </tr>\n",
       "    <tr>\n",
       "      <th>7428</th>\n",
       "      <td>791065</td>\n",
       "      <td>284400</td>\n",
       "      <td>2018-04-09 20:19:00</td>\n",
       "      <td>PageView</td>\n",
       "      <td>5</td>\n",
       "      <td>M</td>\n",
       "      <td>2013-01-19</td>\n",
       "      <td>5</td>\n",
       "      <td>4</td>\n",
       "      <td>Haier</td>\n",
       "      <td>3843</td>\n",
       "      <td>Television</td>\n",
       "      <td>2018-02-28</td>\n",
       "      <td>2170</td>\n",
       "      <td>5238</td>\n",
       "      <td>2017-10-25</td>\n",
       "      <td>Household Eletric Appliance</td>\n",
       "      <td>-1.0</td>\n",
       "      <td>2018/4/9</td>\n",
       "    </tr>\n",
       "    <tr>\n",
       "      <th>8195</th>\n",
       "      <td>456455</td>\n",
       "      <td>126084</td>\n",
       "      <td>2018-04-11 12:45:00</td>\n",
       "      <td>PageView</td>\n",
       "      <td>5</td>\n",
       "      <td>W</td>\n",
       "      <td>2015-12-29</td>\n",
       "      <td>1</td>\n",
       "      <td>3</td>\n",
       "      <td>Apple</td>\n",
       "      <td>107</td>\n",
       "      <td>Tablet</td>\n",
       "      <td>2017-05-04</td>\n",
       "      <td>18269</td>\n",
       "      <td>37644</td>\n",
       "      <td>2017-04-19</td>\n",
       "      <td>Electronics</td>\n",
       "      <td>-1.0</td>\n",
       "      <td>2018/4/11</td>\n",
       "    </tr>\n",
       "    <tr>\n",
       "      <th>8350</th>\n",
       "      <td>1603672</td>\n",
       "      <td>369581</td>\n",
       "      <td>2018-04-10 17:53:00</td>\n",
       "      <td>PageView</td>\n",
       "      <td>5</td>\n",
       "      <td>M</td>\n",
       "      <td>2017-08-04</td>\n",
       "      <td>6</td>\n",
       "      <td>1</td>\n",
       "      <td>Other</td>\n",
       "      <td>896</td>\n",
       "      <td>Facial Mask</td>\n",
       "      <td>2018-01-19</td>\n",
       "      <td>17</td>\n",
       "      <td>56</td>\n",
       "      <td>2017-11-27</td>\n",
       "      <td>Beauty Makeup</td>\n",
       "      <td>-1.0</td>\n",
       "      <td>2018/4/10</td>\n",
       "    </tr>\n",
       "    <tr>\n",
       "      <th>9047</th>\n",
       "      <td>389364</td>\n",
       "      <td>355698</td>\n",
       "      <td>2018-04-14 11:06:00</td>\n",
       "      <td>SavedCart</td>\n",
       "      <td>5</td>\n",
       "      <td>W</td>\n",
       "      <td>2018-03-02</td>\n",
       "      <td>1</td>\n",
       "      <td>1</td>\n",
       "      <td>Other</td>\n",
       "      <td>5599</td>\n",
       "      <td>Milk</td>\n",
       "      <td>2018-03-05</td>\n",
       "      <td>157</td>\n",
       "      <td>283</td>\n",
       "      <td>2018-01-24</td>\n",
       "      <td>Food</td>\n",
       "      <td>-1.0</td>\n",
       "      <td>2018/4/14</td>\n",
       "    </tr>\n",
       "    <tr>\n",
       "      <th>10455</th>\n",
       "      <td>718340</td>\n",
       "      <td>226147</td>\n",
       "      <td>2018-04-09 21:34:00</td>\n",
       "      <td>Comment</td>\n",
       "      <td>2</td>\n",
       "      <td>M</td>\n",
       "      <td>2017-03-29</td>\n",
       "      <td>1</td>\n",
       "      <td>1</td>\n",
       "      <td>Microsoft</td>\n",
       "      <td>688</td>\n",
       "      <td>Xbox</td>\n",
       "      <td>2017-05-09</td>\n",
       "      <td>811</td>\n",
       "      <td>2576</td>\n",
       "      <td>2017-04-26</td>\n",
       "      <td>Electronics</td>\n",
       "      <td>-1.0</td>\n",
       "      <td>2018/4/9</td>\n",
       "    </tr>\n",
       "    <tr>\n",
       "      <th>10600</th>\n",
       "      <td>161459</td>\n",
       "      <td>185478</td>\n",
       "      <td>2018-04-13 04:36:00</td>\n",
       "      <td>SavedCart</td>\n",
       "      <td>2</td>\n",
       "      <td>W</td>\n",
       "      <td>2016-05-17</td>\n",
       "      <td>5</td>\n",
       "      <td>3</td>\n",
       "      <td>Other</td>\n",
       "      <td>10017</td>\n",
       "      <td>Cookie</td>\n",
       "      <td>2017-11-21</td>\n",
       "      <td>253</td>\n",
       "      <td>35</td>\n",
       "      <td>2017-10-27</td>\n",
       "      <td>Food</td>\n",
       "      <td>-1.0</td>\n",
       "      <td>2018/4/13</td>\n",
       "    </tr>\n",
       "    <tr>\n",
       "      <th>13063</th>\n",
       "      <td>241586</td>\n",
       "      <td>197340</td>\n",
       "      <td>2018-04-10 15:32:00</td>\n",
       "      <td>PageView</td>\n",
       "      <td>6</td>\n",
       "      <td>M</td>\n",
       "      <td>2017-05-09</td>\n",
       "      <td>6</td>\n",
       "      <td>1</td>\n",
       "      <td>Opple</td>\n",
       "      <td>6402</td>\n",
       "      <td>Light</td>\n",
       "      <td>2018-01-11</td>\n",
       "      <td>386</td>\n",
       "      <td>5494</td>\n",
       "      <td>2017-12-29</td>\n",
       "      <td>Furniture</td>\n",
       "      <td>-1.0</td>\n",
       "      <td>2018/4/10</td>\n",
       "    </tr>\n",
       "    <tr>\n",
       "      <th>13444</th>\n",
       "      <td>1057763</td>\n",
       "      <td>215479</td>\n",
       "      <td>2018-04-14 22:38:00</td>\n",
       "      <td>PageView</td>\n",
       "      <td>5</td>\n",
       "      <td>W</td>\n",
       "      <td>2012-05-04</td>\n",
       "      <td>7</td>\n",
       "      <td>3</td>\n",
       "      <td>Acer</td>\n",
       "      <td>9046</td>\n",
       "      <td>Notebook</td>\n",
       "      <td>2018-04-02</td>\n",
       "      <td>44</td>\n",
       "      <td>677</td>\n",
       "      <td>2018-03-29</td>\n",
       "      <td>Electronics</td>\n",
       "      <td>-1.0</td>\n",
       "      <td>2018/4/14</td>\n",
       "    </tr>\n",
       "    <tr>\n",
       "      <th>13683</th>\n",
       "      <td>626548</td>\n",
       "      <td>218009</td>\n",
       "      <td>2018-04-11 10:21:00</td>\n",
       "      <td>Order</td>\n",
       "      <td>5</td>\n",
       "      <td>W</td>\n",
       "      <td>2012-12-18</td>\n",
       "      <td>5</td>\n",
       "      <td>5</td>\n",
       "      <td>Apple</td>\n",
       "      <td>107</td>\n",
       "      <td>Tablet</td>\n",
       "      <td>2017-05-04</td>\n",
       "      <td>18269</td>\n",
       "      <td>37644</td>\n",
       "      <td>2017-04-19</td>\n",
       "      <td>Electronics</td>\n",
       "      <td>-1.0</td>\n",
       "      <td>2018/4/11</td>\n",
       "    </tr>\n",
       "    <tr>\n",
       "      <th>13857</th>\n",
       "      <td>67800</td>\n",
       "      <td>168547</td>\n",
       "      <td>2018-04-08 13:08:00</td>\n",
       "      <td>Order</td>\n",
       "      <td>5</td>\n",
       "      <td>M</td>\n",
       "      <td>2014-10-09</td>\n",
       "      <td>1</td>\n",
       "      <td>4</td>\n",
       "      <td>Apple</td>\n",
       "      <td>7094</td>\n",
       "      <td>Tablet</td>\n",
       "      <td>2018-01-12</td>\n",
       "      <td>1359</td>\n",
       "      <td>1614</td>\n",
       "      <td>2018-01-12</td>\n",
       "      <td>Electronics</td>\n",
       "      <td>-1.0</td>\n",
       "      <td>2018/4/8</td>\n",
       "    </tr>\n",
       "    <tr>\n",
       "      <th>14054</th>\n",
       "      <td>933622</td>\n",
       "      <td>355876</td>\n",
       "      <td>2018-04-15 08:52:00</td>\n",
       "      <td>PageView</td>\n",
       "      <td>4</td>\n",
       "      <td>W</td>\n",
       "      <td>2014-10-09</td>\n",
       "      <td>1</td>\n",
       "      <td>3</td>\n",
       "      <td>Gree</td>\n",
       "      <td>10034</td>\n",
       "      <td>Air Conditioner</td>\n",
       "      <td>2018-01-07</td>\n",
       "      <td>388</td>\n",
       "      <td>5669</td>\n",
       "      <td>2018-01-04</td>\n",
       "      <td>Household Eletric Appliance</td>\n",
       "      <td>-1.0</td>\n",
       "      <td>2018/4/15</td>\n",
       "    </tr>\n",
       "    <tr>\n",
       "      <th>14210</th>\n",
       "      <td>962686</td>\n",
       "      <td>246573</td>\n",
       "      <td>2018-04-09 13:45:00</td>\n",
       "      <td>PageView</td>\n",
       "      <td>2</td>\n",
       "      <td>M</td>\n",
       "      <td>2010-10-28</td>\n",
       "      <td>7</td>\n",
       "      <td>1</td>\n",
       "      <td>Huawei</td>\n",
       "      <td>7731</td>\n",
       "      <td>Tablet</td>\n",
       "      <td>2014-01-21</td>\n",
       "      <td>546</td>\n",
       "      <td>3085</td>\n",
       "      <td>2015-06-16</td>\n",
       "      <td>Electronics</td>\n",
       "      <td>-1.0</td>\n",
       "      <td>2018/4/9</td>\n",
       "    </tr>\n",
       "    <tr>\n",
       "      <th>14366</th>\n",
       "      <td>414026</td>\n",
       "      <td>44706</td>\n",
       "      <td>2018-04-10 11:41:00</td>\n",
       "      <td>PageView</td>\n",
       "      <td>6</td>\n",
       "      <td>M</td>\n",
       "      <td>2017-11-28</td>\n",
       "      <td>6</td>\n",
       "      <td>3</td>\n",
       "      <td>Other</td>\n",
       "      <td>6419</td>\n",
       "      <td>Nut</td>\n",
       "      <td>2018-03-06</td>\n",
       "      <td>10</td>\n",
       "      <td>24</td>\n",
       "      <td>2018-02-27</td>\n",
       "      <td>Food</td>\n",
       "      <td>-1.0</td>\n",
       "      <td>2018/4/10</td>\n",
       "    </tr>\n",
       "    <tr>\n",
       "      <th>14573</th>\n",
       "      <td>1085933</td>\n",
       "      <td>159223</td>\n",
       "      <td>2018-04-08 20:25:00</td>\n",
       "      <td>PageView</td>\n",
       "      <td>5</td>\n",
       "      <td>W</td>\n",
       "      <td>2014-11-25</td>\n",
       "      <td>6</td>\n",
       "      <td>5</td>\n",
       "      <td>Other</td>\n",
       "      <td>8833</td>\n",
       "      <td>Foundation Make-up</td>\n",
       "      <td>2018-01-03</td>\n",
       "      <td>619</td>\n",
       "      <td>415</td>\n",
       "      <td>2018-01-03</td>\n",
       "      <td>Beauty Makeup</td>\n",
       "      <td>-1.0</td>\n",
       "      <td>2018/4/8</td>\n",
       "    </tr>\n",
       "    <tr>\n",
       "      <th>16327</th>\n",
       "      <td>16317</td>\n",
       "      <td>56615</td>\n",
       "      <td>2018-04-09 21:55:00</td>\n",
       "      <td>PageView</td>\n",
       "      <td>1</td>\n",
       "      <td>M</td>\n",
       "      <td>2018-04-06</td>\n",
       "      <td>6</td>\n",
       "      <td>5</td>\n",
       "      <td>Other</td>\n",
       "      <td>8624</td>\n",
       "      <td>Eye Shadow</td>\n",
       "      <td>2018-03-23</td>\n",
       "      <td>1059</td>\n",
       "      <td>975</td>\n",
       "      <td>2018-03-22</td>\n",
       "      <td>Beauty Makeup</td>\n",
       "      <td>-1.0</td>\n",
       "      <td>2018/4/9</td>\n",
       "    </tr>\n",
       "    <tr>\n",
       "      <th>16401</th>\n",
       "      <td>222227</td>\n",
       "      <td>363057</td>\n",
       "      <td>2018-04-11 00:54:00</td>\n",
       "      <td>PageView</td>\n",
       "      <td>6</td>\n",
       "      <td>M</td>\n",
       "      <td>2012-03-20</td>\n",
       "      <td>7</td>\n",
       "      <td>1</td>\n",
       "      <td>UNIQLO</td>\n",
       "      <td>6519</td>\n",
       "      <td>Coat</td>\n",
       "      <td>2018-03-03</td>\n",
       "      <td>85</td>\n",
       "      <td>101</td>\n",
       "      <td>2017-12-25</td>\n",
       "      <td>Clothes</td>\n",
       "      <td>-1.0</td>\n",
       "      <td>2018/4/11</td>\n",
       "    </tr>\n",
       "    <tr>\n",
       "      <th>16664</th>\n",
       "      <td>1100673</td>\n",
       "      <td>354426</td>\n",
       "      <td>2018-04-13 22:23:00</td>\n",
       "      <td>PageView</td>\n",
       "      <td>6</td>\n",
       "      <td>M</td>\n",
       "      <td>2012-04-13</td>\n",
       "      <td>7</td>\n",
       "      <td>4</td>\n",
       "      <td>DELL</td>\n",
       "      <td>5423</td>\n",
       "      <td>Notebook</td>\n",
       "      <td>2016-11-26</td>\n",
       "      <td>6118</td>\n",
       "      <td>25980</td>\n",
       "      <td>2014-03-05</td>\n",
       "      <td>Electronics</td>\n",
       "      <td>-1.0</td>\n",
       "      <td>2018/4/13</td>\n",
       "    </tr>\n",
       "    <tr>\n",
       "      <th>17131</th>\n",
       "      <td>382321</td>\n",
       "      <td>337226</td>\n",
       "      <td>2018-04-10 16:09:00</td>\n",
       "      <td>PageView</td>\n",
       "      <td>5</td>\n",
       "      <td>M</td>\n",
       "      <td>2016-10-17</td>\n",
       "      <td>1</td>\n",
       "      <td>5</td>\n",
       "      <td>Lipton</td>\n",
       "      <td>5953</td>\n",
       "      <td>Tea</td>\n",
       "      <td>2017-02-27</td>\n",
       "      <td>1463</td>\n",
       "      <td>5169</td>\n",
       "      <td>2015-06-12</td>\n",
       "      <td>Food</td>\n",
       "      <td>-1.0</td>\n",
       "      <td>2018/4/10</td>\n",
       "    </tr>\n",
       "    <tr>\n",
       "      <th>17330</th>\n",
       "      <td>6219</td>\n",
       "      <td>334840</td>\n",
       "      <td>2018-04-10 17:34:00</td>\n",
       "      <td>PageView</td>\n",
       "      <td>5</td>\n",
       "      <td>M</td>\n",
       "      <td>2015-05-26</td>\n",
       "      <td>5</td>\n",
       "      <td>5</td>\n",
       "      <td>Microsoft</td>\n",
       "      <td>7600</td>\n",
       "      <td>Xbox</td>\n",
       "      <td>2015-11-03</td>\n",
       "      <td>3945</td>\n",
       "      <td>34076</td>\n",
       "      <td>2015-10-30</td>\n",
       "      <td>Electronics</td>\n",
       "      <td>-1.0</td>\n",
       "      <td>2018/4/10</td>\n",
       "    </tr>\n",
       "    <tr>\n",
       "      <th>18378</th>\n",
       "      <td>1462986</td>\n",
       "      <td>357192</td>\n",
       "      <td>2018-04-13 11:55:00</td>\n",
       "      <td>PageView</td>\n",
       "      <td>5</td>\n",
       "      <td>W</td>\n",
       "      <td>2016-10-20</td>\n",
       "      <td>1</td>\n",
       "      <td>5</td>\n",
       "      <td>Opple</td>\n",
       "      <td>6402</td>\n",
       "      <td>Light</td>\n",
       "      <td>2018-01-11</td>\n",
       "      <td>386</td>\n",
       "      <td>5494</td>\n",
       "      <td>2017-12-29</td>\n",
       "      <td>Furniture</td>\n",
       "      <td>-1.0</td>\n",
       "      <td>2018/4/13</td>\n",
       "    </tr>\n",
       "    <tr>\n",
       "      <th>18493</th>\n",
       "      <td>855279</td>\n",
       "      <td>362882</td>\n",
       "      <td>2018-04-09 13:35:00</td>\n",
       "      <td>PageView</td>\n",
       "      <td>1</td>\n",
       "      <td>M</td>\n",
       "      <td>2017-10-16</td>\n",
       "      <td>1</td>\n",
       "      <td>5</td>\n",
       "      <td>Midea</td>\n",
       "      <td>9656</td>\n",
       "      <td>Rice Cooker</td>\n",
       "      <td>2018-03-14</td>\n",
       "      <td>16431</td>\n",
       "      <td>0</td>\n",
       "      <td>2016-12-20</td>\n",
       "      <td>Household Eletric Appliance</td>\n",
       "      <td>-1.0</td>\n",
       "      <td>2018/4/9</td>\n",
       "    </tr>\n",
       "    <tr>\n",
       "      <th>18615</th>\n",
       "      <td>574029</td>\n",
       "      <td>52510</td>\n",
       "      <td>2018-04-09 20:42:00</td>\n",
       "      <td>PageView</td>\n",
       "      <td>5</td>\n",
       "      <td>M</td>\n",
       "      <td>2017-09-15</td>\n",
       "      <td>1</td>\n",
       "      <td>5</td>\n",
       "      <td>Opple</td>\n",
       "      <td>6402</td>\n",
       "      <td>Light</td>\n",
       "      <td>2018-01-11</td>\n",
       "      <td>386</td>\n",
       "      <td>5494</td>\n",
       "      <td>2017-12-29</td>\n",
       "      <td>Furniture</td>\n",
       "      <td>-1.0</td>\n",
       "      <td>2018/4/9</td>\n",
       "    </tr>\n",
       "    <tr>\n",
       "      <th>18632</th>\n",
       "      <td>1205767</td>\n",
       "      <td>153639</td>\n",
       "      <td>2018-04-09 01:08:00</td>\n",
       "      <td>PageView</td>\n",
       "      <td>6</td>\n",
       "      <td>M</td>\n",
       "      <td>2009-10-18</td>\n",
       "      <td>7</td>\n",
       "      <td>4</td>\n",
       "      <td>Opple</td>\n",
       "      <td>6402</td>\n",
       "      <td>Light</td>\n",
       "      <td>2018-01-11</td>\n",
       "      <td>386</td>\n",
       "      <td>5494</td>\n",
       "      <td>2017-12-29</td>\n",
       "      <td>Furniture</td>\n",
       "      <td>-1.0</td>\n",
       "      <td>2018/4/9</td>\n",
       "    </tr>\n",
       "    <tr>\n",
       "      <th>18765</th>\n",
       "      <td>734657</td>\n",
       "      <td>243439</td>\n",
       "      <td>2018-04-08 09:06:00</td>\n",
       "      <td>PageView</td>\n",
       "      <td>5</td>\n",
       "      <td>M</td>\n",
       "      <td>2010-12-25</td>\n",
       "      <td>7</td>\n",
       "      <td>3</td>\n",
       "      <td>Supor</td>\n",
       "      <td>10034</td>\n",
       "      <td>Electric Kettle</td>\n",
       "      <td>2018-01-05</td>\n",
       "      <td>388</td>\n",
       "      <td>5669</td>\n",
       "      <td>2018-01-04</td>\n",
       "      <td>Household Eletric Appliance</td>\n",
       "      <td>-1.0</td>\n",
       "      <td>2018/4/8</td>\n",
       "    </tr>\n",
       "    <tr>\n",
       "      <th>19018</th>\n",
       "      <td>1261740</td>\n",
       "      <td>329023</td>\n",
       "      <td>2018-04-08 09:08:00</td>\n",
       "      <td>PageView</td>\n",
       "      <td>6</td>\n",
       "      <td>M</td>\n",
       "      <td>2009-03-05</td>\n",
       "      <td>7</td>\n",
       "      <td>3</td>\n",
       "      <td>Opple</td>\n",
       "      <td>6402</td>\n",
       "      <td>Light</td>\n",
       "      <td>2018-01-11</td>\n",
       "      <td>386</td>\n",
       "      <td>5494</td>\n",
       "      <td>2017-12-29</td>\n",
       "      <td>Furniture</td>\n",
       "      <td>-1.0</td>\n",
       "      <td>2018/4/8</td>\n",
       "    </tr>\n",
       "    <tr>\n",
       "      <th>19056</th>\n",
       "      <td>221053</td>\n",
       "      <td>26037</td>\n",
       "      <td>2018-04-15 18:03:00</td>\n",
       "      <td>PageView</td>\n",
       "      <td>2</td>\n",
       "      <td>M</td>\n",
       "      <td>2017-06-11</td>\n",
       "      <td>5</td>\n",
       "      <td>5</td>\n",
       "      <td>Opple</td>\n",
       "      <td>6402</td>\n",
       "      <td>Light</td>\n",
       "      <td>2018-01-11</td>\n",
       "      <td>386</td>\n",
       "      <td>5494</td>\n",
       "      <td>2017-12-29</td>\n",
       "      <td>Furniture</td>\n",
       "      <td>-1.0</td>\n",
       "      <td>2018/4/15</td>\n",
       "    </tr>\n",
       "    <tr>\n",
       "      <th>19507</th>\n",
       "      <td>1417187</td>\n",
       "      <td>145819</td>\n",
       "      <td>2018-04-10 08:51:00</td>\n",
       "      <td>PageView</td>\n",
       "      <td>5</td>\n",
       "      <td>W</td>\n",
       "      <td>2014-06-18</td>\n",
       "      <td>5</td>\n",
       "      <td>3</td>\n",
       "      <td>Apple</td>\n",
       "      <td>107</td>\n",
       "      <td>Tablet</td>\n",
       "      <td>2017-05-04</td>\n",
       "      <td>18269</td>\n",
       "      <td>37644</td>\n",
       "      <td>2017-04-19</td>\n",
       "      <td>Electronics</td>\n",
       "      <td>-1.0</td>\n",
       "      <td>2018/4/10</td>\n",
       "    </tr>\n",
       "    <tr>\n",
       "      <th>19550</th>\n",
       "      <td>1457208</td>\n",
       "      <td>374614</td>\n",
       "      <td>2018-04-09 15:59:00</td>\n",
       "      <td>PageView</td>\n",
       "      <td>5</td>\n",
       "      <td>W</td>\n",
       "      <td>2015-06-18</td>\n",
       "      <td>5</td>\n",
       "      <td>1</td>\n",
       "      <td>Other</td>\n",
       "      <td>2980</td>\n",
       "      <td>Eye Shadow</td>\n",
       "      <td>2016-06-03</td>\n",
       "      <td>222</td>\n",
       "      <td>225</td>\n",
       "      <td>2016-06-03</td>\n",
       "      <td>Beauty Makeup</td>\n",
       "      <td>-1.0</td>\n",
       "      <td>2018/4/9</td>\n",
       "    </tr>\n",
       "    <tr>\n",
       "      <th>19687</th>\n",
       "      <td>839826</td>\n",
       "      <td>162926</td>\n",
       "      <td>2018-04-11 22:07:00</td>\n",
       "      <td>PageView</td>\n",
       "      <td>5</td>\n",
       "      <td>M</td>\n",
       "      <td>2012-12-28</td>\n",
       "      <td>7</td>\n",
       "      <td>1</td>\n",
       "      <td>DELL</td>\n",
       "      <td>543</td>\n",
       "      <td>Notebook</td>\n",
       "      <td>2017-09-11</td>\n",
       "      <td>3884</td>\n",
       "      <td>755</td>\n",
       "      <td>2017-07-08</td>\n",
       "      <td>Electronics</td>\n",
       "      <td>-1.0</td>\n",
       "      <td>2018/4/11</td>\n",
       "    </tr>\n",
       "    <tr>\n",
       "      <th>20426</th>\n",
       "      <td>53337</td>\n",
       "      <td>90369</td>\n",
       "      <td>2018-04-09 20:39:00</td>\n",
       "      <td>PageView</td>\n",
       "      <td>6</td>\n",
       "      <td>M</td>\n",
       "      <td>2012-01-13</td>\n",
       "      <td>7</td>\n",
       "      <td>3</td>\n",
       "      <td>Lipton</td>\n",
       "      <td>7130</td>\n",
       "      <td>Tea</td>\n",
       "      <td>2018-03-22</td>\n",
       "      <td>10291</td>\n",
       "      <td>65</td>\n",
       "      <td>2016-06-07</td>\n",
       "      <td>Food</td>\n",
       "      <td>-1.0</td>\n",
       "      <td>2018/4/9</td>\n",
       "    </tr>\n",
       "  </tbody>\n",
       "</table>\n",
       "</div>"
      ],
      "text/plain": [
       "       customer_id  product_id         action_date       type  age_range  \\\n",
       "299        1540788      312944 2018-04-12 18:05:00   PageView          5   \n",
       "460         725042      190185 2018-04-12 17:38:00   PageView          6   \n",
       "1103        184747      247124 2018-04-09 00:46:00   PageView          6   \n",
       "1935        342728      239413 2018-04-08 11:42:00   PageView          5   \n",
       "2727         41688      176228 2018-04-10 11:21:00   PageView          5   \n",
       "2859       1417187      318340 2018-04-10 10:39:00      Order          5   \n",
       "3245        247687      146208 2018-04-15 17:40:00   PageView          2   \n",
       "3347       1601506       60096 2018-04-08 12:40:00   PageView          6   \n",
       "3433       1588322      150547 2018-04-08 11:35:00   PageView          5   \n",
       "3460       1289170      120399 2018-04-08 00:15:00   PageView          1   \n",
       "3848         80304      318268 2018-04-15 15:16:00   PageView          5   \n",
       "5338        475716      112880 2018-04-12 15:32:00   PageView          2   \n",
       "5355       1100828      322919 2018-04-10 21:31:00   PageView          6   \n",
       "6462       1178286      125461 2018-04-11 23:02:00   PageView          5   \n",
       "6465       1526733      200419 2018-04-09 18:41:00   PageView          6   \n",
       "7219       1145889         820 2018-04-13 16:36:00      Order          6   \n",
       "7428        791065      284400 2018-04-09 20:19:00   PageView          5   \n",
       "8195        456455      126084 2018-04-11 12:45:00   PageView          5   \n",
       "8350       1603672      369581 2018-04-10 17:53:00   PageView          5   \n",
       "9047        389364      355698 2018-04-14 11:06:00  SavedCart          5   \n",
       "10455       718340      226147 2018-04-09 21:34:00    Comment          2   \n",
       "10600       161459      185478 2018-04-13 04:36:00  SavedCart          2   \n",
       "13063       241586      197340 2018-04-10 15:32:00   PageView          6   \n",
       "13444      1057763      215479 2018-04-14 22:38:00   PageView          5   \n",
       "13683       626548      218009 2018-04-11 10:21:00      Order          5   \n",
       "13857        67800      168547 2018-04-08 13:08:00      Order          5   \n",
       "14054       933622      355876 2018-04-15 08:52:00   PageView          4   \n",
       "14210       962686      246573 2018-04-09 13:45:00   PageView          2   \n",
       "14366       414026       44706 2018-04-10 11:41:00   PageView          6   \n",
       "14573      1085933      159223 2018-04-08 20:25:00   PageView          5   \n",
       "16327        16317       56615 2018-04-09 21:55:00   PageView          1   \n",
       "16401       222227      363057 2018-04-11 00:54:00   PageView          6   \n",
       "16664      1100673      354426 2018-04-13 22:23:00   PageView          6   \n",
       "17131       382321      337226 2018-04-10 16:09:00   PageView          5   \n",
       "17330         6219      334840 2018-04-10 17:34:00   PageView          5   \n",
       "18378      1462986      357192 2018-04-13 11:55:00   PageView          5   \n",
       "18493       855279      362882 2018-04-09 13:35:00   PageView          1   \n",
       "18615       574029       52510 2018-04-09 20:42:00   PageView          5   \n",
       "18632      1205767      153639 2018-04-09 01:08:00   PageView          6   \n",
       "18765       734657      243439 2018-04-08 09:06:00   PageView          5   \n",
       "19018      1261740      329023 2018-04-08 09:08:00   PageView          6   \n",
       "19056       221053       26037 2018-04-15 18:03:00   PageView          2   \n",
       "19507      1417187      145819 2018-04-10 08:51:00   PageView          5   \n",
       "19550      1457208      374614 2018-04-09 15:59:00   PageView          5   \n",
       "19687       839826      162926 2018-04-11 22:07:00   PageView          5   \n",
       "20426        53337       90369 2018-04-09 20:39:00   PageView          6   \n",
       "\n",
       "      gender customer_register_date  customer_level  city_level      brand  \\\n",
       "299        W             2013-09-15               7           1      Supor   \n",
       "460        W             2016-02-21               6           3       Vivo   \n",
       "1103       W             2011-11-02               7           3         HP   \n",
       "1935       W             2015-06-09               5           3      Apple   \n",
       "2727       M             2013-10-07               7           3      Other   \n",
       "2859       W             2014-06-18               5           3      Apple   \n",
       "3245       W             2014-08-31               5           4       DELL   \n",
       "3347       M             2014-09-15               1           3      Redmi   \n",
       "3433       W             2012-07-05               1           4      Apple   \n",
       "3460       M             2011-07-05               7           4       Sony   \n",
       "3848       M             2017-08-21               1           4      Opple   \n",
       "5338       W             2018-04-04               1           3      Opple   \n",
       "5355       W             2012-02-18               7           3      Apple   \n",
       "6462       M             2017-03-12               7           5       DELL   \n",
       "6465       W             2012-02-26               5           4      Apple   \n",
       "7219       M             2016-12-28               6           4  Microsoft   \n",
       "7428       M             2013-01-19               5           4      Haier   \n",
       "8195       W             2015-12-29               1           3      Apple   \n",
       "8350       M             2017-08-04               6           1      Other   \n",
       "9047       W             2018-03-02               1           1      Other   \n",
       "10455      M             2017-03-29               1           1  Microsoft   \n",
       "10600      W             2016-05-17               5           3      Other   \n",
       "13063      M             2017-05-09               6           1      Opple   \n",
       "13444      W             2012-05-04               7           3       Acer   \n",
       "13683      W             2012-12-18               5           5      Apple   \n",
       "13857      M             2014-10-09               1           4      Apple   \n",
       "14054      W             2014-10-09               1           3       Gree   \n",
       "14210      M             2010-10-28               7           1     Huawei   \n",
       "14366      M             2017-11-28               6           3      Other   \n",
       "14573      W             2014-11-25               6           5      Other   \n",
       "16327      M             2018-04-06               6           5      Other   \n",
       "16401      M             2012-03-20               7           1     UNIQLO   \n",
       "16664      M             2012-04-13               7           4       DELL   \n",
       "17131      M             2016-10-17               1           5     Lipton   \n",
       "17330      M             2015-05-26               5           5  Microsoft   \n",
       "18378      W             2016-10-20               1           5      Opple   \n",
       "18493      M             2017-10-16               1           5      Midea   \n",
       "18615      M             2017-09-15               1           5      Opple   \n",
       "18632      M             2009-10-18               7           4      Opple   \n",
       "18765      M             2010-12-25               7           3      Supor   \n",
       "19018      M             2009-03-05               7           3      Opple   \n",
       "19056      M             2017-06-11               5           5      Opple   \n",
       "19507      W             2014-06-18               5           3      Apple   \n",
       "19550      W             2015-06-18               5           1      Other   \n",
       "19687      M             2012-12-28               7           1       DELL   \n",
       "20426      M             2012-01-13               7           3     Lipton   \n",
       "\n",
       "       shop_id            category product_market_date  fans_number  \\\n",
       "299      10034         Rice Cooker          2018-01-05          388   \n",
       "460       2900               Phone          2016-02-23          923   \n",
       "1103      7943            Notebook          2017-09-11          338   \n",
       "1935       107              Tablet          2017-05-04        18269   \n",
       "2727      3967             T Shirt          2017-06-05           28   \n",
       "2859       107              Tablet          2017-05-04        18269   \n",
       "3245      1926            Notebook          2016-10-13          705   \n",
       "3347      6057               Phone          2014-03-28         1027   \n",
       "3433       107              Tablet          2017-05-04        18269   \n",
       "3460      9172      Digital Camera          2017-01-05         1411   \n",
       "3848      6402               Light          2018-01-11          386   \n",
       "5338      6402               Light          2018-01-11          386   \n",
       "5355      1503               Phone          2018-03-15        23464   \n",
       "6462      9991            Notebook          2015-12-04          230   \n",
       "6465       688               Phone          2017-05-09          811   \n",
       "7219       646                Xbox          2015-12-18          240   \n",
       "7428      3843          Television          2018-02-28         2170   \n",
       "8195       107              Tablet          2017-05-04        18269   \n",
       "8350       896         Facial Mask          2018-01-19           17   \n",
       "9047      5599                Milk          2018-03-05          157   \n",
       "10455      688                Xbox          2017-05-09          811   \n",
       "10600    10017              Cookie          2017-11-21          253   \n",
       "13063     6402               Light          2018-01-11          386   \n",
       "13444     9046            Notebook          2018-04-02           44   \n",
       "13683      107              Tablet          2017-05-04        18269   \n",
       "13857     7094              Tablet          2018-01-12         1359   \n",
       "14054    10034     Air Conditioner          2018-01-07          388   \n",
       "14210     7731              Tablet          2014-01-21          546   \n",
       "14366     6419                 Nut          2018-03-06           10   \n",
       "14573     8833  Foundation Make-up          2018-01-03          619   \n",
       "16327     8624          Eye Shadow          2018-03-23         1059   \n",
       "16401     6519                Coat          2018-03-03           85   \n",
       "16664     5423            Notebook          2016-11-26         6118   \n",
       "17131     5953                 Tea          2017-02-27         1463   \n",
       "17330     7600                Xbox          2015-11-03         3945   \n",
       "18378     6402               Light          2018-01-11          386   \n",
       "18493     9656         Rice Cooker          2018-03-14        16431   \n",
       "18615     6402               Light          2018-01-11          386   \n",
       "18632     6402               Light          2018-01-11          386   \n",
       "18765    10034     Electric Kettle          2018-01-05          388   \n",
       "19018     6402               Light          2018-01-11          386   \n",
       "19056     6402               Light          2018-01-11          386   \n",
       "19507      107              Tablet          2017-05-04        18269   \n",
       "19550     2980          Eye Shadow          2016-06-03          222   \n",
       "19687      543            Notebook          2017-09-11         3884   \n",
       "20426     7130                 Tea          2018-03-22        10291   \n",
       "\n",
       "       vip_number shop_register_date                shop_category  shop_score  \\\n",
       "299          5669         2018-01-04  Household Eletric Appliance        -1.0   \n",
       "460         40635         2015-12-30                  Electronics        -1.0   \n",
       "1103          566         2017-05-05                  Electronics        -1.0   \n",
       "1935        37644         2017-04-19                  Electronics        -1.0   \n",
       "2727            4         2017-02-20                      Clothes        -1.0   \n",
       "2859        37644         2017-04-19                  Electronics        -1.0   \n",
       "3245         3578         2016-08-11                  Electronics        -1.0   \n",
       "3347         6977         2014-03-28                  Electronics        -1.0   \n",
       "3433        37644         2017-04-19                  Electronics        -1.0   \n",
       "3460         1605         2016-04-21                  Electronics        -1.0   \n",
       "3848         5494         2017-12-29                    Furniture        -1.0   \n",
       "5338         5494         2017-12-29                    Furniture        -1.0   \n",
       "5355         1415         2018-02-27                  Electronics        -1.0   \n",
       "6462          306         2015-10-19                  Electronics        -1.0   \n",
       "6465         2576         2017-04-26                  Electronics        -1.0   \n",
       "7219         2375         2015-09-25                  Electronics        -1.0   \n",
       "7428         5238         2017-10-25  Household Eletric Appliance        -1.0   \n",
       "8195        37644         2017-04-19                  Electronics        -1.0   \n",
       "8350           56         2017-11-27                Beauty Makeup        -1.0   \n",
       "9047          283         2018-01-24                         Food        -1.0   \n",
       "10455        2576         2017-04-26                  Electronics        -1.0   \n",
       "10600          35         2017-10-27                         Food        -1.0   \n",
       "13063        5494         2017-12-29                    Furniture        -1.0   \n",
       "13444         677         2018-03-29                  Electronics        -1.0   \n",
       "13683       37644         2017-04-19                  Electronics        -1.0   \n",
       "13857        1614         2018-01-12                  Electronics        -1.0   \n",
       "14054        5669         2018-01-04  Household Eletric Appliance        -1.0   \n",
       "14210        3085         2015-06-16                  Electronics        -1.0   \n",
       "14366          24         2018-02-27                         Food        -1.0   \n",
       "14573         415         2018-01-03                Beauty Makeup        -1.0   \n",
       "16327         975         2018-03-22                Beauty Makeup        -1.0   \n",
       "16401         101         2017-12-25                      Clothes        -1.0   \n",
       "16664       25980         2014-03-05                  Electronics        -1.0   \n",
       "17131        5169         2015-06-12                         Food        -1.0   \n",
       "17330       34076         2015-10-30                  Electronics        -1.0   \n",
       "18378        5494         2017-12-29                    Furniture        -1.0   \n",
       "18493           0         2016-12-20  Household Eletric Appliance        -1.0   \n",
       "18615        5494         2017-12-29                    Furniture        -1.0   \n",
       "18632        5494         2017-12-29                    Furniture        -1.0   \n",
       "18765        5669         2018-01-04  Household Eletric Appliance        -1.0   \n",
       "19018        5494         2017-12-29                    Furniture        -1.0   \n",
       "19056        5494         2017-12-29                    Furniture        -1.0   \n",
       "19507       37644         2017-04-19                  Electronics        -1.0   \n",
       "19550         225         2016-06-03                Beauty Makeup        -1.0   \n",
       "19687         755         2017-07-08                  Electronics        -1.0   \n",
       "20426          65         2016-06-07                         Food        -1.0   \n",
       "\n",
       "      action_day  \n",
       "299    2018/4/12  \n",
       "460    2018/4/12  \n",
       "1103    2018/4/9  \n",
       "1935    2018/4/8  \n",
       "2727   2018/4/10  \n",
       "2859   2018/4/10  \n",
       "3245   2018/4/15  \n",
       "3347    2018/4/8  \n",
       "3433    2018/4/8  \n",
       "3460    2018/4/8  \n",
       "3848   2018/4/15  \n",
       "5338   2018/4/12  \n",
       "5355   2018/4/10  \n",
       "6462   2018/4/11  \n",
       "6465    2018/4/9  \n",
       "7219   2018/4/13  \n",
       "7428    2018/4/9  \n",
       "8195   2018/4/11  \n",
       "8350   2018/4/10  \n",
       "9047   2018/4/14  \n",
       "10455   2018/4/9  \n",
       "10600  2018/4/13  \n",
       "13063  2018/4/10  \n",
       "13444  2018/4/14  \n",
       "13683  2018/4/11  \n",
       "13857   2018/4/8  \n",
       "14054  2018/4/15  \n",
       "14210   2018/4/9  \n",
       "14366  2018/4/10  \n",
       "14573   2018/4/8  \n",
       "16327   2018/4/9  \n",
       "16401  2018/4/11  \n",
       "16664  2018/4/13  \n",
       "17131  2018/4/10  \n",
       "17330  2018/4/10  \n",
       "18378  2018/4/13  \n",
       "18493   2018/4/9  \n",
       "18615   2018/4/9  \n",
       "18632   2018/4/9  \n",
       "18765   2018/4/8  \n",
       "19018   2018/4/8  \n",
       "19056  2018/4/15  \n",
       "19507  2018/4/10  \n",
       "19550   2018/4/9  \n",
       "19687  2018/4/11  \n",
       "20426   2018/4/9  "
      ]
     },
     "execution_count": 80,
     "metadata": {},
     "output_type": "execute_result"
    }
   ],
   "source": [
    "# 店铺评分小于0的记录\n",
    "data.query('shop_score < 0')"
   ]
  },
  {
   "cell_type": "code",
   "execution_count": 81,
   "metadata": {},
   "outputs": [
    {
     "data": {
      "text/plain": [
       "(46, 19)"
      ]
     },
     "execution_count": 81,
     "metadata": {},
     "output_type": "execute_result"
    }
   ],
   "source": [
    "# 店铺评分小于0的 记录数\n",
    "data.query('shop_score < 0').shape"
   ]
  },
  {
   "cell_type": "code",
   "execution_count": 82,
   "metadata": {},
   "outputs": [
    {
     "data": {
      "text/plain": [
       "31"
      ]
     },
     "execution_count": 82,
     "metadata": {},
     "output_type": "execute_result"
    }
   ],
   "source": [
    "# 店铺评分小于0的 店铺数\n",
    "data.query('shop_score < 0')['shop_id'].nunique()"
   ]
  },
  {
   "cell_type": "code",
   "execution_count": 83,
   "metadata": {},
   "outputs": [
    {
     "data": {
      "text/plain": [
       "8.851246"
      ]
     },
     "execution_count": 83,
     "metadata": {},
     "output_type": "execute_result"
    }
   ],
   "source": [
    "# 正常店铺的评分最低\n",
    "data.query('shop_score > 1')['shop_score'].min()"
   ]
  },
  {
   "cell_type": "code",
   "execution_count": 84,
   "metadata": {},
   "outputs": [
    {
     "data": {
      "text/plain": [
       "<Axes: ylabel='Frequency'>"
      ]
     },
     "execution_count": 84,
     "metadata": {},
     "output_type": "execute_result"
    },
    {
     "data": {
      "image/png": "[encoded data removed]",
      "text/plain": [
       "<Figure size 1000x600 with 1 Axes>"
      ]
     },
     "metadata": {},
     "output_type": "display_data"
    }
   ],
   "source": [
    "# 正常的店铺评分 分布情况\n",
    "shop_score_gb = data.groupby('shop_id')['shop_score'].max()\n",
    "shop_score_gb[shop_score_gb > 0].plot(kind='hist', bins=20, figsize=(10, 6), alpha=0.5)"
   ]
  },
  {
   "cell_type": "markdown",
   "metadata": {},
   "source": [
    "## 用户信息"
   ]
  },
  {
   "cell_type": "markdown",
   "metadata": {},
   "source": [
    "### age_range\n",
    "- 正常了"
   ]
  },
  {
   "cell_type": "code",
   "execution_count": 85,
   "metadata": {},
   "outputs": [
    {
     "data": {
      "text/plain": [
       "age_range\n",
       "1    1684\n",
       "2    1780\n",
       "4    1656\n",
       "5    8884\n",
       "6    6470\n",
       "Name: count, dtype: int64"
      ]
     },
     "execution_count": 85,
     "metadata": {},
     "output_type": "execute_result"
    }
   ],
   "source": [
    "# 不同age_range的 记录数\n",
    "data['age_range'].value_counts().sort_index()"
   ]
  },
  {
   "cell_type": "code",
   "execution_count": 86,
   "metadata": {},
   "outputs": [
    {
     "name": "stdout",
     "output_type": "stream",
     "text": [
      "age_range\n",
      "1    1438\n",
      "2    1543\n",
      "4    1563\n",
      "5    8102\n",
      "6    5733\n",
      "Name: customer_id, dtype: int64\n"
     ]
    }
   ],
   "source": [
    "# 不同年龄段的 用户数\n",
    "print(data.groupby('age_range')['customer_id'].nunique())"
   ]
  },
  {
   "cell_type": "markdown",
   "metadata": {},
   "source": [
    "### gender\n",
    "- 性别为U的仍有 57 条记录"
   ]
  },
  {
   "cell_type": "code",
   "execution_count": 87,
   "metadata": {},
   "outputs": [
    {
     "data": {
      "text/plain": [
       "gender\n",
       "M    12508\n",
       "U       57\n",
       "W     7909\n",
       "Name: count, dtype: int64"
      ]
     },
     "execution_count": 87,
     "metadata": {},
     "output_type": "execute_result"
    }
   ],
   "source": [
    "# 不同性别的记录数\n",
    "data.value_counts('gender').sort_index()"
   ]
  },
  {
   "cell_type": "code",
   "execution_count": 88,
   "metadata": {},
   "outputs": [
    {
     "name": "stdout",
     "output_type": "stream",
     "text": [
      "gender\n",
      "M    10925\n",
      "U       55\n",
      "W     7399\n",
      "Name: customer_id, dtype: int64\n"
     ]
    }
   ],
   "source": [
    "# 不同性别的用户数\n",
    "print(data.groupby('gender')['customer_id'].nunique().sort_index())"
   ]
  },
  {
   "cell_type": "markdown",
   "metadata": {},
   "source": [
    "### customer_level\n",
    "- 等级为 2 级的记录/用户没了\n",
    "- 等级为 3，4 级的记录/用户仍少"
   ]
  },
  {
   "cell_type": "code",
   "execution_count": 89,
   "metadata": {},
   "outputs": [
    {
     "name": "stdout",
     "output_type": "stream",
     "text": [
      "customer_level\n",
      "1    4967\n",
      "3      12\n",
      "4      60\n",
      "5    4842\n",
      "6    3088\n",
      "7    7505\n",
      "Name: customer_id, dtype: int64\n"
     ]
    }
   ],
   "source": [
    "# 不同会员级别的记录数\n",
    "print(data.groupby('customer_level')['customer_id'].size())"
   ]
  },
  {
   "cell_type": "code",
   "execution_count": 90,
   "metadata": {},
   "outputs": [
    {
     "name": "stdout",
     "output_type": "stream",
     "text": [
      "customer_level\n",
      "1    4573\n",
      "3      12\n",
      "4      60\n",
      "5    4366\n",
      "6    2899\n",
      "7    6469\n",
      "Name: customer_id, dtype: int64\n"
     ]
    }
   ],
   "source": [
    "# 不同会员级别的用户\n",
    "print(data.groupby('customer_level')['customer_id'].nunique())"
   ]
  },
  {
   "cell_type": "markdown",
   "metadata": {},
   "source": [
    "### city_level\n",
    "- 取值为 2 和 6 的仍少"
   ]
  },
  {
   "cell_type": "code",
   "execution_count": 91,
   "metadata": {},
   "outputs": [
    {
     "name": "stdout",
     "output_type": "stream",
     "text": [
      "city_level\n",
      "1    4559\n",
      "2     235\n",
      "3    5172\n",
      "4    6005\n",
      "5    4431\n",
      "6      72\n",
      "Name: customer_id, dtype: int64\n"
     ]
    }
   ],
   "source": [
    "# 不同城市等级的记录数\n",
    "print(data.groupby('city_level')['customer_id'].size())"
   ]
  },
  {
   "cell_type": "code",
   "execution_count": 92,
   "metadata": {},
   "outputs": [
    {
     "name": "stdout",
     "output_type": "stream",
     "text": [
      "city_level\n",
      "1    4028\n",
      "2     214\n",
      "3    4677\n",
      "4    5437\n",
      "5    3957\n",
      "6      66\n",
      "Name: customer_id, dtype: int64\n"
     ]
    }
   ],
   "source": [
    "# 不同城市等级的用户数\n",
    "print(data.groupby('city_level')['customer_id'].nunique())"
   ]
  },
  {
   "cell_type": "markdown",
   "metadata": {},
   "source": [
    "### customer_register_date\n",
    "- 用户注册的时间范围：2004-06-02 ~ 2018-04-15 \n",
    "- 注册年份分布合理，非重复日期数 3395 （合理）"
   ]
  },
  {
   "cell_type": "code",
   "execution_count": 93,
   "metadata": {},
   "outputs": [
    {
     "name": "stdout",
     "output_type": "stream",
     "text": [
      "最早日期： 2004-06-02\n",
      "最晚日期： 2018-04-15\n",
      "\n"
     ]
    }
   ],
   "source": [
    "# 时间范围\n",
    "print(\"最早日期：\",data['customer_register_date'].min().date())\n",
    "print(\"最晚日期：\",data['customer_register_date'].max().date(),end='\\n\\n')"
   ]
  },
  {
   "cell_type": "code",
   "execution_count": 94,
   "metadata": {},
   "outputs": [
    {
     "data": {
      "text/plain": [
       "customer_register_date\n",
       "2004       2\n",
       "2005      11\n",
       "2006      19\n",
       "2007      50\n",
       "2008     202\n",
       "2009     448\n",
       "2010    1069\n",
       "2011    1757\n",
       "2012    2285\n",
       "2013    2049\n",
       "2014    2305\n",
       "2015    2866\n",
       "2016    2994\n",
       "2017    3090\n",
       "2018    1327\n",
       "Name: customer_id, dtype: int64"
      ]
     },
     "execution_count": 94,
     "metadata": {},
     "output_type": "execute_result"
    }
   ],
   "source": [
    "# 不同年份注册的记录数\n",
    "data.groupby(data['customer_register_date'].dt.year)['customer_id'].size()"
   ]
  },
  {
   "cell_type": "code",
   "execution_count": 95,
   "metadata": {},
   "outputs": [
    {
     "data": {
      "text/plain": [
       "customer_register_date\n",
       "2004       2\n",
       "2005      10\n",
       "2006      17\n",
       "2007      45\n",
       "2008     175\n",
       "2009     402\n",
       "2010     915\n",
       "2011    1547\n",
       "2012    2011\n",
       "2013    1836\n",
       "2014    2089\n",
       "2015    2620\n",
       "2016    2744\n",
       "2017    2764\n",
       "2018    1202\n",
       "Name: customer_id, dtype: int64"
      ]
     },
     "execution_count": 95,
     "metadata": {},
     "output_type": "execute_result"
    }
   ],
   "source": [
    "# 不同年份注册的用户数\n",
    "data.groupby(data['customer_register_date'].dt.year)['customer_id'].nunique()"
   ]
  },
  {
   "cell_type": "code",
   "execution_count": 96,
   "metadata": {},
   "outputs": [
    {
     "data": {
      "text/plain": [
       "3395"
      ]
     },
     "execution_count": 96,
     "metadata": {},
     "output_type": "execute_result"
    }
   ],
   "source": [
    "# 去重后日期数\n",
    "data['customer_register_date'].nunique()"
   ]
  },
  {
   "cell_type": "markdown",
   "metadata": {},
   "source": [
    "## 商品信息"
   ]
  },
  {
   "cell_type": "code",
   "execution_count": 97,
   "metadata": {},
   "outputs": [
    {
     "data": {
      "text/plain": [
       "category          brand     \n",
       "Air Conditioner   Gree          139\n",
       "                  Midea          76\n",
       "Badminton         Li-Ning       100\n",
       "Basketball        Li-Ning        69\n",
       "Basketball Shoes  Anta            3\n",
       "                               ... \n",
       "Washing Machine   Haier           8\n",
       "                  Konka          33\n",
       "                  LittleSwan     99\n",
       "                  Midea          38\n",
       "Xbox              Microsoft     144\n",
       "Name: product_id, Length: 203, dtype: int64"
      ]
     },
     "execution_count": 97,
     "metadata": {},
     "output_type": "execute_result"
    }
   ],
   "source": [
    "# 每个品类，每个品牌有多少商品\n",
    "\n",
    "product_count = data.groupby(['category','brand'])['product_id'].nunique()\n",
    "product_count\n",
    "# product_count.to_csv('product_count.csv')"
   ]
  },
  {
   "cell_type": "markdown",
   "metadata": {},
   "source": [
    "### brand\n",
    "- 72个产品品牌\n",
    "- 注意 other 占比较大，应该是每个类别都有 other "
   ]
  },
  {
   "cell_type": "code",
   "execution_count": 100,
   "metadata": {},
   "outputs": [
    {
     "data": {
      "text/plain": [
       "72"
      ]
     },
     "execution_count": 100,
     "metadata": {},
     "output_type": "execute_result"
    }
   ],
   "source": [
    "# 产品品牌数\n",
    "data['brand'].nunique()"
   ]
  },
  {
   "cell_type": "code",
   "execution_count": 101,
   "metadata": {},
   "outputs": [
    {
     "data": {
      "application/vnd.plotly.v1+json": {
       "config": {
        "plotlyServerURL": "https://plot.ly"
       },
       "data": [
        {
         "alignmentgroup": "True",
         "hovertemplate": "Brand=%{x}<br>记录数=%{text}<extra></extra>",
         "legendgroup": "",
         "marker": {
          "color": "#636efa",
          "pattern": {
           "shape": ""
          }
         },
         "name": "",
         "offsetgroup": "",
         "orientation": "v",
         "showlegend": false,
         "text": [
          4773,
          2082,
          2011,
          1415,
          461,
          434,
          433,
          424,
          376,
          372,
          354,
          353,
          344,
          333,
          306,
          283,
          273,
          266,
          254,
          238,
          238,
          227,
          226,
          221,
          195,
          193,
          189,
          184,
          182,
          172,
          170,
          159,
          155,
          153,
          152,
          141,
          138,
          125,
          118,
          114,
          113,
          100,
          90,
          87,
          76,
          70,
          62,
          55,
          50,
          42,
          41,
          38,
          36,
          34,
          31,
          30,
          28,
          28,
          27,
          25,
          24,
          24,
          22,
          21,
          18,
          17,
          13,
          13,
          9,
          5,
          5,
          3
         ],
         "textposition": "auto",
         "type": "bar",
         "x": [
          "Other",
          "Apple",
          "Huawei",
          "Lipton",
          "Redmi",
          "Li-Ning",
          "LukFook",
          "Innisfree",
          "Sumsung",
          "DELL",
          "Midea",
          "Sony",
          "Olay",
          "Kuka",
          "HLA",
          "Chando",
          "Microsoft",
          "Chow Tai Fook",
          "Estee Lauder",
          "Haier",
          "Vivo",
          "Lenovo",
          "illuma",
          "Acer",
          "Loreal",
          "Quanyou",
          "Gree",
          "LittleSwan",
          "Lancome",
          "Opple",
          "Supor",
          "Proya",
          "Ton Lion",
          "Chow Taiseng",
          "Joyoung",
          "Konka",
          "OPPO",
          "UNIQLO",
          "HP",
          "H&M",
          "Nikon",
          "Lays",
          "Nestle",
          "LEDIN",
          "Adidas",
          "PEACEBIRD",
          "ERKE",
          "ZARA",
          "BE&CHERRY",
          "Jeans West",
          "Playboy",
          "SEPTWOLVES",
          "CLINIQUE",
          "Nike",
          "Quaker",
          "Baleno",
          "DOVE",
          "Chando ",
          "Kong",
          "ELand",
          "SK-II",
          "Danco",
          "Sulwhasoo",
          "meiji",
          "KOPIKO",
          "Vichy",
          "Danisa",
          "Kisses",
          "Oreo",
          "Calbee",
          "Three Squirrels",
          "Anta"
         ],
         "xaxis": "x",
         "y": [
          4773,
          2082,
          2011,
          1415,
          461,
          434,
          433,
          424,
          376,
          372,
          354,
          353,
          344,
          333,
          306,
          283,
          273,
          266,
          254,
          238,
          238,
          227,
          226,
          221,
          195,
          193,
          189,
          184,
          182,
          172,
          170,
          159,
          155,
          153,
          152,
          141,
          138,
          125,
          118,
          114,
          113,
          100,
          90,
          87,
          76,
          70,
          62,
          55,
          50,
          42,
          41,
          38,
          36,
          34,
          31,
          30,
          28,
          28,
          27,
          25,
          24,
          24,
          22,
          21,
          18,
          17,
          13,
          13,
          9,
          5,
          5,
          3
         ],
         "yaxis": "y"
        }
       ],
       "layout": {
        "barmode": "relative",
        "legend": {
         "tracegroupgap": 0
        },
        "template": {
         "data": {
          "bar": [
           {
            "error_x": {
             "color": "#2a3f5f"
            },
            "error_y": {
             "color": "#2a3f5f"
            },
            "marker": {
             "line": {
              "color": "#E5ECF6",
              "width": 0.5
             },
             "pattern": {
              "fillmode": "overlay",
              "size": 10,
              "solidity": 0.2
             }
            },
            "type": "bar"
           }
          ],
          "barpolar": [
           {
            "marker": {
             "line": {
              "color": "#E5ECF6",
              "width": 0.5
             },
             "pattern": {
              "fillmode": "overlay",
              "size": 10,
              "solidity": 0.2
             }
            },
            "type": "barpolar"
           }
          ],
          "carpet": [
           {
            "aaxis": {
             "endlinecolor": "#2a3f5f",
             "gridcolor": "white",
             "linecolor": "white",
             "minorgridcolor": "white",
             "startlinecolor": "#2a3f5f"
            },
            "baxis": {
             "endlinecolor": "#2a3f5f",
             "gridcolor": "white",
             "linecolor": "white",
             "minorgridcolor": "white",
             "startlinecolor": "#2a3f5f"
            },
            "type": "carpet"
           }
          ],
          "choropleth": [
           {
            "colorbar": {
             "outlinewidth": 0,
             "ticks": ""
            },
            "type": "choropleth"
           }
          ],
          "contour": [
           {
            "colorbar": {
             "outlinewidth": 0,
             "ticks": ""
            },
            "colorscale": [
             [
              0,
              "#0d0887"
             ],
             [
              0.1111111111111111,
              "#46039f"
             ],
             [
              0.2222222222222222,
              "#7201a8"
             ],
             [
              0.3333333333333333,
              "#9c179e"
             ],
             [
              0.4444444444444444,
              "#bd3786"
             ],
             [
              0.5555555555555556,
              "#d8576b"
             ],
             [
              0.6666666666666666,
              "#ed7953"
             ],
             [
              0.7777777777777778,
              "#fb9f3a"
             ],
             [
              0.8888888888888888,
              "#fdca26"
             ],
             [
              1,
              "#f0f921"
             ]
            ],
            "type": "contour"
           }
          ],
          "contourcarpet": [
           {
            "colorbar": {
             "outlinewidth": 0,
             "ticks": ""
            },
            "type": "contourcarpet"
           }
          ],
          "heatmap": [
           {
            "colorbar": {
             "outlinewidth": 0,
             "ticks": ""
            },
            "colorscale": [
             [
              0,
              "#0d0887"
             ],
             [
              0.1111111111111111,
              "#46039f"
             ],
             [
              0.2222222222222222,
              "#7201a8"
             ],
             [
              0.3333333333333333,
              "#9c179e"
             ],
             [
              0.4444444444444444,
              "#bd3786"
             ],
             [
              0.5555555555555556,
              "#d8576b"
             ],
             [
              0.6666666666666666,
              "#ed7953"
             ],
             [
              0.7777777777777778,
              "#fb9f3a"
             ],
             [
              0.8888888888888888,
              "#fdca26"
             ],
             [
              1,
              "#f0f921"
             ]
            ],
            "type": "heatmap"
           }
          ],
          "heatmapgl": [
           {
            "colorbar": {
             "outlinewidth": 0,
             "ticks": ""
            },
            "colorscale": [
             [
              0,
              "#0d0887"
             ],
             [
              0.1111111111111111,
              "#46039f"
             ],
             [
              0.2222222222222222,
              "#7201a8"
             ],
             [
              0.3333333333333333,
              "#9c179e"
             ],
             [
              0.4444444444444444,
              "#bd3786"
             ],
             [
              0.5555555555555556,
              "#d8576b"
             ],
             [
              0.6666666666666666,
              "#ed7953"
             ],
             [
              0.7777777777777778,
              "#fb9f3a"
             ],
             [
              0.8888888888888888,
              "#fdca26"
             ],
             [
              1,
              "#f0f921"
             ]
            ],
            "type": "heatmapgl"
           }
          ],
          "histogram": [
           {
            "marker": {
             "pattern": {
              "fillmode": "overlay",
              "size": 10,
              "solidity": 0.2
             }
            },
            "type": "histogram"
           }
          ],
          "histogram2d": [
           {
            "colorbar": {
             "outlinewidth": 0,
             "ticks": ""
            },
            "colorscale": [
             [
              0,
              "#0d0887"
             ],
             [
              0.1111111111111111,
              "#46039f"
             ],
             [
              0.2222222222222222,
              "#7201a8"
             ],
             [
              0.3333333333333333,
              "#9c179e"
             ],
             [
              0.4444444444444444,
              "#bd3786"
             ],
             [
              0.5555555555555556,
              "#d8576b"
             ],
             [
              0.6666666666666666,
              "#ed7953"
             ],
             [
              0.7777777777777778,
              "#fb9f3a"
             ],
             [
              0.8888888888888888,
              "#fdca26"
             ],
             [
              1,
              "#f0f921"
             ]
            ],
            "type": "histogram2d"
           }
          ],
          "histogram2dcontour": [
           {
            "colorbar": {
             "outlinewidth": 0,
             "ticks": ""
            },
            "colorscale": [
             [
              0,
              "#0d0887"
             ],
             [
              0.1111111111111111,
              "#46039f"
             ],
             [
              0.2222222222222222,
              "#7201a8"
             ],
             [
              0.3333333333333333,
              "#9c179e"
             ],
             [
              0.4444444444444444,
              "#bd3786"
             ],
             [
              0.5555555555555556,
              "#d8576b"
             ],
             [
              0.6666666666666666,
              "#ed7953"
             ],
             [
              0.7777777777777778,
              "#fb9f3a"
             ],
             [
              0.8888888888888888,
              "#fdca26"
             ],
             [
              1,
              "#f0f921"
             ]
            ],
            "type": "histogram2dcontour"
           }
          ],
          "mesh3d": [
           {
            "colorbar": {
             "outlinewidth": 0,
             "ticks": ""
            },
            "type": "mesh3d"
           }
          ],
          "parcoords": [
           {
            "line": {
             "colorbar": {
              "outlinewidth": 0,
              "ticks": ""
             }
            },
            "type": "parcoords"
           }
          ],
          "pie": [
           {
            "automargin": true,
            "type": "pie"
           }
          ],
          "scatter": [
           {
            "fillpattern": {
             "fillmode": "overlay",
             "size": 10,
             "solidity": 0.2
            },
            "type": "scatter"
           }
          ],
          "scatter3d": [
           {
            "line": {
             "colorbar": {
              "outlinewidth": 0,
              "ticks": ""
             }
            },
            "marker": {
             "colorbar": {
              "outlinewidth": 0,
              "ticks": ""
             }
            },
            "type": "scatter3d"
           }
          ],
          "scattercarpet": [
           {
            "marker": {
             "colorbar": {
              "outlinewidth": 0,
              "ticks": ""
             }
            },
            "type": "scattercarpet"
           }
          ],
          "scattergeo": [
           {
            "marker": {
             "colorbar": {
              "outlinewidth": 0,
              "ticks": ""
             }
            },
            "type": "scattergeo"
           }
          ],
          "scattergl": [
           {
            "marker": {
             "colorbar": {
              "outlinewidth": 0,
              "ticks": ""
             }
            },
            "type": "scattergl"
           }
          ],
          "scattermapbox": [
           {
            "marker": {
             "colorbar": {
              "outlinewidth": 0,
              "ticks": ""
             }
            },
            "type": "scattermapbox"
           }
          ],
          "scatterpolar": [
           {
            "marker": {
             "colorbar": {
              "outlinewidth": 0,
              "ticks": ""
             }
            },
            "type": "scatterpolar"
           }
          ],
          "scatterpolargl": [
           {
            "marker": {
             "colorbar": {
              "outlinewidth": 0,
              "ticks": ""
             }
            },
            "type": "scatterpolargl"
           }
          ],
          "scatterternary": [
           {
            "marker": {
             "colorbar": {
              "outlinewidth": 0,
              "ticks": ""
             }
            },
            "type": "scatterternary"
           }
          ],
          "surface": [
           {
            "colorbar": {
             "outlinewidth": 0,
             "ticks": ""
            },
            "colorscale": [
             [
              0,
              "#0d0887"
             ],
             [
              0.1111111111111111,
              "#46039f"
             ],
             [
              0.2222222222222222,
              "#7201a8"
             ],
             [
              0.3333333333333333,
              "#9c179e"
             ],
             [
              0.4444444444444444,
              "#bd3786"
             ],
             [
              0.5555555555555556,
              "#d8576b"
             ],
             [
              0.6666666666666666,
              "#ed7953"
             ],
             [
              0.7777777777777778,
              "#fb9f3a"
             ],
             [
              0.8888888888888888,
              "#fdca26"
             ],
             [
              1,
              "#f0f921"
             ]
            ],
            "type": "surface"
           }
          ],
          "table": [
           {
            "cells": {
             "fill": {
              "color": "#EBF0F8"
             },
             "line": {
              "color": "white"
             }
            },
            "header": {
             "fill": {
              "color": "#C8D4E3"
             },
             "line": {
              "color": "white"
             }
            },
            "type": "table"
           }
          ]
         },
         "layout": {
          "annotationdefaults": {
           "arrowcolor": "#2a3f5f",
           "arrowhead": 0,
           "arrowwidth": 1
          },
          "autotypenumbers": "strict",
          "coloraxis": {
           "colorbar": {
            "outlinewidth": 0,
            "ticks": ""
           }
          },
          "colorscale": {
           "diverging": [
            [
             0,
             "#8e0152"
            ],
            [
             0.1,
             "#c51b7d"
            ],
            [
             0.2,
             "#de77ae"
            ],
            [
             0.3,
             "#f1b6da"
            ],
            [
             0.4,
             "#fde0ef"
            ],
            [
             0.5,
             "#f7f7f7"
            ],
            [
             0.6,
             "#e6f5d0"
            ],
            [
             0.7,
             "#b8e186"
            ],
            [
             0.8,
             "#7fbc41"
            ],
            [
             0.9,
             "#4d9221"
            ],
            [
             1,
             "#276419"
            ]
           ],
           "sequential": [
            [
             0,
             "#0d0887"
            ],
            [
             0.1111111111111111,
             "#46039f"
            ],
            [
             0.2222222222222222,
             "#7201a8"
            ],
            [
             0.3333333333333333,
             "#9c179e"
            ],
            [
             0.4444444444444444,
             "#bd3786"
            ],
            [
             0.5555555555555556,
             "#d8576b"
            ],
            [
             0.6666666666666666,
             "#ed7953"
            ],
            [
             0.7777777777777778,
             "#fb9f3a"
            ],
            [
             0.8888888888888888,
             "#fdca26"
            ],
            [
             1,
             "#f0f921"
            ]
           ],
           "sequentialminus": [
            [
             0,
             "#0d0887"
            ],
            [
             0.1111111111111111,
             "#46039f"
            ],
            [
             0.2222222222222222,
             "#7201a8"
            ],
            [
             0.3333333333333333,
             "#9c179e"
            ],
            [
             0.4444444444444444,
             "#bd3786"
            ],
            [
             0.5555555555555556,
             "#d8576b"
            ],
            [
             0.6666666666666666,
             "#ed7953"
            ],
            [
             0.7777777777777778,
             "#fb9f3a"
            ],
            [
             0.8888888888888888,
             "#fdca26"
            ],
            [
             1,
             "#f0f921"
            ]
           ]
          },
          "colorway": [
           "#636efa",
           "#EF553B",
           "#00cc96",
           "#ab63fa",
           "#FFA15A",
           "#19d3f3",
           "#FF6692",
           "#B6E880",
           "#FF97FF",
           "#FECB52"
          ],
          "font": {
           "color": "#2a3f5f"
          },
          "geo": {
           "bgcolor": "white",
           "lakecolor": "white",
           "landcolor": "#E5ECF6",
           "showlakes": true,
           "showland": true,
           "subunitcolor": "white"
          },
          "hoverlabel": {
           "align": "left"
          },
          "hovermode": "closest",
          "mapbox": {
           "style": "light"
          },
          "paper_bgcolor": "white",
          "plot_bgcolor": "#E5ECF6",
          "polar": {
           "angularaxis": {
            "gridcolor": "white",
            "linecolor": "white",
            "ticks": ""
           },
           "bgcolor": "#E5ECF6",
           "radialaxis": {
            "gridcolor": "white",
            "linecolor": "white",
            "ticks": ""
           }
          },
          "scene": {
           "xaxis": {
            "backgroundcolor": "#E5ECF6",
            "gridcolor": "white",
            "gridwidth": 2,
            "linecolor": "white",
            "showbackground": true,
            "ticks": "",
            "zerolinecolor": "white"
           },
           "yaxis": {
            "backgroundcolor": "#E5ECF6",
            "gridcolor": "white",
            "gridwidth": 2,
            "linecolor": "white",
            "showbackground": true,
            "ticks": "",
            "zerolinecolor": "white"
           },
           "zaxis": {
            "backgroundcolor": "#E5ECF6",
            "gridcolor": "white",
            "gridwidth": 2,
            "linecolor": "white",
            "showbackground": true,
            "ticks": "",
            "zerolinecolor": "white"
           }
          },
          "shapedefaults": {
           "line": {
            "color": "#2a3f5f"
           }
          },
          "ternary": {
           "aaxis": {
            "gridcolor": "white",
            "linecolor": "white",
            "ticks": ""
           },
           "baxis": {
            "gridcolor": "white",
            "linecolor": "white",
            "ticks": ""
           },
           "bgcolor": "#E5ECF6",
           "caxis": {
            "gridcolor": "white",
            "linecolor": "white",
            "ticks": ""
           }
          },
          "title": {
           "x": 0.05
          },
          "xaxis": {
           "automargin": true,
           "gridcolor": "white",
           "linecolor": "white",
           "ticks": "",
           "title": {
            "standoff": 15
           },
           "zerolinecolor": "white",
           "zerolinewidth": 2
          },
          "yaxis": {
           "automargin": true,
           "gridcolor": "white",
           "linecolor": "white",
           "ticks": "",
           "title": {
            "standoff": 15
           },
           "zerolinecolor": "white",
           "zerolinewidth": 2
          }
         }
        },
        "title": {
         "text": "Brand Frequency"
        },
        "xaxis": {
         "anchor": "y",
         "domain": [
          0,
          1
         ],
         "tickangle": 45,
         "title": {
          "text": "Brand"
         }
        },
        "yaxis": {
         "anchor": "x",
         "domain": [
          0,
          1
         ],
         "title": {
          "text": "记录数"
         }
        }
       }
      }
     },
     "metadata": {},
     "output_type": "display_data"
    }
   ],
   "source": [
    "# 不同品牌的 记录数量 分布\n",
    "brand_counts = data['brand'].value_counts().reset_index()\n",
    "brand_counts.columns = ['brand', 'count']\n",
    "\n",
    "# 创建动态图表\n",
    "fig = px.bar(brand_counts, x='brand', y='count', title='Brand Frequency', \n",
    "             labels={'count': '记录数', 'brand': 'Brand'},\n",
    "             text='count')\n",
    "fig.update_layout(\n",
    "    xaxis=dict(tickangle=45)\n",
    ")\n",
    "# 显示图表\n",
    "fig.show()"
   ]
  },
  {
   "cell_type": "code",
   "execution_count": 102,
   "metadata": {},
   "outputs": [
    {
     "data": {
      "application/vnd.plotly.v1+json": {
       "config": {
        "plotlyServerURL": "https://plot.ly"
       },
       "data": [
        {
         "alignmentgroup": "True",
         "hovertemplate": "Brand=%{x}<br>商品数=%{text}<extra></extra>",
         "legendgroup": "",
         "marker": {
          "color": "#636efa",
          "pattern": {
           "shape": ""
          }
         },
         "name": "",
         "offsetgroup": "",
         "orientation": "v",
         "showlegend": false,
         "text": [
          3197,
          885,
          880,
          856,
          306,
          291,
          270,
          240,
          235,
          225,
          210,
          209,
          190,
          181,
          176,
          169,
          165,
          162,
          153,
          150,
          148,
          147,
          146,
          144,
          139,
          130,
          125,
          123,
          121,
          119,
          113,
          105,
          102,
          102,
          99,
          98,
          89,
          83,
          79,
          75,
          71,
          64,
          61,
          60,
          54,
          49,
          48,
          42,
          42,
          38,
          34,
          33,
          25,
          24,
          24,
          24,
          23,
          23,
          21,
          21,
          20,
          19,
          18,
          17,
          14,
          13,
          12,
          8,
          7,
          5,
          5,
          3
         ],
         "textposition": "auto",
         "type": "bar",
         "x": [
          "Other",
          "Apple",
          "Lipton",
          "Huawei",
          "Li-Ning",
          "Midea",
          "LukFook",
          "Redmi",
          "Kuka",
          "Innisfree",
          "DELL",
          "Olay",
          "Sony",
          "Sumsung",
          "Chow Tai Fook",
          "Haier",
          "Estee Lauder",
          "illuma",
          "Quanyou",
          "Chando",
          "Supor",
          "Vivo",
          "Opple",
          "Microsoft",
          "Gree",
          "Ton Lion",
          "Chow Taiseng",
          "Acer",
          "Lenovo",
          "Joyoung",
          "Konka",
          "HLA",
          "UNIQLO",
          "H&M",
          "LittleSwan",
          "Lancome",
          "OPPO",
          "Loreal",
          "Proya",
          "HP",
          "LEDIN",
          "Lays",
          "Nikon",
          "Adidas",
          "PEACEBIRD",
          "Nestle",
          "ERKE",
          "BE&CHERRY",
          "ZARA",
          "Playboy",
          "Jeans West",
          "SEPTWOLVES",
          "Kong",
          "Baleno",
          "Nike",
          "Quaker",
          "Danco",
          "ELand",
          "DOVE",
          "Chando ",
          "meiji",
          "CLINIQUE",
          "Sulwhasoo",
          "SK-II",
          "Vichy",
          "Kisses",
          "Danisa",
          "KOPIKO",
          "Oreo",
          "Three Squirrels",
          "Calbee",
          "Anta"
         ],
         "xaxis": "x",
         "y": [
          3197,
          885,
          880,
          856,
          306,
          291,
          270,
          240,
          235,
          225,
          210,
          209,
          190,
          181,
          176,
          169,
          165,
          162,
          153,
          150,
          148,
          147,
          146,
          144,
          139,
          130,
          125,
          123,
          121,
          119,
          113,
          105,
          102,
          102,
          99,
          98,
          89,
          83,
          79,
          75,
          71,
          64,
          61,
          60,
          54,
          49,
          48,
          42,
          42,
          38,
          34,
          33,
          25,
          24,
          24,
          24,
          23,
          23,
          21,
          21,
          20,
          19,
          18,
          17,
          14,
          13,
          12,
          8,
          7,
          5,
          5,
          3
         ],
         "yaxis": "y"
        }
       ],
       "layout": {
        "barmode": "relative",
        "legend": {
         "tracegroupgap": 0
        },
        "template": {
         "data": {
          "bar": [
           {
            "error_x": {
             "color": "#2a3f5f"
            },
            "error_y": {
             "color": "#2a3f5f"
            },
            "marker": {
             "line": {
              "color": "#E5ECF6",
              "width": 0.5
             },
             "pattern": {
              "fillmode": "overlay",
              "size": 10,
              "solidity": 0.2
             }
            },
            "type": "bar"
           }
          ],
          "barpolar": [
           {
            "marker": {
             "line": {
              "color": "#E5ECF6",
              "width": 0.5
             },
             "pattern": {
              "fillmode": "overlay",
              "size": 10,
              "solidity": 0.2
             }
            },
            "type": "barpolar"
           }
          ],
          "carpet": [
           {
            "aaxis": {
             "endlinecolor": "#2a3f5f",
             "gridcolor": "white",
             "linecolor": "white",
             "minorgridcolor": "white",
             "startlinecolor": "#2a3f5f"
            },
            "baxis": {
             "endlinecolor": "#2a3f5f",
             "gridcolor": "white",
             "linecolor": "white",
             "minorgridcolor": "white",
             "startlinecolor": "#2a3f5f"
            },
            "type": "carpet"
           }
          ],
          "choropleth": [
           {
            "colorbar": {
             "outlinewidth": 0,
             "ticks": ""
            },
            "type": "choropleth"
           }
          ],
          "contour": [
           {
            "colorbar": {
             "outlinewidth": 0,
             "ticks": ""
            },
            "colorscale": [
             [
              0,
              "#0d0887"
             ],
             [
              0.1111111111111111,
              "#46039f"
             ],
             [
              0.2222222222222222,
              "#7201a8"
             ],
             [
              0.3333333333333333,
              "#9c179e"
             ],
             [
              0.4444444444444444,
              "#bd3786"
             ],
             [
              0.5555555555555556,
              "#d8576b"
             ],
             [
              0.6666666666666666,
              "#ed7953"
             ],
             [
              0.7777777777777778,
              "#fb9f3a"
             ],
             [
              0.8888888888888888,
              "#fdca26"
             ],
             [
              1,
              "#f0f921"
             ]
            ],
            "type": "contour"
           }
          ],
          "contourcarpet": [
           {
            "colorbar": {
             "outlinewidth": 0,
             "ticks": ""
            },
            "type": "contourcarpet"
           }
          ],
          "heatmap": [
           {
            "colorbar": {
             "outlinewidth": 0,
             "ticks": ""
            },
            "colorscale": [
             [
              0,
              "#0d0887"
             ],
             [
              0.1111111111111111,
              "#46039f"
             ],
             [
              0.2222222222222222,
              "#7201a8"
             ],
             [
              0.3333333333333333,
              "#9c179e"
             ],
             [
              0.4444444444444444,
              "#bd3786"
             ],
             [
              0.5555555555555556,
              "#d8576b"
             ],
             [
              0.6666666666666666,
              "#ed7953"
             ],
             [
              0.7777777777777778,
              "#fb9f3a"
             ],
             [
              0.8888888888888888,
              "#fdca26"
             ],
             [
              1,
              "#f0f921"
             ]
            ],
            "type": "heatmap"
           }
          ],
          "heatmapgl": [
           {
            "colorbar": {
             "outlinewidth": 0,
             "ticks": ""
            },
            "colorscale": [
             [
              0,
              "#0d0887"
             ],
             [
              0.1111111111111111,
              "#46039f"
             ],
             [
              0.2222222222222222,
              "#7201a8"
             ],
             [
              0.3333333333333333,
              "#9c179e"
             ],
             [
              0.4444444444444444,
              "#bd3786"
             ],
             [
              0.5555555555555556,
              "#d8576b"
             ],
             [
              0.6666666666666666,
              "#ed7953"
             ],
             [
              0.7777777777777778,
              "#fb9f3a"
             ],
             [
              0.8888888888888888,
              "#fdca26"
             ],
             [
              1,
              "#f0f921"
             ]
            ],
            "type": "heatmapgl"
           }
          ],
          "histogram": [
           {
            "marker": {
             "pattern": {
              "fillmode": "overlay",
              "size": 10,
              "solidity": 0.2
             }
            },
            "type": "histogram"
           }
          ],
          "histogram2d": [
           {
            "colorbar": {
             "outlinewidth": 0,
             "ticks": ""
            },
            "colorscale": [
             [
              0,
              "#0d0887"
             ],
             [
              0.1111111111111111,
              "#46039f"
             ],
             [
              0.2222222222222222,
              "#7201a8"
             ],
             [
              0.3333333333333333,
              "#9c179e"
             ],
             [
              0.4444444444444444,
              "#bd3786"
             ],
             [
              0.5555555555555556,
              "#d8576b"
             ],
             [
              0.6666666666666666,
              "#ed7953"
             ],
             [
              0.7777777777777778,
              "#fb9f3a"
             ],
             [
              0.8888888888888888,
              "#fdca26"
             ],
             [
              1,
              "#f0f921"
             ]
            ],
            "type": "histogram2d"
           }
          ],
          "histogram2dcontour": [
           {
            "colorbar": {
             "outlinewidth": 0,
             "ticks": ""
            },
            "colorscale": [
             [
              0,
              "#0d0887"
             ],
             [
              0.1111111111111111,
              "#46039f"
             ],
             [
              0.2222222222222222,
              "#7201a8"
             ],
             [
              0.3333333333333333,
              "#9c179e"
             ],
             [
              0.4444444444444444,
              "#bd3786"
             ],
             [
              0.5555555555555556,
              "#d8576b"
             ],
             [
              0.6666666666666666,
              "#ed7953"
             ],
             [
              0.7777777777777778,
              "#fb9f3a"
             ],
             [
              0.8888888888888888,
              "#fdca26"
             ],
             [
              1,
              "#f0f921"
             ]
            ],
            "type": "histogram2dcontour"
           }
          ],
          "mesh3d": [
           {
            "colorbar": {
             "outlinewidth": 0,
             "ticks": ""
            },
            "type": "mesh3d"
           }
          ],
          "parcoords": [
           {
            "line": {
             "colorbar": {
              "outlinewidth": 0,
              "ticks": ""
             }
            },
            "type": "parcoords"
           }
          ],
          "pie": [
           {
            "automargin": true,
            "type": "pie"
           }
          ],
          "scatter": [
           {
            "fillpattern": {
             "fillmode": "overlay",
             "size": 10,
             "solidity": 0.2
            },
            "type": "scatter"
           }
          ],
          "scatter3d": [
           {
            "line": {
             "colorbar": {
              "outlinewidth": 0,
              "ticks": ""
             }
            },
            "marker": {
             "colorbar": {
              "outlinewidth": 0,
              "ticks": ""
             }
            },
            "type": "scatter3d"
           }
          ],
          "scattercarpet": [
           {
            "marker": {
             "colorbar": {
              "outlinewidth": 0,
              "ticks": ""
             }
            },
            "type": "scattercarpet"
           }
          ],
          "scattergeo": [
           {
            "marker": {
             "colorbar": {
              "outlinewidth": 0,
              "ticks": ""
             }
            },
            "type": "scattergeo"
           }
          ],
          "scattergl": [
           {
            "marker": {
             "colorbar": {
              "outlinewidth": 0,
              "ticks": ""
             }
            },
            "type": "scattergl"
           }
          ],
          "scattermapbox": [
           {
            "marker": {
             "colorbar": {
              "outlinewidth": 0,
              "ticks": ""
             }
            },
            "type": "scattermapbox"
           }
          ],
          "scatterpolar": [
           {
            "marker": {
             "colorbar": {
              "outlinewidth": 0,
              "ticks": ""
             }
            },
            "type": "scatterpolar"
           }
          ],
          "scatterpolargl": [
           {
            "marker": {
             "colorbar": {
              "outlinewidth": 0,
              "ticks": ""
             }
            },
            "type": "scatterpolargl"
           }
          ],
          "scatterternary": [
           {
            "marker": {
             "colorbar": {
              "outlinewidth": 0,
              "ticks": ""
             }
            },
            "type": "scatterternary"
           }
          ],
          "surface": [
           {
            "colorbar": {
             "outlinewidth": 0,
             "ticks": ""
            },
            "colorscale": [
             [
              0,
              "#0d0887"
             ],
             [
              0.1111111111111111,
              "#46039f"
             ],
             [
              0.2222222222222222,
              "#7201a8"
             ],
             [
              0.3333333333333333,
              "#9c179e"
             ],
             [
              0.4444444444444444,
              "#bd3786"
             ],
             [
              0.5555555555555556,
              "#d8576b"
             ],
             [
              0.6666666666666666,
              "#ed7953"
             ],
             [
              0.7777777777777778,
              "#fb9f3a"
             ],
             [
              0.8888888888888888,
              "#fdca26"
             ],
             [
              1,
              "#f0f921"
             ]
            ],
            "type": "surface"
           }
          ],
          "table": [
           {
            "cells": {
             "fill": {
              "color": "#EBF0F8"
             },
             "line": {
              "color": "white"
             }
            },
            "header": {
             "fill": {
              "color": "#C8D4E3"
             },
             "line": {
              "color": "white"
             }
            },
            "type": "table"
           }
          ]
         },
         "layout": {
          "annotationdefaults": {
           "arrowcolor": "#2a3f5f",
           "arrowhead": 0,
           "arrowwidth": 1
          },
          "autotypenumbers": "strict",
          "coloraxis": {
           "colorbar": {
            "outlinewidth": 0,
            "ticks": ""
           }
          },
          "colorscale": {
           "diverging": [
            [
             0,
             "#8e0152"
            ],
            [
             0.1,
             "#c51b7d"
            ],
            [
             0.2,
             "#de77ae"
            ],
            [
             0.3,
             "#f1b6da"
            ],
            [
             0.4,
             "#fde0ef"
            ],
            [
             0.5,
             "#f7f7f7"
            ],
            [
             0.6,
             "#e6f5d0"
            ],
            [
             0.7,
             "#b8e186"
            ],
            [
             0.8,
             "#7fbc41"
            ],
            [
             0.9,
             "#4d9221"
            ],
            [
             1,
             "#276419"
            ]
           ],
           "sequential": [
            [
             0,
             "#0d0887"
            ],
            [
             0.1111111111111111,
             "#46039f"
            ],
            [
             0.2222222222222222,
             "#7201a8"
            ],
            [
             0.3333333333333333,
             "#9c179e"
            ],
            [
             0.4444444444444444,
             "#bd3786"
            ],
            [
             0.5555555555555556,
             "#d8576b"
            ],
            [
             0.6666666666666666,
             "#ed7953"
            ],
            [
             0.7777777777777778,
             "#fb9f3a"
            ],
            [
             0.8888888888888888,
             "#fdca26"
            ],
            [
             1,
             "#f0f921"
            ]
           ],
           "sequentialminus": [
            [
             0,
             "#0d0887"
            ],
            [
             0.1111111111111111,
             "#46039f"
            ],
            [
             0.2222222222222222,
             "#7201a8"
            ],
            [
             0.3333333333333333,
             "#9c179e"
            ],
            [
             0.4444444444444444,
             "#bd3786"
            ],
            [
             0.5555555555555556,
             "#d8576b"
            ],
            [
             0.6666666666666666,
             "#ed7953"
            ],
            [
             0.7777777777777778,
             "#fb9f3a"
            ],
            [
             0.8888888888888888,
             "#fdca26"
            ],
            [
             1,
             "#f0f921"
            ]
           ]
          },
          "colorway": [
           "#636efa",
           "#EF553B",
           "#00cc96",
           "#ab63fa",
           "#FFA15A",
           "#19d3f3",
           "#FF6692",
           "#B6E880",
           "#FF97FF",
           "#FECB52"
          ],
          "font": {
           "color": "#2a3f5f"
          },
          "geo": {
           "bgcolor": "white",
           "lakecolor": "white",
           "landcolor": "#E5ECF6",
           "showlakes": true,
           "showland": true,
           "subunitcolor": "white"
          },
          "hoverlabel": {
           "align": "left"
          },
          "hovermode": "closest",
          "mapbox": {
           "style": "light"
          },
          "paper_bgcolor": "white",
          "plot_bgcolor": "#E5ECF6",
          "polar": {
           "angularaxis": {
            "gridcolor": "white",
            "linecolor": "white",
            "ticks": ""
           },
           "bgcolor": "#E5ECF6",
           "radialaxis": {
            "gridcolor": "white",
            "linecolor": "white",
            "ticks": ""
           }
          },
          "scene": {
           "xaxis": {
            "backgroundcolor": "#E5ECF6",
            "gridcolor": "white",
            "gridwidth": 2,
            "linecolor": "white",
            "showbackground": true,
            "ticks": "",
            "zerolinecolor": "white"
           },
           "yaxis": {
            "backgroundcolor": "#E5ECF6",
            "gridcolor": "white",
            "gridwidth": 2,
            "linecolor": "white",
            "showbackground": true,
            "ticks": "",
            "zerolinecolor": "white"
           },
           "zaxis": {
            "backgroundcolor": "#E5ECF6",
            "gridcolor": "white",
            "gridwidth": 2,
            "linecolor": "white",
            "showbackground": true,
            "ticks": "",
            "zerolinecolor": "white"
           }
          },
          "shapedefaults": {
           "line": {
            "color": "#2a3f5f"
           }
          },
          "ternary": {
           "aaxis": {
            "gridcolor": "white",
            "linecolor": "white",
            "ticks": ""
           },
           "baxis": {
            "gridcolor": "white",
            "linecolor": "white",
            "ticks": ""
           },
           "bgcolor": "#E5ECF6",
           "caxis": {
            "gridcolor": "white",
            "linecolor": "white",
            "ticks": ""
           }
          },
          "title": {
           "x": 0.05
          },
          "xaxis": {
           "automargin": true,
           "gridcolor": "white",
           "linecolor": "white",
           "ticks": "",
           "title": {
            "standoff": 15
           },
           "zerolinecolor": "white",
           "zerolinewidth": 2
          },
          "yaxis": {
           "automargin": true,
           "gridcolor": "white",
           "linecolor": "white",
           "ticks": "",
           "title": {
            "standoff": 15
           },
           "zerolinecolor": "white",
           "zerolinewidth": 2
          }
         }
        },
        "title": {
         "text": "Brand Frequency"
        },
        "xaxis": {
         "anchor": "y",
         "domain": [
          0,
          1
         ],
         "tickangle": 45,
         "title": {
          "text": "Brand"
         }
        },
        "yaxis": {
         "anchor": "x",
         "domain": [
          0,
          1
         ],
         "title": {
          "text": "商品数"
         }
        }
       }
      }
     },
     "metadata": {},
     "output_type": "display_data"
    }
   ],
   "source": [
    "# 不同品牌的 商品数量 分布\n",
    "brand_counts = data.groupby(['brand'])['product_id'].nunique().sort_values(ascending=False).reset_index()\n",
    "brand_counts.columns = ['brand', 'count']\n",
    "\n",
    "# 创建动态图表\n",
    "fig = px.bar(brand_counts, x='brand', y='count', title='Brand Frequency', \n",
    "             labels={'count': '商品数', 'brand': 'Brand'},\n",
    "             text='count')\n",
    "fig.update_layout(\n",
    "    xaxis=dict(tickangle=45)\n",
    ")\n",
    "# 显示图表\n",
    "fig.show()"
   ]
  },
  {
   "cell_type": "markdown",
   "metadata": {},
   "source": [
    "### category\n",
    "- 53 个产品种类"
   ]
  },
  {
   "cell_type": "code",
   "execution_count": 103,
   "metadata": {},
   "outputs": [
    {
     "data": {
      "text/plain": [
       "53"
      ]
     },
     "execution_count": 103,
     "metadata": {},
     "output_type": "execute_result"
    }
   ],
   "source": [
    "# 产品种类数\n",
    "data['category'].nunique()"
   ]
  },
  {
   "cell_type": "code",
   "execution_count": 104,
   "metadata": {},
   "outputs": [
    {
     "data": {
      "application/vnd.plotly.v1+json": {
       "config": {
        "plotlyServerURL": "https://plot.ly"
       },
       "data": [
        {
         "alignmentgroup": "True",
         "hovertemplate": "category=%{x}<br>记录数=%{text}<extra></extra>",
         "legendgroup": "",
         "marker": {
          "color": "#636efa",
          "pattern": {
           "shape": ""
          }
         },
         "name": "",
         "offsetgroup": "",
         "orientation": "v",
         "showlegend": false,
         "text": [
          4901,
          2305,
          1415,
          956,
          938,
          635,
          568,
          558,
          491,
          471,
          471,
          466,
          363,
          334,
          296,
          286,
          282,
          273,
          259,
          258,
          256,
          245,
          226,
          221,
          208,
          208,
          202,
          192,
          191,
          184,
          183,
          183,
          176,
          172,
          138,
          113,
          110,
          102,
          100,
          88,
          76,
          73,
          62,
          51,
          42,
          36,
          26,
          20,
          18,
          16,
          16,
          11,
          3
         ],
         "textposition": "auto",
         "type": "bar",
         "x": [
          "Phone",
          "Coat",
          "Tea",
          "Tablet",
          "Notebook",
          "Candy",
          "Foundation Make-up",
          "Face Cream",
          "Necklace",
          "Cookie",
          "Facial Essence",
          "Digital Camera",
          "Perfume",
          "Bed",
          "Facial Moisturizer",
          "Washing Machine",
          "Air Conditioner",
          "Xbox",
          "Bracelet",
          "Makerup Water",
          "Eye Shadow",
          "Lipstick",
          "Milk Power",
          "Milk",
          "Football",
          "Induction Cooker",
          "Coffee",
          "Sofa",
          "Facial Mask",
          "Sunscreen Cream",
          "Rice Cooker",
          "Refrigerator",
          "Television",
          "Light",
          "Badminton",
          "Nut",
          "Electric Kettle",
          "Ring",
          "Potatio Chips",
          "Basketball",
          "Sport Suit",
          "Running Shoes",
          "Chocolate",
          "Cake",
          "Jeans",
          "Oatmeal",
          "Basketball Shoes",
          "Sweater",
          "Ipad",
          "Skirt",
          "T Shirt",
          "Pants",
          "Other"
         ],
         "xaxis": "x",
         "y": [
          4901,
          2305,
          1415,
          956,
          938,
          635,
          568,
          558,
          491,
          471,
          471,
          466,
          363,
          334,
          296,
          286,
          282,
          273,
          259,
          258,
          256,
          245,
          226,
          221,
          208,
          208,
          202,
          192,
          191,
          184,
          183,
          183,
          176,
          172,
          138,
          113,
          110,
          102,
          100,
          88,
          76,
          73,
          62,
          51,
          42,
          36,
          26,
          20,
          18,
          16,
          16,
          11,
          3
         ],
         "yaxis": "y"
        }
       ],
       "layout": {
        "barmode": "relative",
        "legend": {
         "tracegroupgap": 0
        },
        "template": {
         "data": {
          "bar": [
           {
            "error_x": {
             "color": "#2a3f5f"
            },
            "error_y": {
             "color": "#2a3f5f"
            },
            "marker": {
             "line": {
              "color": "#E5ECF6",
              "width": 0.5
             },
             "pattern": {
              "fillmode": "overlay",
              "size": 10,
              "solidity": 0.2
             }
            },
            "type": "bar"
           }
          ],
          "barpolar": [
           {
            "marker": {
             "line": {
              "color": "#E5ECF6",
              "width": 0.5
             },
             "pattern": {
              "fillmode": "overlay",
              "size": 10,
              "solidity": 0.2
             }
            },
            "type": "barpolar"
           }
          ],
          "carpet": [
           {
            "aaxis": {
             "endlinecolor": "#2a3f5f",
             "gridcolor": "white",
             "linecolor": "white",
             "minorgridcolor": "white",
             "startlinecolor": "#2a3f5f"
            },
            "baxis": {
             "endlinecolor": "#2a3f5f",
             "gridcolor": "white",
             "linecolor": "white",
             "minorgridcolor": "white",
             "startlinecolor": "#2a3f5f"
            },
            "type": "carpet"
           }
          ],
          "choropleth": [
           {
            "colorbar": {
             "outlinewidth": 0,
             "ticks": ""
            },
            "type": "choropleth"
           }
          ],
          "contour": [
           {
            "colorbar": {
             "outlinewidth": 0,
             "ticks": ""
            },
            "colorscale": [
             [
              0,
              "#0d0887"
             ],
             [
              0.1111111111111111,
              "#46039f"
             ],
             [
              0.2222222222222222,
              "#7201a8"
             ],
             [
              0.3333333333333333,
              "#9c179e"
             ],
             [
              0.4444444444444444,
              "#bd3786"
             ],
             [
              0.5555555555555556,
              "#d8576b"
             ],
             [
              0.6666666666666666,
              "#ed7953"
             ],
             [
              0.7777777777777778,
              "#fb9f3a"
             ],
             [
              0.8888888888888888,
              "#fdca26"
             ],
             [
              1,
              "#f0f921"
             ]
            ],
            "type": "contour"
           }
          ],
          "contourcarpet": [
           {
            "colorbar": {
             "outlinewidth": 0,
             "ticks": ""
            },
            "type": "contourcarpet"
           }
          ],
          "heatmap": [
           {
            "colorbar": {
             "outlinewidth": 0,
             "ticks": ""
            },
            "colorscale": [
             [
              0,
              "#0d0887"
             ],
             [
              0.1111111111111111,
              "#46039f"
             ],
             [
              0.2222222222222222,
              "#7201a8"
             ],
             [
              0.3333333333333333,
              "#9c179e"
             ],
             [
              0.4444444444444444,
              "#bd3786"
             ],
             [
              0.5555555555555556,
              "#d8576b"
             ],
             [
              0.6666666666666666,
              "#ed7953"
             ],
             [
              0.7777777777777778,
              "#fb9f3a"
             ],
             [
              0.8888888888888888,
              "#fdca26"
             ],
             [
              1,
              "#f0f921"
             ]
            ],
            "type": "heatmap"
           }
          ],
          "heatmapgl": [
           {
            "colorbar": {
             "outlinewidth": 0,
             "ticks": ""
            },
            "colorscale": [
             [
              0,
              "#0d0887"
             ],
             [
              0.1111111111111111,
              "#46039f"
             ],
             [
              0.2222222222222222,
              "#7201a8"
             ],
             [
              0.3333333333333333,
              "#9c179e"
             ],
             [
              0.4444444444444444,
              "#bd3786"
             ],
             [
              0.5555555555555556,
              "#d8576b"
             ],
             [
              0.6666666666666666,
              "#ed7953"
             ],
             [
              0.7777777777777778,
              "#fb9f3a"
             ],
             [
              0.8888888888888888,
              "#fdca26"
             ],
             [
              1,
              "#f0f921"
             ]
            ],
            "type": "heatmapgl"
           }
          ],
          "histogram": [
           {
            "marker": {
             "pattern": {
              "fillmode": "overlay",
              "size": 10,
              "solidity": 0.2
             }
            },
            "type": "histogram"
           }
          ],
          "histogram2d": [
           {
            "colorbar": {
             "outlinewidth": 0,
             "ticks": ""
            },
            "colorscale": [
             [
              0,
              "#0d0887"
             ],
             [
              0.1111111111111111,
              "#46039f"
             ],
             [
              0.2222222222222222,
              "#7201a8"
             ],
             [
              0.3333333333333333,
              "#9c179e"
             ],
             [
              0.4444444444444444,
              "#bd3786"
             ],
             [
              0.5555555555555556,
              "#d8576b"
             ],
             [
              0.6666666666666666,
              "#ed7953"
             ],
             [
              0.7777777777777778,
              "#fb9f3a"
             ],
             [
              0.8888888888888888,
              "#fdca26"
             ],
             [
              1,
              "#f0f921"
             ]
            ],
            "type": "histogram2d"
           }
          ],
          "histogram2dcontour": [
           {
            "colorbar": {
             "outlinewidth": 0,
             "ticks": ""
            },
            "colorscale": [
             [
              0,
              "#0d0887"
             ],
             [
              0.1111111111111111,
              "#46039f"
             ],
             [
              0.2222222222222222,
              "#7201a8"
             ],
             [
              0.3333333333333333,
              "#9c179e"
             ],
             [
              0.4444444444444444,
              "#bd3786"
             ],
             [
              0.5555555555555556,
              "#d8576b"
             ],
             [
              0.6666666666666666,
              "#ed7953"
             ],
             [
              0.7777777777777778,
              "#fb9f3a"
             ],
             [
              0.8888888888888888,
              "#fdca26"
             ],
             [
              1,
              "#f0f921"
             ]
            ],
            "type": "histogram2dcontour"
           }
          ],
          "mesh3d": [
           {
            "colorbar": {
             "outlinewidth": 0,
             "ticks": ""
            },
            "type": "mesh3d"
           }
          ],
          "parcoords": [
           {
            "line": {
             "colorbar": {
              "outlinewidth": 0,
              "ticks": ""
             }
            },
            "type": "parcoords"
           }
          ],
          "pie": [
           {
            "automargin": true,
            "type": "pie"
           }
          ],
          "scatter": [
           {
            "fillpattern": {
             "fillmode": "overlay",
             "size": 10,
             "solidity": 0.2
            },
            "type": "scatter"
           }
          ],
          "scatter3d": [
           {
            "line": {
             "colorbar": {
              "outlinewidth": 0,
              "ticks": ""
             }
            },
            "marker": {
             "colorbar": {
              "outlinewidth": 0,
              "ticks": ""
             }
            },
            "type": "scatter3d"
           }
          ],
          "scattercarpet": [
           {
            "marker": {
             "colorbar": {
              "outlinewidth": 0,
              "ticks": ""
             }
            },
            "type": "scattercarpet"
           }
          ],
          "scattergeo": [
           {
            "marker": {
             "colorbar": {
              "outlinewidth": 0,
              "ticks": ""
             }
            },
            "type": "scattergeo"
           }
          ],
          "scattergl": [
           {
            "marker": {
             "colorbar": {
              "outlinewidth": 0,
              "ticks": ""
             }
            },
            "type": "scattergl"
           }
          ],
          "scattermapbox": [
           {
            "marker": {
             "colorbar": {
              "outlinewidth": 0,
              "ticks": ""
             }
            },
            "type": "scattermapbox"
           }
          ],
          "scatterpolar": [
           {
            "marker": {
             "colorbar": {
              "outlinewidth": 0,
              "ticks": ""
             }
            },
            "type": "scatterpolar"
           }
          ],
          "scatterpolargl": [
           {
            "marker": {
             "colorbar": {
              "outlinewidth": 0,
              "ticks": ""
             }
            },
            "type": "scatterpolargl"
           }
          ],
          "scatterternary": [
           {
            "marker": {
             "colorbar": {
              "outlinewidth": 0,
              "ticks": ""
             }
            },
            "type": "scatterternary"
           }
          ],
          "surface": [
           {
            "colorbar": {
             "outlinewidth": 0,
             "ticks": ""
            },
            "colorscale": [
             [
              0,
              "#0d0887"
             ],
             [
              0.1111111111111111,
              "#46039f"
             ],
             [
              0.2222222222222222,
              "#7201a8"
             ],
             [
              0.3333333333333333,
              "#9c179e"
             ],
             [
              0.4444444444444444,
              "#bd3786"
             ],
             [
              0.5555555555555556,
              "#d8576b"
             ],
             [
              0.6666666666666666,
              "#ed7953"
             ],
             [
              0.7777777777777778,
              "#fb9f3a"
             ],
             [
              0.8888888888888888,
              "#fdca26"
             ],
             [
              1,
              "#f0f921"
             ]
            ],
            "type": "surface"
           }
          ],
          "table": [
           {
            "cells": {
             "fill": {
              "color": "#EBF0F8"
             },
             "line": {
              "color": "white"
             }
            },
            "header": {
             "fill": {
              "color": "#C8D4E3"
             },
             "line": {
              "color": "white"
             }
            },
            "type": "table"
           }
          ]
         },
         "layout": {
          "annotationdefaults": {
           "arrowcolor": "#2a3f5f",
           "arrowhead": 0,
           "arrowwidth": 1
          },
          "autotypenumbers": "strict",
          "coloraxis": {
           "colorbar": {
            "outlinewidth": 0,
            "ticks": ""
           }
          },
          "colorscale": {
           "diverging": [
            [
             0,
             "#8e0152"
            ],
            [
             0.1,
             "#c51b7d"
            ],
            [
             0.2,
             "#de77ae"
            ],
            [
             0.3,
             "#f1b6da"
            ],
            [
             0.4,
             "#fde0ef"
            ],
            [
             0.5,
             "#f7f7f7"
            ],
            [
             0.6,
             "#e6f5d0"
            ],
            [
             0.7,
             "#b8e186"
            ],
            [
             0.8,
             "#7fbc41"
            ],
            [
             0.9,
             "#4d9221"
            ],
            [
             1,
             "#276419"
            ]
           ],
           "sequential": [
            [
             0,
             "#0d0887"
            ],
            [
             0.1111111111111111,
             "#46039f"
            ],
            [
             0.2222222222222222,
             "#7201a8"
            ],
            [
             0.3333333333333333,
             "#9c179e"
            ],
            [
             0.4444444444444444,
             "#bd3786"
            ],
            [
             0.5555555555555556,
             "#d8576b"
            ],
            [
             0.6666666666666666,
             "#ed7953"
            ],
            [
             0.7777777777777778,
             "#fb9f3a"
            ],
            [
             0.8888888888888888,
             "#fdca26"
            ],
            [
             1,
             "#f0f921"
            ]
           ],
           "sequentialminus": [
            [
             0,
             "#0d0887"
            ],
            [
             0.1111111111111111,
             "#46039f"
            ],
            [
             0.2222222222222222,
             "#7201a8"
            ],
            [
             0.3333333333333333,
             "#9c179e"
            ],
            [
             0.4444444444444444,
             "#bd3786"
            ],
            [
             0.5555555555555556,
             "#d8576b"
            ],
            [
             0.6666666666666666,
             "#ed7953"
            ],
            [
             0.7777777777777778,
             "#fb9f3a"
            ],
            [
             0.8888888888888888,
             "#fdca26"
            ],
            [
             1,
             "#f0f921"
            ]
           ]
          },
          "colorway": [
           "#636efa",
           "#EF553B",
           "#00cc96",
           "#ab63fa",
           "#FFA15A",
           "#19d3f3",
           "#FF6692",
           "#B6E880",
           "#FF97FF",
           "#FECB52"
          ],
          "font": {
           "color": "#2a3f5f"
          },
          "geo": {
           "bgcolor": "white",
           "lakecolor": "white",
           "landcolor": "#E5ECF6",
           "showlakes": true,
           "showland": true,
           "subunitcolor": "white"
          },
          "hoverlabel": {
           "align": "left"
          },
          "hovermode": "closest",
          "mapbox": {
           "style": "light"
          },
          "paper_bgcolor": "white",
          "plot_bgcolor": "#E5ECF6",
          "polar": {
           "angularaxis": {
            "gridcolor": "white",
            "linecolor": "white",
            "ticks": ""
           },
           "bgcolor": "#E5ECF6",
           "radialaxis": {
            "gridcolor": "white",
            "linecolor": "white",
            "ticks": ""
           }
          },
          "scene": {
           "xaxis": {
            "backgroundcolor": "#E5ECF6",
            "gridcolor": "white",
            "gridwidth": 2,
            "linecolor": "white",
            "showbackground": true,
            "ticks": "",
            "zerolinecolor": "white"
           },
           "yaxis": {
            "backgroundcolor": "#E5ECF6",
            "gridcolor": "white",
            "gridwidth": 2,
            "linecolor": "white",
            "showbackground": true,
            "ticks": "",
            "zerolinecolor": "white"
           },
           "zaxis": {
            "backgroundcolor": "#E5ECF6",
            "gridcolor": "white",
            "gridwidth": 2,
            "linecolor": "white",
            "showbackground": true,
            "ticks": "",
            "zerolinecolor": "white"
           }
          },
          "shapedefaults": {
           "line": {
            "color": "#2a3f5f"
           }
          },
          "ternary": {
           "aaxis": {
            "gridcolor": "white",
            "linecolor": "white",
            "ticks": ""
           },
           "baxis": {
            "gridcolor": "white",
            "linecolor": "white",
            "ticks": ""
           },
           "bgcolor": "#E5ECF6",
           "caxis": {
            "gridcolor": "white",
            "linecolor": "white",
            "ticks": ""
           }
          },
          "title": {
           "x": 0.05
          },
          "xaxis": {
           "automargin": true,
           "gridcolor": "white",
           "linecolor": "white",
           "ticks": "",
           "title": {
            "standoff": 15
           },
           "zerolinecolor": "white",
           "zerolinewidth": 2
          },
          "yaxis": {
           "automargin": true,
           "gridcolor": "white",
           "linecolor": "white",
           "ticks": "",
           "title": {
            "standoff": 15
           },
           "zerolinecolor": "white",
           "zerolinewidth": 2
          }
         }
        },
        "title": {
         "text": "category Frequency"
        },
        "xaxis": {
         "anchor": "y",
         "domain": [
          0,
          1
         ],
         "tickangle": 45,
         "title": {
          "text": "category"
         }
        },
        "yaxis": {
         "anchor": "x",
         "domain": [
          0,
          1
         ],
         "title": {
          "text": "记录数"
         }
        }
       }
      }
     },
     "metadata": {},
     "output_type": "display_data"
    }
   ],
   "source": [
    "# 不同种类的 记录数量 分布 \n",
    "category_counts = data['category'].value_counts().reset_index()\n",
    "category_counts.columns = ['category', 'count']\n",
    "\n",
    "# 创建动态图表\n",
    "fig = px.bar(category_counts, x='category', y='count', title='category Frequency', \n",
    "             labels={'count': '记录数', 'category': 'category'},\n",
    "             text='count')\n",
    "fig.update_layout(\n",
    "    xaxis=dict(tickangle=45)\n",
    ")\n",
    "# 显示图表\n",
    "fig.show()"
   ]
  },
  {
   "cell_type": "code",
   "execution_count": 105,
   "metadata": {},
   "outputs": [
    {
     "data": {
      "application/vnd.plotly.v1+json": {
       "config": {
        "plotlyServerURL": "https://plot.ly"
       },
       "data": [
        {
         "alignmentgroup": "True",
         "hovertemplate": "category=%{x}<br>商品数=%{text}<extra></extra>",
         "legendgroup": "",
         "marker": {
          "color": "#636efa",
          "pattern": {
           "shape": ""
          }
         },
         "name": "",
         "offsetgroup": "",
         "orientation": "v",
         "showlegend": false,
         "text": [
          2167,
          1674,
          880,
          529,
          479,
          382,
          378,
          343,
          323,
          308,
          285,
          251,
          236,
          215,
          196,
          186,
          179,
          178,
          177,
          169,
          165,
          165,
          162,
          152,
          147,
          147,
          146,
          144,
          137,
          137,
          131,
          129,
          124,
          108,
          100,
          93,
          84,
          69,
          64,
          60,
          55,
          54,
          48,
          46,
          34,
          29,
          20,
          19,
          16,
          16,
          11,
          10,
          2
         ],
         "textposition": "auto",
         "type": "bar",
         "x": [
          "Phone",
          "Coat",
          "Tea",
          "Notebook",
          "Tablet",
          "Candy",
          "Necklace",
          "Cookie",
          "Foundation Make-up",
          "Face Cream",
          "Facial Essence",
          "Digital Camera",
          "Bed",
          "Air Conditioner",
          "Perfume",
          "Makerup Water",
          "Eye Shadow",
          "Washing Machine",
          "Induction Cooker",
          "Lipstick",
          "Milk",
          "Facial Moisturizer",
          "Milk Power",
          "Sofa",
          "Rice Cooker",
          "Bracelet",
          "Light",
          "Xbox",
          "Football",
          "Television",
          "Refrigerator",
          "Facial Mask",
          "Coffee",
          "Sunscreen Cream",
          "Badminton",
          "Electric Kettle",
          "Nut",
          "Basketball",
          "Potatio Chips",
          "Sport Suit",
          "Running Shoes",
          "Chocolate",
          "Cake",
          "Ring",
          "Jeans",
          "Oatmeal",
          "Basketball Shoes",
          "Sweater",
          "Skirt",
          "T Shirt",
          "Pants",
          "Ipad",
          "Other"
         ],
         "xaxis": "x",
         "y": [
          2167,
          1674,
          880,
          529,
          479,
          382,
          378,
          343,
          323,
          308,
          285,
          251,
          236,
          215,
          196,
          186,
          179,
          178,
          177,
          169,
          165,
          165,
          162,
          152,
          147,
          147,
          146,
          144,
          137,
          137,
          131,
          129,
          124,
          108,
          100,
          93,
          84,
          69,
          64,
          60,
          55,
          54,
          48,
          46,
          34,
          29,
          20,
          19,
          16,
          16,
          11,
          10,
          2
         ],
         "yaxis": "y"
        }
       ],
       "layout": {
        "barmode": "relative",
        "legend": {
         "tracegroupgap": 0
        },
        "template": {
         "data": {
          "bar": [
           {
            "error_x": {
             "color": "#2a3f5f"
            },
            "error_y": {
             "color": "#2a3f5f"
            },
            "marker": {
             "line": {
              "color": "#E5ECF6",
              "width": 0.5
             },
             "pattern": {
              "fillmode": "overlay",
              "size": 10,
              "solidity": 0.2
             }
            },
            "type": "bar"
           }
          ],
          "barpolar": [
           {
            "marker": {
             "line": {
              "color": "#E5ECF6",
              "width": 0.5
             },
             "pattern": {
              "fillmode": "overlay",
              "size": 10,
              "solidity": 0.2
             }
            },
            "type": "barpolar"
           }
          ],
          "carpet": [
           {
            "aaxis": {
             "endlinecolor": "#2a3f5f",
             "gridcolor": "white",
             "linecolor": "white",
             "minorgridcolor": "white",
             "startlinecolor": "#2a3f5f"
            },
            "baxis": {
             "endlinecolor": "#2a3f5f",
             "gridcolor": "white",
             "linecolor": "white",
             "minorgridcolor": "white",
             "startlinecolor": "#2a3f5f"
            },
            "type": "carpet"
           }
          ],
          "choropleth": [
           {
            "colorbar": {
             "outlinewidth": 0,
             "ticks": ""
            },
            "type": "choropleth"
           }
          ],
          "contour": [
           {
            "colorbar": {
             "outlinewidth": 0,
             "ticks": ""
            },
            "colorscale": [
             [
              0,
              "#0d0887"
             ],
             [
              0.1111111111111111,
              "#46039f"
             ],
             [
              0.2222222222222222,
              "#7201a8"
             ],
             [
              0.3333333333333333,
              "#9c179e"
             ],
             [
              0.4444444444444444,
              "#bd3786"
             ],
             [
              0.5555555555555556,
              "#d8576b"
             ],
             [
              0.6666666666666666,
              "#ed7953"
             ],
             [
              0.7777777777777778,
              "#fb9f3a"
             ],
             [
              0.8888888888888888,
              "#fdca26"
             ],
             [
              1,
              "#f0f921"
             ]
            ],
            "type": "contour"
           }
          ],
          "contourcarpet": [
           {
            "colorbar": {
             "outlinewidth": 0,
             "ticks": ""
            },
            "type": "contourcarpet"
           }
          ],
          "heatmap": [
           {
            "colorbar": {
             "outlinewidth": 0,
             "ticks": ""
            },
            "colorscale": [
             [
              0,
              "#0d0887"
             ],
             [
              0.1111111111111111,
              "#46039f"
             ],
             [
              0.2222222222222222,
              "#7201a8"
             ],
             [
              0.3333333333333333,
              "#9c179e"
             ],
             [
              0.4444444444444444,
              "#bd3786"
             ],
             [
              0.5555555555555556,
              "#d8576b"
             ],
             [
              0.6666666666666666,
              "#ed7953"
             ],
             [
              0.7777777777777778,
              "#fb9f3a"
             ],
             [
              0.8888888888888888,
              "#fdca26"
             ],
             [
              1,
              "#f0f921"
             ]
            ],
            "type": "heatmap"
           }
          ],
          "heatmapgl": [
           {
            "colorbar": {
             "outlinewidth": 0,
             "ticks": ""
            },
            "colorscale": [
             [
              0,
              "#0d0887"
             ],
             [
              0.1111111111111111,
              "#46039f"
             ],
             [
              0.2222222222222222,
              "#7201a8"
             ],
             [
              0.3333333333333333,
              "#9c179e"
             ],
             [
              0.4444444444444444,
              "#bd3786"
             ],
             [
              0.5555555555555556,
              "#d8576b"
             ],
             [
              0.6666666666666666,
              "#ed7953"
             ],
             [
              0.7777777777777778,
              "#fb9f3a"
             ],
             [
              0.8888888888888888,
              "#fdca26"
             ],
             [
              1,
              "#f0f921"
             ]
            ],
            "type": "heatmapgl"
           }
          ],
          "histogram": [
           {
            "marker": {
             "pattern": {
              "fillmode": "overlay",
              "size": 10,
              "solidity": 0.2
             }
            },
            "type": "histogram"
           }
          ],
          "histogram2d": [
           {
            "colorbar": {
             "outlinewidth": 0,
             "ticks": ""
            },
            "colorscale": [
             [
              0,
              "#0d0887"
             ],
             [
              0.1111111111111111,
              "#46039f"
             ],
             [
              0.2222222222222222,
              "#7201a8"
             ],
             [
              0.3333333333333333,
              "#9c179e"
             ],
             [
              0.4444444444444444,
              "#bd3786"
             ],
             [
              0.5555555555555556,
              "#d8576b"
             ],
             [
              0.6666666666666666,
              "#ed7953"
             ],
             [
              0.7777777777777778,
              "#fb9f3a"
             ],
             [
              0.8888888888888888,
              "#fdca26"
             ],
             [
              1,
              "#f0f921"
             ]
            ],
            "type": "histogram2d"
           }
          ],
          "histogram2dcontour": [
           {
            "colorbar": {
             "outlinewidth": 0,
             "ticks": ""
            },
            "colorscale": [
             [
              0,
              "#0d0887"
             ],
             [
              0.1111111111111111,
              "#46039f"
             ],
             [
              0.2222222222222222,
              "#7201a8"
             ],
             [
              0.3333333333333333,
              "#9c179e"
             ],
             [
              0.4444444444444444,
              "#bd3786"
             ],
             [
              0.5555555555555556,
              "#d8576b"
             ],
             [
              0.6666666666666666,
              "#ed7953"
             ],
             [
              0.7777777777777778,
              "#fb9f3a"
             ],
             [
              0.8888888888888888,
              "#fdca26"
             ],
             [
              1,
              "#f0f921"
             ]
            ],
            "type": "histogram2dcontour"
           }
          ],
          "mesh3d": [
           {
            "colorbar": {
             "outlinewidth": 0,
             "ticks": ""
            },
            "type": "mesh3d"
           }
          ],
          "parcoords": [
           {
            "line": {
             "colorbar": {
              "outlinewidth": 0,
              "ticks": ""
             }
            },
            "type": "parcoords"
           }
          ],
          "pie": [
           {
            "automargin": true,
            "type": "pie"
           }
          ],
          "scatter": [
           {
            "fillpattern": {
             "fillmode": "overlay",
             "size": 10,
             "solidity": 0.2
            },
            "type": "scatter"
           }
          ],
          "scatter3d": [
           {
            "line": {
             "colorbar": {
              "outlinewidth": 0,
              "ticks": ""
             }
            },
            "marker": {
             "colorbar": {
              "outlinewidth": 0,
              "ticks": ""
             }
            },
            "type": "scatter3d"
           }
          ],
          "scattercarpet": [
           {
            "marker": {
             "colorbar": {
              "outlinewidth": 0,
              "ticks": ""
             }
            },
            "type": "scattercarpet"
           }
          ],
          "scattergeo": [
           {
            "marker": {
             "colorbar": {
              "outlinewidth": 0,
              "ticks": ""
             }
            },
            "type": "scattergeo"
           }
          ],
          "scattergl": [
           {
            "marker": {
             "colorbar": {
              "outlinewidth": 0,
              "ticks": ""
             }
            },
            "type": "scattergl"
           }
          ],
          "scattermapbox": [
           {
            "marker": {
             "colorbar": {
              "outlinewidth": 0,
              "ticks": ""
             }
            },
            "type": "scattermapbox"
           }
          ],
          "scatterpolar": [
           {
            "marker": {
             "colorbar": {
              "outlinewidth": 0,
              "ticks": ""
             }
            },
            "type": "scatterpolar"
           }
          ],
          "scatterpolargl": [
           {
            "marker": {
             "colorbar": {
              "outlinewidth": 0,
              "ticks": ""
             }
            },
            "type": "scatterpolargl"
           }
          ],
          "scatterternary": [
           {
            "marker": {
             "colorbar": {
              "outlinewidth": 0,
              "ticks": ""
             }
            },
            "type": "scatterternary"
           }
          ],
          "surface": [
           {
            "colorbar": {
             "outlinewidth": 0,
             "ticks": ""
            },
            "colorscale": [
             [
              0,
              "#0d0887"
             ],
             [
              0.1111111111111111,
              "#46039f"
             ],
             [
              0.2222222222222222,
              "#7201a8"
             ],
             [
              0.3333333333333333,
              "#9c179e"
             ],
             [
              0.4444444444444444,
              "#bd3786"
             ],
             [
              0.5555555555555556,
              "#d8576b"
             ],
             [
              0.6666666666666666,
              "#ed7953"
             ],
             [
              0.7777777777777778,
              "#fb9f3a"
             ],
             [
              0.8888888888888888,
              "#fdca26"
             ],
             [
              1,
              "#f0f921"
             ]
            ],
            "type": "surface"
           }
          ],
          "table": [
           {
            "cells": {
             "fill": {
              "color": "#EBF0F8"
             },
             "line": {
              "color": "white"
             }
            },
            "header": {
             "fill": {
              "color": "#C8D4E3"
             },
             "line": {
              "color": "white"
             }
            },
            "type": "table"
           }
          ]
         },
         "layout": {
          "annotationdefaults": {
           "arrowcolor": "#2a3f5f",
           "arrowhead": 0,
           "arrowwidth": 1
          },
          "autotypenumbers": "strict",
          "coloraxis": {
           "colorbar": {
            "outlinewidth": 0,
            "ticks": ""
           }
          },
          "colorscale": {
           "diverging": [
            [
             0,
             "#8e0152"
            ],
            [
             0.1,
             "#c51b7d"
            ],
            [
             0.2,
             "#de77ae"
            ],
            [
             0.3,
             "#f1b6da"
            ],
            [
             0.4,
             "#fde0ef"
            ],
            [
             0.5,
             "#f7f7f7"
            ],
            [
             0.6,
             "#e6f5d0"
            ],
            [
             0.7,
             "#b8e186"
            ],
            [
             0.8,
             "#7fbc41"
            ],
            [
             0.9,
             "#4d9221"
            ],
            [
             1,
             "#276419"
            ]
           ],
           "sequential": [
            [
             0,
             "#0d0887"
            ],
            [
             0.1111111111111111,
             "#46039f"
            ],
            [
             0.2222222222222222,
             "#7201a8"
            ],
            [
             0.3333333333333333,
             "#9c179e"
            ],
            [
             0.4444444444444444,
             "#bd3786"
            ],
            [
             0.5555555555555556,
             "#d8576b"
            ],
            [
             0.6666666666666666,
             "#ed7953"
            ],
            [
             0.7777777777777778,
             "#fb9f3a"
            ],
            [
             0.8888888888888888,
             "#fdca26"
            ],
            [
             1,
             "#f0f921"
            ]
           ],
           "sequentialminus": [
            [
             0,
             "#0d0887"
            ],
            [
             0.1111111111111111,
             "#46039f"
            ],
            [
             0.2222222222222222,
             "#7201a8"
            ],
            [
             0.3333333333333333,
             "#9c179e"
            ],
            [
             0.4444444444444444,
             "#bd3786"
            ],
            [
             0.5555555555555556,
             "#d8576b"
            ],
            [
             0.6666666666666666,
             "#ed7953"
            ],
            [
             0.7777777777777778,
             "#fb9f3a"
            ],
            [
             0.8888888888888888,
             "#fdca26"
            ],
            [
             1,
             "#f0f921"
            ]
           ]
          },
          "colorway": [
           "#636efa",
           "#EF553B",
           "#00cc96",
           "#ab63fa",
           "#FFA15A",
           "#19d3f3",
           "#FF6692",
           "#B6E880",
           "#FF97FF",
           "#FECB52"
          ],
          "font": {
           "color": "#2a3f5f"
          },
          "geo": {
           "bgcolor": "white",
           "lakecolor": "white",
           "landcolor": "#E5ECF6",
           "showlakes": true,
           "showland": true,
           "subunitcolor": "white"
          },
          "hoverlabel": {
           "align": "left"
          },
          "hovermode": "closest",
          "mapbox": {
           "style": "light"
          },
          "paper_bgcolor": "white",
          "plot_bgcolor": "#E5ECF6",
          "polar": {
           "angularaxis": {
            "gridcolor": "white",
            "linecolor": "white",
            "ticks": ""
           },
           "bgcolor": "#E5ECF6",
           "radialaxis": {
            "gridcolor": "white",
            "linecolor": "white",
            "ticks": ""
           }
          },
          "scene": {
           "xaxis": {
            "backgroundcolor": "#E5ECF6",
            "gridcolor": "white",
            "gridwidth": 2,
            "linecolor": "white",
            "showbackground": true,
            "ticks": "",
            "zerolinecolor": "white"
           },
           "yaxis": {
            "backgroundcolor": "#E5ECF6",
            "gridcolor": "white",
            "gridwidth": 2,
            "linecolor": "white",
            "showbackground": true,
            "ticks": "",
            "zerolinecolor": "white"
           },
           "zaxis": {
            "backgroundcolor": "#E5ECF6",
            "gridcolor": "white",
            "gridwidth": 2,
            "linecolor": "white",
            "showbackground": true,
            "ticks": "",
            "zerolinecolor": "white"
           }
          },
          "shapedefaults": {
           "line": {
            "color": "#2a3f5f"
           }
          },
          "ternary": {
           "aaxis": {
            "gridcolor": "white",
            "linecolor": "white",
            "ticks": ""
           },
           "baxis": {
            "gridcolor": "white",
            "linecolor": "white",
            "ticks": ""
           },
           "bgcolor": "#E5ECF6",
           "caxis": {
            "gridcolor": "white",
            "linecolor": "white",
            "ticks": ""
           }
          },
          "title": {
           "x": 0.05
          },
          "xaxis": {
           "automargin": true,
           "gridcolor": "white",
           "linecolor": "white",
           "ticks": "",
           "title": {
            "standoff": 15
           },
           "zerolinecolor": "white",
           "zerolinewidth": 2
          },
          "yaxis": {
           "automargin": true,
           "gridcolor": "white",
           "linecolor": "white",
           "ticks": "",
           "title": {
            "standoff": 15
           },
           "zerolinecolor": "white",
           "zerolinewidth": 2
          }
         }
        },
        "title": {
         "text": "category Frequency"
        },
        "xaxis": {
         "anchor": "y",
         "domain": [
          0,
          1
         ],
         "tickangle": 45,
         "title": {
          "text": "category"
         }
        },
        "yaxis": {
         "anchor": "x",
         "domain": [
          0,
          1
         ],
         "title": {
          "text": "商品数"
         }
        }
       }
      }
     },
     "metadata": {},
     "output_type": "display_data"
    }
   ],
   "source": [
    "#  不同种类的 商品数量 分布 \n",
    "category_counts = data.groupby(['category'])['product_id'].nunique().sort_values(ascending=False).reset_index()\n",
    "category_counts.columns = ['category', 'count']\n",
    "\n",
    "# 创建动态图表\n",
    "fig = px.bar(category_counts, x='category', y='count', title='category Frequency', \n",
    "             labels={'count': '商品数', 'category': 'category'},\n",
    "             text='count')\n",
    "fig.update_layout(\n",
    "    xaxis=dict(tickangle=45)\n",
    ")\n",
    "# 显示图表\n",
    "fig.show()"
   ]
  },
  {
   "cell_type": "markdown",
   "metadata": {},
   "source": [
    "### product_market_date\n",
    "- 产品上市日期\n"
   ]
  },
  {
   "cell_type": "code",
   "execution_count": 106,
   "metadata": {},
   "outputs": [
    {
     "name": "stdout",
     "output_type": "stream",
     "text": [
      "最早日期： 2008-05-16\n",
      "最晚日期： 2018-04-14\n"
     ]
    }
   ],
   "source": [
    "# 时间范围\n",
    "print(\"最早日期：\",data['product_market_date'].min().date())\n",
    "print(\"最晚日期：\",data['product_market_date'].max().date())"
   ]
  },
  {
   "cell_type": "code",
   "execution_count": 107,
   "metadata": {},
   "outputs": [
    {
     "data": {
      "text/plain": [
       "product_market_date\n",
       "2008       5\n",
       "2009      43\n",
       "2010     303\n",
       "2011     261\n",
       "2012     548\n",
       "2013     780\n",
       "2014    1347\n",
       "2015    2391\n",
       "2016    4463\n",
       "2017    8011\n",
       "2018    2322\n",
       "Name: product_id, dtype: int64"
      ]
     },
     "execution_count": 107,
     "metadata": {},
     "output_type": "execute_result"
    }
   ],
   "source": [
    "# 不同年份的商品 记录数\n",
    "data.groupby(data['product_market_date'].dt.year)['product_id'].size()"
   ]
  },
  {
   "cell_type": "code",
   "execution_count": 108,
   "metadata": {},
   "outputs": [
    {
     "name": "stdout",
     "output_type": "stream",
     "text": [
      "product_market_date\n",
      "2008       2\n",
      "2009      19\n",
      "2010     112\n",
      "2011     108\n",
      "2012     239\n",
      "2013     429\n",
      "2014     713\n",
      "2015    1420\n",
      "2016    2646\n",
      "2017    5131\n",
      "2018    1540\n",
      "Name: product_id, dtype: int64\n"
     ]
    }
   ],
   "source": [
    "# 不同年份的商品 商品数\n",
    "print(data.groupby(data['product_market_date'].dt.year)['product_id'].nunique())"
   ]
  },
  {
   "cell_type": "markdown",
   "metadata": {},
   "source": [
    "## 用户行为"
   ]
  },
  {
   "cell_type": "markdown",
   "metadata": {},
   "source": [
    "### customer_id \n",
    "- 去重后用户数: 18379\n"
   ]
  },
  {
   "cell_type": "code",
   "execution_count": 109,
   "metadata": {},
   "outputs": [
    {
     "data": {
      "text/plain": [
       "18379"
      ]
     },
     "execution_count": 109,
     "metadata": {},
     "output_type": "execute_result"
    }
   ],
   "source": [
    "# 去重后用户数\n",
    "data['customer_id'].nunique()"
   ]
  },
  {
   "cell_type": "markdown",
   "metadata": {},
   "source": [
    "### product_id\n",
    "- 去重后商品数: 12359"
   ]
  },
  {
   "cell_type": "code",
   "execution_count": 110,
   "metadata": {},
   "outputs": [
    {
     "data": {
      "text/plain": [
       "12359"
      ]
     },
     "execution_count": 110,
     "metadata": {},
     "output_type": "execute_result"
    }
   ],
   "source": [
    "# 去重后商品数\n",
    "data['product_id'].nunique()"
   ]
  },
  {
   "cell_type": "markdown",
   "metadata": {},
   "source": [
    "### action_date  \n",
    "- datetime类型，从2018-4-8到2018-4-15"
   ]
  },
  {
   "cell_type": "code",
   "execution_count": 112,
   "metadata": {},
   "outputs": [
    {
     "name": "stdout",
     "output_type": "stream",
     "text": [
      "最早日期： 2018-04-08\n",
      "最晚日期： 2018-04-15\n",
      "\n"
     ]
    }
   ],
   "source": [
    "# 时间范围\n",
    "print(\"最早日期：\",data['action_date'].min().date())\n",
    "print(\"最晚日期：\",data['action_date'].max().date(),end='\\n\\n')"
   ]
  },
  {
   "cell_type": "markdown",
   "metadata": {},
   "source": [
    "### type \n",
    "- 行为类别，有PageView,Follow,SaveCart,Order,Comment这5种取值\n",
    "- 用户路径正常了"
   ]
  },
  {
   "cell_type": "code",
   "execution_count": 113,
   "metadata": {},
   "outputs": [
    {
     "name": "stdout",
     "output_type": "stream",
     "text": [
      "type\n",
      "PageView     15485\n",
      "SavedCart     2987\n",
      "Order         1229\n",
      "Comment        515\n",
      "Follow         258\n",
      "Name: count, dtype: int64\n"
     ]
    }
   ],
   "source": [
    "# 行为类型的分布情况\n",
    "print(data['type'].value_counts())"
   ]
  }
 ],
 "metadata": {
  "kernelspec": {
   "display_name": "pytorch",
   "language": "python",
   "name": "python3"
  },
  "language_info": {
   "codemirror_mode": {
    "name": "ipython",
    "version": 3
   },
   "file_extension": ".py",
   "mimetype": "text/x-python",
   "name": "python",
   "nbconvert_exporter": "python",
   "pygments_lexer": "ipython3",
   "version": "3.11.5"
  }
 },
 "nbformat": 4,
 "nbformat_minor": 2
}
