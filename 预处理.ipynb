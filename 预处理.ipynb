{
 "cells": [
  {
   "cell_type": "code",
   "execution_count": 1,
   "metadata": {},
   "outputs": [],
   "source": [
    "import numpy as np\n",
    "import pandas as pd\n",
    "\n",
    "# 让画图内置\n",
    "import matplotlib.pyplot as plt\n",
    "import seaborn as sns\n",
    "%matplotlib inline\n",
    "\n",
    "# 忽略版本号之类的warnings\n",
    "import warnings\n",
    "warnings.filterwarnings('ignore')\n",
    "import os"
   ]
  },
  {
   "cell_type": "markdown",
   "metadata": {},
   "source": [
    "# 数据导入"
   ]
  },
  {
   "cell_type": "code",
   "execution_count": 2,
   "metadata": {},
   "outputs": [],
   "source": [
    "# 导入数据\n",
    "original_data = pd.read_excel('JD_data\\京东消费者分析数据.xlsx')"
   ]
  },
  {
   "cell_type": "code",
   "execution_count": 3,
   "metadata": {},
   "outputs": [
    {
     "data": {
      "text/plain": [
       "(183828, 20)"
      ]
     },
     "execution_count": 3,
     "metadata": {},
     "output_type": "execute_result"
    }
   ],
   "source": [
    "# 数据量\n",
    "data = original_data.copy()\n",
    "data.shape"
   ]
  },
  {
   "cell_type": "code",
   "execution_count": 4,
   "metadata": {},
   "outputs": [
    {
     "data": {
      "text/html": [
       "<div>\n",
       "<style scoped>\n",
       "    .dataframe tbody tr th:only-of-type {\n",
       "        vertical-align: middle;\n",
       "    }\n",
       "\n",
       "    .dataframe tbody tr th {\n",
       "        vertical-align: top;\n",
       "    }\n",
       "\n",
       "    .dataframe thead th {\n",
       "        text-align: right;\n",
       "    }\n",
       "</style>\n",
       "<table border=\"1\" class=\"dataframe\">\n",
       "  <thead>\n",
       "    <tr style=\"text-align: right;\">\n",
       "      <th></th>\n",
       "      <th>customer_id</th>\n",
       "      <th>product_id</th>\n",
       "      <th>action_date</th>\n",
       "      <th>action_id</th>\n",
       "      <th>type</th>\n",
       "      <th>age_range</th>\n",
       "      <th>gender</th>\n",
       "      <th>customer_register_date</th>\n",
       "      <th>customer_level</th>\n",
       "      <th>city_level</th>\n",
       "      <th>brand</th>\n",
       "      <th>shop_id</th>\n",
       "      <th>category</th>\n",
       "      <th>product_market_date</th>\n",
       "      <th>vender_id</th>\n",
       "      <th>fans_number</th>\n",
       "      <th>vip_number</th>\n",
       "      <th>shop_register_date</th>\n",
       "      <th>shop_category</th>\n",
       "      <th>shop_score</th>\n",
       "    </tr>\n",
       "  </thead>\n",
       "  <tbody>\n",
       "    <tr>\n",
       "      <th>0</th>\n",
       "      <td>976695</td>\n",
       "      <td>328360</td>\n",
       "      <td>2018-03-05 08:52:00</td>\n",
       "      <td>10633744</td>\n",
       "      <td>PageView</td>\n",
       "      <td>5.0</td>\n",
       "      <td>W</td>\n",
       "      <td>2017-06-17</td>\n",
       "      <td>6</td>\n",
       "      <td>3.0</td>\n",
       "      <td>LukFook</td>\n",
       "      <td>2959</td>\n",
       "      <td>Bracelet</td>\n",
       "      <td>2017-10-05</td>\n",
       "      <td>4322</td>\n",
       "      <td>1159</td>\n",
       "      <td>36596</td>\n",
       "      <td>2017-07-04</td>\n",
       "      <td>Jewellery Accessories</td>\n",
       "      <td>9.043610</td>\n",
       "    </tr>\n",
       "    <tr>\n",
       "      <th>1</th>\n",
       "      <td>395399</td>\n",
       "      <td>141632</td>\n",
       "      <td>2018-03-20 10:55:00</td>\n",
       "      <td>5472028</td>\n",
       "      <td>PageView</td>\n",
       "      <td>4.0</td>\n",
       "      <td>M</td>\n",
       "      <td>2018-01-21</td>\n",
       "      <td>6</td>\n",
       "      <td>5.0</td>\n",
       "      <td>illuma</td>\n",
       "      <td>4203</td>\n",
       "      <td>Milk Power</td>\n",
       "      <td>2015-06-12</td>\n",
       "      <td>3563</td>\n",
       "      <td>2411</td>\n",
       "      <td>65893</td>\n",
       "      <td>2013-08-08</td>\n",
       "      <td>Mother and Infant</td>\n",
       "      <td>9.537151</td>\n",
       "    </tr>\n",
       "    <tr>\n",
       "      <th>2</th>\n",
       "      <td>1068082</td>\n",
       "      <td>5924</td>\n",
       "      <td>2018-04-01 13:56:00</td>\n",
       "      <td>3853455</td>\n",
       "      <td>PageView</td>\n",
       "      <td>6.0</td>\n",
       "      <td>W</td>\n",
       "      <td>2012-08-13</td>\n",
       "      <td>1</td>\n",
       "      <td>4.0</td>\n",
       "      <td>Li-Ning</td>\n",
       "      <td>8002</td>\n",
       "      <td>Badminton</td>\n",
       "      <td>2013-06-14</td>\n",
       "      <td>1457</td>\n",
       "      <td>213610</td>\n",
       "      <td>357580</td>\n",
       "      <td>2013-05-23</td>\n",
       "      <td>Outdoor Sports</td>\n",
       "      <td>9.571139</td>\n",
       "    </tr>\n",
       "    <tr>\n",
       "      <th>3</th>\n",
       "      <td>1068082</td>\n",
       "      <td>10723</td>\n",
       "      <td>2018-04-01 13:45:00</td>\n",
       "      <td>3853455</td>\n",
       "      <td>PageView</td>\n",
       "      <td>6.0</td>\n",
       "      <td>W</td>\n",
       "      <td>2012-08-13</td>\n",
       "      <td>1</td>\n",
       "      <td>4.0</td>\n",
       "      <td>Li-Ning</td>\n",
       "      <td>8002</td>\n",
       "      <td>Badminton</td>\n",
       "      <td>2011-07-19</td>\n",
       "      <td>1457</td>\n",
       "      <td>213610</td>\n",
       "      <td>357580</td>\n",
       "      <td>2013-05-23</td>\n",
       "      <td>Outdoor Sports</td>\n",
       "      <td>9.571139</td>\n",
       "    </tr>\n",
       "    <tr>\n",
       "      <th>4</th>\n",
       "      <td>735392</td>\n",
       "      <td>4559</td>\n",
       "      <td>2018-02-06 20:25:00</td>\n",
       "      <td>9434940</td>\n",
       "      <td>PageView</td>\n",
       "      <td>6.0</td>\n",
       "      <td>M</td>\n",
       "      <td>2009-09-15</td>\n",
       "      <td>7</td>\n",
       "      <td>5.0</td>\n",
       "      <td>Other</td>\n",
       "      <td>6944</td>\n",
       "      <td>Cookie</td>\n",
       "      <td>2015-11-16</td>\n",
       "      <td>355</td>\n",
       "      <td>63969</td>\n",
       "      <td>85597</td>\n",
       "      <td>2014-10-31</td>\n",
       "      <td>Food</td>\n",
       "      <td>9.665680</td>\n",
       "    </tr>\n",
       "  </tbody>\n",
       "</table>\n",
       "</div>"
      ],
      "text/plain": [
       "   customer_id  product_id         action_date  action_id      type  \\\n",
       "0       976695      328360 2018-03-05 08:52:00   10633744  PageView   \n",
       "1       395399      141632 2018-03-20 10:55:00    5472028  PageView   \n",
       "2      1068082        5924 2018-04-01 13:56:00    3853455  PageView   \n",
       "3      1068082       10723 2018-04-01 13:45:00    3853455  PageView   \n",
       "4       735392        4559 2018-02-06 20:25:00    9434940  PageView   \n",
       "\n",
       "   age_range gender customer_register_date  customer_level  city_level  \\\n",
       "0        5.0      W             2017-06-17               6         3.0   \n",
       "1        4.0      M             2018-01-21               6         5.0   \n",
       "2        6.0      W             2012-08-13               1         4.0   \n",
       "3        6.0      W             2012-08-13               1         4.0   \n",
       "4        6.0      M             2009-09-15               7         5.0   \n",
       "\n",
       "     brand  shop_id    category product_market_date  vender_id  fans_number  \\\n",
       "0  LukFook     2959    Bracelet          2017-10-05       4322         1159   \n",
       "1   illuma     4203  Milk Power          2015-06-12       3563         2411   \n",
       "2  Li-Ning     8002   Badminton          2013-06-14       1457       213610   \n",
       "3  Li-Ning     8002   Badminton          2011-07-19       1457       213610   \n",
       "4    Other     6944      Cookie          2015-11-16        355        63969   \n",
       "\n",
       "   vip_number shop_register_date          shop_category  shop_score  \n",
       "0       36596         2017-07-04  Jewellery Accessories    9.043610  \n",
       "1       65893         2013-08-08      Mother and Infant    9.537151  \n",
       "2      357580         2013-05-23         Outdoor Sports    9.571139  \n",
       "3      357580         2013-05-23         Outdoor Sports    9.571139  \n",
       "4       85597         2014-10-31                   Food    9.665680  "
      ]
     },
     "execution_count": 4,
     "metadata": {},
     "output_type": "execute_result"
    }
   ],
   "source": [
    "data.head()"
   ]
  },
  {
   "cell_type": "code",
   "execution_count": 5,
   "metadata": {},
   "outputs": [
    {
     "name": "stdout",
     "output_type": "stream",
     "text": [
      "<class 'pandas.core.frame.DataFrame'>\n",
      "RangeIndex: 183828 entries, 0 to 183827\n",
      "Data columns (total 20 columns):\n",
      " #   Column                  Non-Null Count   Dtype         \n",
      "---  ------                  --------------   -----         \n",
      " 0   customer_id             183828 non-null  int64         \n",
      " 1   product_id              183828 non-null  int64         \n",
      " 2   action_date             183828 non-null  datetime64[ns]\n",
      " 3   action_id               183828 non-null  int64         \n",
      " 4   type                    183828 non-null  object        \n",
      " 5   age_range               183745 non-null  float64       \n",
      " 6   gender                  183828 non-null  object        \n",
      " 7   customer_register_date  183828 non-null  datetime64[ns]\n",
      " 8   customer_level          183828 non-null  int64         \n",
      " 9   city_level              183703 non-null  float64       \n",
      " 10  brand                   183828 non-null  object        \n",
      " 11  shop_id                 183828 non-null  int64         \n",
      " 12  category                183828 non-null  object        \n",
      " 13  product_market_date     183828 non-null  datetime64[ns]\n",
      " 14  vender_id               183828 non-null  int64         \n",
      " 15  fans_number             183828 non-null  int64         \n",
      " 16  vip_number              183828 non-null  int64         \n",
      " 17  shop_register_date      112474 non-null  datetime64[ns]\n",
      " 18  shop_category           183828 non-null  object        \n",
      " 19  shop_score              183828 non-null  float64       \n",
      "dtypes: datetime64[ns](4), float64(3), int64(8), object(5)\n",
      "memory usage: 28.1+ MB\n"
     ]
    }
   ],
   "source": [
    "data.info()"
   ]
  },
  {
   "cell_type": "code",
   "execution_count": 6,
   "metadata": {},
   "outputs": [
    {
     "data": {
      "text/html": [
       "<div>\n",
       "<style scoped>\n",
       "    .dataframe tbody tr th:only-of-type {\n",
       "        vertical-align: middle;\n",
       "    }\n",
       "\n",
       "    .dataframe tbody tr th {\n",
       "        vertical-align: top;\n",
       "    }\n",
       "\n",
       "    .dataframe thead th {\n",
       "        text-align: right;\n",
       "    }\n",
       "</style>\n",
       "<table border=\"1\" class=\"dataframe\">\n",
       "  <thead>\n",
       "    <tr style=\"text-align: right;\">\n",
       "      <th></th>\n",
       "      <th>age_range</th>\n",
       "      <th>customer_level</th>\n",
       "      <th>city_level</th>\n",
       "      <th>fans_number</th>\n",
       "      <th>vip_number</th>\n",
       "      <th>shop_score</th>\n",
       "      <th>action_date</th>\n",
       "      <th>customer_register_date</th>\n",
       "      <th>product_market_date</th>\n",
       "      <th>shop_register_date</th>\n",
       "    </tr>\n",
       "  </thead>\n",
       "  <tbody>\n",
       "    <tr>\n",
       "      <th>count</th>\n",
       "      <td>183745.000000</td>\n",
       "      <td>183828.000000</td>\n",
       "      <td>183703.000000</td>\n",
       "      <td>1.838280e+05</td>\n",
       "      <td>1.838280e+05</td>\n",
       "      <td>183828.000000</td>\n",
       "      <td>183828</td>\n",
       "      <td>183828</td>\n",
       "      <td>183828</td>\n",
       "      <td>112474</td>\n",
       "    </tr>\n",
       "    <tr>\n",
       "      <th>mean</th>\n",
       "      <td>4.680073</td>\n",
       "      <td>4.965734</td>\n",
       "      <td>3.292701</td>\n",
       "      <td>6.925701e+04</td>\n",
       "      <td>1.012062e+05</td>\n",
       "      <td>5.716299</td>\n",
       "      <td>2018-03-08 03:19:10.532345344</td>\n",
       "      <td>2014-07-03 05:31:32.943403520</td>\n",
       "      <td>2016-04-18 23:16:38.524707840</td>\n",
       "      <td>2015-11-13 04:00:30.983160576</td>\n",
       "    </tr>\n",
       "    <tr>\n",
       "      <th>min</th>\n",
       "      <td>1.000000</td>\n",
       "      <td>1.000000</td>\n",
       "      <td>1.000000</td>\n",
       "      <td>0.000000e+00</td>\n",
       "      <td>0.000000e+00</td>\n",
       "      <td>-1.000000</td>\n",
       "      <td>2018-02-01 00:00:00</td>\n",
       "      <td>2003-06-13 00:00:00</td>\n",
       "      <td>2008-05-16 00:00:00</td>\n",
       "      <td>2011-03-14 00:00:00</td>\n",
       "    </tr>\n",
       "    <tr>\n",
       "      <th>25%</th>\n",
       "      <td>5.000000</td>\n",
       "      <td>5.000000</td>\n",
       "      <td>3.000000</td>\n",
       "      <td>0.000000e+00</td>\n",
       "      <td>0.000000e+00</td>\n",
       "      <td>0.000000</td>\n",
       "      <td>2018-02-15 23:00:00</td>\n",
       "      <td>2012-07-30 00:00:00</td>\n",
       "      <td>2015-07-30 00:00:00</td>\n",
       "      <td>2014-11-21 00:00:00</td>\n",
       "    </tr>\n",
       "    <tr>\n",
       "      <th>50%</th>\n",
       "      <td>5.000000</td>\n",
       "      <td>6.000000</td>\n",
       "      <td>4.000000</td>\n",
       "      <td>4.612000e+03</td>\n",
       "      <td>1.330000e+04</td>\n",
       "      <td>9.311070</td>\n",
       "      <td>2018-03-07 21:22:30</td>\n",
       "      <td>2014-10-27 00:00:00</td>\n",
       "      <td>2016-10-25 00:00:00</td>\n",
       "      <td>2016-01-05 00:00:00</td>\n",
       "    </tr>\n",
       "    <tr>\n",
       "      <th>75%</th>\n",
       "      <td>6.000000</td>\n",
       "      <td>7.000000</td>\n",
       "      <td>4.000000</td>\n",
       "      <td>4.319000e+04</td>\n",
       "      <td>9.424900e+04</td>\n",
       "      <td>9.539181</td>\n",
       "      <td>2018-03-25 19:28:00</td>\n",
       "      <td>2016-07-21 00:00:00</td>\n",
       "      <td>2017-08-06 00:00:00</td>\n",
       "      <td>2017-03-09 00:00:00</td>\n",
       "    </tr>\n",
       "    <tr>\n",
       "      <th>max</th>\n",
       "      <td>6.000000</td>\n",
       "      <td>7.000000</td>\n",
       "      <td>6.000000</td>\n",
       "      <td>9.293487e+06</td>\n",
       "      <td>1.384168e+07</td>\n",
       "      <td>10.000000</td>\n",
       "      <td>2018-04-15 23:59:00</td>\n",
       "      <td>2018-04-15 00:00:00</td>\n",
       "      <td>2018-04-14 00:00:00</td>\n",
       "      <td>2018-04-12 00:00:00</td>\n",
       "    </tr>\n",
       "    <tr>\n",
       "      <th>std</th>\n",
       "      <td>1.526474</td>\n",
       "      <td>2.334717</td>\n",
       "      <td>1.411516</td>\n",
       "      <td>2.448230e+05</td>\n",
       "      <td>2.648308e+05</td>\n",
       "      <td>4.653295</td>\n",
       "      <td>NaN</td>\n",
       "      <td>NaN</td>\n",
       "      <td>NaN</td>\n",
       "      <td>NaN</td>\n",
       "    </tr>\n",
       "  </tbody>\n",
       "</table>\n",
       "</div>"
      ],
      "text/plain": [
       "           age_range  customer_level     city_level   fans_number  \\\n",
       "count  183745.000000   183828.000000  183703.000000  1.838280e+05   \n",
       "mean        4.680073        4.965734       3.292701  6.925701e+04   \n",
       "min         1.000000        1.000000       1.000000  0.000000e+00   \n",
       "25%         5.000000        5.000000       3.000000  0.000000e+00   \n",
       "50%         5.000000        6.000000       4.000000  4.612000e+03   \n",
       "75%         6.000000        7.000000       4.000000  4.319000e+04   \n",
       "max         6.000000        7.000000       6.000000  9.293487e+06   \n",
       "std         1.526474        2.334717       1.411516  2.448230e+05   \n",
       "\n",
       "         vip_number     shop_score                    action_date  \\\n",
       "count  1.838280e+05  183828.000000                         183828   \n",
       "mean   1.012062e+05       5.716299  2018-03-08 03:19:10.532345344   \n",
       "min    0.000000e+00      -1.000000            2018-02-01 00:00:00   \n",
       "25%    0.000000e+00       0.000000            2018-02-15 23:00:00   \n",
       "50%    1.330000e+04       9.311070            2018-03-07 21:22:30   \n",
       "75%    9.424900e+04       9.539181            2018-03-25 19:28:00   \n",
       "max    1.384168e+07      10.000000            2018-04-15 23:59:00   \n",
       "std    2.648308e+05       4.653295                            NaN   \n",
       "\n",
       "              customer_register_date            product_market_date  \\\n",
       "count                         183828                         183828   \n",
       "mean   2014-07-03 05:31:32.943403520  2016-04-18 23:16:38.524707840   \n",
       "min              2003-06-13 00:00:00            2008-05-16 00:00:00   \n",
       "25%              2012-07-30 00:00:00            2015-07-30 00:00:00   \n",
       "50%              2014-10-27 00:00:00            2016-10-25 00:00:00   \n",
       "75%              2016-07-21 00:00:00            2017-08-06 00:00:00   \n",
       "max              2018-04-15 00:00:00            2018-04-14 00:00:00   \n",
       "std                              NaN                            NaN   \n",
       "\n",
       "                  shop_register_date  \n",
       "count                         112474  \n",
       "mean   2015-11-13 04:00:30.983160576  \n",
       "min              2011-03-14 00:00:00  \n",
       "25%              2014-11-21 00:00:00  \n",
       "50%              2016-01-05 00:00:00  \n",
       "75%              2017-03-09 00:00:00  \n",
       "max              2018-04-12 00:00:00  \n",
       "std                              NaN  "
      ]
     },
     "execution_count": 6,
     "metadata": {},
     "output_type": "execute_result"
    }
   ],
   "source": [
    "# 有意义的数值型变量的信息\n",
    "data.describe()[['age_range','customer_level','city_level','fans_number','vip_number','shop_score','action_date','customer_register_date','product_market_date','shop_register_date']] "
   ]
  },
  {
   "cell_type": "markdown",
   "metadata": {},
   "source": [
    "- 问题：fans_number最大为 9293487， vip_number最大值为 13841676 是同一个shop 10393 "
   ]
  },
  {
   "cell_type": "markdown",
   "metadata": {},
   "source": [
    "# 预处理"
   ]
  },
  {
   "cell_type": "markdown",
   "metadata": {},
   "source": [
    "## 空值 "
   ]
  },
  {
   "cell_type": "markdown",
   "metadata": {},
   "source": [
    "- shop_register_date 缺失值太多,在研究店铺相关问题时尽量不用"
   ]
  },
  {
   "cell_type": "code",
   "execution_count": 7,
   "metadata": {},
   "outputs": [
    {
     "data": {
      "text/plain": [
       "customer_id                   0\n",
       "product_id                    0\n",
       "action_date                   0\n",
       "action_id                     0\n",
       "type                          0\n",
       "age_range                    83\n",
       "gender                        0\n",
       "customer_register_date        0\n",
       "customer_level                0\n",
       "city_level                  125\n",
       "brand                         0\n",
       "shop_id                       0\n",
       "category                      0\n",
       "product_market_date           0\n",
       "vender_id                     0\n",
       "fans_number                   0\n",
       "vip_number                    0\n",
       "shop_register_date        71354\n",
       "shop_category                 0\n",
       "shop_score                    0\n",
       "dtype: int64"
      ]
     },
     "execution_count": 7,
     "metadata": {},
     "output_type": "execute_result"
    }
   ],
   "source": [
    "data.isnull().sum()"
   ]
  },
  {
   "cell_type": "markdown",
   "metadata": {},
   "source": [
    "**age_range 空值处理**\n",
    "- 可以看到 age_range 为 5 的最多，空值就用 5 填充。"
   ]
  },
  {
   "cell_type": "code",
   "execution_count": 8,
   "metadata": {},
   "outputs": [
    {
     "data": {
      "text/plain": [
       "age_range\n",
       "5.0    80064\n",
       "6.0    59992\n",
       "2.0    16077\n",
       "1.0    14309\n",
       "4.0    13296\n",
       "3.0        7\n",
       "Name: count, dtype: int64"
      ]
     },
     "execution_count": 8,
     "metadata": {},
     "output_type": "execute_result"
    }
   ],
   "source": [
    "data['age_range'].value_counts() # 5 最多"
   ]
  },
  {
   "cell_type": "code",
   "execution_count": 9,
   "metadata": {},
   "outputs": [
    {
     "data": {
      "text/plain": [
       "0"
      ]
     },
     "execution_count": 9,
     "metadata": {},
     "output_type": "execute_result"
    }
   ],
   "source": [
    "data['age_range'].fillna(5, inplace=True)\n",
    "data['age_range'].isnull().sum()   # 0"
   ]
  },
  {
   "cell_type": "markdown",
   "metadata": {},
   "source": [
    "**city_level的空值处理**\n"
   ]
  },
  {
   "cell_type": "code",
   "execution_count": 10,
   "metadata": {},
   "outputs": [],
   "source": [
    "data['city_level'].value_counts() # 4 最多\n",
    "data['age_range'].fillna(4, inplace=True)\n"
   ]
  },
  {
   "cell_type": "markdown",
   "metadata": {},
   "source": [
    "## 重复值"
   ]
  },
  {
   "cell_type": "markdown",
   "metadata": {},
   "source": [
    "**action_id字段**\n",
    "-  照理来说，action_id 应该是主键，表示每个人的行为编号唯一值\n",
    "\n",
    "- 但是 action_id 却有很多重复值，这些重复的 action_id 对应的record却不是完全重复的，需要寻找新的主键"
   ]
  },
  {
   "cell_type": "code",
   "execution_count": 11,
   "metadata": {},
   "outputs": [
    {
     "data": {
      "text/plain": [
       "action_id\n",
       "10439703    9176\n",
       "5335532        7\n",
       "9401782        7\n",
       "9656978        6\n",
       "355392         6\n",
       "8220611        6\n",
       "3022398        6\n",
       "12053          6\n",
       "898733         6\n",
       "2680391        5\n",
       "Name: count, dtype: int64"
      ]
     },
     "execution_count": 11,
     "metadata": {},
     "output_type": "execute_result"
    }
   ],
   "source": [
    "# action_id 也有重复值，不是主键\n",
    "data['action_id'].value_counts()[0:10]"
   ]
  },
  {
   "cell_type": "code",
   "execution_count": 45,
   "metadata": {},
   "outputs": [
    {
     "data": {
      "text/html": [
       "<div>\n",
       "<style scoped>\n",
       "    .dataframe tbody tr th:only-of-type {\n",
       "        vertical-align: middle;\n",
       "    }\n",
       "\n",
       "    .dataframe tbody tr th {\n",
       "        vertical-align: top;\n",
       "    }\n",
       "\n",
       "    .dataframe thead th {\n",
       "        text-align: right;\n",
       "    }\n",
       "</style>\n",
       "<table border=\"1\" class=\"dataframe\">\n",
       "  <thead>\n",
       "    <tr style=\"text-align: right;\">\n",
       "      <th></th>\n",
       "      <th>customer_id</th>\n",
       "      <th>product_id</th>\n",
       "      <th>action_date</th>\n",
       "      <th>action_id</th>\n",
       "      <th>type</th>\n",
       "      <th>age_range</th>\n",
       "      <th>gender</th>\n",
       "      <th>customer_register_date</th>\n",
       "      <th>customer_level</th>\n",
       "      <th>city_level</th>\n",
       "      <th>...</th>\n",
       "      <th>shop_id</th>\n",
       "      <th>category</th>\n",
       "      <th>product_market_date</th>\n",
       "      <th>vender_id</th>\n",
       "      <th>fans_number</th>\n",
       "      <th>vip_number</th>\n",
       "      <th>shop_register_date</th>\n",
       "      <th>shop_category</th>\n",
       "      <th>shop_score</th>\n",
       "      <th>action_day</th>\n",
       "    </tr>\n",
       "  </thead>\n",
       "  <tbody>\n",
       "    <tr>\n",
       "      <th>89941</th>\n",
       "      <td>796801</td>\n",
       "      <td>171645</td>\n",
       "      <td>2018-02-07 18:45:00</td>\n",
       "      <td>10439703</td>\n",
       "      <td>Comment</td>\n",
       "      <td>2.0</td>\n",
       "      <td>M</td>\n",
       "      <td>2015-08-20</td>\n",
       "      <td>5</td>\n",
       "      <td>5.0</td>\n",
       "      <td>...</td>\n",
       "      <td>9445</td>\n",
       "      <td>Phone</td>\n",
       "      <td>2013-05-11</td>\n",
       "      <td>3666</td>\n",
       "      <td>0</td>\n",
       "      <td>0</td>\n",
       "      <td>NaT</td>\n",
       "      <td>Electronics</td>\n",
       "      <td>0.0</td>\n",
       "      <td>2018-02-07</td>\n",
       "    </tr>\n",
       "    <tr>\n",
       "      <th>89942</th>\n",
       "      <td>750076</td>\n",
       "      <td>230884</td>\n",
       "      <td>2018-03-19 14:19:00</td>\n",
       "      <td>10439703</td>\n",
       "      <td>Comment</td>\n",
       "      <td>5.0</td>\n",
       "      <td>M</td>\n",
       "      <td>2014-08-15</td>\n",
       "      <td>5</td>\n",
       "      <td>4.0</td>\n",
       "      <td>...</td>\n",
       "      <td>3388</td>\n",
       "      <td>Phone</td>\n",
       "      <td>2012-03-26</td>\n",
       "      <td>3666</td>\n",
       "      <td>0</td>\n",
       "      <td>0</td>\n",
       "      <td>NaT</td>\n",
       "      <td>Electronics</td>\n",
       "      <td>0.0</td>\n",
       "      <td>2018-03-19</td>\n",
       "    </tr>\n",
       "    <tr>\n",
       "      <th>89943</th>\n",
       "      <td>279373</td>\n",
       "      <td>171645</td>\n",
       "      <td>2018-03-22 16:04:00</td>\n",
       "      <td>10439703</td>\n",
       "      <td>Comment</td>\n",
       "      <td>6.0</td>\n",
       "      <td>M</td>\n",
       "      <td>2010-03-25</td>\n",
       "      <td>7</td>\n",
       "      <td>1.0</td>\n",
       "      <td>...</td>\n",
       "      <td>9445</td>\n",
       "      <td>Phone</td>\n",
       "      <td>2013-05-11</td>\n",
       "      <td>3666</td>\n",
       "      <td>0</td>\n",
       "      <td>0</td>\n",
       "      <td>NaT</td>\n",
       "      <td>Electronics</td>\n",
       "      <td>0.0</td>\n",
       "      <td>2018-03-22</td>\n",
       "    </tr>\n",
       "    <tr>\n",
       "      <th>89944</th>\n",
       "      <td>322424</td>\n",
       "      <td>171645</td>\n",
       "      <td>2018-03-19 08:51:00</td>\n",
       "      <td>10439703</td>\n",
       "      <td>Comment</td>\n",
       "      <td>5.0</td>\n",
       "      <td>M</td>\n",
       "      <td>2011-10-15</td>\n",
       "      <td>5</td>\n",
       "      <td>4.0</td>\n",
       "      <td>...</td>\n",
       "      <td>9445</td>\n",
       "      <td>Phone</td>\n",
       "      <td>2013-05-11</td>\n",
       "      <td>3666</td>\n",
       "      <td>0</td>\n",
       "      <td>0</td>\n",
       "      <td>NaT</td>\n",
       "      <td>Electronics</td>\n",
       "      <td>0.0</td>\n",
       "      <td>2018-03-19</td>\n",
       "    </tr>\n",
       "    <tr>\n",
       "      <th>89945</th>\n",
       "      <td>101163</td>\n",
       "      <td>220537</td>\n",
       "      <td>2018-02-11 00:38:00</td>\n",
       "      <td>10439703</td>\n",
       "      <td>Comment</td>\n",
       "      <td>5.0</td>\n",
       "      <td>W</td>\n",
       "      <td>2015-06-12</td>\n",
       "      <td>5</td>\n",
       "      <td>5.0</td>\n",
       "      <td>...</td>\n",
       "      <td>157</td>\n",
       "      <td>Phone</td>\n",
       "      <td>2013-04-26</td>\n",
       "      <td>3666</td>\n",
       "      <td>0</td>\n",
       "      <td>0</td>\n",
       "      <td>NaT</td>\n",
       "      <td>Electronics</td>\n",
       "      <td>0.0</td>\n",
       "      <td>2018-02-11</td>\n",
       "    </tr>\n",
       "  </tbody>\n",
       "</table>\n",
       "<p>5 rows × 21 columns</p>\n",
       "</div>"
      ],
      "text/plain": [
       "       customer_id  product_id         action_date  action_id     type  \\\n",
       "89941       796801      171645 2018-02-07 18:45:00   10439703  Comment   \n",
       "89942       750076      230884 2018-03-19 14:19:00   10439703  Comment   \n",
       "89943       279373      171645 2018-03-22 16:04:00   10439703  Comment   \n",
       "89944       322424      171645 2018-03-19 08:51:00   10439703  Comment   \n",
       "89945       101163      220537 2018-02-11 00:38:00   10439703  Comment   \n",
       "\n",
       "       age_range gender customer_register_date  customer_level  city_level  \\\n",
       "89941        2.0      M             2015-08-20               5         5.0   \n",
       "89942        5.0      M             2014-08-15               5         4.0   \n",
       "89943        6.0      M             2010-03-25               7         1.0   \n",
       "89944        5.0      M             2011-10-15               5         4.0   \n",
       "89945        5.0      W             2015-06-12               5         5.0   \n",
       "\n",
       "       ... shop_id  category product_market_date vender_id  fans_number  \\\n",
       "89941  ...    9445     Phone          2013-05-11      3666            0   \n",
       "89942  ...    3388     Phone          2012-03-26      3666            0   \n",
       "89943  ...    9445     Phone          2013-05-11      3666            0   \n",
       "89944  ...    9445     Phone          2013-05-11      3666            0   \n",
       "89945  ...     157     Phone          2013-04-26      3666            0   \n",
       "\n",
       "       vip_number  shop_register_date shop_category shop_score  action_day  \n",
       "89941           0                 NaT   Electronics        0.0  2018-02-07  \n",
       "89942           0                 NaT   Electronics        0.0  2018-03-19  \n",
       "89943           0                 NaT   Electronics        0.0  2018-03-22  \n",
       "89944           0                 NaT   Electronics        0.0  2018-03-19  \n",
       "89945           0                 NaT   Electronics        0.0  2018-02-11  \n",
       "\n",
       "[5 rows x 21 columns]"
      ]
     },
     "execution_count": 45,
     "metadata": {},
     "output_type": "execute_result"
    }
   ],
   "source": [
    "# action_id 重复但是记录却不完全重复\n",
    "data.query('action_id == 10439703').iloc[:5,:]"
   ]
  },
  {
   "cell_type": "markdown",
   "metadata": {},
   "source": [
    "**寻找符合主键**\n",
    "- groupby(['customer_id', 'product_id','type','action_date']) 后的数据仅有 2 个重复值, 且这两个重复值除了action_id其他都一样\n",
    "- 可以认为这4个字段组成一个符合主键 ，且这俩记录重复的，删掉即可\n",
    "- 含义就是：用户 在某个时间 对商品 ，做了什么"
   ]
  },
  {
   "cell_type": "code",
   "execution_count": 13,
   "metadata": {},
   "outputs": [
    {
     "data": {
      "text/plain": [
       "customer_id  product_id  type      action_date        \n",
       "767393       86843       PageView  2018-03-26 19:01:00    2\n",
       "dtype: int64"
      ]
     },
     "execution_count": 13,
     "metadata": {},
     "output_type": "execute_result"
    }
   ],
   "source": [
    "# 用groupby找复合主键\n",
    "grouped = data.groupby(['customer_id', 'product_id','type','action_date']).size()\n",
    "grouped[grouped > 1]"
   ]
  },
  {
   "cell_type": "code",
   "execution_count": 14,
   "metadata": {},
   "outputs": [
    {
     "data": {
      "text/html": [
       "<div>\n",
       "<style scoped>\n",
       "    .dataframe tbody tr th:only-of-type {\n",
       "        vertical-align: middle;\n",
       "    }\n",
       "\n",
       "    .dataframe tbody tr th {\n",
       "        vertical-align: top;\n",
       "    }\n",
       "\n",
       "    .dataframe thead th {\n",
       "        text-align: right;\n",
       "    }\n",
       "</style>\n",
       "<table border=\"1\" class=\"dataframe\">\n",
       "  <thead>\n",
       "    <tr style=\"text-align: right;\">\n",
       "      <th></th>\n",
       "      <th>customer_id</th>\n",
       "      <th>product_id</th>\n",
       "      <th>action_date</th>\n",
       "      <th>action_id</th>\n",
       "      <th>type</th>\n",
       "      <th>age_range</th>\n",
       "      <th>gender</th>\n",
       "      <th>customer_register_date</th>\n",
       "      <th>customer_level</th>\n",
       "      <th>city_level</th>\n",
       "      <th>brand</th>\n",
       "      <th>shop_id</th>\n",
       "      <th>category</th>\n",
       "      <th>product_market_date</th>\n",
       "      <th>vender_id</th>\n",
       "      <th>fans_number</th>\n",
       "      <th>vip_number</th>\n",
       "      <th>shop_register_date</th>\n",
       "      <th>shop_category</th>\n",
       "      <th>shop_score</th>\n",
       "    </tr>\n",
       "  </thead>\n",
       "  <tbody>\n",
       "    <tr>\n",
       "      <th>33413</th>\n",
       "      <td>767393</td>\n",
       "      <td>86843</td>\n",
       "      <td>2018-03-26 19:01:00</td>\n",
       "      <td>6861957</td>\n",
       "      <td>PageView</td>\n",
       "      <td>6.0</td>\n",
       "      <td>W</td>\n",
       "      <td>2014-02-12</td>\n",
       "      <td>1</td>\n",
       "      <td>4.0</td>\n",
       "      <td>Microsoft</td>\n",
       "      <td>4296</td>\n",
       "      <td>Xbox</td>\n",
       "      <td>2016-06-14</td>\n",
       "      <td>3666</td>\n",
       "      <td>0</td>\n",
       "      <td>0</td>\n",
       "      <td>NaT</td>\n",
       "      <td>Electronics</td>\n",
       "      <td>0.0</td>\n",
       "    </tr>\n",
       "    <tr>\n",
       "      <th>112372</th>\n",
       "      <td>767393</td>\n",
       "      <td>86843</td>\n",
       "      <td>2018-03-26 19:01:00</td>\n",
       "      <td>8915506</td>\n",
       "      <td>PageView</td>\n",
       "      <td>6.0</td>\n",
       "      <td>W</td>\n",
       "      <td>2014-02-12</td>\n",
       "      <td>1</td>\n",
       "      <td>4.0</td>\n",
       "      <td>Microsoft</td>\n",
       "      <td>4296</td>\n",
       "      <td>Xbox</td>\n",
       "      <td>2016-06-14</td>\n",
       "      <td>3666</td>\n",
       "      <td>0</td>\n",
       "      <td>0</td>\n",
       "      <td>NaT</td>\n",
       "      <td>Electronics</td>\n",
       "      <td>0.0</td>\n",
       "    </tr>\n",
       "  </tbody>\n",
       "</table>\n",
       "</div>"
      ],
      "text/plain": [
       "        customer_id  product_id         action_date  action_id      type  \\\n",
       "33413        767393       86843 2018-03-26 19:01:00    6861957  PageView   \n",
       "112372       767393       86843 2018-03-26 19:01:00    8915506  PageView   \n",
       "\n",
       "        age_range gender customer_register_date  customer_level  city_level  \\\n",
       "33413         6.0      W             2014-02-12               1         4.0   \n",
       "112372        6.0      W             2014-02-12               1         4.0   \n",
       "\n",
       "            brand  shop_id category product_market_date  vender_id  \\\n",
       "33413   Microsoft     4296     Xbox          2016-06-14       3666   \n",
       "112372  Microsoft     4296     Xbox          2016-06-14       3666   \n",
       "\n",
       "        fans_number  vip_number shop_register_date shop_category  shop_score  \n",
       "33413             0           0                NaT   Electronics         0.0  \n",
       "112372            0           0                NaT   Electronics         0.0  "
      ]
     },
     "execution_count": 14,
     "metadata": {},
     "output_type": "execute_result"
    }
   ],
   "source": [
    "data.query(\"customer_id == 767393 and product_id == 86843\")\n",
    "# 这两条记录除了action_id，其他都一样，说明：1.action_id是个傻逼， 2.这两条记录是重复值，应当要删掉"
   ]
  },
  {
   "cell_type": "code",
   "execution_count": 15,
   "metadata": {},
   "outputs": [],
   "source": [
    "# 删除重复值\n",
    "to_be_drop = data.query(\"customer_id == 767393 and product_id == 86843\").iloc[0]\n",
    "data.drop(to_be_drop.name, inplace=True)\n"
   ]
  },
  {
   "cell_type": "code",
   "execution_count": 16,
   "metadata": {},
   "outputs": [
    {
     "data": {
      "text/html": [
       "<div>\n",
       "<style scoped>\n",
       "    .dataframe tbody tr th:only-of-type {\n",
       "        vertical-align: middle;\n",
       "    }\n",
       "\n",
       "    .dataframe tbody tr th {\n",
       "        vertical-align: top;\n",
       "    }\n",
       "\n",
       "    .dataframe thead th {\n",
       "        text-align: right;\n",
       "    }\n",
       "</style>\n",
       "<table border=\"1\" class=\"dataframe\">\n",
       "  <thead>\n",
       "    <tr style=\"text-align: right;\">\n",
       "      <th></th>\n",
       "      <th>customer_id</th>\n",
       "      <th>product_id</th>\n",
       "      <th>action_date</th>\n",
       "      <th>action_id</th>\n",
       "      <th>type</th>\n",
       "      <th>age_range</th>\n",
       "      <th>gender</th>\n",
       "      <th>customer_register_date</th>\n",
       "      <th>customer_level</th>\n",
       "      <th>city_level</th>\n",
       "      <th>brand</th>\n",
       "      <th>shop_id</th>\n",
       "      <th>category</th>\n",
       "      <th>product_market_date</th>\n",
       "      <th>vender_id</th>\n",
       "      <th>fans_number</th>\n",
       "      <th>vip_number</th>\n",
       "      <th>shop_register_date</th>\n",
       "      <th>shop_category</th>\n",
       "      <th>shop_score</th>\n",
       "    </tr>\n",
       "  </thead>\n",
       "  <tbody>\n",
       "    <tr>\n",
       "      <th>112372</th>\n",
       "      <td>767393</td>\n",
       "      <td>86843</td>\n",
       "      <td>2018-03-26 19:01:00</td>\n",
       "      <td>8915506</td>\n",
       "      <td>PageView</td>\n",
       "      <td>6.0</td>\n",
       "      <td>W</td>\n",
       "      <td>2014-02-12</td>\n",
       "      <td>1</td>\n",
       "      <td>4.0</td>\n",
       "      <td>Microsoft</td>\n",
       "      <td>4296</td>\n",
       "      <td>Xbox</td>\n",
       "      <td>2016-06-14</td>\n",
       "      <td>3666</td>\n",
       "      <td>0</td>\n",
       "      <td>0</td>\n",
       "      <td>NaT</td>\n",
       "      <td>Electronics</td>\n",
       "      <td>0.0</td>\n",
       "    </tr>\n",
       "  </tbody>\n",
       "</table>\n",
       "</div>"
      ],
      "text/plain": [
       "        customer_id  product_id         action_date  action_id      type  \\\n",
       "112372       767393       86843 2018-03-26 19:01:00    8915506  PageView   \n",
       "\n",
       "        age_range gender customer_register_date  customer_level  city_level  \\\n",
       "112372        6.0      W             2014-02-12               1         4.0   \n",
       "\n",
       "            brand  shop_id category product_market_date  vender_id  \\\n",
       "112372  Microsoft     4296     Xbox          2016-06-14       3666   \n",
       "\n",
       "        fans_number  vip_number shop_register_date shop_category  shop_score  \n",
       "112372            0           0                NaT   Electronics         0.0  "
      ]
     },
     "execution_count": 16,
     "metadata": {},
     "output_type": "execute_result"
    }
   ],
   "source": [
    "# 确认删除情况\n",
    "data.query(\"customer_id == 767393 and product_id == 86843\")\n",
    "grouped = data.groupby(['customer_id', 'product_id','type','action_date']).size()\n",
    "grouped[grouped > 1]"
   ]
  },
  {
   "cell_type": "markdown",
   "metadata": {},
   "source": [
    "# 异常值探查"
   ]
  },
  {
   "cell_type": "markdown",
   "metadata": {},
   "source": [
    "**字段探查**\n",
    "- 内容：字段有哪些取值？取值范围？取值的分布？\n",
    "\n",
    "- 分类变量：\n",
    "    - 取值多的看取值数量（distinct user_id），\n",
    "    - 取值少的具体的取值（gender 的 value_counts）\n",
    "\n",
    "- 时间变量：\n",
    "    - 看时间范围，按年/月/日的分布，唯一日期/年份数量\n",
    "\n",
    "- 连续变量：看分布，是否存在异常值，是否存在空值\n",
    "\n",
    "- 看数据分布时，用 value_counts；拆解维度的时候再考虑groupby(column)\n"
   ]
  },
  {
   "cell_type": "markdown",
   "metadata": {},
   "source": [
    "## 用户行为"
   ]
  },
  {
   "cell_type": "markdown",
   "metadata": {},
   "source": [
    "**customer_id**  \n",
    "- 去重后用户数: 140715\n"
   ]
  },
  {
   "cell_type": "code",
   "execution_count": 40,
   "metadata": {},
   "outputs": [
    {
     "name": "stdout",
     "output_type": "stream",
     "text": [
      "去重后用户数: 140715\n"
     ]
    }
   ],
   "source": [
    "# 用户数，去重后\n",
    "print(\"去重后用户数:\",data['customer_id'].nunique())"
   ]
  },
  {
   "cell_type": "markdown",
   "metadata": {},
   "source": [
    "**product_id**\n",
    "- 去重后商品数: 52950"
   ]
  },
  {
   "cell_type": "code",
   "execution_count": 41,
   "metadata": {},
   "outputs": [
    {
     "name": "stdout",
     "output_type": "stream",
     "text": [
      "去重后商品数: 52950\n"
     ]
    }
   ],
   "source": [
    "# 商品数，去重后\n",
    "print(\"去重后商品数:\",data['product_id'].nunique())\n"
   ]
  },
  {
   "cell_type": "markdown",
   "metadata": {},
   "source": [
    "**action_date**  \n",
    "- datetime类型,从2018-2-1到2018-4-15"
   ]
  },
  {
   "cell_type": "code",
   "execution_count": 42,
   "metadata": {},
   "outputs": [
    {
     "name": "stdout",
     "output_type": "stream",
     "text": [
      "action_date的格式：\n",
      "0   2018-03-05 08:52:00\n",
      "1   2018-03-20 10:55:00\n",
      "Name: action_date, dtype: datetime64[ns]\n",
      "\n",
      "最早日期： 2018-02-01\n",
      "最晚日期： 2018-04-15\n",
      "\n"
     ]
    }
   ],
   "source": [
    "# action_date探索\n",
    "print(\"action_date的格式：\")\n",
    "print(data['action_date'].head(2),end='\\n\\n')\n",
    "\n",
    "# 时间范围\n",
    "print(\"最早日期：\",data['action_date'].min().date())\n",
    "print(\"最晚日期：\",data['action_date'].max().date(),end='\\n\\n')\n",
    "\n",
    "# 日期分布\n",
    "data['action_date'].dt.date.sort_values().unique().shape[0]  # 74天 每天都有数据"
   ]
  },
  {
   "cell_type": "markdown",
   "metadata": {},
   "source": [
    "**action_id**\n",
    "- 傻逼东西，没用"
   ]
  },
  {
   "cell_type": "markdown",
   "metadata": {},
   "source": [
    "**type** \n",
    "- 行为类别，有PageView,Follow,SaveCart,Order,Comment这5种取值\n",
    "\n",
    "- Order明显比saveCart多，这不符合常理\n",
    "    - 发现 SaveCart 在 2018-4-8之后才有数据，可能是数据错误，也可能是4-8之后才有购物车功能。\n",
    "    -  但是 4-8之后每天SaveCart都比除了PV之外的数据高，不太可能是新增的\n",
    "\n",
    "- Follow数较小，应该指的是收藏店铺 ； Comment指的是评论商品，在购买商品之后 ；用户路径时只需要都不需要考虑 \n",
    "\n",
    "- 需要过滤掉 4-8 之前的数据\n"
   ]
  },
  {
   "cell_type": "code",
   "execution_count": 21,
   "metadata": {},
   "outputs": [
    {
     "name": "stdout",
     "output_type": "stream",
     "text": [
      "行为类型的分布情况\n",
      "type\n",
      "PageView     163953\n",
      "Order         10698\n",
      "Comment        4010\n",
      "SavedCart      2987\n",
      "Follow         2179\n",
      "Name: count, dtype: int64\n"
     ]
    }
   ],
   "source": [
    "# 行为类型的分布情况\n",
    "print(\"行为类型的分布情况\")\n",
    "print(data['type'].value_counts())"
   ]
  },
  {
   "cell_type": "code",
   "execution_count": 22,
   "metadata": {},
   "outputs": [
    {
     "data": {
      "text/html": [
       "<div>\n",
       "<style scoped>\n",
       "    .dataframe tbody tr th:only-of-type {\n",
       "        vertical-align: middle;\n",
       "    }\n",
       "\n",
       "    .dataframe tbody tr th {\n",
       "        vertical-align: top;\n",
       "    }\n",
       "\n",
       "    .dataframe thead th {\n",
       "        text-align: right;\n",
       "    }\n",
       "</style>\n",
       "<table border=\"1\" class=\"dataframe\">\n",
       "  <thead>\n",
       "    <tr style=\"text-align: right;\">\n",
       "      <th>type</th>\n",
       "      <th>Comment</th>\n",
       "      <th>Follow</th>\n",
       "      <th>Order</th>\n",
       "      <th>PageView</th>\n",
       "      <th>SavedCart</th>\n",
       "    </tr>\n",
       "    <tr>\n",
       "      <th>action_day</th>\n",
       "      <th></th>\n",
       "      <th></th>\n",
       "      <th></th>\n",
       "      <th></th>\n",
       "      <th></th>\n",
       "    </tr>\n",
       "  </thead>\n",
       "  <tbody>\n",
       "    <tr>\n",
       "      <th>2018-04-08</th>\n",
       "      <td>70.0</td>\n",
       "      <td>37.0</td>\n",
       "      <td>156.0</td>\n",
       "      <td>1899.0</td>\n",
       "      <td>320.0</td>\n",
       "    </tr>\n",
       "    <tr>\n",
       "      <th>2018-04-09</th>\n",
       "      <td>70.0</td>\n",
       "      <td>32.0</td>\n",
       "      <td>169.0</td>\n",
       "      <td>2069.0</td>\n",
       "      <td>425.0</td>\n",
       "    </tr>\n",
       "    <tr>\n",
       "      <th>2018-04-10</th>\n",
       "      <td>71.0</td>\n",
       "      <td>26.0</td>\n",
       "      <td>156.0</td>\n",
       "      <td>2111.0</td>\n",
       "      <td>421.0</td>\n",
       "    </tr>\n",
       "    <tr>\n",
       "      <th>2018-04-11</th>\n",
       "      <td>75.0</td>\n",
       "      <td>30.0</td>\n",
       "      <td>162.0</td>\n",
       "      <td>2049.0</td>\n",
       "      <td>434.0</td>\n",
       "    </tr>\n",
       "    <tr>\n",
       "      <th>2018-04-12</th>\n",
       "      <td>58.0</td>\n",
       "      <td>31.0</td>\n",
       "      <td>146.0</td>\n",
       "      <td>1850.0</td>\n",
       "      <td>363.0</td>\n",
       "    </tr>\n",
       "    <tr>\n",
       "      <th>2018-04-13</th>\n",
       "      <td>65.0</td>\n",
       "      <td>34.0</td>\n",
       "      <td>146.0</td>\n",
       "      <td>1920.0</td>\n",
       "      <td>354.0</td>\n",
       "    </tr>\n",
       "    <tr>\n",
       "      <th>2018-04-14</th>\n",
       "      <td>56.0</td>\n",
       "      <td>35.0</td>\n",
       "      <td>159.0</td>\n",
       "      <td>1892.0</td>\n",
       "      <td>356.0</td>\n",
       "    </tr>\n",
       "    <tr>\n",
       "      <th>2018-04-15</th>\n",
       "      <td>50.0</td>\n",
       "      <td>33.0</td>\n",
       "      <td>135.0</td>\n",
       "      <td>1695.0</td>\n",
       "      <td>314.0</td>\n",
       "    </tr>\n",
       "  </tbody>\n",
       "</table>\n",
       "</div>"
      ],
      "text/plain": [
       "type        Comment  Follow  Order  PageView  SavedCart\n",
       "action_day                                             \n",
       "2018-04-08     70.0    37.0  156.0    1899.0      320.0\n",
       "2018-04-09     70.0    32.0  169.0    2069.0      425.0\n",
       "2018-04-10     71.0    26.0  156.0    2111.0      421.0\n",
       "2018-04-11     75.0    30.0  162.0    2049.0      434.0\n",
       "2018-04-12     58.0    31.0  146.0    1850.0      363.0\n",
       "2018-04-13     65.0    34.0  146.0    1920.0      354.0\n",
       "2018-04-14     56.0    35.0  159.0    1892.0      356.0\n",
       "2018-04-15     50.0    33.0  135.0    1695.0      314.0"
      ]
     },
     "execution_count": 22,
     "metadata": {},
     "output_type": "execute_result"
    }
   ],
   "source": [
    "# 探究为什么SavedCart的次数比Order的次数少\n",
    "\n",
    "# 新增一列 action_day，表示行为发生的日期\n",
    "data['action_day']  = data['action_date'].apply(lambda x: x.date())\n",
    "\n",
    "# 统计每天每个行为的次数\n",
    "type_count = data.groupby(['action_day', 'type']).size().unstack()\n",
    "type_count\n",
    "\n",
    "# 找到有购物车的记录去日期\n",
    "type_count[type_count['SavedCart'].isnull().apply(lambda x: not x)]\n"
   ]
  },
  {
   "cell_type": "code",
   "execution_count": 23,
   "metadata": {},
   "outputs": [
    {
     "data": {
      "text/plain": [
       "(20474, 21)"
      ]
     },
     "execution_count": 23,
     "metadata": {},
     "output_type": "execute_result"
    }
   ],
   "source": [
    "# 4-8之后的数据只有20474条\n",
    "from datetime import date\n",
    "\n",
    "recent_data = data[data['action_day']>=date(2018, 4, 8)]\n",
    "recent_data.shape\n"
   ]
  },
  {
   "cell_type": "markdown",
   "metadata": {},
   "source": [
    "## 用户信息"
   ]
  },
  {
   "cell_type": "markdown",
   "metadata": {},
   "source": [
    "**age_range**\n",
    "- 有 6 个年龄段，数字代表 1-7"
   ]
  },
  {
   "cell_type": "code",
   "execution_count": 46,
   "metadata": {},
   "outputs": [
    {
     "name": "stdout",
     "output_type": "stream",
     "text": [
      "年龄的分布情况\n",
      "age_range\n",
      "5.0    80147\n",
      "6.0    59991\n",
      "2.0    16077\n",
      "1.0    14309\n",
      "4.0    13296\n",
      "3.0        7\n",
      "Name: count, dtype: int64\n"
     ]
    }
   ],
   "source": [
    "# 年龄的分布情况\n",
    "print(\"年龄的分布情况\")\n",
    "print(data.value_counts('age_range'))"
   ]
  },
  {
   "cell_type": "markdown",
   "metadata": {},
   "source": [
    "**gender**\n",
    "- 性别：男M:120077，女W:63277，未知U:473"
   ]
  },
  {
   "cell_type": "code",
   "execution_count": 55,
   "metadata": {},
   "outputs": [
    {
     "name": "stdout",
     "output_type": "stream",
     "text": [
      "性别的分布情况\n",
      "gender\n",
      "M    120077\n",
      "W     63277\n",
      "U       473\n",
      "Name: count, dtype: int64\n"
     ]
    }
   ],
   "source": [
    "# 性别的分布情况\n",
    "print(\"性别的分布情况\")\n",
    "print(data.value_counts('gender'))"
   ]
  },
  {
   "cell_type": "markdown",
   "metadata": {},
   "source": [
    "**customer_register_date** \n",
    "- 用户注册的时间范围：2003-06-13 ~ 2018-04-15 \n",
    "- 注册年份分布合理，非重复日期数 4104 （10年多，合理）"
   ]
  },
  {
   "cell_type": "code",
   "execution_count": 59,
   "metadata": {},
   "outputs": [
    {
     "name": "stdout",
     "output_type": "stream",
     "text": [
      "最早日期： 2003-06-13\n",
      "最晚日期： 2018-04-15\n",
      "\n",
      "注册时间按年分布\n",
      "customer_register_date\n",
      "2003       11\n",
      "2004       40\n",
      "2005       77\n",
      "2006      200\n",
      "2007      485\n",
      "2008     1882\n",
      "2009     4391\n",
      "2010     9821\n",
      "2011    16845\n",
      "2012    21406\n",
      "2013    19854\n",
      "2014    21473\n",
      "2015    26422\n",
      "2016    26500\n",
      "2017    25834\n",
      "2018     8586\n",
      "Name: customer_id, dtype: int64\n",
      "\n",
      "去重后日期数： 4104\n"
     ]
    }
   ],
   "source": [
    "# 时间范围\n",
    "print(\"最早日期：\",data['customer_register_date'].min().date())\n",
    "print(\"最晚日期：\",data['customer_register_date'].max().date(),end='\\n\\n')\n",
    "\n",
    "# 注册时间按年分布\n",
    "print(\"注册时间按年分布\")\n",
    "print(data.groupby(data['customer_register_date'].dt.year)['customer_id'].size(),end='\\n\\n')\n",
    "\n",
    "# 去重后日期数\n",
    "print(\"去重后日期数：\",data['customer_register_date'].nunique())\n"
   ]
  },
  {
   "cell_type": "markdown",
   "metadata": {},
   "source": [
    "**customer_level**\n",
    "- 会员级别\n",
    "- 可以研究会员级别和行为之间的关系，不同等级会员都在干嘛"
   ]
  },
  {
   "cell_type": "code",
   "execution_count": 27,
   "metadata": {},
   "outputs": [
    {
     "name": "stdout",
     "output_type": "stream",
     "text": [
      "会员级别的分布情况\n",
      "customer_level\n",
      "1    35864\n",
      "2        2\n",
      "3       65\n",
      "4      108\n",
      "5    35160\n",
      "6    21379\n",
      "7    48137\n",
      "Name: customer_id, dtype: int64\n",
      "\n"
     ]
    }
   ],
   "source": [
    "# 会员级别的分布情况\n",
    "print(\"会员级别的分布情况\")\n",
    "print(data.groupby('customer_level')['customer_id'].nunique(),end='\\n\\n')"
   ]
  },
  {
   "cell_type": "markdown",
   "metadata": {},
   "source": [
    "**city_level**\n",
    "- 会员城市级别\n",
    "- 有125个空值，无伤大雅，用众数填了就行\n",
    "- 可以研究用户的城市分布"
   ]
  },
  {
   "cell_type": "code",
   "execution_count": 48,
   "metadata": {},
   "outputs": [
    {
     "name": "stdout",
     "output_type": "stream",
     "text": [
      "城市等级的分布情况\n",
      "city_level\n",
      "1.0    29990\n",
      "2.0     1816\n",
      "3.0    36284\n",
      "4.0    41931\n",
      "5.0    30150\n",
      "6.0      433\n",
      "Name: customer_id, dtype: int64\n",
      "\n",
      "空值: 125\n"
     ]
    }
   ],
   "source": [
    "# 城市等级的分布情况\n",
    "print(\"城市等级的分布情况\")\n",
    "print(data.groupby('city_level')['customer_id'].nunique(),end='\\n\\n')\n"
   ]
  },
  {
   "cell_type": "markdown",
   "metadata": {},
   "source": [
    "## 商品"
   ]
  },
  {
   "cell_type": "markdown",
   "metadata": {},
   "source": [
    "**brand**\n",
    "- 产品品牌\n",
    "- 72个品牌"
   ]
  },
  {
   "cell_type": "code",
   "execution_count": 29,
   "metadata": {},
   "outputs": [
    {
     "name": "stdout",
     "output_type": "stream",
     "text": [
      "产品品牌数: 72\n",
      "\n",
      "空值: 0\n"
     ]
    }
   ],
   "source": [
    "# 产品品牌数\n",
    "print(\"产品品牌数:\",data['brand'].nunique(),end='\\n\\n')\n",
    "\n",
    "# 空值\n",
    "print(\"空值:\",data['brand'].isnull().sum())\n"
   ]
  },
  {
   "cell_type": "markdown",
   "metadata": {},
   "source": [
    "**category**\n",
    "- 产品类别\n",
    "- 53 个类别"
   ]
  },
  {
   "cell_type": "code",
   "execution_count": 30,
   "metadata": {},
   "outputs": [
    {
     "name": "stdout",
     "output_type": "stream",
     "text": [
      "产品种类数: 53\n",
      "\n",
      "空值: 0\n"
     ]
    }
   ],
   "source": [
    "# 产品种类数\n",
    "print(\"产品种类数:\",data['category'].nunique(),end='\\n\\n')\n",
    "\n",
    "# 空值\n",
    "print(\"空值:\",data['category'].isnull().sum())"
   ]
  },
  {
   "cell_type": "code",
   "execution_count": 31,
   "metadata": {},
   "outputs": [
    {
     "data": {
      "text/plain": [
       "category          brand     \n",
       "Air Conditioner   Gree          608\n",
       "                  Midea         361\n",
       "Badminton         Li-Ning       414\n",
       "Basketball        Li-Ning       275\n",
       "Basketball Shoes  Anta           25\n",
       "                               ... \n",
       "Washing Machine   Haier          31\n",
       "                  Konka         212\n",
       "                  LittleSwan    543\n",
       "                  Midea         203\n",
       "Xbox              Microsoft     429\n",
       "Name: product_id, Length: 227, dtype: int64"
      ]
     },
     "execution_count": 31,
     "metadata": {},
     "output_type": "execute_result"
    }
   ],
   "source": [
    "# 每个品类，每个品牌有多少商品\n",
    "\n",
    "product_count = data.groupby(['category','brand'])['product_id'].nunique()\n",
    "product_count\n",
    "# product_count.to_csv('product_count.csv')"
   ]
  },
  {
   "cell_type": "markdown",
   "metadata": {},
   "source": [
    "**product_market_date**\n",
    "- 产品上市日期\n",
    "- 可以研究 \"用户是不是喜欢买新上市的产品\""
   ]
  },
  {
   "cell_type": "code",
   "execution_count": 32,
   "metadata": {},
   "outputs": [
    {
     "name": "stdout",
     "output_type": "stream",
     "text": [
      "product_market_date的格式\n",
      "0   2017-10-05\n",
      "1   2015-06-12\n",
      "Name: product_market_date, dtype: datetime64[ns]\n",
      "\n",
      "最早日期： 2008-05-16\n",
      "最晚日期： 2018-04-14\n",
      "\n",
      "商品上架时间按年分布\n",
      "product_market_date\n",
      "2008        3\n",
      "2009       40\n",
      "2010      211\n",
      "2011      285\n",
      "2012      709\n",
      "2013     1644\n",
      "2014     3050\n",
      "2015     6182\n",
      "2016    11988\n",
      "2017    23757\n",
      "2018     5081\n",
      "Name: product_id, dtype: int64\n"
     ]
    }
   ],
   "source": [
    "# custom_register_date\n",
    "print(\"product_market_date的格式\")\n",
    "print(data['product_market_date'].head(2),end='\\n\\n')\n",
    "\n",
    "# 时间范围\n",
    "print(\"最早日期：\",data['product_market_date'].min().date())\n",
    "print(\"最晚日期：\",data['product_market_date'].max().date(),end='\\n\\n')\n",
    "\n",
    "# 商品上架时间按年分布\n",
    "print(\"商品上架时间按年分布\")\n",
    "print(data.groupby(data['product_market_date'].dt.year)['product_id'].nunique())"
   ]
  },
  {
   "cell_type": "markdown",
   "metadata": {},
   "source": [
    "## 店铺信息"
   ]
  },
  {
   "cell_type": "markdown",
   "metadata": {},
   "source": [
    "**shop_id & vender_id** \n",
    "- 店铺编码 和 商家编码 \n",
    "- shop_id 和 vender_id 一一对应，共有6086个店铺"
   ]
  },
  {
   "cell_type": "code",
   "execution_count": 33,
   "metadata": {},
   "outputs": [
    {
     "name": "stdout",
     "output_type": "stream",
     "text": [
      "0\n"
     ]
    }
   ],
   "source": [
    "# 证明 shop_id 和 vender_id 一一对应\n",
    "combin = data.groupby(['shop_id']).agg({'vender_id':'nunique'}) # 计算每个shop_id对应的vender_id的数量\n",
    "combin['vender_id']>1                                    # 判断每个 shop_id 有没有对应大于1个 vender_id\n",
    "print(sum(combin['vender_id']>1))                        # 0 表示所有 shop_id 都有对应1个 vender_id"
   ]
  },
  {
   "cell_type": "code",
   "execution_count": 34,
   "metadata": {},
   "outputs": [
    {
     "name": "stdout",
     "output_type": "stream",
     "text": [
      "去重店铺数: 6086\n",
      "空值: 0\n"
     ]
    }
   ],
   "source": [
    "# 去重店铺数\n",
    "print(\"去重店铺数:\",data['shop_id'].nunique())\n",
    "# 空值\n",
    "print(\"空值:\",data['shop_id'].isnull().sum())"
   ]
  },
  {
   "cell_type": "markdown",
   "metadata": {},
   "source": [
    "**fans_number & vip_number**\n",
    "- 粉丝数 和 会员数\n",
    "- 原生的统计特征，可以用来研究和其他指标的相关性"
   ]
  },
  {
   "cell_type": "code",
   "execution_count": 35,
   "metadata": {},
   "outputs": [
    {
     "name": "stdout",
     "output_type": "stream",
     "text": [
      "粉丝数为0的记录数： 71354\n",
      "vip数为0的记录数： 71356\n"
     ]
    }
   ],
   "source": [
    "print(\"粉丝数为0的记录数：\",(data['fans_number']==0).sum())\n",
    "print(\"vip数为0的记录数：\",(data['vip_number']==0).sum())"
   ]
  },
  {
   "cell_type": "markdown",
   "metadata": {},
   "source": [
    "**shop_register_date** \n",
    "- 开店时间\n",
    "- 71354个空值"
   ]
  },
  {
   "cell_type": "code",
   "execution_count": 36,
   "metadata": {},
   "outputs": [
    {
     "name": "stdout",
     "output_type": "stream",
     "text": [
      "空值： 71353\n"
     ]
    }
   ],
   "source": [
    "print(\"空值：\",data['shop_register_date'].isnull().sum())"
   ]
  },
  {
   "cell_type": "markdown",
   "metadata": {},
   "source": [
    "**shop_category** \n",
    "- 店铺主营"
   ]
  },
  {
   "cell_type": "code",
   "execution_count": 37,
   "metadata": {},
   "outputs": [
    {
     "data": {
      "text/plain": [
       "array(['Jewellery Accessories', 'Mother and Infant', 'Outdoor Sports',\n",
       "       'Food', 'Electronics', 'Beauty Makeup', 'Clothes', 'Furniture',\n",
       "       'Household Eletric Appliance'], dtype=object)"
      ]
     },
     "execution_count": 37,
     "metadata": {},
     "output_type": "execute_result"
    }
   ],
   "source": [
    "data['shop_category'].unique()"
   ]
  },
  {
   "cell_type": "markdown",
   "metadata": {},
   "source": [
    "**shop_score**\n",
    "- 店铺打分"
   ]
  },
  {
   "cell_type": "code",
   "execution_count": 38,
   "metadata": {},
   "outputs": [
    {
     "name": "stdout",
     "output_type": "stream",
     "text": [
      "店铺评分为0的记录数： 71354\n"
     ]
    }
   ],
   "source": [
    "print(\"店铺评分为0的记录数：\",(data['shop_score']==0).sum())"
   ]
  },
  {
   "cell_type": "markdown",
   "metadata": {},
   "source": [
    "# 异常值统一处理"
   ]
  },
  {
   "cell_type": "markdown",
   "metadata": {},
   "source": []
  }
 ],
 "metadata": {
  "kernelspec": {
   "display_name": "pytorch",
   "language": "python",
   "name": "python3"
  },
  "language_info": {
   "codemirror_mode": {
    "name": "ipython",
    "version": 3
   },
   "file_extension": ".py",
   "mimetype": "text/x-python",
   "name": "python",
   "nbconvert_exporter": "python",
   "pygments_lexer": "ipython3",
   "version": "3.11.5"
  }
 },
 "nbformat": 4,
 "nbformat_minor": 2
}
