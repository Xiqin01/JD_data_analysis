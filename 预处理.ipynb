{
 "cells": [
  {
   "cell_type": "code",
   "execution_count": 1,
   "metadata": {},
   "outputs": [],
   "source": [
    "import numpy as np\n",
    "import pandas as pd\n",
    "\n",
    "# 让画图内置\n",
    "import matplotlib.pyplot as plt\n",
    "import seaborn as sns\n",
    "import plotly.express as px\n",
    "%matplotlib inline\n",
    "\n",
    "# 忽略版本号之类的warnings\n",
    "import warnings\n",
    "warnings.filterwarnings('ignore')\n",
    "import os"
   ]
  },
  {
   "cell_type": "markdown",
   "metadata": {},
   "source": [
    "# 数据导入"
   ]
  },
  {
   "cell_type": "code",
   "execution_count": 2,
   "metadata": {},
   "outputs": [],
   "source": [
    "# 导入数据\n",
    "original_data = pd.read_excel('JD_data\\京东消费者分析数据.xlsx')"
   ]
  },
  {
   "cell_type": "code",
   "execution_count": 84,
   "metadata": {},
   "outputs": [
    {
     "data": {
      "text/plain": [
       "(183828, 20)"
      ]
     },
     "execution_count": 84,
     "metadata": {},
     "output_type": "execute_result"
    }
   ],
   "source": [
    "# 数据量\n",
    "data = original_data.copy()\n",
    "data.shape"
   ]
  },
  {
   "cell_type": "code",
   "execution_count": 85,
   "metadata": {},
   "outputs": [
    {
     "data": {
      "text/html": [
       "<div>\n",
       "<style scoped>\n",
       "    .dataframe tbody tr th:only-of-type {\n",
       "        vertical-align: middle;\n",
       "    }\n",
       "\n",
       "    .dataframe tbody tr th {\n",
       "        vertical-align: top;\n",
       "    }\n",
       "\n",
       "    .dataframe thead th {\n",
       "        text-align: right;\n",
       "    }\n",
       "</style>\n",
       "<table border=\"1\" class=\"dataframe\">\n",
       "  <thead>\n",
       "    <tr style=\"text-align: right;\">\n",
       "      <th></th>\n",
       "      <th>customer_id</th>\n",
       "      <th>product_id</th>\n",
       "      <th>action_date</th>\n",
       "      <th>action_id</th>\n",
       "      <th>type</th>\n",
       "      <th>age_range</th>\n",
       "      <th>gender</th>\n",
       "      <th>customer_register_date</th>\n",
       "      <th>customer_level</th>\n",
       "      <th>city_level</th>\n",
       "      <th>brand</th>\n",
       "      <th>shop_id</th>\n",
       "      <th>category</th>\n",
       "      <th>product_market_date</th>\n",
       "      <th>vender_id</th>\n",
       "      <th>fans_number</th>\n",
       "      <th>vip_number</th>\n",
       "      <th>shop_register_date</th>\n",
       "      <th>shop_category</th>\n",
       "      <th>shop_score</th>\n",
       "    </tr>\n",
       "  </thead>\n",
       "  <tbody>\n",
       "    <tr>\n",
       "      <th>0</th>\n",
       "      <td>976695</td>\n",
       "      <td>328360</td>\n",
       "      <td>2018-03-05 08:52:00</td>\n",
       "      <td>10633744</td>\n",
       "      <td>PageView</td>\n",
       "      <td>5.0</td>\n",
       "      <td>W</td>\n",
       "      <td>2017-06-17</td>\n",
       "      <td>6</td>\n",
       "      <td>3.0</td>\n",
       "      <td>LukFook</td>\n",
       "      <td>2959</td>\n",
       "      <td>Bracelet</td>\n",
       "      <td>2017-10-05</td>\n",
       "      <td>4322</td>\n",
       "      <td>1159</td>\n",
       "      <td>36596</td>\n",
       "      <td>2017-07-04</td>\n",
       "      <td>Jewellery Accessories</td>\n",
       "      <td>9.043610</td>\n",
       "    </tr>\n",
       "    <tr>\n",
       "      <th>1</th>\n",
       "      <td>395399</td>\n",
       "      <td>141632</td>\n",
       "      <td>2018-03-20 10:55:00</td>\n",
       "      <td>5472028</td>\n",
       "      <td>PageView</td>\n",
       "      <td>4.0</td>\n",
       "      <td>M</td>\n",
       "      <td>2018-01-21</td>\n",
       "      <td>6</td>\n",
       "      <td>5.0</td>\n",
       "      <td>illuma</td>\n",
       "      <td>4203</td>\n",
       "      <td>Milk Power</td>\n",
       "      <td>2015-06-12</td>\n",
       "      <td>3563</td>\n",
       "      <td>2411</td>\n",
       "      <td>65893</td>\n",
       "      <td>2013-08-08</td>\n",
       "      <td>Mother and Infant</td>\n",
       "      <td>9.537151</td>\n",
       "    </tr>\n",
       "    <tr>\n",
       "      <th>2</th>\n",
       "      <td>1068082</td>\n",
       "      <td>5924</td>\n",
       "      <td>2018-04-01 13:56:00</td>\n",
       "      <td>3853455</td>\n",
       "      <td>PageView</td>\n",
       "      <td>6.0</td>\n",
       "      <td>W</td>\n",
       "      <td>2012-08-13</td>\n",
       "      <td>1</td>\n",
       "      <td>4.0</td>\n",
       "      <td>Li-Ning</td>\n",
       "      <td>8002</td>\n",
       "      <td>Badminton</td>\n",
       "      <td>2013-06-14</td>\n",
       "      <td>1457</td>\n",
       "      <td>213610</td>\n",
       "      <td>357580</td>\n",
       "      <td>2013-05-23</td>\n",
       "      <td>Outdoor Sports</td>\n",
       "      <td>9.571139</td>\n",
       "    </tr>\n",
       "    <tr>\n",
       "      <th>3</th>\n",
       "      <td>1068082</td>\n",
       "      <td>10723</td>\n",
       "      <td>2018-04-01 13:45:00</td>\n",
       "      <td>3853455</td>\n",
       "      <td>PageView</td>\n",
       "      <td>6.0</td>\n",
       "      <td>W</td>\n",
       "      <td>2012-08-13</td>\n",
       "      <td>1</td>\n",
       "      <td>4.0</td>\n",
       "      <td>Li-Ning</td>\n",
       "      <td>8002</td>\n",
       "      <td>Badminton</td>\n",
       "      <td>2011-07-19</td>\n",
       "      <td>1457</td>\n",
       "      <td>213610</td>\n",
       "      <td>357580</td>\n",
       "      <td>2013-05-23</td>\n",
       "      <td>Outdoor Sports</td>\n",
       "      <td>9.571139</td>\n",
       "    </tr>\n",
       "    <tr>\n",
       "      <th>4</th>\n",
       "      <td>735392</td>\n",
       "      <td>4559</td>\n",
       "      <td>2018-02-06 20:25:00</td>\n",
       "      <td>9434940</td>\n",
       "      <td>PageView</td>\n",
       "      <td>6.0</td>\n",
       "      <td>M</td>\n",
       "      <td>2009-09-15</td>\n",
       "      <td>7</td>\n",
       "      <td>5.0</td>\n",
       "      <td>Other</td>\n",
       "      <td>6944</td>\n",
       "      <td>Cookie</td>\n",
       "      <td>2015-11-16</td>\n",
       "      <td>355</td>\n",
       "      <td>63969</td>\n",
       "      <td>85597</td>\n",
       "      <td>2014-10-31</td>\n",
       "      <td>Food</td>\n",
       "      <td>9.665680</td>\n",
       "    </tr>\n",
       "  </tbody>\n",
       "</table>\n",
       "</div>"
      ],
      "text/plain": [
       "   customer_id  product_id         action_date  action_id      type  \\\n",
       "0       976695      328360 2018-03-05 08:52:00   10633744  PageView   \n",
       "1       395399      141632 2018-03-20 10:55:00    5472028  PageView   \n",
       "2      1068082        5924 2018-04-01 13:56:00    3853455  PageView   \n",
       "3      1068082       10723 2018-04-01 13:45:00    3853455  PageView   \n",
       "4       735392        4559 2018-02-06 20:25:00    9434940  PageView   \n",
       "\n",
       "   age_range gender customer_register_date  customer_level  city_level  \\\n",
       "0        5.0      W             2017-06-17               6         3.0   \n",
       "1        4.0      M             2018-01-21               6         5.0   \n",
       "2        6.0      W             2012-08-13               1         4.0   \n",
       "3        6.0      W             2012-08-13               1         4.0   \n",
       "4        6.0      M             2009-09-15               7         5.0   \n",
       "\n",
       "     brand  shop_id    category product_market_date  vender_id  fans_number  \\\n",
       "0  LukFook     2959    Bracelet          2017-10-05       4322         1159   \n",
       "1   illuma     4203  Milk Power          2015-06-12       3563         2411   \n",
       "2  Li-Ning     8002   Badminton          2013-06-14       1457       213610   \n",
       "3  Li-Ning     8002   Badminton          2011-07-19       1457       213610   \n",
       "4    Other     6944      Cookie          2015-11-16        355        63969   \n",
       "\n",
       "   vip_number shop_register_date          shop_category  shop_score  \n",
       "0       36596         2017-07-04  Jewellery Accessories    9.043610  \n",
       "1       65893         2013-08-08      Mother and Infant    9.537151  \n",
       "2      357580         2013-05-23         Outdoor Sports    9.571139  \n",
       "3      357580         2013-05-23         Outdoor Sports    9.571139  \n",
       "4       85597         2014-10-31                   Food    9.665680  "
      ]
     },
     "execution_count": 85,
     "metadata": {},
     "output_type": "execute_result"
    }
   ],
   "source": [
    "data.head()"
   ]
  },
  {
   "cell_type": "code",
   "execution_count": 5,
   "metadata": {},
   "outputs": [
    {
     "name": "stdout",
     "output_type": "stream",
     "text": [
      "<class 'pandas.core.frame.DataFrame'>\n",
      "RangeIndex: 183828 entries, 0 to 183827\n",
      "Data columns (total 20 columns):\n",
      " #   Column                  Non-Null Count   Dtype         \n",
      "---  ------                  --------------   -----         \n",
      " 0   customer_id             183828 non-null  int64         \n",
      " 1   product_id              183828 non-null  int64         \n",
      " 2   action_date             183828 non-null  datetime64[ns]\n",
      " 3   action_id               183828 non-null  int64         \n",
      " 4   type                    183828 non-null  object        \n",
      " 5   age_range               183745 non-null  float64       \n",
      " 6   gender                  183828 non-null  object        \n",
      " 7   customer_register_date  183828 non-null  datetime64[ns]\n",
      " 8   customer_level          183828 non-null  int64         \n",
      " 9   city_level              183703 non-null  float64       \n",
      " 10  brand                   183828 non-null  object        \n",
      " 11  shop_id                 183828 non-null  int64         \n",
      " 12  category                183828 non-null  object        \n",
      " 13  product_market_date     183828 non-null  datetime64[ns]\n",
      " 14  vender_id               183828 non-null  int64         \n",
      " 15  fans_number             183828 non-null  int64         \n",
      " 16  vip_number              183828 non-null  int64         \n",
      " 17  shop_register_date      112474 non-null  datetime64[ns]\n",
      " 18  shop_category           183828 non-null  object        \n",
      " 19  shop_score              183828 non-null  float64       \n",
      "dtypes: datetime64[ns](4), float64(3), int64(8), object(5)\n",
      "memory usage: 28.1+ MB\n"
     ]
    }
   ],
   "source": [
    "data.info()"
   ]
  },
  {
   "cell_type": "code",
   "execution_count": 6,
   "metadata": {},
   "outputs": [
    {
     "data": {
      "text/html": [
       "<div>\n",
       "<style scoped>\n",
       "    .dataframe tbody tr th:only-of-type {\n",
       "        vertical-align: middle;\n",
       "    }\n",
       "\n",
       "    .dataframe tbody tr th {\n",
       "        vertical-align: top;\n",
       "    }\n",
       "\n",
       "    .dataframe thead th {\n",
       "        text-align: right;\n",
       "    }\n",
       "</style>\n",
       "<table border=\"1\" class=\"dataframe\">\n",
       "  <thead>\n",
       "    <tr style=\"text-align: right;\">\n",
       "      <th></th>\n",
       "      <th>age_range</th>\n",
       "      <th>customer_level</th>\n",
       "      <th>city_level</th>\n",
       "      <th>fans_number</th>\n",
       "      <th>vip_number</th>\n",
       "      <th>shop_score</th>\n",
       "      <th>action_date</th>\n",
       "      <th>customer_register_date</th>\n",
       "      <th>product_market_date</th>\n",
       "      <th>shop_register_date</th>\n",
       "    </tr>\n",
       "  </thead>\n",
       "  <tbody>\n",
       "    <tr>\n",
       "      <th>count</th>\n",
       "      <td>183745.000000</td>\n",
       "      <td>183828.000000</td>\n",
       "      <td>183703.000000</td>\n",
       "      <td>1.838280e+05</td>\n",
       "      <td>1.838280e+05</td>\n",
       "      <td>183828.000000</td>\n",
       "      <td>183828</td>\n",
       "      <td>183828</td>\n",
       "      <td>183828</td>\n",
       "      <td>112474</td>\n",
       "    </tr>\n",
       "    <tr>\n",
       "      <th>mean</th>\n",
       "      <td>4.680073</td>\n",
       "      <td>4.965734</td>\n",
       "      <td>3.292701</td>\n",
       "      <td>6.925701e+04</td>\n",
       "      <td>1.012062e+05</td>\n",
       "      <td>5.716299</td>\n",
       "      <td>2018-03-08 03:19:10.532345344</td>\n",
       "      <td>2014-07-03 05:31:32.943403520</td>\n",
       "      <td>2016-04-18 23:16:38.524707840</td>\n",
       "      <td>2015-11-13 04:00:30.983160576</td>\n",
       "    </tr>\n",
       "    <tr>\n",
       "      <th>min</th>\n",
       "      <td>1.000000</td>\n",
       "      <td>1.000000</td>\n",
       "      <td>1.000000</td>\n",
       "      <td>0.000000e+00</td>\n",
       "      <td>0.000000e+00</td>\n",
       "      <td>-1.000000</td>\n",
       "      <td>2018-02-01 00:00:00</td>\n",
       "      <td>2003-06-13 00:00:00</td>\n",
       "      <td>2008-05-16 00:00:00</td>\n",
       "      <td>2011-03-14 00:00:00</td>\n",
       "    </tr>\n",
       "    <tr>\n",
       "      <th>25%</th>\n",
       "      <td>5.000000</td>\n",
       "      <td>5.000000</td>\n",
       "      <td>3.000000</td>\n",
       "      <td>0.000000e+00</td>\n",
       "      <td>0.000000e+00</td>\n",
       "      <td>0.000000</td>\n",
       "      <td>2018-02-15 23:00:00</td>\n",
       "      <td>2012-07-30 00:00:00</td>\n",
       "      <td>2015-07-30 00:00:00</td>\n",
       "      <td>2014-11-21 00:00:00</td>\n",
       "    </tr>\n",
       "    <tr>\n",
       "      <th>50%</th>\n",
       "      <td>5.000000</td>\n",
       "      <td>6.000000</td>\n",
       "      <td>4.000000</td>\n",
       "      <td>4.612000e+03</td>\n",
       "      <td>1.330000e+04</td>\n",
       "      <td>9.311070</td>\n",
       "      <td>2018-03-07 21:22:30</td>\n",
       "      <td>2014-10-27 00:00:00</td>\n",
       "      <td>2016-10-25 00:00:00</td>\n",
       "      <td>2016-01-05 00:00:00</td>\n",
       "    </tr>\n",
       "    <tr>\n",
       "      <th>75%</th>\n",
       "      <td>6.000000</td>\n",
       "      <td>7.000000</td>\n",
       "      <td>4.000000</td>\n",
       "      <td>4.319000e+04</td>\n",
       "      <td>9.424900e+04</td>\n",
       "      <td>9.539181</td>\n",
       "      <td>2018-03-25 19:28:00</td>\n",
       "      <td>2016-07-21 00:00:00</td>\n",
       "      <td>2017-08-06 00:00:00</td>\n",
       "      <td>2017-03-09 00:00:00</td>\n",
       "    </tr>\n",
       "    <tr>\n",
       "      <th>max</th>\n",
       "      <td>6.000000</td>\n",
       "      <td>7.000000</td>\n",
       "      <td>6.000000</td>\n",
       "      <td>9.293487e+06</td>\n",
       "      <td>1.384168e+07</td>\n",
       "      <td>10.000000</td>\n",
       "      <td>2018-04-15 23:59:00</td>\n",
       "      <td>2018-04-15 00:00:00</td>\n",
       "      <td>2018-04-14 00:00:00</td>\n",
       "      <td>2018-04-12 00:00:00</td>\n",
       "    </tr>\n",
       "    <tr>\n",
       "      <th>std</th>\n",
       "      <td>1.526474</td>\n",
       "      <td>2.334717</td>\n",
       "      <td>1.411516</td>\n",
       "      <td>2.448230e+05</td>\n",
       "      <td>2.648308e+05</td>\n",
       "      <td>4.653295</td>\n",
       "      <td>NaN</td>\n",
       "      <td>NaN</td>\n",
       "      <td>NaN</td>\n",
       "      <td>NaN</td>\n",
       "    </tr>\n",
       "  </tbody>\n",
       "</table>\n",
       "</div>"
      ],
      "text/plain": [
       "           age_range  customer_level     city_level   fans_number  \\\n",
       "count  183745.000000   183828.000000  183703.000000  1.838280e+05   \n",
       "mean        4.680073        4.965734       3.292701  6.925701e+04   \n",
       "min         1.000000        1.000000       1.000000  0.000000e+00   \n",
       "25%         5.000000        5.000000       3.000000  0.000000e+00   \n",
       "50%         5.000000        6.000000       4.000000  4.612000e+03   \n",
       "75%         6.000000        7.000000       4.000000  4.319000e+04   \n",
       "max         6.000000        7.000000       6.000000  9.293487e+06   \n",
       "std         1.526474        2.334717       1.411516  2.448230e+05   \n",
       "\n",
       "         vip_number     shop_score                    action_date  \\\n",
       "count  1.838280e+05  183828.000000                         183828   \n",
       "mean   1.012062e+05       5.716299  2018-03-08 03:19:10.532345344   \n",
       "min    0.000000e+00      -1.000000            2018-02-01 00:00:00   \n",
       "25%    0.000000e+00       0.000000            2018-02-15 23:00:00   \n",
       "50%    1.330000e+04       9.311070            2018-03-07 21:22:30   \n",
       "75%    9.424900e+04       9.539181            2018-03-25 19:28:00   \n",
       "max    1.384168e+07      10.000000            2018-04-15 23:59:00   \n",
       "std    2.648308e+05       4.653295                            NaN   \n",
       "\n",
       "              customer_register_date            product_market_date  \\\n",
       "count                         183828                         183828   \n",
       "mean   2014-07-03 05:31:32.943403520  2016-04-18 23:16:38.524707840   \n",
       "min              2003-06-13 00:00:00            2008-05-16 00:00:00   \n",
       "25%              2012-07-30 00:00:00            2015-07-30 00:00:00   \n",
       "50%              2014-10-27 00:00:00            2016-10-25 00:00:00   \n",
       "75%              2016-07-21 00:00:00            2017-08-06 00:00:00   \n",
       "max              2018-04-15 00:00:00            2018-04-14 00:00:00   \n",
       "std                              NaN                            NaN   \n",
       "\n",
       "                  shop_register_date  \n",
       "count                         112474  \n",
       "mean   2015-11-13 04:00:30.983160576  \n",
       "min              2011-03-14 00:00:00  \n",
       "25%              2014-11-21 00:00:00  \n",
       "50%              2016-01-05 00:00:00  \n",
       "75%              2017-03-09 00:00:00  \n",
       "max              2018-04-12 00:00:00  \n",
       "std                              NaN  "
      ]
     },
     "execution_count": 6,
     "metadata": {},
     "output_type": "execute_result"
    }
   ],
   "source": [
    "# 有意义的数值型变量的信息\n",
    "data.describe()[['age_range','customer_level','city_level','fans_number','vip_number','shop_score','action_date','customer_register_date','product_market_date','shop_register_date']] "
   ]
  },
  {
   "cell_type": "markdown",
   "metadata": {},
   "source": [
    "- 问题：fans_number最大为 9293487， vip_number最大值为 13841676 是同一个shop 10393 "
   ]
  },
  {
   "cell_type": "markdown",
   "metadata": {},
   "source": [
    "# 预处理"
   ]
  },
  {
   "cell_type": "markdown",
   "metadata": {},
   "source": [
    "## 空值 "
   ]
  },
  {
   "cell_type": "markdown",
   "metadata": {},
   "source": [
    "- shop_register_date 缺失值太多,在研究店铺相关问题时尽量不用"
   ]
  },
  {
   "cell_type": "code",
   "execution_count": 7,
   "metadata": {},
   "outputs": [
    {
     "data": {
      "text/plain": [
       "customer_id                   0\n",
       "product_id                    0\n",
       "action_date                   0\n",
       "action_id                     0\n",
       "type                          0\n",
       "age_range                    83\n",
       "gender                        0\n",
       "customer_register_date        0\n",
       "customer_level                0\n",
       "city_level                  125\n",
       "brand                         0\n",
       "shop_id                       0\n",
       "category                      0\n",
       "product_market_date           0\n",
       "vender_id                     0\n",
       "fans_number                   0\n",
       "vip_number                    0\n",
       "shop_register_date        71354\n",
       "shop_category                 0\n",
       "shop_score                    0\n",
       "dtype: int64"
      ]
     },
     "execution_count": 7,
     "metadata": {},
     "output_type": "execute_result"
    }
   ],
   "source": [
    "data.isnull().sum()"
   ]
  },
  {
   "cell_type": "markdown",
   "metadata": {},
   "source": [
    "**age_range 空值处理**\n",
    "- 可以看到 age_range 为 5 的最多，空值就用 5 填充。"
   ]
  },
  {
   "cell_type": "code",
   "execution_count": 8,
   "metadata": {},
   "outputs": [
    {
     "data": {
      "text/plain": [
       "age_range\n",
       "5.0    80064\n",
       "6.0    59992\n",
       "2.0    16077\n",
       "1.0    14309\n",
       "4.0    13296\n",
       "3.0        7\n",
       "Name: count, dtype: int64"
      ]
     },
     "execution_count": 8,
     "metadata": {},
     "output_type": "execute_result"
    }
   ],
   "source": [
    "data['age_range'].value_counts() # 5 最多"
   ]
  },
  {
   "cell_type": "code",
   "execution_count": 86,
   "metadata": {},
   "outputs": [
    {
     "data": {
      "text/plain": [
       "0"
      ]
     },
     "execution_count": 86,
     "metadata": {},
     "output_type": "execute_result"
    }
   ],
   "source": [
    "data['age_range'].fillna(5, inplace=True)\n",
    "data['age_range'].isnull().sum()   # 0"
   ]
  },
  {
   "cell_type": "markdown",
   "metadata": {},
   "source": [
    "**city_level的空值处理**\n"
   ]
  },
  {
   "cell_type": "code",
   "execution_count": 87,
   "metadata": {},
   "outputs": [],
   "source": [
    "data['city_level'].value_counts() # 4 最多\n",
    "data['age_range'].fillna(4, inplace=True)\n"
   ]
  },
  {
   "cell_type": "markdown",
   "metadata": {},
   "source": [
    "## 重复值"
   ]
  },
  {
   "cell_type": "markdown",
   "metadata": {},
   "source": [
    "**action_id字段**\n",
    "-  照理来说，action_id 应该是主键，表示每个人的行为编号唯一值\n",
    "\n",
    "- 但是 action_id 却有很多重复值，这些重复的 action_id 对应的record却不是完全重复的，需要寻找新的主键"
   ]
  },
  {
   "cell_type": "code",
   "execution_count": 88,
   "metadata": {},
   "outputs": [
    {
     "data": {
      "text/plain": [
       "action_id\n",
       "10439703    9176\n",
       "5335532        7\n",
       "9401782        7\n",
       "9656978        6\n",
       "355392         6\n",
       "8220611        6\n",
       "3022398        6\n",
       "12053          6\n",
       "898733         6\n",
       "2680391        5\n",
       "Name: count, dtype: int64"
      ]
     },
     "execution_count": 88,
     "metadata": {},
     "output_type": "execute_result"
    }
   ],
   "source": [
    "# action_id 也有重复值，不是主键\n",
    "data['action_id'].value_counts()[0:10]"
   ]
  },
  {
   "cell_type": "code",
   "execution_count": 89,
   "metadata": {},
   "outputs": [
    {
     "data": {
      "text/html": [
       "<div>\n",
       "<style scoped>\n",
       "    .dataframe tbody tr th:only-of-type {\n",
       "        vertical-align: middle;\n",
       "    }\n",
       "\n",
       "    .dataframe tbody tr th {\n",
       "        vertical-align: top;\n",
       "    }\n",
       "\n",
       "    .dataframe thead th {\n",
       "        text-align: right;\n",
       "    }\n",
       "</style>\n",
       "<table border=\"1\" class=\"dataframe\">\n",
       "  <thead>\n",
       "    <tr style=\"text-align: right;\">\n",
       "      <th></th>\n",
       "      <th>customer_id</th>\n",
       "      <th>product_id</th>\n",
       "      <th>action_date</th>\n",
       "      <th>action_id</th>\n",
       "      <th>type</th>\n",
       "      <th>age_range</th>\n",
       "      <th>gender</th>\n",
       "      <th>customer_register_date</th>\n",
       "      <th>customer_level</th>\n",
       "      <th>city_level</th>\n",
       "      <th>brand</th>\n",
       "      <th>shop_id</th>\n",
       "      <th>category</th>\n",
       "      <th>product_market_date</th>\n",
       "      <th>vender_id</th>\n",
       "      <th>fans_number</th>\n",
       "      <th>vip_number</th>\n",
       "      <th>shop_register_date</th>\n",
       "      <th>shop_category</th>\n",
       "      <th>shop_score</th>\n",
       "    </tr>\n",
       "  </thead>\n",
       "  <tbody>\n",
       "    <tr>\n",
       "      <th>89941</th>\n",
       "      <td>796801</td>\n",
       "      <td>171645</td>\n",
       "      <td>2018-02-07 18:45:00</td>\n",
       "      <td>10439703</td>\n",
       "      <td>Comment</td>\n",
       "      <td>2.0</td>\n",
       "      <td>M</td>\n",
       "      <td>2015-08-20</td>\n",
       "      <td>5</td>\n",
       "      <td>5.0</td>\n",
       "      <td>Huawei</td>\n",
       "      <td>9445</td>\n",
       "      <td>Phone</td>\n",
       "      <td>2013-05-11</td>\n",
       "      <td>3666</td>\n",
       "      <td>0</td>\n",
       "      <td>0</td>\n",
       "      <td>NaT</td>\n",
       "      <td>Electronics</td>\n",
       "      <td>0.0</td>\n",
       "    </tr>\n",
       "    <tr>\n",
       "      <th>89942</th>\n",
       "      <td>750076</td>\n",
       "      <td>230884</td>\n",
       "      <td>2018-03-19 14:19:00</td>\n",
       "      <td>10439703</td>\n",
       "      <td>Comment</td>\n",
       "      <td>5.0</td>\n",
       "      <td>M</td>\n",
       "      <td>2014-08-15</td>\n",
       "      <td>5</td>\n",
       "      <td>4.0</td>\n",
       "      <td>OPPO</td>\n",
       "      <td>3388</td>\n",
       "      <td>Phone</td>\n",
       "      <td>2012-03-26</td>\n",
       "      <td>3666</td>\n",
       "      <td>0</td>\n",
       "      <td>0</td>\n",
       "      <td>NaT</td>\n",
       "      <td>Electronics</td>\n",
       "      <td>0.0</td>\n",
       "    </tr>\n",
       "    <tr>\n",
       "      <th>89943</th>\n",
       "      <td>279373</td>\n",
       "      <td>171645</td>\n",
       "      <td>2018-03-22 16:04:00</td>\n",
       "      <td>10439703</td>\n",
       "      <td>Comment</td>\n",
       "      <td>6.0</td>\n",
       "      <td>M</td>\n",
       "      <td>2010-03-25</td>\n",
       "      <td>7</td>\n",
       "      <td>1.0</td>\n",
       "      <td>Huawei</td>\n",
       "      <td>9445</td>\n",
       "      <td>Phone</td>\n",
       "      <td>2013-05-11</td>\n",
       "      <td>3666</td>\n",
       "      <td>0</td>\n",
       "      <td>0</td>\n",
       "      <td>NaT</td>\n",
       "      <td>Electronics</td>\n",
       "      <td>0.0</td>\n",
       "    </tr>\n",
       "    <tr>\n",
       "      <th>89944</th>\n",
       "      <td>322424</td>\n",
       "      <td>171645</td>\n",
       "      <td>2018-03-19 08:51:00</td>\n",
       "      <td>10439703</td>\n",
       "      <td>Comment</td>\n",
       "      <td>5.0</td>\n",
       "      <td>M</td>\n",
       "      <td>2011-10-15</td>\n",
       "      <td>5</td>\n",
       "      <td>4.0</td>\n",
       "      <td>Huawei</td>\n",
       "      <td>9445</td>\n",
       "      <td>Phone</td>\n",
       "      <td>2013-05-11</td>\n",
       "      <td>3666</td>\n",
       "      <td>0</td>\n",
       "      <td>0</td>\n",
       "      <td>NaT</td>\n",
       "      <td>Electronics</td>\n",
       "      <td>0.0</td>\n",
       "    </tr>\n",
       "    <tr>\n",
       "      <th>89945</th>\n",
       "      <td>101163</td>\n",
       "      <td>220537</td>\n",
       "      <td>2018-02-11 00:38:00</td>\n",
       "      <td>10439703</td>\n",
       "      <td>Comment</td>\n",
       "      <td>5.0</td>\n",
       "      <td>W</td>\n",
       "      <td>2015-06-12</td>\n",
       "      <td>5</td>\n",
       "      <td>5.0</td>\n",
       "      <td>Apple</td>\n",
       "      <td>157</td>\n",
       "      <td>Phone</td>\n",
       "      <td>2013-04-26</td>\n",
       "      <td>3666</td>\n",
       "      <td>0</td>\n",
       "      <td>0</td>\n",
       "      <td>NaT</td>\n",
       "      <td>Electronics</td>\n",
       "      <td>0.0</td>\n",
       "    </tr>\n",
       "  </tbody>\n",
       "</table>\n",
       "</div>"
      ],
      "text/plain": [
       "       customer_id  product_id         action_date  action_id     type  \\\n",
       "89941       796801      171645 2018-02-07 18:45:00   10439703  Comment   \n",
       "89942       750076      230884 2018-03-19 14:19:00   10439703  Comment   \n",
       "89943       279373      171645 2018-03-22 16:04:00   10439703  Comment   \n",
       "89944       322424      171645 2018-03-19 08:51:00   10439703  Comment   \n",
       "89945       101163      220537 2018-02-11 00:38:00   10439703  Comment   \n",
       "\n",
       "       age_range gender customer_register_date  customer_level  city_level  \\\n",
       "89941        2.0      M             2015-08-20               5         5.0   \n",
       "89942        5.0      M             2014-08-15               5         4.0   \n",
       "89943        6.0      M             2010-03-25               7         1.0   \n",
       "89944        5.0      M             2011-10-15               5         4.0   \n",
       "89945        5.0      W             2015-06-12               5         5.0   \n",
       "\n",
       "        brand  shop_id category product_market_date  vender_id  fans_number  \\\n",
       "89941  Huawei     9445    Phone          2013-05-11       3666            0   \n",
       "89942    OPPO     3388    Phone          2012-03-26       3666            0   \n",
       "89943  Huawei     9445    Phone          2013-05-11       3666            0   \n",
       "89944  Huawei     9445    Phone          2013-05-11       3666            0   \n",
       "89945   Apple      157    Phone          2013-04-26       3666            0   \n",
       "\n",
       "       vip_number shop_register_date shop_category  shop_score  \n",
       "89941           0                NaT   Electronics         0.0  \n",
       "89942           0                NaT   Electronics         0.0  \n",
       "89943           0                NaT   Electronics         0.0  \n",
       "89944           0                NaT   Electronics         0.0  \n",
       "89945           0                NaT   Electronics         0.0  "
      ]
     },
     "execution_count": 89,
     "metadata": {},
     "output_type": "execute_result"
    }
   ],
   "source": [
    "# action_id 重复但是记录却不完全重复\n",
    "data.query('action_id == 10439703').iloc[:5,:]"
   ]
  },
  {
   "cell_type": "markdown",
   "metadata": {},
   "source": [
    "**寻找符合主键**\n",
    "- groupby(['customer_id', 'product_id','type','action_date']) 后的数据仅有 2 个重复值, 且这两个重复值除了action_id其他都一样\n",
    "- 可以认为这4个字段组成一个符合主键 ，且这俩记录重复的，删掉即可\n",
    "- 含义就是：用户 在某个时间 对商品 ，做了什么"
   ]
  },
  {
   "cell_type": "code",
   "execution_count": 90,
   "metadata": {},
   "outputs": [
    {
     "data": {
      "text/plain": [
       "customer_id  product_id  type      action_date        \n",
       "767393       86843       PageView  2018-03-26 19:01:00    2\n",
       "dtype: int64"
      ]
     },
     "execution_count": 90,
     "metadata": {},
     "output_type": "execute_result"
    }
   ],
   "source": [
    "# 用groupby找复合主键\n",
    "grouped = data.groupby(['customer_id', 'product_id','type','action_date']).size()\n",
    "grouped[grouped > 1]"
   ]
  },
  {
   "cell_type": "code",
   "execution_count": 91,
   "metadata": {},
   "outputs": [
    {
     "data": {
      "text/html": [
       "<div>\n",
       "<style scoped>\n",
       "    .dataframe tbody tr th:only-of-type {\n",
       "        vertical-align: middle;\n",
       "    }\n",
       "\n",
       "    .dataframe tbody tr th {\n",
       "        vertical-align: top;\n",
       "    }\n",
       "\n",
       "    .dataframe thead th {\n",
       "        text-align: right;\n",
       "    }\n",
       "</style>\n",
       "<table border=\"1\" class=\"dataframe\">\n",
       "  <thead>\n",
       "    <tr style=\"text-align: right;\">\n",
       "      <th></th>\n",
       "      <th>customer_id</th>\n",
       "      <th>product_id</th>\n",
       "      <th>action_date</th>\n",
       "      <th>action_id</th>\n",
       "      <th>type</th>\n",
       "      <th>age_range</th>\n",
       "      <th>gender</th>\n",
       "      <th>customer_register_date</th>\n",
       "      <th>customer_level</th>\n",
       "      <th>city_level</th>\n",
       "      <th>brand</th>\n",
       "      <th>shop_id</th>\n",
       "      <th>category</th>\n",
       "      <th>product_market_date</th>\n",
       "      <th>vender_id</th>\n",
       "      <th>fans_number</th>\n",
       "      <th>vip_number</th>\n",
       "      <th>shop_register_date</th>\n",
       "      <th>shop_category</th>\n",
       "      <th>shop_score</th>\n",
       "    </tr>\n",
       "  </thead>\n",
       "  <tbody>\n",
       "    <tr>\n",
       "      <th>33413</th>\n",
       "      <td>767393</td>\n",
       "      <td>86843</td>\n",
       "      <td>2018-03-26 19:01:00</td>\n",
       "      <td>6861957</td>\n",
       "      <td>PageView</td>\n",
       "      <td>6.0</td>\n",
       "      <td>W</td>\n",
       "      <td>2014-02-12</td>\n",
       "      <td>1</td>\n",
       "      <td>4.0</td>\n",
       "      <td>Microsoft</td>\n",
       "      <td>4296</td>\n",
       "      <td>Xbox</td>\n",
       "      <td>2016-06-14</td>\n",
       "      <td>3666</td>\n",
       "      <td>0</td>\n",
       "      <td>0</td>\n",
       "      <td>NaT</td>\n",
       "      <td>Electronics</td>\n",
       "      <td>0.0</td>\n",
       "    </tr>\n",
       "    <tr>\n",
       "      <th>112372</th>\n",
       "      <td>767393</td>\n",
       "      <td>86843</td>\n",
       "      <td>2018-03-26 19:01:00</td>\n",
       "      <td>8915506</td>\n",
       "      <td>PageView</td>\n",
       "      <td>6.0</td>\n",
       "      <td>W</td>\n",
       "      <td>2014-02-12</td>\n",
       "      <td>1</td>\n",
       "      <td>4.0</td>\n",
       "      <td>Microsoft</td>\n",
       "      <td>4296</td>\n",
       "      <td>Xbox</td>\n",
       "      <td>2016-06-14</td>\n",
       "      <td>3666</td>\n",
       "      <td>0</td>\n",
       "      <td>0</td>\n",
       "      <td>NaT</td>\n",
       "      <td>Electronics</td>\n",
       "      <td>0.0</td>\n",
       "    </tr>\n",
       "  </tbody>\n",
       "</table>\n",
       "</div>"
      ],
      "text/plain": [
       "        customer_id  product_id         action_date  action_id      type  \\\n",
       "33413        767393       86843 2018-03-26 19:01:00    6861957  PageView   \n",
       "112372       767393       86843 2018-03-26 19:01:00    8915506  PageView   \n",
       "\n",
       "        age_range gender customer_register_date  customer_level  city_level  \\\n",
       "33413         6.0      W             2014-02-12               1         4.0   \n",
       "112372        6.0      W             2014-02-12               1         4.0   \n",
       "\n",
       "            brand  shop_id category product_market_date  vender_id  \\\n",
       "33413   Microsoft     4296     Xbox          2016-06-14       3666   \n",
       "112372  Microsoft     4296     Xbox          2016-06-14       3666   \n",
       "\n",
       "        fans_number  vip_number shop_register_date shop_category  shop_score  \n",
       "33413             0           0                NaT   Electronics         0.0  \n",
       "112372            0           0                NaT   Electronics         0.0  "
      ]
     },
     "execution_count": 91,
     "metadata": {},
     "output_type": "execute_result"
    }
   ],
   "source": [
    "data.query(\"customer_id == 767393 and product_id == 86843\")\n",
    "# 这两条记录除了action_id，其他都一样，说明：1.action_id是个傻逼， 2.这两条记录是重复值，应当要删掉"
   ]
  },
  {
   "cell_type": "code",
   "execution_count": 92,
   "metadata": {},
   "outputs": [],
   "source": [
    "# 删除重复值\n",
    "to_be_drop = data.query(\"customer_id == 767393 and product_id == 86843\").iloc[0]\n",
    "data.drop(to_be_drop.name, inplace=True)\n"
   ]
  },
  {
   "cell_type": "code",
   "execution_count": 93,
   "metadata": {},
   "outputs": [
    {
     "data": {
      "text/plain": [
       "Series([], dtype: int64)"
      ]
     },
     "execution_count": 93,
     "metadata": {},
     "output_type": "execute_result"
    }
   ],
   "source": [
    "# 确认删除情况\n",
    "data.query(\"customer_id == 767393 and product_id == 86843\")\n",
    "grouped = data.groupby(['customer_id', 'product_id','type','action_date']).size()\n",
    "grouped[grouped > 1]"
   ]
  },
  {
   "cell_type": "markdown",
   "metadata": {},
   "source": [
    "# 异常值探查"
   ]
  },
  {
   "cell_type": "markdown",
   "metadata": {},
   "source": [
    "**异常值探查**\n",
    "- 探究内容\n",
    "    - 指标：记录数（行数），用value_counts()/groupby(col).size，维度拆解的时候才是groupby(col).unique()\n",
    "    - 字段取值: 取哪些值，取值范围，有没有不合规的取值（格式错误/乱码）\n",
    "    - 取值分布: 不同类型取值有没有不合理的地方\n",
    "\n",
    "- 分类变量：\n",
    "    - 类别多（id 类字段）：唯一值数量，有没有格式不规范\n",
    "    - 类别少（性别类字段）：类别分布（value_counts）\n",
    "\n",
    "- 时间变量：唯一日期/年份数量，时间范围，按年/月/日的分布\n",
    "\n",
    "- 连续变量：取值范围，分布\n"
   ]
  },
  {
   "cell_type": "markdown",
   "metadata": {},
   "source": [
    "## 用户行为"
   ]
  },
  {
   "cell_type": "markdown",
   "metadata": {},
   "source": [
    "**customer_id**  \n",
    "- 去重后用户数: 140715\n"
   ]
  },
  {
   "cell_type": "code",
   "execution_count": 180,
   "metadata": {},
   "outputs": [
    {
     "data": {
      "text/plain": [
       "140715"
      ]
     },
     "execution_count": 180,
     "metadata": {},
     "output_type": "execute_result"
    }
   ],
   "source": [
    "# 去重后用户数\n",
    "data['customer_id'].nunique()"
   ]
  },
  {
   "cell_type": "markdown",
   "metadata": {},
   "source": [
    "**product_id**\n",
    "- 去重后商品数: 52950"
   ]
  },
  {
   "cell_type": "code",
   "execution_count": 179,
   "metadata": {},
   "outputs": [
    {
     "data": {
      "text/plain": [
       "52950"
      ]
     },
     "execution_count": 179,
     "metadata": {},
     "output_type": "execute_result"
    }
   ],
   "source": [
    "# 去重后商品数\n",
    "data['product_id'].nunique()"
   ]
  },
  {
   "cell_type": "markdown",
   "metadata": {},
   "source": [
    "**action_date**  \n",
    "- datetime类型，从2018-2-1到2018-4-15\n",
    "- 74天 每天都有数据"
   ]
  },
  {
   "cell_type": "code",
   "execution_count": 19,
   "metadata": {},
   "outputs": [
    {
     "name": "stdout",
     "output_type": "stream",
     "text": [
      "action_date的格式：\n",
      "0   2018-03-05 08:52:00\n",
      "1   2018-03-20 10:55:00\n",
      "Name: action_date, dtype: datetime64[ns]\n",
      "\n",
      "最早日期： 2018-02-01\n",
      "最晚日期： 2018-04-15\n",
      "\n"
     ]
    },
    {
     "data": {
      "text/plain": [
       "74"
      ]
     },
     "execution_count": 19,
     "metadata": {},
     "output_type": "execute_result"
    }
   ],
   "source": [
    "# action_date探索\n",
    "print(\"action_date的格式：\")\n",
    "print(data['action_date'].head(2),end='\\n\\n')\n",
    "\n",
    "# 时间范围\n",
    "print(\"最早日期：\",data['action_date'].min().date())\n",
    "print(\"最晚日期：\",data['action_date'].max().date(),end='\\n\\n')\n",
    "\n",
    "# 日期分布\n",
    "data['action_date'].dt.date.sort_values().unique().shape[0]  # 74天 每天都有数据"
   ]
  },
  {
   "cell_type": "markdown",
   "metadata": {},
   "source": [
    "**action_id**\n",
    "- 傻逼东西，没用"
   ]
  },
  {
   "cell_type": "markdown",
   "metadata": {},
   "source": [
    "**type** \n",
    "- 行为类别，有PageView,Follow,SaveCart,Order,Comment这5种取值\n",
    "\n",
    "- Order明显比saveCart多，这不符合常理\n",
    "    - 发现 SaveCart 在 2018-4-8之后才有数据，可能是数据错误，也可能是4-8之后才有购物车功能。\n",
    "    -  但是 4-8之后每天SaveCart都比除了PV之外的数据高，不太可能是新增的\n",
    "\n",
    "- Follow数较小，应该指的是收藏店铺 ； Comment指的是评论商品，在购买商品之后 ；用户路径时只需要都不需要考虑 \n",
    "\n",
    "- 需要过滤掉 4-8 之前的数据\n"
   ]
  },
  {
   "cell_type": "code",
   "execution_count": 20,
   "metadata": {},
   "outputs": [
    {
     "name": "stdout",
     "output_type": "stream",
     "text": [
      "行为类型的分布情况\n",
      "type\n",
      "PageView     163953\n",
      "Order         10698\n",
      "Comment        4010\n",
      "SavedCart      2987\n",
      "Follow         2179\n",
      "Name: count, dtype: int64\n"
     ]
    }
   ],
   "source": [
    "# 行为类型的分布情况\n",
    "print(data['type'].value_counts())"
   ]
  },
  {
   "cell_type": "code",
   "execution_count": 21,
   "metadata": {},
   "outputs": [
    {
     "data": {
      "text/html": [
       "<div>\n",
       "<style scoped>\n",
       "    .dataframe tbody tr th:only-of-type {\n",
       "        vertical-align: middle;\n",
       "    }\n",
       "\n",
       "    .dataframe tbody tr th {\n",
       "        vertical-align: top;\n",
       "    }\n",
       "\n",
       "    .dataframe thead th {\n",
       "        text-align: right;\n",
       "    }\n",
       "</style>\n",
       "<table border=\"1\" class=\"dataframe\">\n",
       "  <thead>\n",
       "    <tr style=\"text-align: right;\">\n",
       "      <th>type</th>\n",
       "      <th>Comment</th>\n",
       "      <th>Follow</th>\n",
       "      <th>Order</th>\n",
       "      <th>PageView</th>\n",
       "      <th>SavedCart</th>\n",
       "    </tr>\n",
       "    <tr>\n",
       "      <th>action_day</th>\n",
       "      <th></th>\n",
       "      <th></th>\n",
       "      <th></th>\n",
       "      <th></th>\n",
       "      <th></th>\n",
       "    </tr>\n",
       "  </thead>\n",
       "  <tbody>\n",
       "    <tr>\n",
       "      <th>2018-04-08</th>\n",
       "      <td>70.0</td>\n",
       "      <td>37.0</td>\n",
       "      <td>156.0</td>\n",
       "      <td>1899.0</td>\n",
       "      <td>320.0</td>\n",
       "    </tr>\n",
       "    <tr>\n",
       "      <th>2018-04-09</th>\n",
       "      <td>70.0</td>\n",
       "      <td>32.0</td>\n",
       "      <td>169.0</td>\n",
       "      <td>2069.0</td>\n",
       "      <td>425.0</td>\n",
       "    </tr>\n",
       "    <tr>\n",
       "      <th>2018-04-10</th>\n",
       "      <td>71.0</td>\n",
       "      <td>26.0</td>\n",
       "      <td>156.0</td>\n",
       "      <td>2111.0</td>\n",
       "      <td>421.0</td>\n",
       "    </tr>\n",
       "    <tr>\n",
       "      <th>2018-04-11</th>\n",
       "      <td>75.0</td>\n",
       "      <td>30.0</td>\n",
       "      <td>162.0</td>\n",
       "      <td>2049.0</td>\n",
       "      <td>434.0</td>\n",
       "    </tr>\n",
       "    <tr>\n",
       "      <th>2018-04-12</th>\n",
       "      <td>58.0</td>\n",
       "      <td>31.0</td>\n",
       "      <td>146.0</td>\n",
       "      <td>1850.0</td>\n",
       "      <td>363.0</td>\n",
       "    </tr>\n",
       "    <tr>\n",
       "      <th>2018-04-13</th>\n",
       "      <td>65.0</td>\n",
       "      <td>34.0</td>\n",
       "      <td>146.0</td>\n",
       "      <td>1920.0</td>\n",
       "      <td>354.0</td>\n",
       "    </tr>\n",
       "    <tr>\n",
       "      <th>2018-04-14</th>\n",
       "      <td>56.0</td>\n",
       "      <td>35.0</td>\n",
       "      <td>159.0</td>\n",
       "      <td>1892.0</td>\n",
       "      <td>356.0</td>\n",
       "    </tr>\n",
       "    <tr>\n",
       "      <th>2018-04-15</th>\n",
       "      <td>50.0</td>\n",
       "      <td>33.0</td>\n",
       "      <td>135.0</td>\n",
       "      <td>1695.0</td>\n",
       "      <td>314.0</td>\n",
       "    </tr>\n",
       "  </tbody>\n",
       "</table>\n",
       "</div>"
      ],
      "text/plain": [
       "type        Comment  Follow  Order  PageView  SavedCart\n",
       "action_day                                             \n",
       "2018-04-08     70.0    37.0  156.0    1899.0      320.0\n",
       "2018-04-09     70.0    32.0  169.0    2069.0      425.0\n",
       "2018-04-10     71.0    26.0  156.0    2111.0      421.0\n",
       "2018-04-11     75.0    30.0  162.0    2049.0      434.0\n",
       "2018-04-12     58.0    31.0  146.0    1850.0      363.0\n",
       "2018-04-13     65.0    34.0  146.0    1920.0      354.0\n",
       "2018-04-14     56.0    35.0  159.0    1892.0      356.0\n",
       "2018-04-15     50.0    33.0  135.0    1695.0      314.0"
      ]
     },
     "execution_count": 21,
     "metadata": {},
     "output_type": "execute_result"
    }
   ],
   "source": [
    "# 探究为什么SavedCart的次数比Order的次数少\n",
    "\n",
    "# 新增一列 action_day，表示行为发生的日期\n",
    "data['action_day']  = data['action_date'].apply(lambda x: x.date())\n",
    "\n",
    "# 统计每天每个行为的次数\n",
    "type_count = data.groupby(['action_day', 'type']).size().unstack()\n",
    "type_count\n",
    "\n",
    "# 找到有购物车的记录去日期\n",
    "type_count[type_count['SavedCart'].isnull().apply(lambda x: not x)]\n"
   ]
  },
  {
   "cell_type": "code",
   "execution_count": 22,
   "metadata": {},
   "outputs": [
    {
     "data": {
      "text/plain": [
       "(20474, 21)"
      ]
     },
     "execution_count": 22,
     "metadata": {},
     "output_type": "execute_result"
    }
   ],
   "source": [
    "# 4-8之后的数据只有20474条\n",
    "from datetime import date\n",
    "\n",
    "recent_data = data[data['action_day']>=date(2018, 4, 8)]\n",
    "recent_data.shape\n"
   ]
  },
  {
   "cell_type": "markdown",
   "metadata": {},
   "source": [
    "## 用户信息"
   ]
  },
  {
   "cell_type": "markdown",
   "metadata": {},
   "source": [
    "**age_range**\n",
    "- 有 6 个年龄段，数字 1-7 代表\n",
    "- 年龄段为 3 的记录/用户仅有 7 个"
   ]
  },
  {
   "cell_type": "code",
   "execution_count": 191,
   "metadata": {},
   "outputs": [
    {
     "name": "stdout",
     "output_type": "stream",
     "text": [
      "age_range\n",
      "1.0    14309\n",
      "2.0    16077\n",
      "3.0        7\n",
      "4.0    13296\n",
      "5.0    80147\n",
      "6.0    59991\n",
      "Name: count, dtype: int64\n"
     ]
    }
   ],
   "source": [
    "# 不同年龄段的记录数\n",
    "print(data.value_counts('age_range').sort_index())"
   ]
  },
  {
   "cell_type": "code",
   "execution_count": 188,
   "metadata": {},
   "outputs": [
    {
     "name": "stdout",
     "output_type": "stream",
     "text": [
      "age_range\n",
      "1.0    10261\n",
      "2.0    11147\n",
      "3.0        7\n",
      "4.0    11845\n",
      "5.0    63606\n",
      "6.0    43849\n",
      "Name: customer_id, dtype: int64\n"
     ]
    }
   ],
   "source": [
    "# 不同年龄段的用户数\n",
    "print(data.groupby('age_range')['customer_id'].nunique())"
   ]
  },
  {
   "cell_type": "markdown",
   "metadata": {},
   "source": [
    "**gender**\n",
    "- 性别：男M:120077，女W:63277，未知U:473"
   ]
  },
  {
   "cell_type": "code",
   "execution_count": 199,
   "metadata": {},
   "outputs": [
    {
     "data": {
      "text/plain": [
       "gender\n",
       "M    120077\n",
       "U       473\n",
       "W     63277\n",
       "Name: count, dtype: int64"
      ]
     },
     "execution_count": 199,
     "metadata": {},
     "output_type": "execute_result"
    }
   ],
   "source": [
    "# 不同性别的记录数\n",
    "data.value_counts('gender').sort_index()"
   ]
  },
  {
   "cell_type": "code",
   "execution_count": 201,
   "metadata": {},
   "outputs": [
    {
     "name": "stdout",
     "output_type": "stream",
     "text": [
      "gender\n",
      "M    86080\n",
      "U      448\n",
      "W    54187\n",
      "Name: customer_id, dtype: int64\n"
     ]
    }
   ],
   "source": [
    "# 不同性别的用户数\n",
    "print(data.groupby('gender')['customer_id'].nunique().sort_index())"
   ]
  },
  {
   "cell_type": "markdown",
   "metadata": {},
   "source": [
    "**customer_level**\n",
    "- 等级为 2，3，4 级的记录/用户明显少"
   ]
  },
  {
   "cell_type": "code",
   "execution_count": 202,
   "metadata": {},
   "outputs": [
    {
     "name": "stdout",
     "output_type": "stream",
     "text": [
      "customer_level\n",
      "1    43252\n",
      "2        3\n",
      "3       66\n",
      "4      108\n",
      "5    44851\n",
      "6    24132\n",
      "7    71415\n",
      "Name: customer_id, dtype: int64\n"
     ]
    }
   ],
   "source": [
    "# 不同会员级别的记录数\n",
    "print(data.groupby('customer_level')['customer_id'].size())"
   ]
  },
  {
   "cell_type": "code",
   "execution_count": 205,
   "metadata": {},
   "outputs": [
    {
     "name": "stdout",
     "output_type": "stream",
     "text": [
      "customer_level\n",
      "1    35864\n",
      "2        2\n",
      "3       65\n",
      "4      108\n",
      "5    35160\n",
      "6    21379\n",
      "7    48137\n",
      "Name: customer_id, dtype: int64\n"
     ]
    }
   ],
   "source": [
    "# 不同会员级别的用户\n",
    "print(data.groupby('customer_level')['customer_id'].nunique())"
   ]
  },
  {
   "cell_type": "markdown",
   "metadata": {},
   "source": [
    "**city_level**\n",
    "- 取值为 2 和 6 的明显少，可以考虑去掉"
   ]
  },
  {
   "cell_type": "code",
   "execution_count": 208,
   "metadata": {},
   "outputs": [
    {
     "name": "stdout",
     "output_type": "stream",
     "text": [
      "city_level\n",
      "1.0    39971\n",
      "2.0     2349\n",
      "3.0    46477\n",
      "4.0    54319\n",
      "5.0    40017\n",
      "6.0      569\n",
      "Name: customer_id, dtype: int64\n"
     ]
    }
   ],
   "source": [
    "# 不同城市等级的记录数\n",
    "print(data.groupby('city_level')['customer_id'].size())"
   ]
  },
  {
   "cell_type": "code",
   "execution_count": 207,
   "metadata": {},
   "outputs": [
    {
     "name": "stdout",
     "output_type": "stream",
     "text": [
      "city_level\n",
      "1.0    29990\n",
      "2.0     1816\n",
      "3.0    36284\n",
      "4.0    41931\n",
      "5.0    30150\n",
      "6.0      433\n",
      "Name: customer_id, dtype: int64\n"
     ]
    }
   ],
   "source": [
    "# 不同城市等级的用户数\n",
    "print(data.groupby('city_level')['customer_id'].nunique())"
   ]
  },
  {
   "cell_type": "markdown",
   "metadata": {},
   "source": [
    "**customer_register_date** \n",
    "- 用户注册的时间范围：2003-06-13 ~ 2018-04-15 \n",
    "- 注册年份分布合理，非重复日期数 4104 （10年多，合理）"
   ]
  },
  {
   "cell_type": "code",
   "execution_count": 211,
   "metadata": {},
   "outputs": [
    {
     "name": "stdout",
     "output_type": "stream",
     "text": [
      "最早日期： 2003-06-13\n",
      "最晚日期： 2018-04-15\n",
      "\n"
     ]
    }
   ],
   "source": [
    "# 时间范围\n",
    "print(\"最早日期：\",data['customer_register_date'].min().date())\n",
    "print(\"最晚日期：\",data['customer_register_date'].max().date(),end='\\n\\n')"
   ]
  },
  {
   "cell_type": "code",
   "execution_count": 213,
   "metadata": {},
   "outputs": [
    {
     "data": {
      "text/plain": [
       "customer_register_date\n",
       "2003       11\n",
       "2004       40\n",
       "2005       77\n",
       "2006      200\n",
       "2007      485\n",
       "2008     1882\n",
       "2009     4391\n",
       "2010     9821\n",
       "2011    16845\n",
       "2012    21406\n",
       "2013    19854\n",
       "2014    21473\n",
       "2015    26422\n",
       "2016    26500\n",
       "2017    25834\n",
       "2018     8586\n",
       "Name: customer_id, dtype: int64"
      ]
     },
     "execution_count": 213,
     "metadata": {},
     "output_type": "execute_result"
    }
   ],
   "source": [
    "# 不同年份注册的记录数\n",
    "data.groupby(data['customer_register_date'].dt.year)['customer_id'].size()"
   ]
  },
  {
   "cell_type": "code",
   "execution_count": 214,
   "metadata": {},
   "outputs": [
    {
     "data": {
      "text/plain": [
       "customer_register_date\n",
       "2003        7\n",
       "2004       30\n",
       "2005       47\n",
       "2006      136\n",
       "2007      325\n",
       "2008     1282\n",
       "2009     3083\n",
       "2010     6851\n",
       "2011    12206\n",
       "2012    15765\n",
       "2013    14983\n",
       "2014    16454\n",
       "2015    20882\n",
       "2016    21164\n",
       "2017    20411\n",
       "2018     7089\n",
       "Name: customer_id, dtype: int64"
      ]
     },
     "execution_count": 214,
     "metadata": {},
     "output_type": "execute_result"
    }
   ],
   "source": [
    "# 不同年份注册的用户数\n",
    "data.groupby(data['customer_register_date'].dt.year)['customer_id'].nunique()"
   ]
  },
  {
   "cell_type": "code",
   "execution_count": 209,
   "metadata": {},
   "outputs": [
    {
     "data": {
      "text/plain": [
       "4104"
      ]
     },
     "execution_count": 209,
     "metadata": {},
     "output_type": "execute_result"
    }
   ],
   "source": [
    "# 去重后日期数\n",
    "data['customer_register_date'].nunique()"
   ]
  },
  {
   "cell_type": "markdown",
   "metadata": {},
   "source": [
    "## 商品"
   ]
  },
  {
   "cell_type": "markdown",
   "metadata": {},
   "source": [
    "**brand**\n",
    "- 72个产品品牌"
   ]
  },
  {
   "cell_type": "code",
   "execution_count": 216,
   "metadata": {},
   "outputs": [
    {
     "data": {
      "text/plain": [
       "72"
      ]
     },
     "execution_count": 216,
     "metadata": {},
     "output_type": "execute_result"
    }
   ],
   "source": [
    "# 产品品牌数\n",
    "data['brand'].nunique()"
   ]
  },
  {
   "cell_type": "code",
   "execution_count": 42,
   "metadata": {},
   "outputs": [
    {
     "data": {
      "application/vnd.plotly.v1+json": {
       "config": {
        "plotlyServerURL": "https://plot.ly"
       },
       "data": [
        {
         "alignmentgroup": "True",
         "hovertemplate": "Brand=%{x}<br>Count=%{text}<extra></extra>",
         "legendgroup": "",
         "marker": {
          "color": "#636efa",
          "pattern": {
           "shape": ""
          }
         },
         "name": "",
         "offsetgroup": "",
         "orientation": "v",
         "showlegend": false,
         "text": [
          44396,
          19452,
          18938,
          10113,
          5155,
          4130,
          3443,
          3429,
          3304,
          3013,
          2897,
          2840,
          2832,
          2831,
          2771,
          2679,
          2567,
          2538,
          2520,
          2346,
          2034,
          1925,
          1884,
          1858,
          1669,
          1531,
          1478,
          1473,
          1465,
          1441,
          1407,
          1381,
          1375,
          1353,
          1187,
          1147,
          1134,
          1102,
          1098,
          1069,
          1000,
          965,
          933,
          888,
          879,
          834,
          724,
          701,
          661,
          492,
          426,
          400,
          355,
          331,
          303,
          300,
          272,
          221,
          216,
          202,
          194,
          187,
          150,
          144,
          143,
          130,
          126,
          125,
          114,
          88,
          86,
          32
         ],
         "textposition": "auto",
         "type": "bar",
         "x": [
          "Other",
          "Huawei",
          "Apple",
          "Lipton",
          "Sumsung",
          "Innisfree",
          "Olay",
          "DELL",
          "Sony",
          "Redmi",
          "Kuka",
          "HLA",
          "Li-Ning",
          "Vivo",
          "Midea",
          "Microsoft",
          "Chando",
          "H&M",
          "LukFook",
          "Nikon",
          "Lenovo",
          "UNIQLO",
          "Estee Lauder",
          "Acer",
          "Haier",
          "Quanyou",
          "Proya",
          "Chow Tai Fook",
          "Lancome",
          "Opple",
          "LittleSwan",
          "LEDIN",
          "Loreal",
          "illuma",
          "Konka",
          "Supor",
          "Ton Lion",
          "Gree",
          "Jeans West",
          "Chow Taiseng",
          "Joyoung",
          "OPPO",
          "HP",
          "Lays",
          "Playboy",
          "PEACEBIRD",
          "Baleno",
          "Nestle",
          "ZARA",
          "Adidas",
          "BE&CHERRY",
          "SEPTWOLVES",
          "DOVE",
          "ELand",
          "ERKE",
          "Chando ",
          "CLINIQUE",
          "KOPIKO",
          "Quaker",
          "Kong",
          "Nike",
          "Danco",
          "Sulwhasoo",
          "SK-II",
          "meiji",
          "Three Squirrels",
          "Kisses",
          "Vichy",
          "Danisa",
          "Oreo",
          "Calbee",
          "Anta"
         ],
         "xaxis": "x",
         "y": [
          44396,
          19452,
          18938,
          10113,
          5155,
          4130,
          3443,
          3429,
          3304,
          3013,
          2897,
          2840,
          2832,
          2831,
          2771,
          2679,
          2567,
          2538,
          2520,
          2346,
          2034,
          1925,
          1884,
          1858,
          1669,
          1531,
          1478,
          1473,
          1465,
          1441,
          1407,
          1381,
          1375,
          1353,
          1187,
          1147,
          1134,
          1102,
          1098,
          1069,
          1000,
          965,
          933,
          888,
          879,
          834,
          724,
          701,
          661,
          492,
          426,
          400,
          355,
          331,
          303,
          300,
          272,
          221,
          216,
          202,
          194,
          187,
          150,
          144,
          143,
          130,
          126,
          125,
          114,
          88,
          86,
          32
         ],
         "yaxis": "y"
        }
       ],
       "layout": {
        "barmode": "relative",
        "legend": {
         "tracegroupgap": 0
        },
        "template": {
         "data": {
          "bar": [
           {
            "error_x": {
             "color": "#2a3f5f"
            },
            "error_y": {
             "color": "#2a3f5f"
            },
            "marker": {
             "line": {
              "color": "#E5ECF6",
              "width": 0.5
             },
             "pattern": {
              "fillmode": "overlay",
              "size": 10,
              "solidity": 0.2
             }
            },
            "type": "bar"
           }
          ],
          "barpolar": [
           {
            "marker": {
             "line": {
              "color": "#E5ECF6",
              "width": 0.5
             },
             "pattern": {
              "fillmode": "overlay",
              "size": 10,
              "solidity": 0.2
             }
            },
            "type": "barpolar"
           }
          ],
          "carpet": [
           {
            "aaxis": {
             "endlinecolor": "#2a3f5f",
             "gridcolor": "white",
             "linecolor": "white",
             "minorgridcolor": "white",
             "startlinecolor": "#2a3f5f"
            },
            "baxis": {
             "endlinecolor": "#2a3f5f",
             "gridcolor": "white",
             "linecolor": "white",
             "minorgridcolor": "white",
             "startlinecolor": "#2a3f5f"
            },
            "type": "carpet"
           }
          ],
          "choropleth": [
           {
            "colorbar": {
             "outlinewidth": 0,
             "ticks": ""
            },
            "type": "choropleth"
           }
          ],
          "contour": [
           {
            "colorbar": {
             "outlinewidth": 0,
             "ticks": ""
            },
            "colorscale": [
             [
              0,
              "#0d0887"
             ],
             [
              0.1111111111111111,
              "#46039f"
             ],
             [
              0.2222222222222222,
              "#7201a8"
             ],
             [
              0.3333333333333333,
              "#9c179e"
             ],
             [
              0.4444444444444444,
              "#bd3786"
             ],
             [
              0.5555555555555556,
              "#d8576b"
             ],
             [
              0.6666666666666666,
              "#ed7953"
             ],
             [
              0.7777777777777778,
              "#fb9f3a"
             ],
             [
              0.8888888888888888,
              "#fdca26"
             ],
             [
              1,
              "#f0f921"
             ]
            ],
            "type": "contour"
           }
          ],
          "contourcarpet": [
           {
            "colorbar": {
             "outlinewidth": 0,
             "ticks": ""
            },
            "type": "contourcarpet"
           }
          ],
          "heatmap": [
           {
            "colorbar": {
             "outlinewidth": 0,
             "ticks": ""
            },
            "colorscale": [
             [
              0,
              "#0d0887"
             ],
             [
              0.1111111111111111,
              "#46039f"
             ],
             [
              0.2222222222222222,
              "#7201a8"
             ],
             [
              0.3333333333333333,
              "#9c179e"
             ],
             [
              0.4444444444444444,
              "#bd3786"
             ],
             [
              0.5555555555555556,
              "#d8576b"
             ],
             [
              0.6666666666666666,
              "#ed7953"
             ],
             [
              0.7777777777777778,
              "#fb9f3a"
             ],
             [
              0.8888888888888888,
              "#fdca26"
             ],
             [
              1,
              "#f0f921"
             ]
            ],
            "type": "heatmap"
           }
          ],
          "heatmapgl": [
           {
            "colorbar": {
             "outlinewidth": 0,
             "ticks": ""
            },
            "colorscale": [
             [
              0,
              "#0d0887"
             ],
             [
              0.1111111111111111,
              "#46039f"
             ],
             [
              0.2222222222222222,
              "#7201a8"
             ],
             [
              0.3333333333333333,
              "#9c179e"
             ],
             [
              0.4444444444444444,
              "#bd3786"
             ],
             [
              0.5555555555555556,
              "#d8576b"
             ],
             [
              0.6666666666666666,
              "#ed7953"
             ],
             [
              0.7777777777777778,
              "#fb9f3a"
             ],
             [
              0.8888888888888888,
              "#fdca26"
             ],
             [
              1,
              "#f0f921"
             ]
            ],
            "type": "heatmapgl"
           }
          ],
          "histogram": [
           {
            "marker": {
             "pattern": {
              "fillmode": "overlay",
              "size": 10,
              "solidity": 0.2
             }
            },
            "type": "histogram"
           }
          ],
          "histogram2d": [
           {
            "colorbar": {
             "outlinewidth": 0,
             "ticks": ""
            },
            "colorscale": [
             [
              0,
              "#0d0887"
             ],
             [
              0.1111111111111111,
              "#46039f"
             ],
             [
              0.2222222222222222,
              "#7201a8"
             ],
             [
              0.3333333333333333,
              "#9c179e"
             ],
             [
              0.4444444444444444,
              "#bd3786"
             ],
             [
              0.5555555555555556,
              "#d8576b"
             ],
             [
              0.6666666666666666,
              "#ed7953"
             ],
             [
              0.7777777777777778,
              "#fb9f3a"
             ],
             [
              0.8888888888888888,
              "#fdca26"
             ],
             [
              1,
              "#f0f921"
             ]
            ],
            "type": "histogram2d"
           }
          ],
          "histogram2dcontour": [
           {
            "colorbar": {
             "outlinewidth": 0,
             "ticks": ""
            },
            "colorscale": [
             [
              0,
              "#0d0887"
             ],
             [
              0.1111111111111111,
              "#46039f"
             ],
             [
              0.2222222222222222,
              "#7201a8"
             ],
             [
              0.3333333333333333,
              "#9c179e"
             ],
             [
              0.4444444444444444,
              "#bd3786"
             ],
             [
              0.5555555555555556,
              "#d8576b"
             ],
             [
              0.6666666666666666,
              "#ed7953"
             ],
             [
              0.7777777777777778,
              "#fb9f3a"
             ],
             [
              0.8888888888888888,
              "#fdca26"
             ],
             [
              1,
              "#f0f921"
             ]
            ],
            "type": "histogram2dcontour"
           }
          ],
          "mesh3d": [
           {
            "colorbar": {
             "outlinewidth": 0,
             "ticks": ""
            },
            "type": "mesh3d"
           }
          ],
          "parcoords": [
           {
            "line": {
             "colorbar": {
              "outlinewidth": 0,
              "ticks": ""
             }
            },
            "type": "parcoords"
           }
          ],
          "pie": [
           {
            "automargin": true,
            "type": "pie"
           }
          ],
          "scatter": [
           {
            "fillpattern": {
             "fillmode": "overlay",
             "size": 10,
             "solidity": 0.2
            },
            "type": "scatter"
           }
          ],
          "scatter3d": [
           {
            "line": {
             "colorbar": {
              "outlinewidth": 0,
              "ticks": ""
             }
            },
            "marker": {
             "colorbar": {
              "outlinewidth": 0,
              "ticks": ""
             }
            },
            "type": "scatter3d"
           }
          ],
          "scattercarpet": [
           {
            "marker": {
             "colorbar": {
              "outlinewidth": 0,
              "ticks": ""
             }
            },
            "type": "scattercarpet"
           }
          ],
          "scattergeo": [
           {
            "marker": {
             "colorbar": {
              "outlinewidth": 0,
              "ticks": ""
             }
            },
            "type": "scattergeo"
           }
          ],
          "scattergl": [
           {
            "marker": {
             "colorbar": {
              "outlinewidth": 0,
              "ticks": ""
             }
            },
            "type": "scattergl"
           }
          ],
          "scattermapbox": [
           {
            "marker": {
             "colorbar": {
              "outlinewidth": 0,
              "ticks": ""
             }
            },
            "type": "scattermapbox"
           }
          ],
          "scatterpolar": [
           {
            "marker": {
             "colorbar": {
              "outlinewidth": 0,
              "ticks": ""
             }
            },
            "type": "scatterpolar"
           }
          ],
          "scatterpolargl": [
           {
            "marker": {
             "colorbar": {
              "outlinewidth": 0,
              "ticks": ""
             }
            },
            "type": "scatterpolargl"
           }
          ],
          "scatterternary": [
           {
            "marker": {
             "colorbar": {
              "outlinewidth": 0,
              "ticks": ""
             }
            },
            "type": "scatterternary"
           }
          ],
          "surface": [
           {
            "colorbar": {
             "outlinewidth": 0,
             "ticks": ""
            },
            "colorscale": [
             [
              0,
              "#0d0887"
             ],
             [
              0.1111111111111111,
              "#46039f"
             ],
             [
              0.2222222222222222,
              "#7201a8"
             ],
             [
              0.3333333333333333,
              "#9c179e"
             ],
             [
              0.4444444444444444,
              "#bd3786"
             ],
             [
              0.5555555555555556,
              "#d8576b"
             ],
             [
              0.6666666666666666,
              "#ed7953"
             ],
             [
              0.7777777777777778,
              "#fb9f3a"
             ],
             [
              0.8888888888888888,
              "#fdca26"
             ],
             [
              1,
              "#f0f921"
             ]
            ],
            "type": "surface"
           }
          ],
          "table": [
           {
            "cells": {
             "fill": {
              "color": "#EBF0F8"
             },
             "line": {
              "color": "white"
             }
            },
            "header": {
             "fill": {
              "color": "#C8D4E3"
             },
             "line": {
              "color": "white"
             }
            },
            "type": "table"
           }
          ]
         },
         "layout": {
          "annotationdefaults": {
           "arrowcolor": "#2a3f5f",
           "arrowhead": 0,
           "arrowwidth": 1
          },
          "autotypenumbers": "strict",
          "coloraxis": {
           "colorbar": {
            "outlinewidth": 0,
            "ticks": ""
           }
          },
          "colorscale": {
           "diverging": [
            [
             0,
             "#8e0152"
            ],
            [
             0.1,
             "#c51b7d"
            ],
            [
             0.2,
             "#de77ae"
            ],
            [
             0.3,
             "#f1b6da"
            ],
            [
             0.4,
             "#fde0ef"
            ],
            [
             0.5,
             "#f7f7f7"
            ],
            [
             0.6,
             "#e6f5d0"
            ],
            [
             0.7,
             "#b8e186"
            ],
            [
             0.8,
             "#7fbc41"
            ],
            [
             0.9,
             "#4d9221"
            ],
            [
             1,
             "#276419"
            ]
           ],
           "sequential": [
            [
             0,
             "#0d0887"
            ],
            [
             0.1111111111111111,
             "#46039f"
            ],
            [
             0.2222222222222222,
             "#7201a8"
            ],
            [
             0.3333333333333333,
             "#9c179e"
            ],
            [
             0.4444444444444444,
             "#bd3786"
            ],
            [
             0.5555555555555556,
             "#d8576b"
            ],
            [
             0.6666666666666666,
             "#ed7953"
            ],
            [
             0.7777777777777778,
             "#fb9f3a"
            ],
            [
             0.8888888888888888,
             "#fdca26"
            ],
            [
             1,
             "#f0f921"
            ]
           ],
           "sequentialminus": [
            [
             0,
             "#0d0887"
            ],
            [
             0.1111111111111111,
             "#46039f"
            ],
            [
             0.2222222222222222,
             "#7201a8"
            ],
            [
             0.3333333333333333,
             "#9c179e"
            ],
            [
             0.4444444444444444,
             "#bd3786"
            ],
            [
             0.5555555555555556,
             "#d8576b"
            ],
            [
             0.6666666666666666,
             "#ed7953"
            ],
            [
             0.7777777777777778,
             "#fb9f3a"
            ],
            [
             0.8888888888888888,
             "#fdca26"
            ],
            [
             1,
             "#f0f921"
            ]
           ]
          },
          "colorway": [
           "#636efa",
           "#EF553B",
           "#00cc96",
           "#ab63fa",
           "#FFA15A",
           "#19d3f3",
           "#FF6692",
           "#B6E880",
           "#FF97FF",
           "#FECB52"
          ],
          "font": {
           "color": "#2a3f5f"
          },
          "geo": {
           "bgcolor": "white",
           "lakecolor": "white",
           "landcolor": "#E5ECF6",
           "showlakes": true,
           "showland": true,
           "subunitcolor": "white"
          },
          "hoverlabel": {
           "align": "left"
          },
          "hovermode": "closest",
          "mapbox": {
           "style": "light"
          },
          "paper_bgcolor": "white",
          "plot_bgcolor": "#E5ECF6",
          "polar": {
           "angularaxis": {
            "gridcolor": "white",
            "linecolor": "white",
            "ticks": ""
           },
           "bgcolor": "#E5ECF6",
           "radialaxis": {
            "gridcolor": "white",
            "linecolor": "white",
            "ticks": ""
           }
          },
          "scene": {
           "xaxis": {
            "backgroundcolor": "#E5ECF6",
            "gridcolor": "white",
            "gridwidth": 2,
            "linecolor": "white",
            "showbackground": true,
            "ticks": "",
            "zerolinecolor": "white"
           },
           "yaxis": {
            "backgroundcolor": "#E5ECF6",
            "gridcolor": "white",
            "gridwidth": 2,
            "linecolor": "white",
            "showbackground": true,
            "ticks": "",
            "zerolinecolor": "white"
           },
           "zaxis": {
            "backgroundcolor": "#E5ECF6",
            "gridcolor": "white",
            "gridwidth": 2,
            "linecolor": "white",
            "showbackground": true,
            "ticks": "",
            "zerolinecolor": "white"
           }
          },
          "shapedefaults": {
           "line": {
            "color": "#2a3f5f"
           }
          },
          "ternary": {
           "aaxis": {
            "gridcolor": "white",
            "linecolor": "white",
            "ticks": ""
           },
           "baxis": {
            "gridcolor": "white",
            "linecolor": "white",
            "ticks": ""
           },
           "bgcolor": "#E5ECF6",
           "caxis": {
            "gridcolor": "white",
            "linecolor": "white",
            "ticks": ""
           }
          },
          "title": {
           "x": 0.05
          },
          "xaxis": {
           "automargin": true,
           "gridcolor": "white",
           "linecolor": "white",
           "ticks": "",
           "title": {
            "standoff": 15
           },
           "zerolinecolor": "white",
           "zerolinewidth": 2
          },
          "yaxis": {
           "automargin": true,
           "gridcolor": "white",
           "linecolor": "white",
           "ticks": "",
           "title": {
            "standoff": 15
           },
           "zerolinecolor": "white",
           "zerolinewidth": 2
          }
         }
        },
        "title": {
         "text": "Brand Frequency"
        },
        "xaxis": {
         "anchor": "y",
         "domain": [
          0,
          1
         ],
         "tickangle": 45,
         "title": {
          "text": "Brand"
         }
        },
        "yaxis": {
         "anchor": "x",
         "domain": [
          0,
          1
         ],
         "title": {
          "text": "Count"
         }
        }
       }
      }
     },
     "metadata": {},
     "output_type": "display_data"
    }
   ],
   "source": [
    "# 不同品牌的记录数量分布\n",
    "brand_counts = data['brand'].value_counts().reset_index()\n",
    "brand_counts.columns = ['brand', 'count']\n",
    "\n",
    "# 创建动态图表\n",
    "fig = px.bar(brand_counts, x='brand', y='count', title='Brand Frequency', \n",
    "             labels={'count': 'Count', 'brand': 'Brand'},\n",
    "             text='count')\n",
    "fig.update_layout(\n",
    "    xaxis=dict(tickangle=45)\n",
    ")\n",
    "# 显示图表\n",
    "fig.show()"
   ]
  },
  {
   "cell_type": "code",
   "execution_count": 223,
   "metadata": {},
   "outputs": [
    {
     "data": {
      "text/html": [
       "<div>\n",
       "<style scoped>\n",
       "    .dataframe tbody tr th:only-of-type {\n",
       "        vertical-align: middle;\n",
       "    }\n",
       "\n",
       "    .dataframe tbody tr th {\n",
       "        vertical-align: top;\n",
       "    }\n",
       "\n",
       "    .dataframe thead th {\n",
       "        text-align: right;\n",
       "    }\n",
       "</style>\n",
       "<table border=\"1\" class=\"dataframe\">\n",
       "  <thead>\n",
       "    <tr style=\"text-align: right;\">\n",
       "      <th></th>\n",
       "      <th>brand</th>\n",
       "      <th>count</th>\n",
       "    </tr>\n",
       "  </thead>\n",
       "  <tbody>\n",
       "    <tr>\n",
       "      <th>0</th>\n",
       "      <td>Other</td>\n",
       "      <td>15859</td>\n",
       "    </tr>\n",
       "    <tr>\n",
       "      <th>1</th>\n",
       "      <td>Lipton</td>\n",
       "      <td>3651</td>\n",
       "    </tr>\n",
       "    <tr>\n",
       "      <th>2</th>\n",
       "      <td>Apple</td>\n",
       "      <td>2327</td>\n",
       "    </tr>\n",
       "    <tr>\n",
       "      <th>3</th>\n",
       "      <td>Huawei</td>\n",
       "      <td>2255</td>\n",
       "    </tr>\n",
       "    <tr>\n",
       "      <th>4</th>\n",
       "      <td>Midea</td>\n",
       "      <td>1513</td>\n",
       "    </tr>\n",
       "    <tr>\n",
       "      <th>...</th>\n",
       "      <td>...</td>\n",
       "      <td>...</td>\n",
       "    </tr>\n",
       "    <tr>\n",
       "      <th>67</th>\n",
       "      <td>Vichy</td>\n",
       "      <td>53</td>\n",
       "    </tr>\n",
       "    <tr>\n",
       "      <th>68</th>\n",
       "      <td>Oreo</td>\n",
       "      <td>49</td>\n",
       "    </tr>\n",
       "    <tr>\n",
       "      <th>69</th>\n",
       "      <td>KOPIKO</td>\n",
       "      <td>43</td>\n",
       "    </tr>\n",
       "    <tr>\n",
       "      <th>70</th>\n",
       "      <td>Calbee</td>\n",
       "      <td>38</td>\n",
       "    </tr>\n",
       "    <tr>\n",
       "      <th>71</th>\n",
       "      <td>Anta</td>\n",
       "      <td>25</td>\n",
       "    </tr>\n",
       "  </tbody>\n",
       "</table>\n",
       "<p>72 rows × 2 columns</p>\n",
       "</div>"
      ],
      "text/plain": [
       "     brand  count\n",
       "0    Other  15859\n",
       "1   Lipton   3651\n",
       "2    Apple   2327\n",
       "3   Huawei   2255\n",
       "4    Midea   1513\n",
       "..     ...    ...\n",
       "67   Vichy     53\n",
       "68    Oreo     49\n",
       "69  KOPIKO     43\n",
       "70  Calbee     38\n",
       "71    Anta     25\n",
       "\n",
       "[72 rows x 2 columns]"
      ]
     },
     "execution_count": 223,
     "metadata": {},
     "output_type": "execute_result"
    }
   ],
   "source": [
    "brand_counts = data.groupby(['brand'])['product_id'].nunique().sort_values(ascending=False).reset_index()\n",
    "brand_counts.columns = ['brand', 'count']\n",
    "brand_counts"
   ]
  },
  {
   "cell_type": "code",
   "execution_count": 224,
   "metadata": {},
   "outputs": [
    {
     "data": {
      "application/vnd.plotly.v1+json": {
       "config": {
        "plotlyServerURL": "https://plot.ly"
       },
       "data": [
        {
         "alignmentgroup": "True",
         "hovertemplate": "Brand=%{x}<br>Count=%{text}<extra></extra>",
         "legendgroup": "",
         "marker": {
          "color": "#636efa",
          "pattern": {
           "shape": ""
          }
         },
         "name": "",
         "offsetgroup": "",
         "orientation": "v",
         "showlegend": false,
         "text": [
          15859,
          3651,
          2327,
          2255,
          1513,
          1260,
          1211,
          1064,
          895,
          892,
          874,
          828,
          773,
          760,
          744,
          690,
          680,
          678,
          673,
          669,
          669,
          643,
          624,
          608,
          599,
          598,
          597,
          570,
          552,
          543,
          501,
          480,
          456,
          429,
          409,
          382,
          353,
          335,
          308,
          292,
          291,
          288,
          283,
          281,
          267,
          247,
          236,
          231,
          220,
          216,
          196,
          193,
          180,
          161,
          122,
          114,
          112,
          108,
          101,
          93,
          91,
          84,
          82,
          82,
          79,
          78,
          62,
          53,
          49,
          43,
          38,
          25
         ],
         "textposition": "auto",
         "type": "bar",
         "x": [
          "Other",
          "Lipton",
          "Apple",
          "Huawei",
          "Midea",
          "Kuka",
          "Li-Ning",
          "LukFook",
          "Quanyou",
          "Opple",
          "Olay",
          "H&M",
          "Innisfree",
          "Haier",
          "Chow Tai Fook",
          "Redmi",
          "Sony",
          "Sumsung",
          "Supor",
          "illuma",
          "DELL",
          "UNIQLO",
          "Chando",
          "Gree",
          "Ton Lion",
          "Estee Lauder",
          "Konka",
          "Vivo",
          "Joyoung",
          "LittleSwan",
          "Chow Taiseng",
          "LEDIN",
          "HLA",
          "Microsoft",
          "Lenovo",
          "Acer",
          "Playboy",
          "Jeans West",
          "Lancome",
          "Baleno",
          "Lays",
          "Loreal",
          "HP",
          "Adidas",
          "OPPO",
          "Proya",
          "Nestle",
          "SEPTWOLVES",
          "PEACEBIRD",
          "BE&CHERRY",
          "Nikon",
          "ZARA",
          "ELand",
          "ERKE",
          "Danco",
          "Quaker",
          "Kong",
          "CLINIQUE",
          "DOVE",
          "Chando ",
          "meiji",
          "SK-II",
          "Danisa",
          "Kisses",
          "Sulwhasoo",
          "Nike",
          "Three Squirrels",
          "Vichy",
          "Oreo",
          "KOPIKO",
          "Calbee",
          "Anta"
         ],
         "xaxis": "x",
         "y": [
          15859,
          3651,
          2327,
          2255,
          1513,
          1260,
          1211,
          1064,
          895,
          892,
          874,
          828,
          773,
          760,
          744,
          690,
          680,
          678,
          673,
          669,
          669,
          643,
          624,
          608,
          599,
          598,
          597,
          570,
          552,
          543,
          501,
          480,
          456,
          429,
          409,
          382,
          353,
          335,
          308,
          292,
          291,
          288,
          283,
          281,
          267,
          247,
          236,
          231,
          220,
          216,
          196,
          193,
          180,
          161,
          122,
          114,
          112,
          108,
          101,
          93,
          91,
          84,
          82,
          82,
          79,
          78,
          62,
          53,
          49,
          43,
          38,
          25
         ],
         "yaxis": "y"
        }
       ],
       "layout": {
        "barmode": "relative",
        "legend": {
         "tracegroupgap": 0
        },
        "template": {
         "data": {
          "bar": [
           {
            "error_x": {
             "color": "#2a3f5f"
            },
            "error_y": {
             "color": "#2a3f5f"
            },
            "marker": {
             "line": {
              "color": "#E5ECF6",
              "width": 0.5
             },
             "pattern": {
              "fillmode": "overlay",
              "size": 10,
              "solidity": 0.2
             }
            },
            "type": "bar"
           }
          ],
          "barpolar": [
           {
            "marker": {
             "line": {
              "color": "#E5ECF6",
              "width": 0.5
             },
             "pattern": {
              "fillmode": "overlay",
              "size": 10,
              "solidity": 0.2
             }
            },
            "type": "barpolar"
           }
          ],
          "carpet": [
           {
            "aaxis": {
             "endlinecolor": "#2a3f5f",
             "gridcolor": "white",
             "linecolor": "white",
             "minorgridcolor": "white",
             "startlinecolor": "#2a3f5f"
            },
            "baxis": {
             "endlinecolor": "#2a3f5f",
             "gridcolor": "white",
             "linecolor": "white",
             "minorgridcolor": "white",
             "startlinecolor": "#2a3f5f"
            },
            "type": "carpet"
           }
          ],
          "choropleth": [
           {
            "colorbar": {
             "outlinewidth": 0,
             "ticks": ""
            },
            "type": "choropleth"
           }
          ],
          "contour": [
           {
            "colorbar": {
             "outlinewidth": 0,
             "ticks": ""
            },
            "colorscale": [
             [
              0,
              "#0d0887"
             ],
             [
              0.1111111111111111,
              "#46039f"
             ],
             [
              0.2222222222222222,
              "#7201a8"
             ],
             [
              0.3333333333333333,
              "#9c179e"
             ],
             [
              0.4444444444444444,
              "#bd3786"
             ],
             [
              0.5555555555555556,
              "#d8576b"
             ],
             [
              0.6666666666666666,
              "#ed7953"
             ],
             [
              0.7777777777777778,
              "#fb9f3a"
             ],
             [
              0.8888888888888888,
              "#fdca26"
             ],
             [
              1,
              "#f0f921"
             ]
            ],
            "type": "contour"
           }
          ],
          "contourcarpet": [
           {
            "colorbar": {
             "outlinewidth": 0,
             "ticks": ""
            },
            "type": "contourcarpet"
           }
          ],
          "heatmap": [
           {
            "colorbar": {
             "outlinewidth": 0,
             "ticks": ""
            },
            "colorscale": [
             [
              0,
              "#0d0887"
             ],
             [
              0.1111111111111111,
              "#46039f"
             ],
             [
              0.2222222222222222,
              "#7201a8"
             ],
             [
              0.3333333333333333,
              "#9c179e"
             ],
             [
              0.4444444444444444,
              "#bd3786"
             ],
             [
              0.5555555555555556,
              "#d8576b"
             ],
             [
              0.6666666666666666,
              "#ed7953"
             ],
             [
              0.7777777777777778,
              "#fb9f3a"
             ],
             [
              0.8888888888888888,
              "#fdca26"
             ],
             [
              1,
              "#f0f921"
             ]
            ],
            "type": "heatmap"
           }
          ],
          "heatmapgl": [
           {
            "colorbar": {
             "outlinewidth": 0,
             "ticks": ""
            },
            "colorscale": [
             [
              0,
              "#0d0887"
             ],
             [
              0.1111111111111111,
              "#46039f"
             ],
             [
              0.2222222222222222,
              "#7201a8"
             ],
             [
              0.3333333333333333,
              "#9c179e"
             ],
             [
              0.4444444444444444,
              "#bd3786"
             ],
             [
              0.5555555555555556,
              "#d8576b"
             ],
             [
              0.6666666666666666,
              "#ed7953"
             ],
             [
              0.7777777777777778,
              "#fb9f3a"
             ],
             [
              0.8888888888888888,
              "#fdca26"
             ],
             [
              1,
              "#f0f921"
             ]
            ],
            "type": "heatmapgl"
           }
          ],
          "histogram": [
           {
            "marker": {
             "pattern": {
              "fillmode": "overlay",
              "size": 10,
              "solidity": 0.2
             }
            },
            "type": "histogram"
           }
          ],
          "histogram2d": [
           {
            "colorbar": {
             "outlinewidth": 0,
             "ticks": ""
            },
            "colorscale": [
             [
              0,
              "#0d0887"
             ],
             [
              0.1111111111111111,
              "#46039f"
             ],
             [
              0.2222222222222222,
              "#7201a8"
             ],
             [
              0.3333333333333333,
              "#9c179e"
             ],
             [
              0.4444444444444444,
              "#bd3786"
             ],
             [
              0.5555555555555556,
              "#d8576b"
             ],
             [
              0.6666666666666666,
              "#ed7953"
             ],
             [
              0.7777777777777778,
              "#fb9f3a"
             ],
             [
              0.8888888888888888,
              "#fdca26"
             ],
             [
              1,
              "#f0f921"
             ]
            ],
            "type": "histogram2d"
           }
          ],
          "histogram2dcontour": [
           {
            "colorbar": {
             "outlinewidth": 0,
             "ticks": ""
            },
            "colorscale": [
             [
              0,
              "#0d0887"
             ],
             [
              0.1111111111111111,
              "#46039f"
             ],
             [
              0.2222222222222222,
              "#7201a8"
             ],
             [
              0.3333333333333333,
              "#9c179e"
             ],
             [
              0.4444444444444444,
              "#bd3786"
             ],
             [
              0.5555555555555556,
              "#d8576b"
             ],
             [
              0.6666666666666666,
              "#ed7953"
             ],
             [
              0.7777777777777778,
              "#fb9f3a"
             ],
             [
              0.8888888888888888,
              "#fdca26"
             ],
             [
              1,
              "#f0f921"
             ]
            ],
            "type": "histogram2dcontour"
           }
          ],
          "mesh3d": [
           {
            "colorbar": {
             "outlinewidth": 0,
             "ticks": ""
            },
            "type": "mesh3d"
           }
          ],
          "parcoords": [
           {
            "line": {
             "colorbar": {
              "outlinewidth": 0,
              "ticks": ""
             }
            },
            "type": "parcoords"
           }
          ],
          "pie": [
           {
            "automargin": true,
            "type": "pie"
           }
          ],
          "scatter": [
           {
            "fillpattern": {
             "fillmode": "overlay",
             "size": 10,
             "solidity": 0.2
            },
            "type": "scatter"
           }
          ],
          "scatter3d": [
           {
            "line": {
             "colorbar": {
              "outlinewidth": 0,
              "ticks": ""
             }
            },
            "marker": {
             "colorbar": {
              "outlinewidth": 0,
              "ticks": ""
             }
            },
            "type": "scatter3d"
           }
          ],
          "scattercarpet": [
           {
            "marker": {
             "colorbar": {
              "outlinewidth": 0,
              "ticks": ""
             }
            },
            "type": "scattercarpet"
           }
          ],
          "scattergeo": [
           {
            "marker": {
             "colorbar": {
              "outlinewidth": 0,
              "ticks": ""
             }
            },
            "type": "scattergeo"
           }
          ],
          "scattergl": [
           {
            "marker": {
             "colorbar": {
              "outlinewidth": 0,
              "ticks": ""
             }
            },
            "type": "scattergl"
           }
          ],
          "scattermapbox": [
           {
            "marker": {
             "colorbar": {
              "outlinewidth": 0,
              "ticks": ""
             }
            },
            "type": "scattermapbox"
           }
          ],
          "scatterpolar": [
           {
            "marker": {
             "colorbar": {
              "outlinewidth": 0,
              "ticks": ""
             }
            },
            "type": "scatterpolar"
           }
          ],
          "scatterpolargl": [
           {
            "marker": {
             "colorbar": {
              "outlinewidth": 0,
              "ticks": ""
             }
            },
            "type": "scatterpolargl"
           }
          ],
          "scatterternary": [
           {
            "marker": {
             "colorbar": {
              "outlinewidth": 0,
              "ticks": ""
             }
            },
            "type": "scatterternary"
           }
          ],
          "surface": [
           {
            "colorbar": {
             "outlinewidth": 0,
             "ticks": ""
            },
            "colorscale": [
             [
              0,
              "#0d0887"
             ],
             [
              0.1111111111111111,
              "#46039f"
             ],
             [
              0.2222222222222222,
              "#7201a8"
             ],
             [
              0.3333333333333333,
              "#9c179e"
             ],
             [
              0.4444444444444444,
              "#bd3786"
             ],
             [
              0.5555555555555556,
              "#d8576b"
             ],
             [
              0.6666666666666666,
              "#ed7953"
             ],
             [
              0.7777777777777778,
              "#fb9f3a"
             ],
             [
              0.8888888888888888,
              "#fdca26"
             ],
             [
              1,
              "#f0f921"
             ]
            ],
            "type": "surface"
           }
          ],
          "table": [
           {
            "cells": {
             "fill": {
              "color": "#EBF0F8"
             },
             "line": {
              "color": "white"
             }
            },
            "header": {
             "fill": {
              "color": "#C8D4E3"
             },
             "line": {
              "color": "white"
             }
            },
            "type": "table"
           }
          ]
         },
         "layout": {
          "annotationdefaults": {
           "arrowcolor": "#2a3f5f",
           "arrowhead": 0,
           "arrowwidth": 1
          },
          "autotypenumbers": "strict",
          "coloraxis": {
           "colorbar": {
            "outlinewidth": 0,
            "ticks": ""
           }
          },
          "colorscale": {
           "diverging": [
            [
             0,
             "#8e0152"
            ],
            [
             0.1,
             "#c51b7d"
            ],
            [
             0.2,
             "#de77ae"
            ],
            [
             0.3,
             "#f1b6da"
            ],
            [
             0.4,
             "#fde0ef"
            ],
            [
             0.5,
             "#f7f7f7"
            ],
            [
             0.6,
             "#e6f5d0"
            ],
            [
             0.7,
             "#b8e186"
            ],
            [
             0.8,
             "#7fbc41"
            ],
            [
             0.9,
             "#4d9221"
            ],
            [
             1,
             "#276419"
            ]
           ],
           "sequential": [
            [
             0,
             "#0d0887"
            ],
            [
             0.1111111111111111,
             "#46039f"
            ],
            [
             0.2222222222222222,
             "#7201a8"
            ],
            [
             0.3333333333333333,
             "#9c179e"
            ],
            [
             0.4444444444444444,
             "#bd3786"
            ],
            [
             0.5555555555555556,
             "#d8576b"
            ],
            [
             0.6666666666666666,
             "#ed7953"
            ],
            [
             0.7777777777777778,
             "#fb9f3a"
            ],
            [
             0.8888888888888888,
             "#fdca26"
            ],
            [
             1,
             "#f0f921"
            ]
           ],
           "sequentialminus": [
            [
             0,
             "#0d0887"
            ],
            [
             0.1111111111111111,
             "#46039f"
            ],
            [
             0.2222222222222222,
             "#7201a8"
            ],
            [
             0.3333333333333333,
             "#9c179e"
            ],
            [
             0.4444444444444444,
             "#bd3786"
            ],
            [
             0.5555555555555556,
             "#d8576b"
            ],
            [
             0.6666666666666666,
             "#ed7953"
            ],
            [
             0.7777777777777778,
             "#fb9f3a"
            ],
            [
             0.8888888888888888,
             "#fdca26"
            ],
            [
             1,
             "#f0f921"
            ]
           ]
          },
          "colorway": [
           "#636efa",
           "#EF553B",
           "#00cc96",
           "#ab63fa",
           "#FFA15A",
           "#19d3f3",
           "#FF6692",
           "#B6E880",
           "#FF97FF",
           "#FECB52"
          ],
          "font": {
           "color": "#2a3f5f"
          },
          "geo": {
           "bgcolor": "white",
           "lakecolor": "white",
           "landcolor": "#E5ECF6",
           "showlakes": true,
           "showland": true,
           "subunitcolor": "white"
          },
          "hoverlabel": {
           "align": "left"
          },
          "hovermode": "closest",
          "mapbox": {
           "style": "light"
          },
          "paper_bgcolor": "white",
          "plot_bgcolor": "#E5ECF6",
          "polar": {
           "angularaxis": {
            "gridcolor": "white",
            "linecolor": "white",
            "ticks": ""
           },
           "bgcolor": "#E5ECF6",
           "radialaxis": {
            "gridcolor": "white",
            "linecolor": "white",
            "ticks": ""
           }
          },
          "scene": {
           "xaxis": {
            "backgroundcolor": "#E5ECF6",
            "gridcolor": "white",
            "gridwidth": 2,
            "linecolor": "white",
            "showbackground": true,
            "ticks": "",
            "zerolinecolor": "white"
           },
           "yaxis": {
            "backgroundcolor": "#E5ECF6",
            "gridcolor": "white",
            "gridwidth": 2,
            "linecolor": "white",
            "showbackground": true,
            "ticks": "",
            "zerolinecolor": "white"
           },
           "zaxis": {
            "backgroundcolor": "#E5ECF6",
            "gridcolor": "white",
            "gridwidth": 2,
            "linecolor": "white",
            "showbackground": true,
            "ticks": "",
            "zerolinecolor": "white"
           }
          },
          "shapedefaults": {
           "line": {
            "color": "#2a3f5f"
           }
          },
          "ternary": {
           "aaxis": {
            "gridcolor": "white",
            "linecolor": "white",
            "ticks": ""
           },
           "baxis": {
            "gridcolor": "white",
            "linecolor": "white",
            "ticks": ""
           },
           "bgcolor": "#E5ECF6",
           "caxis": {
            "gridcolor": "white",
            "linecolor": "white",
            "ticks": ""
           }
          },
          "title": {
           "x": 0.05
          },
          "xaxis": {
           "automargin": true,
           "gridcolor": "white",
           "linecolor": "white",
           "ticks": "",
           "title": {
            "standoff": 15
           },
           "zerolinecolor": "white",
           "zerolinewidth": 2
          },
          "yaxis": {
           "automargin": true,
           "gridcolor": "white",
           "linecolor": "white",
           "ticks": "",
           "title": {
            "standoff": 15
           },
           "zerolinecolor": "white",
           "zerolinewidth": 2
          }
         }
        },
        "title": {
         "text": "Brand Frequency"
        },
        "xaxis": {
         "anchor": "y",
         "domain": [
          0,
          1
         ],
         "tickangle": 45,
         "title": {
          "text": "Brand"
         }
        },
        "yaxis": {
         "anchor": "x",
         "domain": [
          0,
          1
         ],
         "title": {
          "text": "Count"
         }
        }
       }
      }
     },
     "metadata": {},
     "output_type": "display_data"
    }
   ],
   "source": [
    "# 不同品牌的商品数量分布\n",
    "brand_counts = data.groupby(['brand'])['product_id'].nunique().sort_values(ascending=False).reset_index()\n",
    "brand_counts.columns = ['brand', 'count']\n",
    "\n",
    "# 创建动态图表\n",
    "fig = px.bar(brand_counts, x='brand', y='count', title='Brand Frequency', \n",
    "             labels={'count': 'Count', 'brand': 'Brand'},\n",
    "             text='count')\n",
    "fig.update_layout(\n",
    "    xaxis=dict(tickangle=45)\n",
    ")\n",
    "# 显示图表\n",
    "fig.show()"
   ]
  },
  {
   "cell_type": "markdown",
   "metadata": {},
   "source": [
    "**category**\n",
    "- 53 个产品种类"
   ]
  },
  {
   "cell_type": "code",
   "execution_count": 215,
   "metadata": {},
   "outputs": [
    {
     "data": {
      "text/plain": [
       "53"
      ]
     },
     "execution_count": 215,
     "metadata": {},
     "output_type": "execute_result"
    }
   ],
   "source": [
    "# 产品种类数\n",
    "data['category'].nunique()"
   ]
  },
  {
   "cell_type": "code",
   "execution_count": 43,
   "metadata": {},
   "outputs": [
    {
     "data": {
      "application/vnd.plotly.v1+json": {
       "config": {
        "plotlyServerURL": "https://plot.ly"
       },
       "data": [
        {
         "alignmentgroup": "True",
         "hovertemplate": "category=%{x}<br>Count=%{text}<extra></extra>",
         "legendgroup": "",
         "marker": {
          "color": "#636efa",
          "pattern": {
           "shape": ""
          }
         },
         "name": "",
         "offsetgroup": "",
         "orientation": "v",
         "showlegend": false,
         "text": [
          49266,
          28171,
          10113,
          8254,
          6773,
          5650,
          5315,
          4544,
          4380,
          3950,
          3853,
          2967,
          2926,
          2829,
          2679,
          2447,
          2411,
          2379,
          2309,
          2293,
          2154,
          1781,
          1757,
          1687,
          1538,
          1492,
          1477,
          1474,
          1461,
          1441,
          1353,
          1267,
          1197,
          1137,
          1094,
          1088,
          964,
          888,
          777,
          624,
          601,
          546,
          492,
          408,
          389,
          302,
          235,
          154,
          143,
          124,
          121,
          83,
          69
         ],
         "textposition": "auto",
         "type": "bar",
         "x": [
          "Phone",
          "Coat",
          "Tea",
          "Notebook",
          "Tablet",
          "Digital Camera",
          "Face Cream",
          "Foundation Make-up",
          "Facial Essence",
          "Candy",
          "Cookie",
          "Bed",
          "Perfume",
          "Necklace",
          "Xbox",
          "Facial Moisturizer",
          "Milk",
          "Washing Machine",
          "Makerup Water",
          "Eye Shadow",
          "Lipstick",
          "Air Conditioner",
          "Sunscreen Cream",
          "Bracelet",
          "Induction Cooker",
          "Facial Mask",
          "Coffee",
          "Refrigerator",
          "Sofa",
          "Light",
          "Milk Power",
          "Football",
          "Rice Cooker",
          "Television",
          "Jeans",
          "Nut",
          "Badminton",
          "Potatio Chips",
          "Electric Kettle",
          "Chocolate",
          "Basketball",
          "Ring",
          "Sport Suit",
          "Running Shoes",
          "Cake",
          "Oatmeal",
          "T Shirt",
          "Sweater",
          "Skirt",
          "Other",
          "Basketball Shoes",
          "Ipad",
          "Pants"
         ],
         "xaxis": "x",
         "y": [
          49266,
          28171,
          10113,
          8254,
          6773,
          5650,
          5315,
          4544,
          4380,
          3950,
          3853,
          2967,
          2926,
          2829,
          2679,
          2447,
          2411,
          2379,
          2309,
          2293,
          2154,
          1781,
          1757,
          1687,
          1538,
          1492,
          1477,
          1474,
          1461,
          1441,
          1353,
          1267,
          1197,
          1137,
          1094,
          1088,
          964,
          888,
          777,
          624,
          601,
          546,
          492,
          408,
          389,
          302,
          235,
          154,
          143,
          124,
          121,
          83,
          69
         ],
         "yaxis": "y"
        }
       ],
       "layout": {
        "barmode": "relative",
        "legend": {
         "tracegroupgap": 0
        },
        "template": {
         "data": {
          "bar": [
           {
            "error_x": {
             "color": "#2a3f5f"
            },
            "error_y": {
             "color": "#2a3f5f"
            },
            "marker": {
             "line": {
              "color": "#E5ECF6",
              "width": 0.5
             },
             "pattern": {
              "fillmode": "overlay",
              "size": 10,
              "solidity": 0.2
             }
            },
            "type": "bar"
           }
          ],
          "barpolar": [
           {
            "marker": {
             "line": {
              "color": "#E5ECF6",
              "width": 0.5
             },
             "pattern": {
              "fillmode": "overlay",
              "size": 10,
              "solidity": 0.2
             }
            },
            "type": "barpolar"
           }
          ],
          "carpet": [
           {
            "aaxis": {
             "endlinecolor": "#2a3f5f",
             "gridcolor": "white",
             "linecolor": "white",
             "minorgridcolor": "white",
             "startlinecolor": "#2a3f5f"
            },
            "baxis": {
             "endlinecolor": "#2a3f5f",
             "gridcolor": "white",
             "linecolor": "white",
             "minorgridcolor": "white",
             "startlinecolor": "#2a3f5f"
            },
            "type": "carpet"
           }
          ],
          "choropleth": [
           {
            "colorbar": {
             "outlinewidth": 0,
             "ticks": ""
            },
            "type": "choropleth"
           }
          ],
          "contour": [
           {
            "colorbar": {
             "outlinewidth": 0,
             "ticks": ""
            },
            "colorscale": [
             [
              0,
              "#0d0887"
             ],
             [
              0.1111111111111111,
              "#46039f"
             ],
             [
              0.2222222222222222,
              "#7201a8"
             ],
             [
              0.3333333333333333,
              "#9c179e"
             ],
             [
              0.4444444444444444,
              "#bd3786"
             ],
             [
              0.5555555555555556,
              "#d8576b"
             ],
             [
              0.6666666666666666,
              "#ed7953"
             ],
             [
              0.7777777777777778,
              "#fb9f3a"
             ],
             [
              0.8888888888888888,
              "#fdca26"
             ],
             [
              1,
              "#f0f921"
             ]
            ],
            "type": "contour"
           }
          ],
          "contourcarpet": [
           {
            "colorbar": {
             "outlinewidth": 0,
             "ticks": ""
            },
            "type": "contourcarpet"
           }
          ],
          "heatmap": [
           {
            "colorbar": {
             "outlinewidth": 0,
             "ticks": ""
            },
            "colorscale": [
             [
              0,
              "#0d0887"
             ],
             [
              0.1111111111111111,
              "#46039f"
             ],
             [
              0.2222222222222222,
              "#7201a8"
             ],
             [
              0.3333333333333333,
              "#9c179e"
             ],
             [
              0.4444444444444444,
              "#bd3786"
             ],
             [
              0.5555555555555556,
              "#d8576b"
             ],
             [
              0.6666666666666666,
              "#ed7953"
             ],
             [
              0.7777777777777778,
              "#fb9f3a"
             ],
             [
              0.8888888888888888,
              "#fdca26"
             ],
             [
              1,
              "#f0f921"
             ]
            ],
            "type": "heatmap"
           }
          ],
          "heatmapgl": [
           {
            "colorbar": {
             "outlinewidth": 0,
             "ticks": ""
            },
            "colorscale": [
             [
              0,
              "#0d0887"
             ],
             [
              0.1111111111111111,
              "#46039f"
             ],
             [
              0.2222222222222222,
              "#7201a8"
             ],
             [
              0.3333333333333333,
              "#9c179e"
             ],
             [
              0.4444444444444444,
              "#bd3786"
             ],
             [
              0.5555555555555556,
              "#d8576b"
             ],
             [
              0.6666666666666666,
              "#ed7953"
             ],
             [
              0.7777777777777778,
              "#fb9f3a"
             ],
             [
              0.8888888888888888,
              "#fdca26"
             ],
             [
              1,
              "#f0f921"
             ]
            ],
            "type": "heatmapgl"
           }
          ],
          "histogram": [
           {
            "marker": {
             "pattern": {
              "fillmode": "overlay",
              "size": 10,
              "solidity": 0.2
             }
            },
            "type": "histogram"
           }
          ],
          "histogram2d": [
           {
            "colorbar": {
             "outlinewidth": 0,
             "ticks": ""
            },
            "colorscale": [
             [
              0,
              "#0d0887"
             ],
             [
              0.1111111111111111,
              "#46039f"
             ],
             [
              0.2222222222222222,
              "#7201a8"
             ],
             [
              0.3333333333333333,
              "#9c179e"
             ],
             [
              0.4444444444444444,
              "#bd3786"
             ],
             [
              0.5555555555555556,
              "#d8576b"
             ],
             [
              0.6666666666666666,
              "#ed7953"
             ],
             [
              0.7777777777777778,
              "#fb9f3a"
             ],
             [
              0.8888888888888888,
              "#fdca26"
             ],
             [
              1,
              "#f0f921"
             ]
            ],
            "type": "histogram2d"
           }
          ],
          "histogram2dcontour": [
           {
            "colorbar": {
             "outlinewidth": 0,
             "ticks": ""
            },
            "colorscale": [
             [
              0,
              "#0d0887"
             ],
             [
              0.1111111111111111,
              "#46039f"
             ],
             [
              0.2222222222222222,
              "#7201a8"
             ],
             [
              0.3333333333333333,
              "#9c179e"
             ],
             [
              0.4444444444444444,
              "#bd3786"
             ],
             [
              0.5555555555555556,
              "#d8576b"
             ],
             [
              0.6666666666666666,
              "#ed7953"
             ],
             [
              0.7777777777777778,
              "#fb9f3a"
             ],
             [
              0.8888888888888888,
              "#fdca26"
             ],
             [
              1,
              "#f0f921"
             ]
            ],
            "type": "histogram2dcontour"
           }
          ],
          "mesh3d": [
           {
            "colorbar": {
             "outlinewidth": 0,
             "ticks": ""
            },
            "type": "mesh3d"
           }
          ],
          "parcoords": [
           {
            "line": {
             "colorbar": {
              "outlinewidth": 0,
              "ticks": ""
             }
            },
            "type": "parcoords"
           }
          ],
          "pie": [
           {
            "automargin": true,
            "type": "pie"
           }
          ],
          "scatter": [
           {
            "fillpattern": {
             "fillmode": "overlay",
             "size": 10,
             "solidity": 0.2
            },
            "type": "scatter"
           }
          ],
          "scatter3d": [
           {
            "line": {
             "colorbar": {
              "outlinewidth": 0,
              "ticks": ""
             }
            },
            "marker": {
             "colorbar": {
              "outlinewidth": 0,
              "ticks": ""
             }
            },
            "type": "scatter3d"
           }
          ],
          "scattercarpet": [
           {
            "marker": {
             "colorbar": {
              "outlinewidth": 0,
              "ticks": ""
             }
            },
            "type": "scattercarpet"
           }
          ],
          "scattergeo": [
           {
            "marker": {
             "colorbar": {
              "outlinewidth": 0,
              "ticks": ""
             }
            },
            "type": "scattergeo"
           }
          ],
          "scattergl": [
           {
            "marker": {
             "colorbar": {
              "outlinewidth": 0,
              "ticks": ""
             }
            },
            "type": "scattergl"
           }
          ],
          "scattermapbox": [
           {
            "marker": {
             "colorbar": {
              "outlinewidth": 0,
              "ticks": ""
             }
            },
            "type": "scattermapbox"
           }
          ],
          "scatterpolar": [
           {
            "marker": {
             "colorbar": {
              "outlinewidth": 0,
              "ticks": ""
             }
            },
            "type": "scatterpolar"
           }
          ],
          "scatterpolargl": [
           {
            "marker": {
             "colorbar": {
              "outlinewidth": 0,
              "ticks": ""
             }
            },
            "type": "scatterpolargl"
           }
          ],
          "scatterternary": [
           {
            "marker": {
             "colorbar": {
              "outlinewidth": 0,
              "ticks": ""
             }
            },
            "type": "scatterternary"
           }
          ],
          "surface": [
           {
            "colorbar": {
             "outlinewidth": 0,
             "ticks": ""
            },
            "colorscale": [
             [
              0,
              "#0d0887"
             ],
             [
              0.1111111111111111,
              "#46039f"
             ],
             [
              0.2222222222222222,
              "#7201a8"
             ],
             [
              0.3333333333333333,
              "#9c179e"
             ],
             [
              0.4444444444444444,
              "#bd3786"
             ],
             [
              0.5555555555555556,
              "#d8576b"
             ],
             [
              0.6666666666666666,
              "#ed7953"
             ],
             [
              0.7777777777777778,
              "#fb9f3a"
             ],
             [
              0.8888888888888888,
              "#fdca26"
             ],
             [
              1,
              "#f0f921"
             ]
            ],
            "type": "surface"
           }
          ],
          "table": [
           {
            "cells": {
             "fill": {
              "color": "#EBF0F8"
             },
             "line": {
              "color": "white"
             }
            },
            "header": {
             "fill": {
              "color": "#C8D4E3"
             },
             "line": {
              "color": "white"
             }
            },
            "type": "table"
           }
          ]
         },
         "layout": {
          "annotationdefaults": {
           "arrowcolor": "#2a3f5f",
           "arrowhead": 0,
           "arrowwidth": 1
          },
          "autotypenumbers": "strict",
          "coloraxis": {
           "colorbar": {
            "outlinewidth": 0,
            "ticks": ""
           }
          },
          "colorscale": {
           "diverging": [
            [
             0,
             "#8e0152"
            ],
            [
             0.1,
             "#c51b7d"
            ],
            [
             0.2,
             "#de77ae"
            ],
            [
             0.3,
             "#f1b6da"
            ],
            [
             0.4,
             "#fde0ef"
            ],
            [
             0.5,
             "#f7f7f7"
            ],
            [
             0.6,
             "#e6f5d0"
            ],
            [
             0.7,
             "#b8e186"
            ],
            [
             0.8,
             "#7fbc41"
            ],
            [
             0.9,
             "#4d9221"
            ],
            [
             1,
             "#276419"
            ]
           ],
           "sequential": [
            [
             0,
             "#0d0887"
            ],
            [
             0.1111111111111111,
             "#46039f"
            ],
            [
             0.2222222222222222,
             "#7201a8"
            ],
            [
             0.3333333333333333,
             "#9c179e"
            ],
            [
             0.4444444444444444,
             "#bd3786"
            ],
            [
             0.5555555555555556,
             "#d8576b"
            ],
            [
             0.6666666666666666,
             "#ed7953"
            ],
            [
             0.7777777777777778,
             "#fb9f3a"
            ],
            [
             0.8888888888888888,
             "#fdca26"
            ],
            [
             1,
             "#f0f921"
            ]
           ],
           "sequentialminus": [
            [
             0,
             "#0d0887"
            ],
            [
             0.1111111111111111,
             "#46039f"
            ],
            [
             0.2222222222222222,
             "#7201a8"
            ],
            [
             0.3333333333333333,
             "#9c179e"
            ],
            [
             0.4444444444444444,
             "#bd3786"
            ],
            [
             0.5555555555555556,
             "#d8576b"
            ],
            [
             0.6666666666666666,
             "#ed7953"
            ],
            [
             0.7777777777777778,
             "#fb9f3a"
            ],
            [
             0.8888888888888888,
             "#fdca26"
            ],
            [
             1,
             "#f0f921"
            ]
           ]
          },
          "colorway": [
           "#636efa",
           "#EF553B",
           "#00cc96",
           "#ab63fa",
           "#FFA15A",
           "#19d3f3",
           "#FF6692",
           "#B6E880",
           "#FF97FF",
           "#FECB52"
          ],
          "font": {
           "color": "#2a3f5f"
          },
          "geo": {
           "bgcolor": "white",
           "lakecolor": "white",
           "landcolor": "#E5ECF6",
           "showlakes": true,
           "showland": true,
           "subunitcolor": "white"
          },
          "hoverlabel": {
           "align": "left"
          },
          "hovermode": "closest",
          "mapbox": {
           "style": "light"
          },
          "paper_bgcolor": "white",
          "plot_bgcolor": "#E5ECF6",
          "polar": {
           "angularaxis": {
            "gridcolor": "white",
            "linecolor": "white",
            "ticks": ""
           },
           "bgcolor": "#E5ECF6",
           "radialaxis": {
            "gridcolor": "white",
            "linecolor": "white",
            "ticks": ""
           }
          },
          "scene": {
           "xaxis": {
            "backgroundcolor": "#E5ECF6",
            "gridcolor": "white",
            "gridwidth": 2,
            "linecolor": "white",
            "showbackground": true,
            "ticks": "",
            "zerolinecolor": "white"
           },
           "yaxis": {
            "backgroundcolor": "#E5ECF6",
            "gridcolor": "white",
            "gridwidth": 2,
            "linecolor": "white",
            "showbackground": true,
            "ticks": "",
            "zerolinecolor": "white"
           },
           "zaxis": {
            "backgroundcolor": "#E5ECF6",
            "gridcolor": "white",
            "gridwidth": 2,
            "linecolor": "white",
            "showbackground": true,
            "ticks": "",
            "zerolinecolor": "white"
           }
          },
          "shapedefaults": {
           "line": {
            "color": "#2a3f5f"
           }
          },
          "ternary": {
           "aaxis": {
            "gridcolor": "white",
            "linecolor": "white",
            "ticks": ""
           },
           "baxis": {
            "gridcolor": "white",
            "linecolor": "white",
            "ticks": ""
           },
           "bgcolor": "#E5ECF6",
           "caxis": {
            "gridcolor": "white",
            "linecolor": "white",
            "ticks": ""
           }
          },
          "title": {
           "x": 0.05
          },
          "xaxis": {
           "automargin": true,
           "gridcolor": "white",
           "linecolor": "white",
           "ticks": "",
           "title": {
            "standoff": 15
           },
           "zerolinecolor": "white",
           "zerolinewidth": 2
          },
          "yaxis": {
           "automargin": true,
           "gridcolor": "white",
           "linecolor": "white",
           "ticks": "",
           "title": {
            "standoff": 15
           },
           "zerolinecolor": "white",
           "zerolinewidth": 2
          }
         }
        },
        "title": {
         "text": "category Frequency"
        },
        "xaxis": {
         "anchor": "y",
         "domain": [
          0,
          1
         ],
         "tickangle": 45,
         "title": {
          "text": "category"
         }
        },
        "yaxis": {
         "anchor": "x",
         "domain": [
          0,
          1
         ],
         "title": {
          "text": "Count"
         }
        }
       }
      }
     },
     "metadata": {},
     "output_type": "display_data"
    }
   ],
   "source": [
    "brand_counts = data['category'].value_counts().reset_index()\n",
    "brand_counts.columns = ['category', 'count']\n",
    "\n",
    "# 创建动态图表\n",
    "fig = px.bar(brand_counts, x='category', y='count', title='category Frequency', \n",
    "             labels={'count': 'Count', 'category': 'category'},\n",
    "             text='count')\n",
    "fig.update_layout(\n",
    "    xaxis=dict(tickangle=45)\n",
    ")\n",
    "\n",
    "# 显示图表\n",
    "fig.show()"
   ]
  },
  {
   "cell_type": "markdown",
   "metadata": {},
   "source": [
    "**product_market_date**\n",
    "- 产品上市日期\n"
   ]
  },
  {
   "cell_type": "code",
   "execution_count": 44,
   "metadata": {},
   "outputs": [
    {
     "name": "stdout",
     "output_type": "stream",
     "text": [
      "最早日期： 2008-05-16\n",
      "最晚日期： 2018-04-14\n",
      "\n",
      "商品上架时间按年分布\n",
      "product_market_date\n",
      "2008        3\n",
      "2009       40\n",
      "2010      211\n",
      "2011      285\n",
      "2012      709\n",
      "2013     1644\n",
      "2014     3050\n",
      "2015     6182\n",
      "2016    11988\n",
      "2017    23757\n",
      "2018     5081\n",
      "Name: product_id, dtype: int64\n"
     ]
    }
   ],
   "source": [
    "\n",
    "# 时间范围\n",
    "print(\"最早日期：\",data['product_market_date'].min().date())\n",
    "print(\"最晚日期：\",data['product_market_date'].max().date(),end='\\n\\n')\n",
    "\n",
    "# 商品上架时间按年分布\n",
    "print(\"商品上架时间按年分布\")\n",
    "print(data.groupby(data['product_market_date'].dt.year)['product_id'].nunique())"
   ]
  },
  {
   "cell_type": "markdown",
   "metadata": {},
   "source": [
    "## 店铺信息"
   ]
  },
  {
   "cell_type": "markdown",
   "metadata": {},
   "source": [
    "**shop_id** \n",
    "- 作为店铺信息的主键，共有6086个店铺\n"
   ]
  },
  {
   "cell_type": "code",
   "execution_count": 146,
   "metadata": {},
   "outputs": [
    {
     "data": {
      "text/plain": [
       "6086"
      ]
     },
     "execution_count": 146,
     "metadata": {},
     "output_type": "execute_result"
    }
   ],
   "source": [
    "# 去重店铺数\n",
    "data['shop_id'].nunique()"
   ]
  },
  {
   "cell_type": "code",
   "execution_count": 145,
   "metadata": {},
   "outputs": [
    {
     "data": {
      "text/plain": [
       "vender_id             0\n",
       "fans_number           0\n",
       "vip_number            0\n",
       "shop_register_date    0\n",
       "shop_score            0\n",
       "dtype: int64"
      ]
     },
     "execution_count": 145,
     "metadata": {},
     "output_type": "execute_result"
    }
   ],
   "source": [
    "# shop_id 是这几个字段的主键\n",
    "\"\"\" \n",
    "一个shop_id 只会对应 1 个vender_id，1 个fans_number，1 个vip_number，1 个shop_register_date，1 个shop_score \n",
    "下边筛选的 对应字段的唯一值大于1的 情况\n",
    "\"\"\"\n",
    "shopgb = data.groupby(['shop_id'])[['vender_id','fans_number','vip_number','shop_register_date','shop_score']].nunique()\n",
    "(shopgb > 1).sum() "
   ]
  },
  {
   "cell_type": "code",
   "execution_count": 147,
   "metadata": {},
   "outputs": [
    {
     "data": {
      "text/plain": [
       "shop_register_date    0\n",
       "dtype: int64"
      ]
     },
     "execution_count": 147,
     "metadata": {},
     "output_type": "execute_result"
    }
   ],
   "source": [
    "# 判断条件不能写 != 1，因为 shop_register_date 有空值，对应的nunique是 0 , 即1个shop_id 对应0个注册日期\n",
    "shopgb = data.groupby(['shop_id'])[['shop_register_date']].nunique()\n",
    "shopgb.query('shop_register_date != 1').sum()"
   ]
  },
  {
   "cell_type": "markdown",
   "metadata": {},
   "source": [
    "**vender_id**\n",
    "- vender_id 不能作为主键，因为 vender_id == 3666 的记录有很多条，且对应的都是register_date 为空的记录\n",
    "- 可以不要这一列"
   ]
  },
  {
   "cell_type": "code",
   "execution_count": 149,
   "metadata": {},
   "outputs": [
    {
     "data": {
      "text/plain": [
       "shop_id               1\n",
       "fans_number           0\n",
       "vip_number            0\n",
       "shop_register_date    0\n",
       "shop_score            0\n",
       "dtype: int64"
      ]
     },
     "execution_count": 149,
     "metadata": {},
     "output_type": "execute_result"
    }
   ],
   "source": [
    "# vender_id 不能是主键\n",
    "vendergb = data.groupby(['vender_id'])[['shop_id','fans_number','vip_number','shop_register_date','shop_score']].nunique()\n",
    "(vendergb > 1).sum()"
   ]
  },
  {
   "cell_type": "code",
   "execution_count": 153,
   "metadata": {},
   "outputs": [
    {
     "data": {
      "text/html": [
       "<div>\n",
       "<style scoped>\n",
       "    .dataframe tbody tr th:only-of-type {\n",
       "        vertical-align: middle;\n",
       "    }\n",
       "\n",
       "    .dataframe tbody tr th {\n",
       "        vertical-align: top;\n",
       "    }\n",
       "\n",
       "    .dataframe thead th {\n",
       "        text-align: right;\n",
       "    }\n",
       "</style>\n",
       "<table border=\"1\" class=\"dataframe\">\n",
       "  <thead>\n",
       "    <tr style=\"text-align: right;\">\n",
       "      <th></th>\n",
       "      <th>shop_id</th>\n",
       "    </tr>\n",
       "    <tr>\n",
       "      <th>vender_id</th>\n",
       "      <th></th>\n",
       "    </tr>\n",
       "  </thead>\n",
       "  <tbody>\n",
       "    <tr>\n",
       "      <th>3666</th>\n",
       "      <td>516</td>\n",
       "    </tr>\n",
       "  </tbody>\n",
       "</table>\n",
       "</div>"
      ],
      "text/plain": [
       "           shop_id\n",
       "vender_id         \n",
       "3666           516"
      ]
     },
     "execution_count": 153,
     "metadata": {},
     "output_type": "execute_result"
    }
   ],
   "source": [
    "temp = data.groupby(['vender_id'])[['shop_id']].nunique()\n",
    "temp.query('shop_id != 1') # vender_id  == 3666 "
   ]
  },
  {
   "cell_type": "code",
   "execution_count": 154,
   "metadata": {},
   "outputs": [
    {
     "data": {
      "text/html": [
       "<div>\n",
       "<style scoped>\n",
       "    .dataframe tbody tr th:only-of-type {\n",
       "        vertical-align: middle;\n",
       "    }\n",
       "\n",
       "    .dataframe tbody tr th {\n",
       "        vertical-align: top;\n",
       "    }\n",
       "\n",
       "    .dataframe thead th {\n",
       "        text-align: right;\n",
       "    }\n",
       "</style>\n",
       "<table border=\"1\" class=\"dataframe\">\n",
       "  <thead>\n",
       "    <tr style=\"text-align: right;\">\n",
       "      <th></th>\n",
       "      <th>customer_id</th>\n",
       "      <th>product_id</th>\n",
       "      <th>action_date</th>\n",
       "      <th>action_id</th>\n",
       "      <th>type</th>\n",
       "      <th>age_range</th>\n",
       "      <th>gender</th>\n",
       "      <th>customer_register_date</th>\n",
       "      <th>customer_level</th>\n",
       "      <th>city_level</th>\n",
       "      <th>brand</th>\n",
       "      <th>shop_id</th>\n",
       "      <th>category</th>\n",
       "      <th>product_market_date</th>\n",
       "      <th>vender_id</th>\n",
       "      <th>fans_number</th>\n",
       "      <th>vip_number</th>\n",
       "      <th>shop_register_date</th>\n",
       "      <th>shop_category</th>\n",
       "      <th>shop_score</th>\n",
       "    </tr>\n",
       "  </thead>\n",
       "  <tbody>\n",
       "    <tr>\n",
       "      <th>5</th>\n",
       "      <td>1093882</td>\n",
       "      <td>339554</td>\n",
       "      <td>2018-02-04 01:36:00</td>\n",
       "      <td>7774014</td>\n",
       "      <td>PageView</td>\n",
       "      <td>5.0</td>\n",
       "      <td>M</td>\n",
       "      <td>2014-05-28</td>\n",
       "      <td>7</td>\n",
       "      <td>4.0</td>\n",
       "      <td>HP</td>\n",
       "      <td>4433</td>\n",
       "      <td>Notebook</td>\n",
       "      <td>2017-12-21</td>\n",
       "      <td>3666</td>\n",
       "      <td>0</td>\n",
       "      <td>0</td>\n",
       "      <td>NaT</td>\n",
       "      <td>Electronics</td>\n",
       "      <td>0.0</td>\n",
       "    </tr>\n",
       "    <tr>\n",
       "      <th>10</th>\n",
       "      <td>41753</td>\n",
       "      <td>134156</td>\n",
       "      <td>2018-03-18 00:06:00</td>\n",
       "      <td>5379614</td>\n",
       "      <td>PageView</td>\n",
       "      <td>6.0</td>\n",
       "      <td>M</td>\n",
       "      <td>2017-07-06</td>\n",
       "      <td>5</td>\n",
       "      <td>1.0</td>\n",
       "      <td>Sumsung</td>\n",
       "      <td>7082</td>\n",
       "      <td>Phone</td>\n",
       "      <td>2014-07-01</td>\n",
       "      <td>3666</td>\n",
       "      <td>0</td>\n",
       "      <td>0</td>\n",
       "      <td>NaT</td>\n",
       "      <td>Electronics</td>\n",
       "      <td>0.0</td>\n",
       "    </tr>\n",
       "    <tr>\n",
       "      <th>12</th>\n",
       "      <td>1432607</td>\n",
       "      <td>301377</td>\n",
       "      <td>2018-02-09 23:47:00</td>\n",
       "      <td>1663953</td>\n",
       "      <td>PageView</td>\n",
       "      <td>2.0</td>\n",
       "      <td>M</td>\n",
       "      <td>2010-07-24</td>\n",
       "      <td>7</td>\n",
       "      <td>1.0</td>\n",
       "      <td>Huawei</td>\n",
       "      <td>1107</td>\n",
       "      <td>Phone</td>\n",
       "      <td>2011-11-17</td>\n",
       "      <td>3666</td>\n",
       "      <td>0</td>\n",
       "      <td>0</td>\n",
       "      <td>NaT</td>\n",
       "      <td>Electronics</td>\n",
       "      <td>0.0</td>\n",
       "    </tr>\n",
       "    <tr>\n",
       "      <th>15</th>\n",
       "      <td>319978</td>\n",
       "      <td>168054</td>\n",
       "      <td>2018-04-04 15:14:00</td>\n",
       "      <td>6452299</td>\n",
       "      <td>PageView</td>\n",
       "      <td>6.0</td>\n",
       "      <td>W</td>\n",
       "      <td>2014-01-06</td>\n",
       "      <td>5</td>\n",
       "      <td>4.0</td>\n",
       "      <td>DELL</td>\n",
       "      <td>2216</td>\n",
       "      <td>Notebook</td>\n",
       "      <td>2017-04-19</td>\n",
       "      <td>3666</td>\n",
       "      <td>0</td>\n",
       "      <td>0</td>\n",
       "      <td>NaT</td>\n",
       "      <td>Electronics</td>\n",
       "      <td>0.0</td>\n",
       "    </tr>\n",
       "    <tr>\n",
       "      <th>17</th>\n",
       "      <td>77328</td>\n",
       "      <td>220460</td>\n",
       "      <td>2018-03-30 21:12:00</td>\n",
       "      <td>7084383</td>\n",
       "      <td>PageView</td>\n",
       "      <td>5.0</td>\n",
       "      <td>M</td>\n",
       "      <td>2015-10-21</td>\n",
       "      <td>6</td>\n",
       "      <td>1.0</td>\n",
       "      <td>Sony</td>\n",
       "      <td>7141</td>\n",
       "      <td>Digital Camera</td>\n",
       "      <td>2016-12-27</td>\n",
       "      <td>3666</td>\n",
       "      <td>0</td>\n",
       "      <td>0</td>\n",
       "      <td>NaT</td>\n",
       "      <td>Electronics</td>\n",
       "      <td>0.0</td>\n",
       "    </tr>\n",
       "    <tr>\n",
       "      <th>...</th>\n",
       "      <td>...</td>\n",
       "      <td>...</td>\n",
       "      <td>...</td>\n",
       "      <td>...</td>\n",
       "      <td>...</td>\n",
       "      <td>...</td>\n",
       "      <td>...</td>\n",
       "      <td>...</td>\n",
       "      <td>...</td>\n",
       "      <td>...</td>\n",
       "      <td>...</td>\n",
       "      <td>...</td>\n",
       "      <td>...</td>\n",
       "      <td>...</td>\n",
       "      <td>...</td>\n",
       "      <td>...</td>\n",
       "      <td>...</td>\n",
       "      <td>...</td>\n",
       "      <td>...</td>\n",
       "      <td>...</td>\n",
       "    </tr>\n",
       "    <tr>\n",
       "      <th>183820</th>\n",
       "      <td>565379</td>\n",
       "      <td>206484</td>\n",
       "      <td>2018-02-03 13:21:00</td>\n",
       "      <td>55982</td>\n",
       "      <td>PageView</td>\n",
       "      <td>4.0</td>\n",
       "      <td>W</td>\n",
       "      <td>2017-12-23</td>\n",
       "      <td>6</td>\n",
       "      <td>1.0</td>\n",
       "      <td>Apple</td>\n",
       "      <td>5523</td>\n",
       "      <td>Tablet</td>\n",
       "      <td>2017-05-05</td>\n",
       "      <td>3666</td>\n",
       "      <td>0</td>\n",
       "      <td>0</td>\n",
       "      <td>NaT</td>\n",
       "      <td>Electronics</td>\n",
       "      <td>0.0</td>\n",
       "    </tr>\n",
       "    <tr>\n",
       "      <th>183822</th>\n",
       "      <td>926824</td>\n",
       "      <td>353584</td>\n",
       "      <td>2018-03-17 21:55:00</td>\n",
       "      <td>3019875</td>\n",
       "      <td>PageView</td>\n",
       "      <td>5.0</td>\n",
       "      <td>W</td>\n",
       "      <td>2014-05-19</td>\n",
       "      <td>5</td>\n",
       "      <td>4.0</td>\n",
       "      <td>Apple</td>\n",
       "      <td>5523</td>\n",
       "      <td>Phone</td>\n",
       "      <td>2016-10-11</td>\n",
       "      <td>3666</td>\n",
       "      <td>0</td>\n",
       "      <td>0</td>\n",
       "      <td>NaT</td>\n",
       "      <td>Electronics</td>\n",
       "      <td>0.0</td>\n",
       "    </tr>\n",
       "    <tr>\n",
       "      <th>183825</th>\n",
       "      <td>1377001</td>\n",
       "      <td>199816</td>\n",
       "      <td>2018-03-14 21:17:00</td>\n",
       "      <td>10747232</td>\n",
       "      <td>PageView</td>\n",
       "      <td>6.0</td>\n",
       "      <td>M</td>\n",
       "      <td>2015-05-23</td>\n",
       "      <td>7</td>\n",
       "      <td>4.0</td>\n",
       "      <td>Huawei</td>\n",
       "      <td>5332</td>\n",
       "      <td>Phone</td>\n",
       "      <td>2017-08-11</td>\n",
       "      <td>3666</td>\n",
       "      <td>0</td>\n",
       "      <td>0</td>\n",
       "      <td>NaT</td>\n",
       "      <td>Electronics</td>\n",
       "      <td>0.0</td>\n",
       "    </tr>\n",
       "    <tr>\n",
       "      <th>183826</th>\n",
       "      <td>1057196</td>\n",
       "      <td>286812</td>\n",
       "      <td>2018-04-07 11:54:00</td>\n",
       "      <td>5702636</td>\n",
       "      <td>PageView</td>\n",
       "      <td>6.0</td>\n",
       "      <td>W</td>\n",
       "      <td>2017-10-12</td>\n",
       "      <td>6</td>\n",
       "      <td>4.0</td>\n",
       "      <td>Other</td>\n",
       "      <td>8451</td>\n",
       "      <td>Phone</td>\n",
       "      <td>2013-03-19</td>\n",
       "      <td>3666</td>\n",
       "      <td>0</td>\n",
       "      <td>0</td>\n",
       "      <td>NaT</td>\n",
       "      <td>Electronics</td>\n",
       "      <td>0.0</td>\n",
       "    </tr>\n",
       "    <tr>\n",
       "      <th>183827</th>\n",
       "      <td>67145</td>\n",
       "      <td>372173</td>\n",
       "      <td>2018-03-25 06:21:00</td>\n",
       "      <td>164637</td>\n",
       "      <td>PageView</td>\n",
       "      <td>2.0</td>\n",
       "      <td>W</td>\n",
       "      <td>2012-11-06</td>\n",
       "      <td>7</td>\n",
       "      <td>3.0</td>\n",
       "      <td>Apple</td>\n",
       "      <td>3527</td>\n",
       "      <td>Phone</td>\n",
       "      <td>2017-09-20</td>\n",
       "      <td>3666</td>\n",
       "      <td>0</td>\n",
       "      <td>0</td>\n",
       "      <td>NaT</td>\n",
       "      <td>Electronics</td>\n",
       "      <td>0.0</td>\n",
       "    </tr>\n",
       "  </tbody>\n",
       "</table>\n",
       "<p>71353 rows × 20 columns</p>\n",
       "</div>"
      ],
      "text/plain": [
       "        customer_id  product_id         action_date  action_id      type  \\\n",
       "5           1093882      339554 2018-02-04 01:36:00    7774014  PageView   \n",
       "10            41753      134156 2018-03-18 00:06:00    5379614  PageView   \n",
       "12          1432607      301377 2018-02-09 23:47:00    1663953  PageView   \n",
       "15           319978      168054 2018-04-04 15:14:00    6452299  PageView   \n",
       "17            77328      220460 2018-03-30 21:12:00    7084383  PageView   \n",
       "...             ...         ...                 ...        ...       ...   \n",
       "183820       565379      206484 2018-02-03 13:21:00      55982  PageView   \n",
       "183822       926824      353584 2018-03-17 21:55:00    3019875  PageView   \n",
       "183825      1377001      199816 2018-03-14 21:17:00   10747232  PageView   \n",
       "183826      1057196      286812 2018-04-07 11:54:00    5702636  PageView   \n",
       "183827        67145      372173 2018-03-25 06:21:00     164637  PageView   \n",
       "\n",
       "        age_range gender customer_register_date  customer_level  city_level  \\\n",
       "5             5.0      M             2014-05-28               7         4.0   \n",
       "10            6.0      M             2017-07-06               5         1.0   \n",
       "12            2.0      M             2010-07-24               7         1.0   \n",
       "15            6.0      W             2014-01-06               5         4.0   \n",
       "17            5.0      M             2015-10-21               6         1.0   \n",
       "...           ...    ...                    ...             ...         ...   \n",
       "183820        4.0      W             2017-12-23               6         1.0   \n",
       "183822        5.0      W             2014-05-19               5         4.0   \n",
       "183825        6.0      M             2015-05-23               7         4.0   \n",
       "183826        6.0      W             2017-10-12               6         4.0   \n",
       "183827        2.0      W             2012-11-06               7         3.0   \n",
       "\n",
       "          brand  shop_id        category product_market_date  vender_id  \\\n",
       "5            HP     4433        Notebook          2017-12-21       3666   \n",
       "10      Sumsung     7082           Phone          2014-07-01       3666   \n",
       "12       Huawei     1107           Phone          2011-11-17       3666   \n",
       "15         DELL     2216        Notebook          2017-04-19       3666   \n",
       "17         Sony     7141  Digital Camera          2016-12-27       3666   \n",
       "...         ...      ...             ...                 ...        ...   \n",
       "183820    Apple     5523          Tablet          2017-05-05       3666   \n",
       "183822    Apple     5523           Phone          2016-10-11       3666   \n",
       "183825   Huawei     5332           Phone          2017-08-11       3666   \n",
       "183826    Other     8451           Phone          2013-03-19       3666   \n",
       "183827    Apple     3527           Phone          2017-09-20       3666   \n",
       "\n",
       "        fans_number  vip_number shop_register_date shop_category  shop_score  \n",
       "5                 0           0                NaT   Electronics         0.0  \n",
       "10                0           0                NaT   Electronics         0.0  \n",
       "12                0           0                NaT   Electronics         0.0  \n",
       "15                0           0                NaT   Electronics         0.0  \n",
       "17                0           0                NaT   Electronics         0.0  \n",
       "...             ...         ...                ...           ...         ...  \n",
       "183820            0           0                NaT   Electronics         0.0  \n",
       "183822            0           0                NaT   Electronics         0.0  \n",
       "183825            0           0                NaT   Electronics         0.0  \n",
       "183826            0           0                NaT   Electronics         0.0  \n",
       "183827            0           0                NaT   Electronics         0.0  \n",
       "\n",
       "[71353 rows x 20 columns]"
      ]
     },
     "execution_count": 154,
     "metadata": {},
     "output_type": "execute_result"
    }
   ],
   "source": [
    "data.query('vender_id == 3666')"
   ]
  },
  {
   "cell_type": "markdown",
   "metadata": {},
   "source": [
    "**shop_category** \n",
    "- 店铺主营，有 9 种"
   ]
  },
  {
   "cell_type": "code",
   "execution_count": 157,
   "metadata": {},
   "outputs": [
    {
     "data": {
      "text/plain": [
       "shop_category\n",
       "Electronics                    72705\n",
       "Clothes                        29990\n",
       "Beauty Makeup                  29617\n",
       "Food                           25095\n",
       "Household Eletric Appliance    10283\n",
       "Furniture                       5869\n",
       "Jewellery Accessories           5062\n",
       "Outdoor Sports                  3853\n",
       "Mother and Infant               1353\n",
       "Name: count, dtype: int64"
      ]
     },
     "execution_count": 157,
     "metadata": {},
     "output_type": "execute_result"
    }
   ],
   "source": [
    "# 不同类型的记录数\n",
    "data['shop_category'].value_counts()"
   ]
  },
  {
   "cell_type": "code",
   "execution_count": 158,
   "metadata": {},
   "outputs": [
    {
     "data": {
      "text/plain": [
       "shop_category\n",
       "Beauty Makeup                   756\n",
       "Clothes                         797\n",
       "Electronics                     820\n",
       "Food                           1126\n",
       "Furniture                       905\n",
       "Household Eletric Appliance    1020\n",
       "Jewellery Accessories           302\n",
       "Mother and Infant               231\n",
       "Outdoor Sports                  129\n",
       "Name: shop_id, dtype: int64"
      ]
     },
     "execution_count": 158,
     "metadata": {},
     "output_type": "execute_result"
    }
   ],
   "source": [
    "# 不同类型的店铺数\n",
    "data.groupby('shop_category')['shop_id'].nunique()\n"
   ]
  },
  {
   "cell_type": "markdown",
   "metadata": {},
   "source": [
    "**shop_register_date** \n",
    "- 开店时间\n",
    "- 71354个空值"
   ]
  },
  {
   "cell_type": "code",
   "execution_count": null,
   "metadata": {},
   "outputs": [
    {
     "name": "stdout",
     "output_type": "stream",
     "text": [
      "空值： 71353\n"
     ]
    }
   ],
   "source": [
    "print(\"空值：\",data['shop_register_date'].isnull().sum())"
   ]
  },
  {
   "cell_type": "code",
   "execution_count": null,
   "metadata": {},
   "outputs": [
    {
     "data": {
      "text/plain": [
       "516"
      ]
     },
     "metadata": {},
     "output_type": "display_data"
    }
   ],
   "source": [
    "# 没有注册时间的店铺数量\n",
    "data.query('shop_register_date.isnull()')['shop_id'].nunique()"
   ]
  },
  {
   "cell_type": "markdown",
   "metadata": {},
   "source": [
    "**fans_number & vip_number**\n",
    "- 粉丝数 和 会员数\n",
    "- 会员数比粉丝数多是常态，跟字段定义有关，暂时不管\n",
    "- vip_number和fans_number 长尾分布，有很离谱的离群值"
   ]
  },
  {
   "cell_type": "code",
   "execution_count": 109,
   "metadata": {},
   "outputs": [
    {
     "name": "stdout",
     "output_type": "stream",
     "text": [
      "粉丝数小于等于0的记录数： 71354\n",
      "vip数小于等于0的记录数： 71356\n"
     ]
    }
   ],
   "source": [
    "print(\"粉丝数小于等于0的记录数：\",(data['fans_number']<=0).sum())\n",
    "print(\"vip数小于等于0的记录数：\",(data['vip_number']<=0).sum())"
   ]
  },
  {
   "cell_type": "code",
   "execution_count": 103,
   "metadata": {},
   "outputs": [
    {
     "data": {
      "text/html": [
       "<div>\n",
       "<style scoped>\n",
       "    .dataframe tbody tr th:only-of-type {\n",
       "        vertical-align: middle;\n",
       "    }\n",
       "\n",
       "    .dataframe tbody tr th {\n",
       "        vertical-align: top;\n",
       "    }\n",
       "\n",
       "    .dataframe thead th {\n",
       "        text-align: right;\n",
       "    }\n",
       "</style>\n",
       "<table border=\"1\" class=\"dataframe\">\n",
       "  <thead>\n",
       "    <tr style=\"text-align: right;\">\n",
       "      <th></th>\n",
       "      <th>fans_number</th>\n",
       "      <th>vip_number</th>\n",
       "    </tr>\n",
       "    <tr>\n",
       "      <th>shop_id</th>\n",
       "      <th></th>\n",
       "      <th></th>\n",
       "    </tr>\n",
       "  </thead>\n",
       "  <tbody>\n",
       "    <tr>\n",
       "      <th>3</th>\n",
       "      <td>278</td>\n",
       "      <td>173</td>\n",
       "    </tr>\n",
       "    <tr>\n",
       "      <th>11</th>\n",
       "      <td>22101</td>\n",
       "      <td>7150</td>\n",
       "    </tr>\n",
       "    <tr>\n",
       "      <th>17</th>\n",
       "      <td>24987</td>\n",
       "      <td>20523</td>\n",
       "    </tr>\n",
       "    <tr>\n",
       "      <th>26</th>\n",
       "      <td>5643</td>\n",
       "      <td>802</td>\n",
       "    </tr>\n",
       "    <tr>\n",
       "      <th>30</th>\n",
       "      <td>21618</td>\n",
       "      <td>1276</td>\n",
       "    </tr>\n",
       "    <tr>\n",
       "      <th>...</th>\n",
       "      <td>...</td>\n",
       "      <td>...</td>\n",
       "    </tr>\n",
       "    <tr>\n",
       "      <th>10370</th>\n",
       "      <td>1091</td>\n",
       "      <td>655</td>\n",
       "    </tr>\n",
       "    <tr>\n",
       "      <th>10376</th>\n",
       "      <td>53959</td>\n",
       "      <td>13290</td>\n",
       "    </tr>\n",
       "    <tr>\n",
       "      <th>10377</th>\n",
       "      <td>11491</td>\n",
       "      <td>7125</td>\n",
       "    </tr>\n",
       "    <tr>\n",
       "      <th>10380</th>\n",
       "      <td>17875</td>\n",
       "      <td>3889</td>\n",
       "    </tr>\n",
       "    <tr>\n",
       "      <th>10384</th>\n",
       "      <td>41996</td>\n",
       "      <td>13768</td>\n",
       "    </tr>\n",
       "  </tbody>\n",
       "</table>\n",
       "<p>1380 rows × 2 columns</p>\n",
       "</div>"
      ],
      "text/plain": [
       "         fans_number  vip_number\n",
       "shop_id                         \n",
       "3                278         173\n",
       "11             22101        7150\n",
       "17             24987       20523\n",
       "26              5643         802\n",
       "30             21618        1276\n",
       "...              ...         ...\n",
       "10370           1091         655\n",
       "10376          53959       13290\n",
       "10377          11491        7125\n",
       "10380          17875        3889\n",
       "10384          41996       13768\n",
       "\n",
       "[1380 rows x 2 columns]"
      ]
     },
     "execution_count": 103,
     "metadata": {},
     "output_type": "execute_result"
    }
   ],
   "source": [
    "# 粉丝数比会员数少的店铺 \n",
    "shop_vip = data.groupby('shop_id').agg({'fans_number':'max','vip_number':'max'}) # 6086\n",
    "data.groupby('shop_id').agg({'fans_number':'max','vip_number':'max'}).query('fans_number > vip_number') # 1380家店铺"
   ]
  },
  {
   "cell_type": "code",
   "execution_count": 106,
   "metadata": {},
   "outputs": [
    {
     "data": {
      "text/html": [
       "<div>\n",
       "<style scoped>\n",
       "    .dataframe tbody tr th:only-of-type {\n",
       "        vertical-align: middle;\n",
       "    }\n",
       "\n",
       "    .dataframe tbody tr th {\n",
       "        vertical-align: top;\n",
       "    }\n",
       "\n",
       "    .dataframe thead th {\n",
       "        text-align: right;\n",
       "    }\n",
       "</style>\n",
       "<table border=\"1\" class=\"dataframe\">\n",
       "  <thead>\n",
       "    <tr style=\"text-align: right;\">\n",
       "      <th></th>\n",
       "      <th>fans_number</th>\n",
       "      <th>vip_number</th>\n",
       "    </tr>\n",
       "    <tr>\n",
       "      <th>shop_id</th>\n",
       "      <th></th>\n",
       "      <th></th>\n",
       "    </tr>\n",
       "  </thead>\n",
       "  <tbody>\n",
       "    <tr>\n",
       "      <th>10393</th>\n",
       "      <td>9293487</td>\n",
       "      <td>13841676</td>\n",
       "    </tr>\n",
       "    <tr>\n",
       "      <th>4241</th>\n",
       "      <td>3748112</td>\n",
       "      <td>4868959</td>\n",
       "    </tr>\n",
       "    <tr>\n",
       "      <th>4207</th>\n",
       "      <td>140298</td>\n",
       "      <td>4273637</td>\n",
       "    </tr>\n",
       "    <tr>\n",
       "      <th>2091</th>\n",
       "      <td>136900</td>\n",
       "      <td>2201912</td>\n",
       "    </tr>\n",
       "    <tr>\n",
       "      <th>9030</th>\n",
       "      <td>752917</td>\n",
       "      <td>1942664</td>\n",
       "    </tr>\n",
       "    <tr>\n",
       "      <th>661</th>\n",
       "      <td>721471</td>\n",
       "      <td>1812543</td>\n",
       "    </tr>\n",
       "    <tr>\n",
       "      <th>8351</th>\n",
       "      <td>3346267</td>\n",
       "      <td>1665629</td>\n",
       "    </tr>\n",
       "    <tr>\n",
       "      <th>2149</th>\n",
       "      <td>1569828</td>\n",
       "      <td>1429619</td>\n",
       "    </tr>\n",
       "    <tr>\n",
       "      <th>1127</th>\n",
       "      <td>112062</td>\n",
       "      <td>1389637</td>\n",
       "    </tr>\n",
       "    <tr>\n",
       "      <th>3663</th>\n",
       "      <td>15645</td>\n",
       "      <td>1196797</td>\n",
       "    </tr>\n",
       "    <tr>\n",
       "      <th>5690</th>\n",
       "      <td>58040</td>\n",
       "      <td>1185429</td>\n",
       "    </tr>\n",
       "    <tr>\n",
       "      <th>6018</th>\n",
       "      <td>492765</td>\n",
       "      <td>1142028</td>\n",
       "    </tr>\n",
       "    <tr>\n",
       "      <th>4741</th>\n",
       "      <td>96906</td>\n",
       "      <td>1137692</td>\n",
       "    </tr>\n",
       "    <tr>\n",
       "      <th>2355</th>\n",
       "      <td>92560</td>\n",
       "      <td>1122223</td>\n",
       "    </tr>\n",
       "    <tr>\n",
       "      <th>3240</th>\n",
       "      <td>16277</td>\n",
       "      <td>1118953</td>\n",
       "    </tr>\n",
       "    <tr>\n",
       "      <th>931</th>\n",
       "      <td>1377103</td>\n",
       "      <td>1109666</td>\n",
       "    </tr>\n",
       "    <tr>\n",
       "      <th>8599</th>\n",
       "      <td>256016</td>\n",
       "      <td>1082610</td>\n",
       "    </tr>\n",
       "    <tr>\n",
       "      <th>6602</th>\n",
       "      <td>18740</td>\n",
       "      <td>1049850</td>\n",
       "    </tr>\n",
       "    <tr>\n",
       "      <th>6553</th>\n",
       "      <td>423200</td>\n",
       "      <td>959425</td>\n",
       "    </tr>\n",
       "    <tr>\n",
       "      <th>8490</th>\n",
       "      <td>302267</td>\n",
       "      <td>924256</td>\n",
       "    </tr>\n",
       "  </tbody>\n",
       "</table>\n",
       "</div>"
      ],
      "text/plain": [
       "         fans_number  vip_number\n",
       "shop_id                         \n",
       "10393        9293487    13841676\n",
       "4241         3748112     4868959\n",
       "4207          140298     4273637\n",
       "2091          136900     2201912\n",
       "9030          752917     1942664\n",
       "661           721471     1812543\n",
       "8351         3346267     1665629\n",
       "2149         1569828     1429619\n",
       "1127          112062     1389637\n",
       "3663           15645     1196797\n",
       "5690           58040     1185429\n",
       "6018          492765     1142028\n",
       "4741           96906     1137692\n",
       "2355           92560     1122223\n",
       "3240           16277     1118953\n",
       "931          1377103     1109666\n",
       "8599          256016     1082610\n",
       "6602           18740     1049850\n",
       "6553          423200      959425\n",
       "8490          302267      924256"
      ]
     },
     "execution_count": 106,
     "metadata": {},
     "output_type": "execute_result"
    }
   ],
   "source": [
    "# vip_number 分布情况\n",
    "\"\"\"\n",
    "vip数为 1000w 级的店，只有一家，400w 级的有 2 家， 100w~400w 级的有 14 家， 其他都是100w 级以下的店。\n",
    "\"\"\"\n",
    "shop_vip.sort_values(by='vip_number',ascending=False).head(20)  \n"
   ]
  },
  {
   "cell_type": "code",
   "execution_count": 107,
   "metadata": {},
   "outputs": [
    {
     "data": {
      "text/html": [
       "<div>\n",
       "<style scoped>\n",
       "    .dataframe tbody tr th:only-of-type {\n",
       "        vertical-align: middle;\n",
       "    }\n",
       "\n",
       "    .dataframe tbody tr th {\n",
       "        vertical-align: top;\n",
       "    }\n",
       "\n",
       "    .dataframe thead th {\n",
       "        text-align: right;\n",
       "    }\n",
       "</style>\n",
       "<table border=\"1\" class=\"dataframe\">\n",
       "  <thead>\n",
       "    <tr style=\"text-align: right;\">\n",
       "      <th></th>\n",
       "      <th>fans_number</th>\n",
       "      <th>vip_number</th>\n",
       "    </tr>\n",
       "    <tr>\n",
       "      <th>shop_id</th>\n",
       "      <th></th>\n",
       "      <th></th>\n",
       "    </tr>\n",
       "  </thead>\n",
       "  <tbody>\n",
       "    <tr>\n",
       "      <th>10393</th>\n",
       "      <td>9293487</td>\n",
       "      <td>13841676</td>\n",
       "    </tr>\n",
       "    <tr>\n",
       "      <th>4241</th>\n",
       "      <td>3748112</td>\n",
       "      <td>4868959</td>\n",
       "    </tr>\n",
       "    <tr>\n",
       "      <th>8351</th>\n",
       "      <td>3346267</td>\n",
       "      <td>1665629</td>\n",
       "    </tr>\n",
       "    <tr>\n",
       "      <th>1912</th>\n",
       "      <td>2511707</td>\n",
       "      <td>175996</td>\n",
       "    </tr>\n",
       "    <tr>\n",
       "      <th>3790</th>\n",
       "      <td>2171510</td>\n",
       "      <td>562436</td>\n",
       "    </tr>\n",
       "    <tr>\n",
       "      <th>2149</th>\n",
       "      <td>1569828</td>\n",
       "      <td>1429619</td>\n",
       "    </tr>\n",
       "    <tr>\n",
       "      <th>931</th>\n",
       "      <td>1377103</td>\n",
       "      <td>1109666</td>\n",
       "    </tr>\n",
       "    <tr>\n",
       "      <th>3494</th>\n",
       "      <td>1371624</td>\n",
       "      <td>47026</td>\n",
       "    </tr>\n",
       "    <tr>\n",
       "      <th>9695</th>\n",
       "      <td>996774</td>\n",
       "      <td>633437</td>\n",
       "    </tr>\n",
       "    <tr>\n",
       "      <th>2876</th>\n",
       "      <td>874049</td>\n",
       "      <td>77016</td>\n",
       "    </tr>\n",
       "    <tr>\n",
       "      <th>563</th>\n",
       "      <td>846210</td>\n",
       "      <td>232937</td>\n",
       "    </tr>\n",
       "    <tr>\n",
       "      <th>8925</th>\n",
       "      <td>818073</td>\n",
       "      <td>412683</td>\n",
       "    </tr>\n",
       "    <tr>\n",
       "      <th>1716</th>\n",
       "      <td>810326</td>\n",
       "      <td>338766</td>\n",
       "    </tr>\n",
       "    <tr>\n",
       "      <th>9030</th>\n",
       "      <td>752917</td>\n",
       "      <td>1942664</td>\n",
       "    </tr>\n",
       "    <tr>\n",
       "      <th>6658</th>\n",
       "      <td>740434</td>\n",
       "      <td>87425</td>\n",
       "    </tr>\n",
       "    <tr>\n",
       "      <th>661</th>\n",
       "      <td>721471</td>\n",
       "      <td>1812543</td>\n",
       "    </tr>\n",
       "    <tr>\n",
       "      <th>8238</th>\n",
       "      <td>699027</td>\n",
       "      <td>45550</td>\n",
       "    </tr>\n",
       "    <tr>\n",
       "      <th>1961</th>\n",
       "      <td>650327</td>\n",
       "      <td>909241</td>\n",
       "    </tr>\n",
       "    <tr>\n",
       "      <th>6042</th>\n",
       "      <td>649489</td>\n",
       "      <td>186824</td>\n",
       "    </tr>\n",
       "    <tr>\n",
       "      <th>2738</th>\n",
       "      <td>633682</td>\n",
       "      <td>104661</td>\n",
       "    </tr>\n",
       "  </tbody>\n",
       "</table>\n",
       "</div>"
      ],
      "text/plain": [
       "         fans_number  vip_number\n",
       "shop_id                         \n",
       "10393        9293487    13841676\n",
       "4241         3748112     4868959\n",
       "8351         3346267     1665629\n",
       "1912         2511707      175996\n",
       "3790         2171510      562436\n",
       "2149         1569828     1429619\n",
       "931          1377103     1109666\n",
       "3494         1371624       47026\n",
       "9695          996774      633437\n",
       "2876          874049       77016\n",
       "563           846210      232937\n",
       "8925          818073      412683\n",
       "1716          810326      338766\n",
       "9030          752917     1942664\n",
       "6658          740434       87425\n",
       "661           721471     1812543\n",
       "8238          699027       45550\n",
       "1961          650327      909241\n",
       "6042          649489      186824\n",
       "2738          633682      104661"
      ]
     },
     "execution_count": 107,
     "metadata": {},
     "output_type": "execute_result"
    }
   ],
   "source": [
    "# fans_number 分布情况\n",
    "\"\"\"\n",
    "粉丝数为 900w 级的店，有1家， 100w~300w 级的有 7 家， 其他都是100w 级以下的店。\n",
    "\"\"\"\n",
    "shop_vip.sort_values(by='fans_number',ascending=False).head(20)  "
   ]
  },
  {
   "cell_type": "markdown",
   "metadata": {},
   "source": [
    "**shop_score**\n",
    "- 有 71354 条记录是 0 分 ，这些都是 register_date 为空的记录\n",
    "- 有 1524 条记录是 -1 分 ，没有什么特点 (店铺被封了？)"
   ]
  },
  {
   "cell_type": "code",
   "execution_count": 159,
   "metadata": {},
   "outputs": [
    {
     "data": {
      "text/plain": [
       "71354"
      ]
     },
     "execution_count": 159,
     "metadata": {},
     "output_type": "execute_result"
    }
   ],
   "source": [
    "# 店铺评分为0的记录数\n",
    "(data['shop_score']==0).sum()"
   ]
  },
  {
   "cell_type": "code",
   "execution_count": 160,
   "metadata": {},
   "outputs": [
    {
     "data": {
      "text/html": [
       "<div>\n",
       "<style scoped>\n",
       "    .dataframe tbody tr th:only-of-type {\n",
       "        vertical-align: middle;\n",
       "    }\n",
       "\n",
       "    .dataframe tbody tr th {\n",
       "        vertical-align: top;\n",
       "    }\n",
       "\n",
       "    .dataframe thead th {\n",
       "        text-align: right;\n",
       "    }\n",
       "</style>\n",
       "<table border=\"1\" class=\"dataframe\">\n",
       "  <thead>\n",
       "    <tr style=\"text-align: right;\">\n",
       "      <th></th>\n",
       "      <th>customer_id</th>\n",
       "      <th>product_id</th>\n",
       "      <th>action_date</th>\n",
       "      <th>action_id</th>\n",
       "      <th>type</th>\n",
       "      <th>age_range</th>\n",
       "      <th>gender</th>\n",
       "      <th>customer_register_date</th>\n",
       "      <th>customer_level</th>\n",
       "      <th>city_level</th>\n",
       "      <th>brand</th>\n",
       "      <th>shop_id</th>\n",
       "      <th>category</th>\n",
       "      <th>product_market_date</th>\n",
       "      <th>vender_id</th>\n",
       "      <th>fans_number</th>\n",
       "      <th>vip_number</th>\n",
       "      <th>shop_register_date</th>\n",
       "      <th>shop_category</th>\n",
       "      <th>shop_score</th>\n",
       "    </tr>\n",
       "  </thead>\n",
       "  <tbody>\n",
       "    <tr>\n",
       "      <th>46</th>\n",
       "      <td>91713</td>\n",
       "      <td>210500</td>\n",
       "      <td>2018-02-01 21:31:00</td>\n",
       "      <td>9165034</td>\n",
       "      <td>PageView</td>\n",
       "      <td>5.0</td>\n",
       "      <td>M</td>\n",
       "      <td>2012-04-22</td>\n",
       "      <td>5</td>\n",
       "      <td>5.0</td>\n",
       "      <td>Microsoft</td>\n",
       "      <td>10319</td>\n",
       "      <td>Xbox</td>\n",
       "      <td>2015-08-14</td>\n",
       "      <td>7967</td>\n",
       "      <td>746</td>\n",
       "      <td>2049</td>\n",
       "      <td>2013-12-23</td>\n",
       "      <td>Electronics</td>\n",
       "      <td>-1.0</td>\n",
       "    </tr>\n",
       "    <tr>\n",
       "      <th>243</th>\n",
       "      <td>1534532</td>\n",
       "      <td>68145</td>\n",
       "      <td>2018-03-07 17:51:00</td>\n",
       "      <td>7220364</td>\n",
       "      <td>PageView</td>\n",
       "      <td>5.0</td>\n",
       "      <td>W</td>\n",
       "      <td>2018-01-19</td>\n",
       "      <td>6</td>\n",
       "      <td>1.0</td>\n",
       "      <td>Sony</td>\n",
       "      <td>9369</td>\n",
       "      <td>Digital Camera</td>\n",
       "      <td>2016-05-19</td>\n",
       "      <td>5381</td>\n",
       "      <td>6782</td>\n",
       "      <td>84274</td>\n",
       "      <td>2014-10-10</td>\n",
       "      <td>Electronics</td>\n",
       "      <td>-1.0</td>\n",
       "    </tr>\n",
       "    <tr>\n",
       "      <th>298</th>\n",
       "      <td>529495</td>\n",
       "      <td>231739</td>\n",
       "      <td>2018-02-10 13:23:00</td>\n",
       "      <td>8572809</td>\n",
       "      <td>PageView</td>\n",
       "      <td>5.0</td>\n",
       "      <td>M</td>\n",
       "      <td>2016-01-25</td>\n",
       "      <td>1</td>\n",
       "      <td>1.0</td>\n",
       "      <td>Sumsung</td>\n",
       "      <td>9264</td>\n",
       "      <td>Phone</td>\n",
       "      <td>2017-11-01</td>\n",
       "      <td>9672</td>\n",
       "      <td>18909</td>\n",
       "      <td>299218</td>\n",
       "      <td>2014-12-22</td>\n",
       "      <td>Electronics</td>\n",
       "      <td>-1.0</td>\n",
       "    </tr>\n",
       "    <tr>\n",
       "      <th>478</th>\n",
       "      <td>89893</td>\n",
       "      <td>323338</td>\n",
       "      <td>2018-02-21 23:01:00</td>\n",
       "      <td>6332577</td>\n",
       "      <td>PageView</td>\n",
       "      <td>5.0</td>\n",
       "      <td>M</td>\n",
       "      <td>2015-12-28</td>\n",
       "      <td>1</td>\n",
       "      <td>1.0</td>\n",
       "      <td>Redmi</td>\n",
       "      <td>6698</td>\n",
       "      <td>Phone</td>\n",
       "      <td>2016-07-15</td>\n",
       "      <td>5024</td>\n",
       "      <td>3529</td>\n",
       "      <td>11373</td>\n",
       "      <td>2016-07-01</td>\n",
       "      <td>Electronics</td>\n",
       "      <td>-1.0</td>\n",
       "    </tr>\n",
       "    <tr>\n",
       "      <th>482</th>\n",
       "      <td>512409</td>\n",
       "      <td>90212</td>\n",
       "      <td>2018-03-05 21:30:00</td>\n",
       "      <td>4481655</td>\n",
       "      <td>PageView</td>\n",
       "      <td>5.0</td>\n",
       "      <td>M</td>\n",
       "      <td>2018-03-05</td>\n",
       "      <td>6</td>\n",
       "      <td>5.0</td>\n",
       "      <td>Huawei</td>\n",
       "      <td>1941</td>\n",
       "      <td>Phone</td>\n",
       "      <td>2017-05-16</td>\n",
       "      <td>2541</td>\n",
       "      <td>4043</td>\n",
       "      <td>24245</td>\n",
       "      <td>2017-03-27</td>\n",
       "      <td>Electronics</td>\n",
       "      <td>-1.0</td>\n",
       "    </tr>\n",
       "    <tr>\n",
       "      <th>...</th>\n",
       "      <td>...</td>\n",
       "      <td>...</td>\n",
       "      <td>...</td>\n",
       "      <td>...</td>\n",
       "      <td>...</td>\n",
       "      <td>...</td>\n",
       "      <td>...</td>\n",
       "      <td>...</td>\n",
       "      <td>...</td>\n",
       "      <td>...</td>\n",
       "      <td>...</td>\n",
       "      <td>...</td>\n",
       "      <td>...</td>\n",
       "      <td>...</td>\n",
       "      <td>...</td>\n",
       "      <td>...</td>\n",
       "      <td>...</td>\n",
       "      <td>...</td>\n",
       "      <td>...</td>\n",
       "      <td>...</td>\n",
       "    </tr>\n",
       "    <tr>\n",
       "      <th>183269</th>\n",
       "      <td>53337</td>\n",
       "      <td>90369</td>\n",
       "      <td>2018-04-09 20:39:00</td>\n",
       "      <td>3432735</td>\n",
       "      <td>PageView</td>\n",
       "      <td>6.0</td>\n",
       "      <td>M</td>\n",
       "      <td>2012-01-13</td>\n",
       "      <td>7</td>\n",
       "      <td>3.0</td>\n",
       "      <td>Lipton</td>\n",
       "      <td>7130</td>\n",
       "      <td>Tea</td>\n",
       "      <td>2018-03-22</td>\n",
       "      <td>876</td>\n",
       "      <td>10291</td>\n",
       "      <td>65</td>\n",
       "      <td>2016-06-07</td>\n",
       "      <td>Food</td>\n",
       "      <td>-1.0</td>\n",
       "    </tr>\n",
       "    <tr>\n",
       "      <th>183329</th>\n",
       "      <td>70468</td>\n",
       "      <td>13648</td>\n",
       "      <td>2018-03-10 21:21:00</td>\n",
       "      <td>7262340</td>\n",
       "      <td>PageView</td>\n",
       "      <td>6.0</td>\n",
       "      <td>W</td>\n",
       "      <td>2016-01-26</td>\n",
       "      <td>7</td>\n",
       "      <td>3.0</td>\n",
       "      <td>Redmi</td>\n",
       "      <td>2172</td>\n",
       "      <td>Phone</td>\n",
       "      <td>2017-05-06</td>\n",
       "      <td>2395</td>\n",
       "      <td>12342</td>\n",
       "      <td>16092</td>\n",
       "      <td>2015-09-09</td>\n",
       "      <td>Electronics</td>\n",
       "      <td>-1.0</td>\n",
       "    </tr>\n",
       "    <tr>\n",
       "      <th>183425</th>\n",
       "      <td>329777</td>\n",
       "      <td>54042</td>\n",
       "      <td>2018-02-09 18:45:00</td>\n",
       "      <td>6475848</td>\n",
       "      <td>PageView</td>\n",
       "      <td>6.0</td>\n",
       "      <td>M</td>\n",
       "      <td>2013-06-17</td>\n",
       "      <td>5</td>\n",
       "      <td>3.0</td>\n",
       "      <td>Microsoft</td>\n",
       "      <td>8373</td>\n",
       "      <td>Xbox</td>\n",
       "      <td>2017-12-11</td>\n",
       "      <td>3978</td>\n",
       "      <td>11726</td>\n",
       "      <td>463</td>\n",
       "      <td>2017-10-26</td>\n",
       "      <td>Electronics</td>\n",
       "      <td>-1.0</td>\n",
       "    </tr>\n",
       "    <tr>\n",
       "      <th>183506</th>\n",
       "      <td>1412033</td>\n",
       "      <td>55842</td>\n",
       "      <td>2018-03-05 21:02:00</td>\n",
       "      <td>3796970</td>\n",
       "      <td>PageView</td>\n",
       "      <td>6.0</td>\n",
       "      <td>M</td>\n",
       "      <td>2015-03-11</td>\n",
       "      <td>7</td>\n",
       "      <td>3.0</td>\n",
       "      <td>Lenovo</td>\n",
       "      <td>10249</td>\n",
       "      <td>Notebook</td>\n",
       "      <td>2016-08-22</td>\n",
       "      <td>8358</td>\n",
       "      <td>1290</td>\n",
       "      <td>5786</td>\n",
       "      <td>2016-06-17</td>\n",
       "      <td>Electronics</td>\n",
       "      <td>-1.0</td>\n",
       "    </tr>\n",
       "    <tr>\n",
       "      <th>183621</th>\n",
       "      <td>341682</td>\n",
       "      <td>251704</td>\n",
       "      <td>2018-02-15 23:08:00</td>\n",
       "      <td>893646</td>\n",
       "      <td>PageView</td>\n",
       "      <td>6.0</td>\n",
       "      <td>M</td>\n",
       "      <td>2014-07-30</td>\n",
       "      <td>1</td>\n",
       "      <td>1.0</td>\n",
       "      <td>OPPO</td>\n",
       "      <td>924</td>\n",
       "      <td>Phone</td>\n",
       "      <td>2017-10-27</td>\n",
       "      <td>8820</td>\n",
       "      <td>2097</td>\n",
       "      <td>7653</td>\n",
       "      <td>2013-06-04</td>\n",
       "      <td>Electronics</td>\n",
       "      <td>-1.0</td>\n",
       "    </tr>\n",
       "  </tbody>\n",
       "</table>\n",
       "<p>1524 rows × 20 columns</p>\n",
       "</div>"
      ],
      "text/plain": [
       "        customer_id  product_id         action_date  action_id      type  \\\n",
       "46            91713      210500 2018-02-01 21:31:00    9165034  PageView   \n",
       "243         1534532       68145 2018-03-07 17:51:00    7220364  PageView   \n",
       "298          529495      231739 2018-02-10 13:23:00    8572809  PageView   \n",
       "478           89893      323338 2018-02-21 23:01:00    6332577  PageView   \n",
       "482          512409       90212 2018-03-05 21:30:00    4481655  PageView   \n",
       "...             ...         ...                 ...        ...       ...   \n",
       "183269        53337       90369 2018-04-09 20:39:00    3432735  PageView   \n",
       "183329        70468       13648 2018-03-10 21:21:00    7262340  PageView   \n",
       "183425       329777       54042 2018-02-09 18:45:00    6475848  PageView   \n",
       "183506      1412033       55842 2018-03-05 21:02:00    3796970  PageView   \n",
       "183621       341682      251704 2018-02-15 23:08:00     893646  PageView   \n",
       "\n",
       "        age_range gender customer_register_date  customer_level  city_level  \\\n",
       "46            5.0      M             2012-04-22               5         5.0   \n",
       "243           5.0      W             2018-01-19               6         1.0   \n",
       "298           5.0      M             2016-01-25               1         1.0   \n",
       "478           5.0      M             2015-12-28               1         1.0   \n",
       "482           5.0      M             2018-03-05               6         5.0   \n",
       "...           ...    ...                    ...             ...         ...   \n",
       "183269        6.0      M             2012-01-13               7         3.0   \n",
       "183329        6.0      W             2016-01-26               7         3.0   \n",
       "183425        6.0      M             2013-06-17               5         3.0   \n",
       "183506        6.0      M             2015-03-11               7         3.0   \n",
       "183621        6.0      M             2014-07-30               1         1.0   \n",
       "\n",
       "            brand  shop_id        category product_market_date  vender_id  \\\n",
       "46      Microsoft    10319            Xbox          2015-08-14       7967   \n",
       "243          Sony     9369  Digital Camera          2016-05-19       5381   \n",
       "298       Sumsung     9264           Phone          2017-11-01       9672   \n",
       "478         Redmi     6698           Phone          2016-07-15       5024   \n",
       "482        Huawei     1941           Phone          2017-05-16       2541   \n",
       "...           ...      ...             ...                 ...        ...   \n",
       "183269     Lipton     7130             Tea          2018-03-22        876   \n",
       "183329      Redmi     2172           Phone          2017-05-06       2395   \n",
       "183425  Microsoft     8373            Xbox          2017-12-11       3978   \n",
       "183506     Lenovo    10249        Notebook          2016-08-22       8358   \n",
       "183621       OPPO      924           Phone          2017-10-27       8820   \n",
       "\n",
       "        fans_number  vip_number shop_register_date shop_category  shop_score  \n",
       "46              746        2049         2013-12-23   Electronics        -1.0  \n",
       "243            6782       84274         2014-10-10   Electronics        -1.0  \n",
       "298           18909      299218         2014-12-22   Electronics        -1.0  \n",
       "478            3529       11373         2016-07-01   Electronics        -1.0  \n",
       "482            4043       24245         2017-03-27   Electronics        -1.0  \n",
       "...             ...         ...                ...           ...         ...  \n",
       "183269        10291          65         2016-06-07          Food        -1.0  \n",
       "183329        12342       16092         2015-09-09   Electronics        -1.0  \n",
       "183425        11726         463         2017-10-26   Electronics        -1.0  \n",
       "183506         1290        5786         2016-06-17   Electronics        -1.0  \n",
       "183621         2097        7653         2013-06-04   Electronics        -1.0  \n",
       "\n",
       "[1524 rows x 20 columns]"
      ]
     },
     "execution_count": 160,
     "metadata": {},
     "output_type": "execute_result"
    }
   ],
   "source": [
    "# 店铺评分小于0的\n",
    "data.query('shop_score < 0')"
   ]
  },
  {
   "cell_type": "code",
   "execution_count": 165,
   "metadata": {},
   "outputs": [
    {
     "data": {
      "text/plain": [
       "8.81632"
      ]
     },
     "execution_count": 165,
     "metadata": {},
     "output_type": "execute_result"
    }
   ],
   "source": [
    "# 除了 为 0 和 -1 的，其他都是在 8.8 以上的\n",
    "data.query('shop_score > 1')['shop_score'].min()"
   ]
  },
  {
   "cell_type": "code",
   "execution_count": 176,
   "metadata": {},
   "outputs": [
    {
     "data": {
      "text/plain": [
       "<Axes: ylabel='Frequency'>"
      ]
     },
     "execution_count": 176,
     "metadata": {},
     "output_type": "execute_result"
    },
    {
     "data": {
      "image/png": "[encoded data removed]",
      "text/plain": [
       "<Figure size 1000x600 with 1 Axes>"
      ]
     },
     "metadata": {},
     "output_type": "display_data"
    }
   ],
   "source": [
    "# 正常的店铺分数分布情况\n",
    "shop_score_gb = data.groupby('shop_id')['shop_score'].max()\n",
    "shop_score_gb[shop_score_gb > 0].plot(kind='hist', bins=20, figsize=(10, 6), alpha=0.5)"
   ]
  },
  {
   "cell_type": "code",
   "execution_count": 178,
   "metadata": {},
   "outputs": [
    {
     "data": {
      "text/plain": [
       "shop_score\n",
       " 0.0    517\n",
       "-1.0    358\n",
       "Name: count, dtype: int64"
      ]
     },
     "execution_count": 178,
     "metadata": {},
     "output_type": "execute_result"
    }
   ],
   "source": [
    "# 不正常的店铺情况\n",
    "shop_score_gb[shop_score_gb <= 0].value_counts()"
   ]
  },
  {
   "cell_type": "markdown",
   "metadata": {},
   "source": [
    "# 异常值处理"
   ]
  },
  {
   "cell_type": "markdown",
   "metadata": {},
   "source": []
  }
 ],
 "metadata": {
  "kernelspec": {
   "display_name": "pytorch",
   "language": "python",
   "name": "python3"
  },
  "language_info": {
   "codemirror_mode": {
    "name": "ipython",
    "version": 3
   },
   "file_extension": ".py",
   "mimetype": "text/x-python",
   "name": "python",
   "nbconvert_exporter": "python",
   "pygments_lexer": "ipython3",
   "version": "3.11.5"
  }
 },
 "nbformat": 4,
 "nbformat_minor": 2
}
